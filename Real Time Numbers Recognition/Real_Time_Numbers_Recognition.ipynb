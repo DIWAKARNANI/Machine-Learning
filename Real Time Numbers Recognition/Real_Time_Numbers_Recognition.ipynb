{
  "nbformat": 4,
  "nbformat_minor": 0,
  "metadata": {
    "colab": {
      "name": "Real Time Numbers Recognition.ipynb",
      "version": "0.3.2",
      "provenance": [],
      "include_colab_link": true
    },
    "kernelspec": {
      "name": "python3",
      "display_name": "Python 3"
    },
    "accelerator": "TPU"
  },
  "cells": [
    {
      "cell_type": "markdown",
      "metadata": {
        "id": "view-in-github",
        "colab_type": "text"
      },
      "source": [
        "<a href=\"https://colab.research.google.com/github/ElizaLo/ML-using-Jupiter-Notebook-and-Google-Colab/blob/master/Real%20Time%20Numbers%20Recognition/Real_Time_Numbers_Recognition.ipynb\" target=\"_parent\"><img src=\"https://colab.research.google.com/assets/colab-badge.svg\" alt=\"Open In Colab\"/></a>"
      ]
    },
    {
      "metadata": {
        "id": "reblOufqnbyR",
        "colab_type": "text"
      },
      "cell_type": "markdown",
      "source": [
        "# Real time numbers recognition (MNIST) on an iPhone with CoreML\n",
        "\n",
        "##Importing the dataset with Keras and transformig it"
      ]
    },
    {
      "metadata": {
        "id": "jWJcdDASm5t_",
        "colab_type": "code",
        "outputId": "053ed8a9-0962-4ea3-86fe-9ebcbeca2be3",
        "colab": {
          "base_uri": "https://localhost:8080/",
          "height": 34
        }
      },
      "cell_type": "code",
      "source": [
        "from keras.datasets import mnist\n",
        "from keras import backend as K"
      ],
      "execution_count": 0,
      "outputs": [
        {
          "output_type": "stream",
          "text": [
            "Using TensorFlow backend.\n"
          ],
          "name": "stderr"
        }
      ]
    },
    {
      "metadata": {
        "id": "tnsfRuOOt4X9",
        "colab_type": "code",
        "colab": {}
      },
      "cell_type": "code",
      "source": [
        "def mnist_data():\n",
        "  # input image dimentions\n",
        "  img_rows, img_cols = 28, 28\n",
        "  (X_train, Y_train), (X_test, Y_test) = mnist.load_data()\n",
        "  \n",
        "  if "
      ],
      "execution_count": 0,
      "outputs": []
    },
    {
      "metadata": {
        "id": "S4P4pLtmuYL3",
        "colab_type": "code",
        "colab": {}
      },
      "cell_type": "code",
      "source": [
        ""
      ],
      "execution_count": 0,
      "outputs": []
    }
  ]
}