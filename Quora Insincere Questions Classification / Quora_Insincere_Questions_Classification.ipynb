{
  "nbformat": 4,
  "nbformat_minor": 0,
  "metadata": {
    "colab": {
      "name": "Quora Insincere Questions Classification.ipynb",
      "version": "0.3.2",
      "provenance": [],
      "include_colab_link": true
    },
    "kernelspec": {
      "name": "python3",
      "display_name": "Python 3"
    },
    "accelerator": "TPU"
  },
  "cells": [
    {
      "cell_type": "markdown",
      "metadata": {
        "id": "view-in-github",
        "colab_type": "text"
      },
      "source": [
        "<a href=\"https://colab.research.google.com/github/ElizaLo/ML-using-Jupiter-Notebook-and-Google-Colab/blob/master/Quora%20Insincere%20Questions%20Classification%20/%20Quora_Insincere_Questions_Classification.ipynb\" target=\"_parent\"><img src=\"https://colab.research.google.com/assets/colab-badge.svg\" alt=\"Open In Colab\"/></a>"
      ]
    },
    {
      "metadata": {
        "id": "REB5eH-YYhLs",
        "colab_type": "text"
      },
      "cell_type": "markdown",
      "source": [
        "# Quora Insincere Questions Classification\n",
        "\n",
        "**Detect toxic content to improve online conversations**"
      ]
    },
    {
      "metadata": {
        "id": "S8OTaEYEXXG3",
        "colab_type": "code",
        "colab": {}
      },
      "cell_type": "code",
      "source": [
        "from google.colab import files\n",
        "import numpy as np\n",
        "import pandas as pd\n",
        "import tensorflow as tf\n",
        "import matplotlib.pyplot as plt \n",
        "import os\n",
        "import sys\n",
        "\n",
        "tf.logging.set_verbosity(tf.logging.ERROR) # Устанавливает порог для того, какие сообщения будут регистрироваться."
      ],
      "execution_count": 0,
      "outputs": []
    },
    {
      "metadata": {
        "id": "CflWInRndKhq",
        "colab_type": "code",
        "colab": {
          "base_uri": "https://localhost:8080/",
          "height": 34
        },
        "outputId": "ef6f739f-2d1b-4a2a-f19e-536cbcc51d8c"
      },
      "cell_type": "code",
      "source": [
        "from google.colab import drive\n",
        "drive.mount('/content/gdrive')"
      ],
      "execution_count": 12,
      "outputs": [
        {
          "output_type": "stream",
          "text": [
            "Mounted at /content/gdrive\n"
          ],
          "name": "stdout"
        }
      ]
    },
    {
      "metadata": {
        "id": "i8bqN77_fOnV",
        "colab_type": "code",
        "colab": {}
      },
      "cell_type": "code",
      "source": [
        "os.chdir(\"/content/gdrive/My Drive/Quora Insincere Questions Classification\")"
      ],
      "execution_count": 0,
      "outputs": []
    },
    {
      "metadata": {
        "id": "TjDy__2Yhtiu",
        "colab_type": "code",
        "colab": {}
      },
      "cell_type": "code",
      "source": [
        "train = pd.read_csv(\"train.csv\", encoding = 'latin-1')\n",
        "test = pd.read_csv(\"test.csv\", encoding = 'latin-1')"
      ],
      "execution_count": 0,
      "outputs": []
    },
    {
      "metadata": {
        "id": "rrAF4hRhkrJn",
        "colab_type": "code",
        "colab": {
          "base_uri": "https://localhost:8080/",
          "height": 514
        },
        "outputId": "8333a9c7-ccbf-4ab1-95db-1d341425c6a7"
      },
      "cell_type": "code",
      "source": [
        "train.head(15)"
      ],
      "execution_count": 16,
      "outputs": [
        {
          "output_type": "execute_result",
          "data": {
            "text/html": [
              "<div>\n",
              "<style scoped>\n",
              "    .dataframe tbody tr th:only-of-type {\n",
              "        vertical-align: middle;\n",
              "    }\n",
              "\n",
              "    .dataframe tbody tr th {\n",
              "        vertical-align: top;\n",
              "    }\n",
              "\n",
              "    .dataframe thead th {\n",
              "        text-align: right;\n",
              "    }\n",
              "</style>\n",
              "<table border=\"1\" class=\"dataframe\">\n",
              "  <thead>\n",
              "    <tr style=\"text-align: right;\">\n",
              "      <th></th>\n",
              "      <th>qid</th>\n",
              "      <th>question_text</th>\n",
              "      <th>target</th>\n",
              "    </tr>\n",
              "  </thead>\n",
              "  <tbody>\n",
              "    <tr>\n",
              "      <th>0</th>\n",
              "      <td>00002165364db923c7e6</td>\n",
              "      <td>How did Quebec nationalists see their province...</td>\n",
              "      <td>0</td>\n",
              "    </tr>\n",
              "    <tr>\n",
              "      <th>1</th>\n",
              "      <td>000032939017120e6e44</td>\n",
              "      <td>Do you have an adopted dog, how would you enco...</td>\n",
              "      <td>0</td>\n",
              "    </tr>\n",
              "    <tr>\n",
              "      <th>2</th>\n",
              "      <td>0000412ca6e4628ce2cf</td>\n",
              "      <td>Why does velocity affect time? Does velocity a...</td>\n",
              "      <td>0</td>\n",
              "    </tr>\n",
              "    <tr>\n",
              "      <th>3</th>\n",
              "      <td>000042bf85aa498cd78e</td>\n",
              "      <td>How did Otto von Guericke used the Magdeburg h...</td>\n",
              "      <td>0</td>\n",
              "    </tr>\n",
              "    <tr>\n",
              "      <th>4</th>\n",
              "      <td>0000455dfa3e01eae3af</td>\n",
              "      <td>Can I convert montra helicon D to a mountain b...</td>\n",
              "      <td>0</td>\n",
              "    </tr>\n",
              "    <tr>\n",
              "      <th>5</th>\n",
              "      <td>00004f9a462a357c33be</td>\n",
              "      <td>Is Gaza slowly becoming Auschwitz, Dachau or T...</td>\n",
              "      <td>0</td>\n",
              "    </tr>\n",
              "    <tr>\n",
              "      <th>6</th>\n",
              "      <td>00005059a06ee19e11ad</td>\n",
              "      <td>Why does Quora automatically ban conservative ...</td>\n",
              "      <td>0</td>\n",
              "    </tr>\n",
              "    <tr>\n",
              "      <th>7</th>\n",
              "      <td>0000559f875832745e2e</td>\n",
              "      <td>Is it crazy if I wash or wipe my groceries off...</td>\n",
              "      <td>0</td>\n",
              "    </tr>\n",
              "    <tr>\n",
              "      <th>8</th>\n",
              "      <td>00005bd3426b2d0c8305</td>\n",
              "      <td>Is there such a thing as dressing moderately, ...</td>\n",
              "      <td>0</td>\n",
              "    </tr>\n",
              "    <tr>\n",
              "      <th>9</th>\n",
              "      <td>00006e6928c5df60eacb</td>\n",
              "      <td>Is it just me or have you ever been in this ph...</td>\n",
              "      <td>0</td>\n",
              "    </tr>\n",
              "    <tr>\n",
              "      <th>10</th>\n",
              "      <td>000075f67dd595c3deb5</td>\n",
              "      <td>What can you say about feminism?</td>\n",
              "      <td>0</td>\n",
              "    </tr>\n",
              "    <tr>\n",
              "      <th>11</th>\n",
              "      <td>000076f3b42776c692de</td>\n",
              "      <td>How were the Calgary Flames founded?</td>\n",
              "      <td>0</td>\n",
              "    </tr>\n",
              "    <tr>\n",
              "      <th>12</th>\n",
              "      <td>000089792b3fc8026741</td>\n",
              "      <td>What is the dumbest, yet possibly true explana...</td>\n",
              "      <td>0</td>\n",
              "    </tr>\n",
              "    <tr>\n",
              "      <th>13</th>\n",
              "      <td>000092a90bcfbfe8cd88</td>\n",
              "      <td>Can we use our external hard disk as a OS as w...</td>\n",
              "      <td>0</td>\n",
              "    </tr>\n",
              "    <tr>\n",
              "      <th>14</th>\n",
              "      <td>000095680e41a9a6f6e3</td>\n",
              "      <td>I am 30, living at home and have no boyfriend....</td>\n",
              "      <td>0</td>\n",
              "    </tr>\n",
              "  </tbody>\n",
              "</table>\n",
              "</div>"
            ],
            "text/plain": [
              "                     qid                                      question_text  \\\n",
              "0   00002165364db923c7e6  How did Quebec nationalists see their province...   \n",
              "1   000032939017120e6e44  Do you have an adopted dog, how would you enco...   \n",
              "2   0000412ca6e4628ce2cf  Why does velocity affect time? Does velocity a...   \n",
              "3   000042bf85aa498cd78e  How did Otto von Guericke used the Magdeburg h...   \n",
              "4   0000455dfa3e01eae3af  Can I convert montra helicon D to a mountain b...   \n",
              "5   00004f9a462a357c33be  Is Gaza slowly becoming Auschwitz, Dachau or T...   \n",
              "6   00005059a06ee19e11ad  Why does Quora automatically ban conservative ...   \n",
              "7   0000559f875832745e2e  Is it crazy if I wash or wipe my groceries off...   \n",
              "8   00005bd3426b2d0c8305  Is there such a thing as dressing moderately, ...   \n",
              "9   00006e6928c5df60eacb  Is it just me or have you ever been in this ph...   \n",
              "10  000075f67dd595c3deb5                   What can you say about feminism?   \n",
              "11  000076f3b42776c692de               How were the Calgary Flames founded?   \n",
              "12  000089792b3fc8026741  What is the dumbest, yet possibly true explana...   \n",
              "13  000092a90bcfbfe8cd88  Can we use our external hard disk as a OS as w...   \n",
              "14  000095680e41a9a6f6e3  I am 30, living at home and have no boyfriend....   \n",
              "\n",
              "    target  \n",
              "0        0  \n",
              "1        0  \n",
              "2        0  \n",
              "3        0  \n",
              "4        0  \n",
              "5        0  \n",
              "6        0  \n",
              "7        0  \n",
              "8        0  \n",
              "9        0  \n",
              "10       0  \n",
              "11       0  \n",
              "12       0  \n",
              "13       0  \n",
              "14       0  "
            ]
          },
          "metadata": {
            "tags": []
          },
          "execution_count": 16
        }
      ]
    },
    {
      "metadata": {
        "id": "MUtPnKJ2nHIn",
        "colab_type": "code",
        "colab": {
          "base_uri": "https://localhost:8080/",
          "height": 514
        },
        "outputId": "3cc2e221-1ba6-405b-bd5a-1f7349d5652f"
      },
      "cell_type": "code",
      "source": [
        "test.head(15)"
      ],
      "execution_count": 21,
      "outputs": [
        {
          "output_type": "execute_result",
          "data": {
            "text/html": [
              "<div>\n",
              "<style scoped>\n",
              "    .dataframe tbody tr th:only-of-type {\n",
              "        vertical-align: middle;\n",
              "    }\n",
              "\n",
              "    .dataframe tbody tr th {\n",
              "        vertical-align: top;\n",
              "    }\n",
              "\n",
              "    .dataframe thead th {\n",
              "        text-align: right;\n",
              "    }\n",
              "</style>\n",
              "<table border=\"1\" class=\"dataframe\">\n",
              "  <thead>\n",
              "    <tr style=\"text-align: right;\">\n",
              "      <th></th>\n",
              "      <th>qid</th>\n",
              "      <th>question_text</th>\n",
              "    </tr>\n",
              "  </thead>\n",
              "  <tbody>\n",
              "    <tr>\n",
              "      <th>0</th>\n",
              "      <td>00014894849d00ba98a9</td>\n",
              "      <td>My voice range is A2-C5. My chest voice goes u...</td>\n",
              "    </tr>\n",
              "    <tr>\n",
              "      <th>1</th>\n",
              "      <td>000156468431f09b3cae</td>\n",
              "      <td>How much does a tutor earn in Bangalore?</td>\n",
              "    </tr>\n",
              "    <tr>\n",
              "      <th>2</th>\n",
              "      <td>000227734433360e1aae</td>\n",
              "      <td>What are the best made pocket knives under $20...</td>\n",
              "    </tr>\n",
              "    <tr>\n",
              "      <th>3</th>\n",
              "      <td>0005e06fbe3045bd2a92</td>\n",
              "      <td>Why would they add a hypothetical scenario tha...</td>\n",
              "    </tr>\n",
              "    <tr>\n",
              "      <th>4</th>\n",
              "      <td>00068a0f7f41f50fc399</td>\n",
              "      <td>What is the dresscode for Techmahindra freshers?</td>\n",
              "    </tr>\n",
              "    <tr>\n",
              "      <th>5</th>\n",
              "      <td>000a2d30e3ffd70c070d</td>\n",
              "      <td>How well are you adapting to the Trump era?</td>\n",
              "    </tr>\n",
              "    <tr>\n",
              "      <th>6</th>\n",
              "      <td>000b67672ec9622ff761</td>\n",
              "      <td>What should be the last thing people do in life?</td>\n",
              "    </tr>\n",
              "    <tr>\n",
              "      <th>7</th>\n",
              "      <td>000b7fb1146d712c1105</td>\n",
              "      <td>Received conditional offer for Masters in Inte...</td>\n",
              "    </tr>\n",
              "    <tr>\n",
              "      <th>8</th>\n",
              "      <td>000d665a8ddc426a1907</td>\n",
              "      <td>What does appareils photo mean in French?</td>\n",
              "    </tr>\n",
              "    <tr>\n",
              "      <th>9</th>\n",
              "      <td>000df6fd2229447b2969</td>\n",
              "      <td>Is there a system of Public Interest Litigatio...</td>\n",
              "    </tr>\n",
              "    <tr>\n",
              "      <th>10</th>\n",
              "      <td>000e8d4169c8dc7ab5ee</td>\n",
              "      <td>What's the best weekend plans in Chennai for o...</td>\n",
              "    </tr>\n",
              "    <tr>\n",
              "      <th>11</th>\n",
              "      <td>000ef78071824e781d67</td>\n",
              "      <td>How did GPS get his name?</td>\n",
              "    </tr>\n",
              "    <tr>\n",
              "      <th>12</th>\n",
              "      <td>001014ae8ebec25a597a</td>\n",
              "      <td>Where can I get opt in email marketing services?</td>\n",
              "    </tr>\n",
              "    <tr>\n",
              "      <th>13</th>\n",
              "      <td>0010236e0aa3ab39a282</td>\n",
              "      <td>How do perimenopause and menopause differ?</td>\n",
              "    </tr>\n",
              "    <tr>\n",
              "      <th>14</th>\n",
              "      <td>00105665c8ffd3c5852a</td>\n",
              "      <td>Can a student of B.E. 1st year apply for inter...</td>\n",
              "    </tr>\n",
              "  </tbody>\n",
              "</table>\n",
              "</div>"
            ],
            "text/plain": [
              "                     qid                                      question_text\n",
              "0   00014894849d00ba98a9  My voice range is A2-C5. My chest voice goes u...\n",
              "1   000156468431f09b3cae           How much does a tutor earn in Bangalore?\n",
              "2   000227734433360e1aae  What are the best made pocket knives under $20...\n",
              "3   0005e06fbe3045bd2a92  Why would they add a hypothetical scenario tha...\n",
              "4   00068a0f7f41f50fc399   What is the dresscode for Techmahindra freshers?\n",
              "5   000a2d30e3ffd70c070d        How well are you adapting to the Trump era?\n",
              "6   000b67672ec9622ff761   What should be the last thing people do in life?\n",
              "7   000b7fb1146d712c1105  Received conditional offer for Masters in Inte...\n",
              "8   000d665a8ddc426a1907          What does appareils photo mean in French?\n",
              "9   000df6fd2229447b2969  Is there a system of Public Interest Litigatio...\n",
              "10  000e8d4169c8dc7ab5ee  What's the best weekend plans in Chennai for o...\n",
              "11  000ef78071824e781d67                          How did GPS get his name?\n",
              "12  001014ae8ebec25a597a   Where can I get opt in email marketing services?\n",
              "13  0010236e0aa3ab39a282         How do perimenopause and menopause differ?\n",
              "14  00105665c8ffd3c5852a  Can a student of B.E. 1st year apply for inter..."
            ]
          },
          "metadata": {
            "tags": []
          },
          "execution_count": 21
        }
      ]
    },
    {
      "metadata": {
        "id": "rfXpZnMkpGRb",
        "colab_type": "code",
        "colab": {
          "base_uri": "https://localhost:8080/",
          "height": 51
        },
        "outputId": "d25b3f4a-ece1-4ca0-f9a2-749bea24c62d"
      },
      "cell_type": "code",
      "source": [
        "print(\"Train shape: \",train.shape)\n",
        "print(\"Test shape: \",test.shape)"
      ],
      "execution_count": 40,
      "outputs": [
        {
          "output_type": "stream",
          "text": [
            "Train shape:  (1306122, 3)\n",
            "Test shape:  (56370, 2)\n"
          ],
          "name": "stdout"
        }
      ]
    },
    {
      "metadata": {
        "id": "jvGmpYd5vVYu",
        "colab_type": "code",
        "colab": {
          "base_uri": "https://localhost:8080/",
          "height": 330
        },
        "outputId": "4fcba333-72ad-42ea-9aaf-726d243d4d9d"
      },
      "cell_type": "code",
      "source": [
        "count_Class = pd.value_counts(train.target, sort = True)\n",
        "\n",
        "# Data to Plot\n",
        "target = 'Sincere', 'Insincere'\n",
        "sizes = [count_Class[0], count_Class[1]]\n",
        "colors = ['plum', 'crimson']\n",
        "explode = (0.1, 0.1)\n",
        "\n",
        "# Plot\n",
        "plt.pie(sizes, explode = explode, labels = target, colors = colors,\n",
        "        autopct = '%1.1f%%', shadow = True, startangle = 60)\n",
        "plt.axis('equal')\n",
        "plt.show()"
      ],
      "execution_count": 39,
      "outputs": [
        {
          "output_type": "display_data",
          "data": {
            "image/png": "[encoded data removed]",
            "text/plain": [
              "<matplotlib.figure.Figure at 0x7fee47544828>"
            ]
          },
          "metadata": {
            "tags": []
          }
        }
      ]
    },
    {
      "metadata": {
        "id": "KD4RcgUZkx3c",
        "colab_type": "code",
        "colab": {}
      },
      "cell_type": "code",
      "source": [
        "# Делим - 1) набір для тренування (60%) 2) набір для оцінки (20%) 3) набір ратифікації (20%)\n",
        "\n",
        "\"\"\"def split_data(data):\n",
        "  training = []\n",
        "  evaluation = []\n",
        "  validation = []\n",
        "  for (index, row) in enumerate(data.values):\n",
        "    ind = index % 10\n",
        "    if ind < 6:\n",
        "      training.append(row)\n",
        "    elif ind < 8:\n",
        "      evaluation.append(row)\n",
        "    else:\n",
        "      validation.append(row)\n",
        "  return (pd.DataFrame(training, columns=data.columns), \n",
        "          pd.DataFrame(evaluation, columns=data.columns), \n",
        "          pd.DataFrame(validation, columns=data.columns))\n",
        "      \n",
        "training_data, evaluation_data, validation_data = split_data(exams)\n",
        "\"\"\""
      ],
      "execution_count": 0,
      "outputs": []
    }
  ]
}