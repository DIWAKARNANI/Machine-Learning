{
  "nbformat": 4,
  "nbformat_minor": 0,
  "metadata": {
    "colab": {
      "name": "ML_Practice_7.ipynb",
      "version": "0.3.2",
      "provenance": [],
      "include_colab_link": true
    },
    "kernelspec": {
      "name": "python3",
      "display_name": "Python 3"
    },
    "accelerator": "GPU"
  },
  "cells": [
    {
      "cell_type": "markdown",
      "metadata": {
        "id": "view-in-github",
        "colab_type": "text"
      },
      "source": [
        "<a href=\"https://colab.research.google.com/github/ElizaLo/ML-with-Jupiter/blob/master/ML_Practice_7.ipynb\" target=\"_parent\"><img src=\"https://colab.research.google.com/assets/colab-badge.svg\" alt=\"Open In Colab\"/></a>"
      ]
    },
    {
      "metadata": {
        "id": "BfgmixL-E8TX",
        "colab_type": "code",
        "colab": {
          "base_uri": "https://localhost:8080/",
          "height": 184
        },
        "outputId": "2e5ad47a-4220-4efa-ced0-b193b7987be6"
      },
      "cell_type": "code",
      "source": [
        "!df -h # характеристики "
      ],
      "execution_count": 1,
      "outputs": [
        {
          "output_type": "stream",
          "text": [
            "Filesystem      Size  Used Avail Use% Mounted on\n",
            "overlay          40G  7.8G   30G  22% /\n",
            "tmpfs           6.4G     0  6.4G   0% /dev\n",
            "tmpfs           6.4G     0  6.4G   0% /sys/fs/cgroup\n",
            "tmpfs           6.4G  4.0K  6.4G   1% /var/colab\n",
            "/dev/sda1        46G  9.4G   36G  21% /etc/hosts\n",
            "shm              64M     0   64M   0% /dev/shm\n",
            "tmpfs           6.4G     0  6.4G   0% /sys/firmware\n"
          ],
          "name": "stdout"
        }
      ]
    },
    {
      "metadata": {
        "id": "3n1lAks4FMJQ",
        "colab_type": "code",
        "colab": {
          "base_uri": "https://localhost:8080/",
          "height": 813
        },
        "outputId": "6fa429ea-d494-4d09-c0f3-684793f1db8b"
      },
      "cell_type": "code",
      "source": [
        "!cat /proc/meminfo # сколько оперативной памяти"
      ],
      "execution_count": 2,
      "outputs": [
        {
          "output_type": "stream",
          "text": [
            "MemTotal:       13335204 kB\n",
            "MemFree:        11595176 kB\n",
            "MemAvailable:   12691832 kB\n",
            "Buffers:           58312 kB\n",
            "Cached:          1209644 kB\n",
            "SwapCached:            0 kB\n",
            "Active:           442152 kB\n",
            "Inactive:        1102776 kB\n",
            "Active(anon):     248496 kB\n",
            "Inactive(anon):      308 kB\n",
            "Active(file):     193656 kB\n",
            "Inactive(file):  1102468 kB\n",
            "Unevictable:           0 kB\n",
            "Mlocked:               0 kB\n",
            "SwapTotal:             0 kB\n",
            "SwapFree:              0 kB\n",
            "Dirty:               136 kB\n",
            "Writeback:             0 kB\n",
            "AnonPages:        274820 kB\n",
            "Mapped:           157252 kB\n",
            "Shmem:               796 kB\n",
            "Slab:             110864 kB\n",
            "SReclaimable:      84560 kB\n",
            "SUnreclaim:        26304 kB\n",
            "KernelStack:        3360 kB\n",
            "PageTables:         4328 kB\n",
            "NFS_Unstable:          0 kB\n",
            "Bounce:                0 kB\n",
            "WritebackTmp:          0 kB\n",
            "CommitLimit:     6667600 kB\n",
            "Committed_AS:    1697564 kB\n",
            "VmallocTotal:   34359738367 kB\n",
            "VmallocUsed:           0 kB\n",
            "VmallocChunk:          0 kB\n",
            "AnonHugePages:         0 kB\n",
            "ShmemHugePages:        0 kB\n",
            "ShmemPmdMapped:        0 kB\n",
            "HugePages_Total:       0\n",
            "HugePages_Free:        0\n",
            "HugePages_Rsvd:        0\n",
            "HugePages_Surp:        0\n",
            "Hugepagesize:       2048 kB\n",
            "DirectMap4k:       53236 kB\n",
            "DirectMap2M:     5189632 kB\n",
            "DirectMap1G:    10485760 kB\n"
          ],
          "name": "stdout"
        }
      ]
    },
    {
      "metadata": {
        "id": "txYZ7hmvFqb4",
        "colab_type": "code",
        "colab": {
          "base_uri": "https://localhost:8080/",
          "height": 1020
        },
        "outputId": "24a08451-5456-44c0-e140-6cd6fc5c556a"
      },
      "cell_type": "code",
      "source": [
        "!cat /proc/cpuinfo # процессор"
      ],
      "execution_count": 3,
      "outputs": [
        {
          "output_type": "stream",
          "text": [
            "processor\t: 0\n",
            "vendor_id\t: GenuineIntel\n",
            "cpu family\t: 6\n",
            "model\t\t: 63\n",
            "model name\t: Intel(R) Xeon(R) CPU @ 2.30GHz\n",
            "stepping\t: 0\n",
            "microcode\t: 0x1\n",
            "cpu MHz\t\t: 2300.000\n",
            "cache size\t: 46080 KB\n",
            "physical id\t: 0\n",
            "siblings\t: 2\n",
            "core id\t\t: 0\n",
            "cpu cores\t: 1\n",
            "apicid\t\t: 0\n",
            "initial apicid\t: 0\n",
            "fpu\t\t: yes\n",
            "fpu_exception\t: yes\n",
            "cpuid level\t: 13\n",
            "wp\t\t: yes\n",
            "flags\t\t: fpu vme de pse tsc msr pae mce cx8 apic sep mtrr pge mca cmov pat pse36 clflush mmx fxsr sse sse2 ss ht syscall nx pdpe1gb rdtscp lm constant_tsc rep_good nopl xtopology nonstop_tsc cpuid pni pclmulqdq ssse3 fma cx16 sse4_1 sse4_2 x2apic movbe popcnt aes xsave avx f16c rdrand hypervisor lahf_lm abm pti ssbd ibrs ibpb stibp fsgsbase tsc_adjust bmi1 avx2 smep bmi2 erms xsaveopt arat arch_capabilities\n",
            "bugs\t\t: cpu_meltdown spectre_v1 spectre_v2 spec_store_bypass l1tf\n",
            "bogomips\t: 4600.00\n",
            "clflush size\t: 64\n",
            "cache_alignment\t: 64\n",
            "address sizes\t: 46 bits physical, 48 bits virtual\n",
            "power management:\n",
            "\n",
            "processor\t: 1\n",
            "vendor_id\t: GenuineIntel\n",
            "cpu family\t: 6\n",
            "model\t\t: 63\n",
            "model name\t: Intel(R) Xeon(R) CPU @ 2.30GHz\n",
            "stepping\t: 0\n",
            "microcode\t: 0x1\n",
            "cpu MHz\t\t: 2300.000\n",
            "cache size\t: 46080 KB\n",
            "physical id\t: 0\n",
            "siblings\t: 2\n",
            "core id\t\t: 0\n",
            "cpu cores\t: 1\n",
            "apicid\t\t: 1\n",
            "initial apicid\t: 1\n",
            "fpu\t\t: yes\n",
            "fpu_exception\t: yes\n",
            "cpuid level\t: 13\n",
            "wp\t\t: yes\n",
            "flags\t\t: fpu vme de pse tsc msr pae mce cx8 apic sep mtrr pge mca cmov pat pse36 clflush mmx fxsr sse sse2 ss ht syscall nx pdpe1gb rdtscp lm constant_tsc rep_good nopl xtopology nonstop_tsc cpuid pni pclmulqdq ssse3 fma cx16 sse4_1 sse4_2 x2apic movbe popcnt aes xsave avx f16c rdrand hypervisor lahf_lm abm pti ssbd ibrs ibpb stibp fsgsbase tsc_adjust bmi1 avx2 smep bmi2 erms xsaveopt arat arch_capabilities\n",
            "bugs\t\t: cpu_meltdown spectre_v1 spectre_v2 spec_store_bypass l1tf\n",
            "bogomips\t: 4600.00\n",
            "clflush size\t: 64\n",
            "cache_alignment\t: 64\n",
            "address sizes\t: 46 bits physical, 48 bits virtual\n",
            "power management:\n",
            "\n"
          ],
          "name": "stdout"
        }
      ]
    },
    {
      "metadata": {
        "id": "RukMgieiF14J",
        "colab_type": "code",
        "colab": {
          "base_uri": "https://localhost:8080/",
          "height": 2346
        },
        "outputId": "b1d6ec6b-1ec4-4240-a008-5adc5bb8a571"
      },
      "cell_type": "code",
      "source": [
        "!pip list # список пакетов"
      ],
      "execution_count": 4,
      "outputs": [
        {
          "output_type": "stream",
          "text": [
            "Package                  Version   \n",
            "------------------------ ----------\n",
            "absl-py                  0.6.1     \n",
            "altair                   2.2.2     \n",
            "astor                    0.7.1     \n",
            "beautifulsoup4           4.6.3     \n",
            "bleach                   3.0.2     \n",
            "cachetools               2.1.0     \n",
            "certifi                  2018.10.15\n",
            "chardet                  3.0.4     \n",
            "crcmod                   1.7       \n",
            "cycler                   0.10.0    \n",
            "cymem                    2.0.2     \n",
            "cytoolz                  0.9.0.1   \n",
            "decorator                4.3.0     \n",
            "defusedxml               0.5.0     \n",
            "dill                     0.2.8.2   \n",
            "entrypoints              0.2.3     \n",
            "filelock                 3.0.9     \n",
            "future                   0.16.0    \n",
            "gast                     0.2.0     \n",
            "google-api-core          1.5.0     \n",
            "google-api-python-client 1.6.7     \n",
            "google-auth              1.4.2     \n",
            "google-auth-httplib2     0.0.3     \n",
            "google-auth-oauthlib     0.2.0     \n",
            "google-cloud-bigquery    1.1.0     \n",
            "google-cloud-core        0.28.1    \n",
            "google-cloud-language    1.0.2     \n",
            "google-cloud-storage     1.8.0     \n",
            "google-cloud-translate   1.3.1     \n",
            "google-colab             0.0.1a1   \n",
            "google-resumable-media   0.3.1     \n",
            "googleapis-common-protos 1.5.3     \n",
            "grpcio                   1.15.0    \n",
            "h5py                     2.8.0     \n",
            "httplib2                 0.11.3    \n",
            "idna                     2.6       \n",
            "ipykernel                4.6.1     \n",
            "ipython                  5.5.0     \n",
            "ipython-genutils         0.2.0     \n",
            "Jinja2                   2.10      \n",
            "joblib                   0.12.5    \n",
            "jsonschema               2.6.0     \n",
            "jupyter-client           5.2.3     \n",
            "jupyter-core             4.4.0     \n",
            "Keras                    2.1.6     \n",
            "Keras-Applications       1.0.6     \n",
            "Keras-Preprocessing      1.0.5     \n",
            "Markdown                 3.0.1     \n",
            "MarkupSafe               1.0       \n",
            "matplotlib               2.1.2     \n",
            "mistune                  0.8.4     \n",
            "mpmath                   1.0.0     \n",
            "msgpack                  0.5.6     \n",
            "msgpack-numpy            0.4.3.2   \n",
            "murmurhash               1.0.1     \n",
            "nbconvert                5.4.0     \n",
            "nbformat                 4.4.0     \n",
            "networkx                 2.2       \n",
            "nltk                     3.2.5     \n",
            "notebook                 5.2.2     \n",
            "numpy                    1.14.6    \n",
            "oauth2client             4.1.3     \n",
            "oauthlib                 2.1.0     \n",
            "olefile                  0.46      \n",
            "opencv-python            3.4.3.18  \n",
            "pandas                   0.22.0    \n",
            "pandas-gbq               0.4.1     \n",
            "pandocfilters            1.4.2     \n",
            "patsy                    0.5.1     \n",
            "pexpect                  4.6.0     \n",
            "pickleshare              0.7.5     \n",
            "Pillow                   4.0.0     \n",
            "pip                      18.1      \n",
            "plac                     0.9.6     \n",
            "plotly                   1.12.12   \n",
            "pluggy                   0.8.0     \n",
            "portpicker               1.2.0     \n",
            "preshed                  2.0.1     \n",
            "prompt-toolkit           1.0.15    \n",
            "protobuf                 3.6.1     \n",
            "psutil                   5.4.7     \n",
            "ptyprocess               0.6.0     \n",
            "py                       1.7.0     \n",
            "pyasn1                   0.4.4     \n",
            "pyasn1-modules           0.2.2     \n",
            "Pygments                 2.1.3     \n",
            "pygobject                3.26.1    \n",
            "pymc3                    3.5       \n",
            "pyparsing                2.2.2     \n",
            "pystache                 0.5.4     \n",
            "python-apt               1.6.3     \n",
            "python-dateutil          2.5.3     \n",
            "pytz                     2018.7    \n",
            "PyWavelets               1.0.1     \n",
            "PyYAML                   3.13      \n",
            "pyzmq                    16.0.4    \n",
            "regex                    2018.1.10 \n",
            "requests                 2.18.4    \n",
            "requests-oauthlib        1.0.0     \n",
            "rsa                      4.0       \n",
            "scikit-image             0.13.1    \n",
            "scikit-learn             0.19.2    \n",
            "scipy                    0.19.1    \n",
            "seaborn                  0.7.1     \n",
            "setuptools               40.5.0    \n",
            "simplegeneric            0.8.1     \n",
            "six                      1.11.0    \n",
            "spacy                    2.0.16    \n",
            "statsmodels              0.8.0     \n",
            "sympy                    1.1.1     \n",
            "tensorboard              1.12.0    \n",
            "tensorflow               1.12.0rc2 \n",
            "tensorflow-hub           0.1.1     \n",
            "termcolor                1.1.0     \n",
            "terminado                0.8.1     \n",
            "testpath                 0.4.2     \n",
            "Theano                   1.0.3     \n",
            "thinc                    6.12.0    \n",
            "toml                     0.10.0    \n",
            "toolz                    0.9.0     \n",
            "tornado                  4.5.3     \n",
            "tqdm                     4.28.1    \n",
            "traitlets                4.3.2     \n",
            "typing                   3.6.6     \n",
            "ujson                    1.35      \n",
            "uritemplate              3.0.0     \n",
            "urllib3                  1.22      \n",
            "vega-datasets            0.5.0     \n",
            "virtualenv               16.0.0    \n",
            "wcwidth                  0.1.7     \n",
            "webencodings             0.5.1     \n",
            "Werkzeug                 0.14.1    \n",
            "wheel                    0.32.2    \n",
            "wrapt                    1.10.11   \n",
            "xgboost                  0.7.post4 \n"
          ],
          "name": "stdout"
        }
      ]
    },
    {
      "metadata": {
        "id": "Rit1n-FxGGtl",
        "colab_type": "code",
        "colab": {
          "base_uri": "https://localhost:8080/",
          "height": 82
        },
        "outputId": "e6806429-b6da-4142-c4d7-293764fad374"
      },
      "cell_type": "code",
      "source": [
        "!pip list | grep numpy # grep - сортирует и ищет нужный пакет"
      ],
      "execution_count": 5,
      "outputs": [
        {
          "output_type": "stream",
          "text": [
            "msgpack-numpy            0.4.3.2   \n",
            "numpy                    1.14.6    \n"
          ],
          "name": "stdout"
        }
      ]
    },
    {
      "metadata": {
        "id": "21lVigLLGS9Y",
        "colab_type": "code",
        "colab": {}
      },
      "cell_type": "code",
      "source": [
        "import keras"
      ],
      "execution_count": 0,
      "outputs": []
    },
    {
      "metadata": {
        "id": "DHT9PrINGnqk",
        "colab_type": "code",
        "colab": {
          "base_uri": "https://localhost:8080/",
          "height": 51
        },
        "outputId": "0d0e1cd5-0296-4a53-ca1e-2d22d198d557"
      },
      "cell_type": "code",
      "source": [
        "(x_train, y_train), (x_test, y_test) = keras.datasets.mnist.load_data()"
      ],
      "execution_count": 13,
      "outputs": [
        {
          "output_type": "stream",
          "text": [
            "Downloading data from https://s3.amazonaws.com/img-datasets/mnist.npz\n",
            "11493376/11490434 [==============================] - 3s 0us/step\n"
          ],
          "name": "stdout"
        }
      ]
    },
    {
      "metadata": {
        "id": "utej3TrmHatx",
        "colab_type": "code",
        "colab": {}
      },
      "cell_type": "code",
      "source": [
        "import matplotlib.pyplot as plt"
      ],
      "execution_count": 0,
      "outputs": []
    },
    {
      "metadata": {
        "id": "wo01vd3RHyna",
        "colab_type": "code",
        "colab": {
          "base_uri": "https://localhost:8080/",
          "height": 347
        },
        "outputId": "08bb5c0c-7d3f-444e-aaf0-6afe7eaf5cc7"
      },
      "cell_type": "code",
      "source": [
        "plt.imshow(x_train[0])\n",
        "plt.show()"
      ],
      "execution_count": 15,
      "outputs": [
        {
          "output_type": "display_data",
          "data": {
            "image/png": "[encoded data removed]",
            "text/plain": [
              "<matplotlib.figure.Figure at 0x7f711e190828>"
            ]
          },
          "metadata": {
            "tags": []
          }
        }
      ]
    },
    {
      "metadata": {
        "id": "HCbNUUyZIHZN",
        "colab_type": "code",
        "colab": {}
      },
      "cell_type": "code",
      "source": [
        "import keras.backend as K"
      ],
      "execution_count": 0,
      "outputs": []
    },
    {
      "metadata": {
        "id": "DgJ6tRBMIpF4",
        "colab_type": "code",
        "colab": {
          "base_uri": "https://localhost:8080/",
          "height": 34
        },
        "outputId": "e34e019d-0d16-4c81-8713-50fdf5dcfd37"
      },
      "cell_type": "code",
      "source": [
        "K.image_data_format()"
      ],
      "execution_count": 17,
      "outputs": [
        {
          "output_type": "execute_result",
          "data": {
            "text/plain": [
              "'channels_last'"
            ]
          },
          "metadata": {
            "tags": []
          },
          "execution_count": 17
        }
      ]
    },
    {
      "metadata": {
        "id": "jltn1bU8JA8T",
        "colab_type": "code",
        "colab": {}
      },
      "cell_type": "code",
      "source": [
        "Ntrain = x_train.shape[0]\n",
        "rows = 28\n",
        "cols = 28\n",
        "Ntest = x_test.shape[0]"
      ],
      "execution_count": 0,
      "outputs": []
    },
    {
      "metadata": {
        "id": "swCLogTFIvUv",
        "colab_type": "code",
        "colab": {}
      },
      "cell_type": "code",
      "source": [
        "x_train = x_train.reshape(Ntrain, rows, cols, 1)/255\n",
        "x_test = x_test.reshape(Ntest, rows, cols, 1)/255"
      ],
      "execution_count": 0,
      "outputs": []
    },
    {
      "metadata": {
        "id": "4iFOxq8jJaiD",
        "colab_type": "code",
        "colab": {}
      },
      "cell_type": "code",
      "source": [
        "y_train_cat = keras.utils.to_categorical(y_train, 10)\n",
        "y_test_cat = keras.utils.to_categorical(y_test, 10)"
      ],
      "execution_count": 0,
      "outputs": []
    },
    {
      "metadata": {
        "id": "N8JOrzAfRDrI",
        "colab_type": "text"
      },
      "cell_type": "markdown",
      "source": [
        "# Logistic regression"
      ]
    },
    {
      "metadata": {
        "id": "yc5wu1W6KHQl",
        "colab_type": "code",
        "colab": {}
      },
      "cell_type": "code",
      "source": [
        "model = keras.models.Sequential()"
      ],
      "execution_count": 0,
      "outputs": []
    },
    {
      "metadata": {
        "id": "15ZYGF15KVnc",
        "colab_type": "code",
        "colab": {}
      },
      "cell_type": "code",
      "source": [
        "from keras.layers import Dense, Flatten  # добавляем слои"
      ],
      "execution_count": 0,
      "outputs": []
    },
    {
      "metadata": {
        "id": "Y9i2-LQ5LCyu",
        "colab_type": "code",
        "colab": {}
      },
      "cell_type": "code",
      "source": [
        "input_shape = (28, 28, 1)"
      ],
      "execution_count": 0,
      "outputs": []
    },
    {
      "metadata": {
        "id": "MJ7SIeHiKPgH",
        "colab_type": "code",
        "colab": {}
      },
      "cell_type": "code",
      "source": [
        "model.add(Flatten(input_shape = input_shape)) # изображение в долгий вектор\n",
        "model.add(Dense(10, activation = 'softmax'))"
      ],
      "execution_count": 0,
      "outputs": []
    },
    {
      "metadata": {
        "id": "00PfeJ9ZLZep",
        "colab_type": "code",
        "colab": {}
      },
      "cell_type": "code",
      "source": [
        "model.compile(optimizer = keras.optimizers.Adam(lr = 0.01), \n",
        "              loss = keras.losses.categorical_crossentropy,\n",
        "              metrics = ['accuracy'])"
      ],
      "execution_count": 0,
      "outputs": []
    },
    {
      "metadata": {
        "id": "QVPOnZePL2bd",
        "colab_type": "code",
        "colab": {
          "base_uri": "https://localhost:8080/",
          "height": 374
        },
        "outputId": "75806268-eed3-440c-a2b9-d783da917d81"
      },
      "cell_type": "code",
      "source": [
        "model.fit(x_train, y_train_cat, batch_size = 128, epochs = 10)"
      ],
      "execution_count": 26,
      "outputs": [
        {
          "output_type": "stream",
          "text": [
            "Epoch 1/10\n",
            "60000/60000 [==============================] - 4s 74us/step - loss: 0.3682 - acc: 0.8957\n",
            "Epoch 2/10\n",
            "60000/60000 [==============================] - 3s 42us/step - loss: 0.2912 - acc: 0.9190\n",
            "Epoch 3/10\n",
            "60000/60000 [==============================] - 3s 42us/step - loss: 0.2824 - acc: 0.9220\n",
            "Epoch 4/10\n",
            "60000/60000 [==============================] - 3s 42us/step - loss: 0.2751 - acc: 0.9243\n",
            "Epoch 5/10\n",
            "60000/60000 [==============================] - 3s 42us/step - loss: 0.2714 - acc: 0.9250\n",
            "Epoch 6/10\n",
            "60000/60000 [==============================] - 3s 42us/step - loss: 0.2683 - acc: 0.9258\n",
            "Epoch 7/10\n",
            "60000/60000 [==============================] - 3s 42us/step - loss: 0.2692 - acc: 0.9257\n",
            "Epoch 8/10\n",
            "60000/60000 [==============================] - 3s 42us/step - loss: 0.2674 - acc: 0.9245\n",
            "Epoch 9/10\n",
            "60000/60000 [==============================] - 3s 42us/step - loss: 0.2688 - acc: 0.9255\n",
            "Epoch 10/10\n",
            "60000/60000 [==============================] - 3s 42us/step - loss: 0.2635 - acc: 0.9261\n"
          ],
          "name": "stdout"
        },
        {
          "output_type": "execute_result",
          "data": {
            "text/plain": [
              "<keras.callbacks.History at 0x7f711d527a90>"
            ]
          },
          "metadata": {
            "tags": []
          },
          "execution_count": 26
        }
      ]
    },
    {
      "metadata": {
        "id": "mvz4cACLMg3e",
        "colab_type": "code",
        "colab": {
          "base_uri": "https://localhost:8080/",
          "height": 34
        },
        "outputId": "ce4a0dfa-f1e2-45c4-f214-aca2a25b444c"
      },
      "cell_type": "code",
      "source": [
        "score = model.evaluate(x_test, y_test_cat)"
      ],
      "execution_count": 27,
      "outputs": [
        {
          "output_type": "stream",
          "text": [
            "10000/10000 [==============================] - 1s 74us/step\n"
          ],
          "name": "stdout"
        }
      ]
    },
    {
      "metadata": {
        "id": "w1WRj1GsMb3e",
        "colab_type": "code",
        "colab": {
          "base_uri": "https://localhost:8080/",
          "height": 34
        },
        "outputId": "49e74062-84d3-455f-b6e1-81d795ea9ac1"
      },
      "cell_type": "code",
      "source": [
        "print(score)"
      ],
      "execution_count": 28,
      "outputs": [
        {
          "output_type": "stream",
          "text": [
            "[0.29930576873123643, 0.9251]\n"
          ],
          "name": "stdout"
        }
      ]
    },
    {
      "metadata": {
        "id": "RetHuUdJQcAS",
        "colab_type": "text"
      },
      "cell_type": "markdown",
      "source": [
        "# Model 2"
      ]
    },
    {
      "metadata": {
        "id": "0l5MjvvCPOMU",
        "colab_type": "code",
        "colab": {}
      },
      "cell_type": "code",
      "source": [
        "model2 = keras.models.Sequential()\n",
        "model2.add(Flatten(input_shape = input_shape)) # преобразовывает изображение в длинный вектор\n",
        "model2.add(Dense(100, activation = 'relu'))\n",
        "model2.add(Dense(10, activation = 'softmax'))"
      ],
      "execution_count": 0,
      "outputs": []
    },
    {
      "metadata": {
        "id": "Zh06Zh72Peo5",
        "colab_type": "code",
        "colab": {}
      },
      "cell_type": "code",
      "source": [
        "model2.compile(optimizer = keras.optimizers.Adam(lr = 0.01), \n",
        "              loss = keras.losses.categorical_crossentropy,\n",
        "              metrics = ['accuracy'])"
      ],
      "execution_count": 0,
      "outputs": []
    },
    {
      "metadata": {
        "id": "EYME-zvwP7pC",
        "colab_type": "code",
        "colab": {
          "base_uri": "https://localhost:8080/",
          "height": 374
        },
        "outputId": "6e70b26c-c21e-439d-ae02-950b5ee471fd"
      },
      "cell_type": "code",
      "source": [
        "model2.fit(x_train, y_train_cat, batch_size = 128, epochs = 10)"
      ],
      "execution_count": 31,
      "outputs": [
        {
          "output_type": "stream",
          "text": [
            "Epoch 1/10\n",
            "60000/60000 [==============================] - 3s 49us/step - loss: 0.2195 - acc: 0.9347\n",
            "Epoch 2/10\n",
            "60000/60000 [==============================] - 3s 47us/step - loss: 0.1132 - acc: 0.9654\n",
            "Epoch 3/10\n",
            "60000/60000 [==============================] - 3s 48us/step - loss: 0.0932 - acc: 0.9718\n",
            "Epoch 4/10\n",
            "60000/60000 [==============================] - 3s 48us/step - loss: 0.0787 - acc: 0.9761\n",
            "Epoch 5/10\n",
            "60000/60000 [==============================] - 3s 47us/step - loss: 0.0720 - acc: 0.9781\n",
            "Epoch 6/10\n",
            "60000/60000 [==============================] - 3s 48us/step - loss: 0.0629 - acc: 0.9809\n",
            "Epoch 7/10\n",
            "60000/60000 [==============================] - 3s 47us/step - loss: 0.0615 - acc: 0.9815\n",
            "Epoch 8/10\n",
            "60000/60000 [==============================] - 3s 47us/step - loss: 0.0603 - acc: 0.9825\n",
            "Epoch 9/10\n",
            "60000/60000 [==============================] - 3s 47us/step - loss: 0.0651 - acc: 0.9812\n",
            "Epoch 10/10\n",
            "60000/60000 [==============================] - 3s 48us/step - loss: 0.0586 - acc: 0.9842\n"
          ],
          "name": "stdout"
        },
        {
          "output_type": "execute_result",
          "data": {
            "text/plain": [
              "<keras.callbacks.History at 0x7f711a9f33c8>"
            ]
          },
          "metadata": {
            "tags": []
          },
          "execution_count": 31
        }
      ]
    },
    {
      "metadata": {
        "id": "1uY4RFzWP8Y-",
        "colab_type": "code",
        "colab": {
          "base_uri": "https://localhost:8080/",
          "height": 34
        },
        "outputId": "00dcad2d-995c-416f-b471-026b168a9588"
      },
      "cell_type": "code",
      "source": [
        "score = model2.evaluate(x_test, y_test_cat)"
      ],
      "execution_count": 33,
      "outputs": [
        {
          "output_type": "stream",
          "text": [
            "10000/10000 [==============================] - 1s 73us/step\n"
          ],
          "name": "stdout"
        }
      ]
    },
    {
      "metadata": {
        "id": "EiAqXvfJQI2-",
        "colab_type": "code",
        "colab": {
          "base_uri": "https://localhost:8080/",
          "height": 34
        },
        "outputId": "5347ac6d-1b5f-4d60-ffc2-fcf4bebf7c11"
      },
      "cell_type": "code",
      "source": [
        "print(score)"
      ],
      "execution_count": 34,
      "outputs": [
        {
          "output_type": "stream",
          "text": [
            "[0.15517762391453424, 0.9718]\n"
          ],
          "name": "stdout"
        }
      ]
    },
    {
      "metadata": {
        "id": "8ve84CloRbjx",
        "colab_type": "text"
      },
      "cell_type": "markdown",
      "source": [
        "# **Convolutional Neural Network (CNN)**"
      ]
    },
    {
      "metadata": {
        "id": "y1NLax6FTGLz",
        "colab_type": "code",
        "colab": {}
      },
      "cell_type": "code",
      "source": [
        "from keras.layers import Conv2D, MaxPool2D"
      ],
      "execution_count": 0,
      "outputs": []
    },
    {
      "metadata": {
        "id": "pJ8-_MKGQJkm",
        "colab_type": "code",
        "colab": {}
      },
      "cell_type": "code",
      "source": [
        "model3 = keras.models.Sequential()\n",
        "\n",
        "\n",
        "model3.add(Conv2D(32, kernel_size = (3,3), padding = 'same',\n",
        "                 input_shape = input_shape, activation = 'relu')) # relu\n",
        "model3.add(MaxPool2D()) # max pool\n",
        "\n",
        "\n",
        "model3.add(Conv2D(64, kernel_size = (3,3), padding = 'same',\n",
        "                 input_shape = input_shape, activation = 'relu')) # relu\n",
        "model3.add(MaxPool2D()) # max pool\n",
        "\n",
        "\n",
        "model3.add(Conv2D(128, kernel_size = (3,3), padding = 'same',\n",
        "                 input_shape = input_shape, activation = 'relu')) # relu\n",
        "model3.add(MaxPool2D(7,7)) # max pool\n",
        "\n",
        "\n",
        "model3.add(Flatten()) # изображение в долгий вектор\n",
        "model3.add(Dense(10, activation = 'softmax'))"
      ],
      "execution_count": 0,
      "outputs": []
    },
    {
      "metadata": {
        "id": "649WMY_tTGV_",
        "colab_type": "code",
        "colab": {}
      },
      "cell_type": "code",
      "source": [
        "model3.compile(optimizer = keras.optimizers.Adam(lr = 0.01), \n",
        "              loss = keras.losses.categorical_crossentropy,\n",
        "              metrics = ['accuracy'])"
      ],
      "execution_count": 0,
      "outputs": []
    },
    {
      "metadata": {
        "id": "14xeeZMYVhh0",
        "colab_type": "code",
        "colab": {
          "base_uri": "https://localhost:8080/",
          "height": 1054
        },
        "outputId": "1195c0da-79cd-41c8-fc0e-fbb04cf8bc10"
      },
      "cell_type": "code",
      "source": [
        "model3.fit(x_train, y_train_cat, batch_size = 128, epochs = 30)"
      ],
      "execution_count": 41,
      "outputs": [
        {
          "output_type": "stream",
          "text": [
            "Epoch 1/30\n",
            "60000/60000 [==============================] - 8s 127us/step - loss: 0.0417 - acc: 0.9894\n",
            "Epoch 2/30\n",
            "60000/60000 [==============================] - 8s 126us/step - loss: 0.0299 - acc: 0.9926\n",
            "Epoch 3/30\n",
            "60000/60000 [==============================] - 8s 126us/step - loss: 0.0299 - acc: 0.9924\n",
            "Epoch 4/30\n",
            "60000/60000 [==============================] - 8s 127us/step - loss: 0.0355 - acc: 0.9914\n",
            "Epoch 5/30\n",
            "60000/60000 [==============================] - 8s 126us/step - loss: 0.0338 - acc: 0.9918\n",
            "Epoch 6/30\n",
            "60000/60000 [==============================] - 8s 127us/step - loss: 0.0453 - acc: 0.9908\n",
            "Epoch 7/30\n",
            "60000/60000 [==============================] - 8s 127us/step - loss: 0.0339 - acc: 0.9928\n",
            "Epoch 8/30\n",
            "60000/60000 [==============================] - 8s 126us/step - loss: 0.0325 - acc: 0.9931\n",
            "Epoch 9/30\n",
            "60000/60000 [==============================] - 8s 126us/step - loss: 0.0300 - acc: 0.9935\n",
            "Epoch 10/30\n",
            "60000/60000 [==============================] - 8s 126us/step - loss: 0.0359 - acc: 0.9930\n",
            "Epoch 11/30\n",
            "60000/60000 [==============================] - 8s 125us/step - loss: 0.0492 - acc: 0.9917\n",
            "Epoch 12/30\n",
            "60000/60000 [==============================] - 8s 125us/step - loss: 0.0499 - acc: 0.9922\n",
            "Epoch 13/30\n",
            "60000/60000 [==============================] - 8s 126us/step - loss: 0.0430 - acc: 0.9930\n",
            "Epoch 14/30\n",
            "60000/60000 [==============================] - 8s 125us/step - loss: 0.0589 - acc: 0.9922\n",
            "Epoch 15/30\n",
            "60000/60000 [==============================] - 8s 125us/step - loss: 0.0479 - acc: 0.9932\n",
            "Epoch 16/30\n",
            "60000/60000 [==============================] - 8s 126us/step - loss: 0.0553 - acc: 0.9932\n",
            "Epoch 17/30\n",
            "60000/60000 [==============================] - 8s 126us/step - loss: 0.0574 - acc: 0.9938\n",
            "Epoch 18/30\n",
            "60000/60000 [==============================] - 8s 126us/step - loss: 0.1386 - acc: 0.9881\n",
            "Epoch 19/30\n",
            "60000/60000 [==============================] - 8s 126us/step - loss: 0.1602 - acc: 0.9877\n",
            "Epoch 20/30\n",
            "60000/60000 [==============================] - 8s 126us/step - loss: 0.1608 - acc: 0.9883\n",
            "Epoch 21/30\n",
            "60000/60000 [==============================] - 8s 126us/step - loss: 0.1869 - acc: 0.9873\n",
            "Epoch 22/30\n",
            "60000/60000 [==============================] - 8s 127us/step - loss: 0.2116 - acc: 0.9859\n",
            "Epoch 23/30\n",
            "60000/60000 [==============================] - 8s 127us/step - loss: 0.2784 - acc: 0.9818\n",
            "Epoch 24/30\n",
            "60000/60000 [==============================] - 8s 126us/step - loss: 0.2699 - acc: 0.9826\n",
            "Epoch 25/30\n",
            "60000/60000 [==============================] - 8s 126us/step - loss: 0.2805 - acc: 0.9820\n",
            "Epoch 26/30\n",
            "60000/60000 [==============================] - 8s 125us/step - loss: 0.3043 - acc: 0.9806\n",
            "Epoch 27/30\n",
            "60000/60000 [==============================] - 8s 126us/step - loss: 0.3155 - acc: 0.9799\n",
            "Epoch 28/30\n",
            "60000/60000 [==============================] - 8s 126us/step - loss: 0.2769 - acc: 0.9825\n",
            "Epoch 29/30\n",
            "60000/60000 [==============================] - 8s 126us/step - loss: 0.3197 - acc: 0.9797\n",
            "Epoch 30/30\n",
            "60000/60000 [==============================] - 8s 126us/step - loss: 0.2849 - acc: 0.9821\n"
          ],
          "name": "stdout"
        },
        {
          "output_type": "execute_result",
          "data": {
            "text/plain": [
              "<keras.callbacks.History at 0x7f71146e3cf8>"
            ]
          },
          "metadata": {
            "tags": []
          },
          "execution_count": 41
        }
      ]
    },
    {
      "metadata": {
        "id": "5Holy35aVxEi",
        "colab_type": "code",
        "colab": {
          "base_uri": "https://localhost:8080/",
          "height": 34
        },
        "outputId": "710b44a7-f77e-434a-eb4d-1501eadb9fb9"
      },
      "cell_type": "code",
      "source": [
        "score = model3.evaluate(x_test, y_test_cat)"
      ],
      "execution_count": 45,
      "outputs": [
        {
          "output_type": "stream",
          "text": [
            "10000/10000 [==============================] - 1s 116us/step\n"
          ],
          "name": "stdout"
        }
      ]
    },
    {
      "metadata": {
        "id": "Bfhe8YYpXppm",
        "colab_type": "code",
        "colab": {
          "base_uri": "https://localhost:8080/",
          "height": 34
        },
        "outputId": "03bf6c94-823e-449c-d9db-b79ca94e55f9"
      },
      "cell_type": "code",
      "source": [
        "print(score)"
      ],
      "execution_count": 46,
      "outputs": [
        {
          "output_type": "stream",
          "text": [
            "[0.28013557880521694, 0.9825]\n"
          ],
          "name": "stdout"
        }
      ]
    },
    {
      "metadata": {
        "id": "XYBjuPb5Xreu",
        "colab_type": "code",
        "colab": {
          "base_uri": "https://localhost:8080/",
          "height": 320
        },
        "outputId": "14ece929-d9be-47d3-f622-ab3ac3b43c5f"
      },
      "cell_type": "code",
      "source": [
        "!nvidia-smi"
      ],
      "execution_count": 47,
      "outputs": [
        {
          "output_type": "stream",
          "text": [
            "Wed Oct 31 13:50:32 2018       \n",
            "+-----------------------------------------------------------------------------+\n",
            "| NVIDIA-SMI 396.44                 Driver Version: 396.44                    |\n",
            "|-------------------------------+----------------------+----------------------+\n",
            "| GPU  Name        Persistence-M| Bus-Id        Disp.A | Volatile Uncorr. ECC |\n",
            "| Fan  Temp  Perf  Pwr:Usage/Cap|         Memory-Usage | GPU-Util  Compute M. |\n",
            "|===============================+======================+======================|\n",
            "|   0  Tesla K80           Off  | 00000000:00:04.0 Off |                    0 |\n",
            "| N/A   47C    P0    70W / 149W |    589MiB / 11441MiB |      0%      Default |\n",
            "+-------------------------------+----------------------+----------------------+\n",
            "                                                                               \n",
            "+-----------------------------------------------------------------------------+\n",
            "| Processes:                                                       GPU Memory |\n",
            "|  GPU       PID   Type   Process name                             Usage      |\n",
            "|=============================================================================|\n",
            "+-----------------------------------------------------------------------------+\n"
          ],
          "name": "stdout"
        }
      ]
    },
    {
      "metadata": {
        "id": "w2sk4tlWYr1S",
        "colab_type": "code",
        "colab": {
          "base_uri": "https://localhost:8080/",
          "height": 408
        },
        "outputId": "623880f1-5ca2-4b65-fa28-7fbe86f2a9f2"
      },
      "cell_type": "code",
      "source": [
        "model3.summary()"
      ],
      "execution_count": 52,
      "outputs": [
        {
          "output_type": "stream",
          "text": [
            "_________________________________________________________________\n",
            "Layer (type)                 Output Shape              Param #   \n",
            "=================================================================\n",
            "conv2d_1 (Conv2D)            (None, 28, 28, 32)        320       \n",
            "_________________________________________________________________\n",
            "max_pooling2d_1 (MaxPooling2 (None, 14, 14, 32)        0         \n",
            "_________________________________________________________________\n",
            "conv2d_2 (Conv2D)            (None, 14, 14, 64)        18496     \n",
            "_________________________________________________________________\n",
            "max_pooling2d_2 (MaxPooling2 (None, 7, 7, 64)          0         \n",
            "_________________________________________________________________\n",
            "conv2d_3 (Conv2D)            (None, 7, 7, 128)         73856     \n",
            "_________________________________________________________________\n",
            "max_pooling2d_3 (MaxPooling2 (None, 1, 1, 128)         0         \n",
            "_________________________________________________________________\n",
            "flatten_3 (Flatten)          (None, 128)               0         \n",
            "_________________________________________________________________\n",
            "dense_4 (Dense)              (None, 10)                1290      \n",
            "=================================================================\n",
            "Total params: 93,962\n",
            "Trainable params: 93,962\n",
            "Non-trainable params: 0\n",
            "_________________________________________________________________\n"
          ],
          "name": "stdout"
        }
      ]
    },
    {
      "metadata": {
        "id": "SJiT3r_oZHOU",
        "colab_type": "code",
        "colab": {}
      },
      "cell_type": "code",
      "source": [
        "from google.colab import drive #connect to Google Drive"
      ],
      "execution_count": 0,
      "outputs": []
    },
    {
      "metadata": {
        "id": "HIjVAVyGaRfX",
        "colab_type": "code",
        "colab": {
          "base_uri": "https://localhost:8080/",
          "height": 65
        },
        "outputId": "ea025375-ccff-433d-dbd8-44de9a59223d"
      },
      "cell_type": "code",
      "source": [
        "!pwd # текущее месторасположение"
      ],
      "execution_count": 54,
      "outputs": [
        {
          "output_type": "stream",
          "text": [
            "/content\n"
          ],
          "name": "stdout"
        }
      ]
    },
    {
      "metadata": {
        "id": "8loP9-5RaM0r",
        "colab_type": "code",
        "colab": {
          "base_uri": "https://localhost:8080/",
          "height": 191
        },
        "outputId": "961cad71-24a6-40ee-800b-56eafe982fa0"
      },
      "cell_type": "code",
      "source": [
        "drive.mount('/content/drive')"
      ],
      "execution_count": 55,
      "outputs": [
        {
          "output_type": "stream",
          "text": [
            "Go to this URL in a browser: https://accounts.google.com/o/oauth2/auth?client_id=947318989803-6bn6qk8qdgf4n4g3pfee6491hc0brc4i.apps.googleusercontent.com&redirect_uri=urn%3Aietf%3Awg%3Aoauth%3A2.0%3Aoob&scope=email%20https%3A%2F%2Fwww.googleapis.com%2Fauth%2Fdocs.test%20https%3A%2F%2Fwww.googleapis.com%2Fauth%2Fdrive%20https%3A%2F%2Fwww.googleapis.com%2Fauth%2Fdrive.photos.readonly%20https%3A%2F%2Fwww.googleapis.com%2Fauth%2Fpeopleapi.readonly&response_type=code\n",
            "\n",
            "Enter your authorization code:\n",
            "··········\n",
            "Mounted at /content/drive\n"
          ],
          "name": "stdout"
        }
      ]
    },
    {
      "metadata": {
        "id": "Q-7Pxh1habjG",
        "colab_type": "code",
        "colab": {}
      },
      "cell_type": "code",
      "source": [
        "import os "
      ],
      "execution_count": 0,
      "outputs": []
    },
    {
      "metadata": {
        "id": "_OUISj7OartW",
        "colab_type": "code",
        "colab": {}
      },
      "cell_type": "code",
      "source": [
        "os.chdir(\"drive\")"
      ],
      "execution_count": 0,
      "outputs": []
    },
    {
      "metadata": {
        "id": "liZt9pajazau",
        "colab_type": "code",
        "colab": {
          "base_uri": "https://localhost:8080/",
          "height": 65
        },
        "outputId": "8c008bb5-dd3e-4f4c-86d1-93a0c58c638f"
      },
      "cell_type": "code",
      "source": [
        "!ls"
      ],
      "execution_count": 59,
      "outputs": [
        {
          "output_type": "stream",
          "text": [
            "'My Drive'\n"
          ],
          "name": "stdout"
        }
      ]
    },
    {
      "metadata": {
        "id": "G3fdTZ2ra1vz",
        "colab_type": "code",
        "colab": {}
      },
      "cell_type": "code",
      "source": [
        "os.chdir(\"My Drive\")"
      ],
      "execution_count": 0,
      "outputs": []
    },
    {
      "metadata": {
        "id": "pLcLtxQaa57K",
        "colab_type": "code",
        "colab": {
          "base_uri": "https://localhost:8080/",
          "height": 99
        },
        "outputId": "f961ec9c-3920-4e89-f6a6-c97d3cf15fb5"
      },
      "cell_type": "code",
      "source": [
        "!ls"
      ],
      "execution_count": 61,
      "outputs": [
        {
          "output_type": "stream",
          "text": [
            " CV\t\t  'Must See San Francisco.gsheet'   WWCode\n",
            "'Madrid .gsheet'   Polishes\t\t\t    КНУ.gsheet\n",
            "'ML Practice'\t   Untitled0.ipynb\n"
          ],
          "name": "stdout"
        }
      ]
    },
    {
      "metadata": {
        "id": "bxIynhyGa77n",
        "colab_type": "code",
        "colab": {}
      },
      "cell_type": "code",
      "source": [
        "os.chdir(\"ML Practice\")"
      ],
      "execution_count": 0,
      "outputs": []
    },
    {
      "metadata": {
        "id": "KFAk6r9_boXl",
        "colab_type": "code",
        "colab": {}
      },
      "cell_type": "code",
      "source": [
        "model3_json = model3.to_json()"
      ],
      "execution_count": 0,
      "outputs": []
    },
    {
      "metadata": {
        "id": "B8DIfLxsbyYA",
        "colab_type": "code",
        "colab": {
          "base_uri": "https://localhost:8080/",
          "height": 74
        },
        "outputId": "0f5b27e4-2d9b-413d-bb0d-1185fd1f00de"
      },
      "cell_type": "code",
      "source": [
        "model3_json\n"
      ],
      "execution_count": 67,
      "outputs": [
        {
          "output_type": "execute_result",
          "data": {
            "text/plain": [
              "'{\"class_name\": \"Sequential\", \"config\": [{\"class_name\": \"Conv2D\", \"config\": {\"name\": \"conv2d_1\", \"trainable\": true, \"batch_input_shape\": [null, 28, 28, 1], \"dtype\": \"float32\", \"filters\": 32, \"kernel_size\": [3, 3], \"strides\": [1, 1], \"padding\": \"same\", \"data_format\": \"channels_last\", \"dilation_rate\": [1, 1], \"activation\": \"relu\", \"use_bias\": true, \"kernel_initializer\": {\"class_name\": \"VarianceScaling\", \"config\": {\"scale\": 1.0, \"mode\": \"fan_avg\", \"distribution\": \"uniform\", \"seed\": null}}, \"bias_initializer\": {\"class_name\": \"Zeros\", \"config\": {}}, \"kernel_regularizer\": null, \"bias_regularizer\": null, \"activity_regularizer\": null, \"kernel_constraint\": null, \"bias_constraint\": null}}, {\"class_name\": \"MaxPooling2D\", \"config\": {\"name\": \"max_pooling2d_1\", \"trainable\": true, \"pool_size\": [2, 2], \"padding\": \"valid\", \"strides\": [2, 2], \"data_format\": \"channels_last\"}}, {\"class_name\": \"Conv2D\", \"config\": {\"name\": \"conv2d_2\", \"trainable\": true, \"batch_input_shape\": [null, 28, 28, 1], \"dtype\": \"float32\", \"filters\": 64, \"kernel_size\": [3, 3], \"strides\": [1, 1], \"padding\": \"same\", \"data_format\": \"channels_last\", \"dilation_rate\": [1, 1], \"activation\": \"relu\", \"use_bias\": true, \"kernel_initializer\": {\"class_name\": \"VarianceScaling\", \"config\": {\"scale\": 1.0, \"mode\": \"fan_avg\", \"distribution\": \"uniform\", \"seed\": null}}, \"bias_initializer\": {\"class_name\": \"Zeros\", \"config\": {}}, \"kernel_regularizer\": null, \"bias_regularizer\": null, \"activity_regularizer\": null, \"kernel_constraint\": null, \"bias_constraint\": null}}, {\"class_name\": \"MaxPooling2D\", \"config\": {\"name\": \"max_pooling2d_2\", \"trainable\": true, \"pool_size\": [2, 2], \"padding\": \"valid\", \"strides\": [2, 2], \"data_format\": \"channels_last\"}}, {\"class_name\": \"Conv2D\", \"config\": {\"name\": \"conv2d_3\", \"trainable\": true, \"batch_input_shape\": [null, 28, 28, 1], \"dtype\": \"float32\", \"filters\": 128, \"kernel_size\": [3, 3], \"strides\": [1, 1], \"padding\": \"same\", \"data_format\": \"channels_last\", \"dilation_rate\": [1, 1], \"activation\": \"relu\", \"use_bias\": true, \"kernel_initializer\": {\"class_name\": \"VarianceScaling\", \"config\": {\"scale\": 1.0, \"mode\": \"fan_avg\", \"distribution\": \"uniform\", \"seed\": null}}, \"bias_initializer\": {\"class_name\": \"Zeros\", \"config\": {}}, \"kernel_regularizer\": null, \"bias_regularizer\": null, \"activity_regularizer\": null, \"kernel_constraint\": null, \"bias_constraint\": null}}, {\"class_name\": \"MaxPooling2D\", \"config\": {\"name\": \"max_pooling2d_3\", \"trainable\": true, \"pool_size\": [7, 7], \"padding\": \"valid\", \"strides\": [7, 7], \"data_format\": \"channels_last\"}}, {\"class_name\": \"Flatten\", \"config\": {\"name\": \"flatten_3\", \"trainable\": true, \"data_format\": \"channels_last\"}}, {\"class_name\": \"Dense\", \"config\": {\"name\": \"dense_4\", \"trainable\": true, \"units\": 10, \"activation\": \"softmax\", \"use_bias\": true, \"kernel_initializer\": {\"class_name\": \"VarianceScaling\", \"config\": {\"scale\": 1.0, \"mode\": \"fan_avg\", \"distribution\": \"uniform\", \"seed\": null}}, \"bias_initializer\": {\"class_name\": \"Zeros\", \"config\": {}}, \"kernel_regularizer\": null, \"bias_regularizer\": null, \"activity_regularizer\": null, \"kernel_constraint\": null, \"bias_constraint\": null}}], \"keras_version\": \"2.1.6\", \"backend\": \"tensorflow\"}'"
            ]
          },
          "metadata": {
            "tags": []
          },
          "execution_count": 67
        }
      ]
    },
    {
      "metadata": {
        "id": "yIMr88PLcC1D",
        "colab_type": "code",
        "colab": {}
      },
      "cell_type": "code",
      "source": [
        "model3_json_file = open(\"model3_json\", \"w\")\n",
        "model3_json_file.write(model3_json)\n",
        "model3_json_file.close()"
      ],
      "execution_count": 0,
      "outputs": []
    },
    {
      "metadata": {
        "id": "XkWEOhOxchal",
        "colab_type": "code",
        "colab": {}
      },
      "cell_type": "code",
      "source": [
        "model3.save_weights(\"model3_weights.h5\")"
      ],
      "execution_count": 0,
      "outputs": []
    },
    {
      "metadata": {
        "id": "OYYQdow_c37F",
        "colab_type": "code",
        "colab": {}
      },
      "cell_type": "code",
      "source": [
        ""
      ],
      "execution_count": 0,
      "outputs": []
    }
  ]
}