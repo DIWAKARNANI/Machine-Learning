{
 "cells": [
  {
   "cell_type": "markdown",
   "metadata": {
    "colab_type": "text",
    "id": "AlGl1p_LMK6e"
   },
   "source": [
    "# ** Neural Network for generating text based on training txt file**"
   ]
  },
  {
   "cell_type": "code",
   "execution_count": 1,
   "metadata": {
    "colab": {},
    "colab_type": "code",
    "id": "Wvqydb3MqCZJ"
   },
   "outputs": [
    {
     "name": "stderr",
     "output_type": "stream",
     "text": [
      "Using TensorFlow backend.\n"
     ]
    }
   ],
   "source": [
    "import os\n",
    "import sys\n",
    "import keras\n",
    "import numpy as np\n",
    "import string"
   ]
  },
  {
   "cell_type": "code",
   "execution_count": null,
   "metadata": {
    "colab": {},
    "colab_type": "code",
    "id": "VI-K9QzxqfrE"
   },
   "outputs": [],
   "source": [
    "#from google.colab import drive"
   ]
  },
  {
   "cell_type": "code",
   "execution_count": null,
   "metadata": {
    "colab": {
     "base_uri": "https://localhost:8080/",
     "height": 191
    },
    "colab_type": "code",
    "id": "YZdNaMD6qmJm",
    "outputId": "f36a11cc-9f61-401c-9c2e-f2c0a83c27d8"
   },
   "outputs": [],
   "source": [
    "#drive.mount('/content/drive')"
   ]
  },
  {
   "cell_type": "code",
   "execution_count": null,
   "metadata": {
    "colab": {},
    "colab_type": "code",
    "id": "-77YEV1Mq1xa"
   },
   "outputs": [],
   "source": [
    "#os.chdir(\"drive/My Drive/ML Practice/Text Generator\")"
   ]
  },
  {
   "cell_type": "markdown",
   "metadata": {
    "colab_type": "text",
    "id": "69W4F47sMZdn"
   },
   "source": [
    "##  List of chars to be treated as separate tokens in the dictionary"
   ]
  },
  {
   "cell_type": "code",
   "execution_count": 2,
   "metadata": {
    "colab": {
     "base_uri": "https://localhost:8080/",
     "height": 34
    },
    "colab_type": "code",
    "id": "XVAq7FzFqCZQ",
    "outputId": "2cdf7938-dd88-443d-8ecd-392059617903"
   },
   "outputs": [
    {
     "data": {
      "text/plain": [
       "'!\"#$%&\\'()*+,-./:;<=>?@[\\\\]^_`{|}~'"
      ]
     },
     "execution_count": 2,
     "metadata": {},
     "output_type": "execute_result"
    }
   ],
   "source": [
    "string.punctuation"
   ]
  },
  {
   "cell_type": "code",
   "execution_count": 3,
   "metadata": {
    "colab": {},
    "colab_type": "code",
    "id": "ReCryGqvqCZb"
   },
   "outputs": [],
   "source": [
    "chars = string.punctuation"
   ]
  },
  {
   "cell_type": "code",
   "execution_count": 4,
   "metadata": {
    "colab": {},
    "colab_type": "code",
    "id": "IGgK3c_6qCZg"
   },
   "outputs": [],
   "source": [
    "chars = chars.replace(\"`\", \"\")"
   ]
  },
  {
   "cell_type": "code",
   "execution_count": 5,
   "metadata": {
    "colab": {},
    "colab_type": "code",
    "id": "LjjaAkGnqCZn"
   },
   "outputs": [],
   "source": [
    "chars = chars.replace(\"'\", \"\")"
   ]
  },
  {
   "cell_type": "code",
   "execution_count": 6,
   "metadata": {
    "colab": {},
    "colab_type": "code",
    "id": "X6vc7q88qCZw"
   },
   "outputs": [],
   "source": [
    "f = open(\"/Users/elizabethlorelei/Downloads/ML/alice_in_wonderland.txt\")\n",
    "alice = f.read()\n",
    "f.close()"
   ]
  },
  {
   "cell_type": "code",
   "execution_count": 7,
   "metadata": {
    "colab": {
     "base_uri": "https://localhost:8080/",
     "height": 34
    },
    "colab_type": "code",
    "id": "A7CSwxHBqCZ2",
    "outputId": "1df8bcb0-ca52-4ec7-9b7f-5764a2b44c3b"
   },
   "outputs": [
    {
     "data": {
      "text/plain": [
       "148574"
      ]
     },
     "execution_count": 7,
     "metadata": {},
     "output_type": "execute_result"
    }
   ],
   "source": [
    "len(alice)"
   ]
  },
  {
   "cell_type": "markdown",
   "metadata": {
    "colab_type": "text",
    "id": "Rqj-veQ4qCZ9"
   },
   "source": [
    "## Replace ' and  `"
   ]
  },
  {
   "cell_type": "code",
   "execution_count": 8,
   "metadata": {
    "colab": {},
    "colab_type": "code",
    "id": "5Yccu7xvqCZ-"
   },
   "outputs": [],
   "source": [
    "alice = alice.replace(\" '\", '\"')\n",
    "alice = alice.replace(\"' \", '\"')\n",
    "alice = alice.replace(\" `\", '\"')\n",
    "alice = alice.replace(\"` \", '\"')"
   ]
  },
  {
   "cell_type": "code",
   "execution_count": 9,
   "metadata": {
    "colab": {
     "base_uri": "https://localhost:8080/",
     "height": 74
    },
    "colab_type": "code",
    "id": "LNA2eBWBqCaE",
    "outputId": "c005280a-29f1-480c-a0be-fd4027496647"
   },
   "outputs": [
    {
     "data": {
      "text/plain": [
       "'Alice\\'s Adventures in Wonderland\\n\\n                ALICE\\'S ADVENTURES IN WONDERLAND\\n\\n                          Lewis Carroll\\n\\n               THE MILLENNIUM FULCRUM EDITION 3.0\\n\\n\\n\\n\\n                            CHAPTER I\\n\\n                      Down the Rabbit-Hole\\n\\n\\n  Alice was beginning to get very tired of sitting by her sister\\non the bank, and of having nothing to do:  once or twice she had\\npeeped into the book her sister was reading, but it had no\\npictures or conversations in it,\"and what is the use of a book,\\'\\nthought Alice\"without pictures or conversation?\\'\\n\\n  So she was considering in her own mind (as well as she could,\\nfor the hot day made her feel very sleepy and stupid), whether\\nthe pleasure of making a daisy-chain would be worth the trouble\\nof getting up and picking the daisies, when suddenly a White\\nRabbit with pink eyes ran close by her.\\n\\n  There was nothing so VERY remarkable in that; nor did Alice\\nthink it so VERY much out of the way to hear the Rabbit say to\\nitself,\"Oh dear!  Oh dear!  I shall be late!\" (when she thought\\nit over afterwards, it occurred to her that she ought to have\\nwondered at this, but at the time it all seemed quite natural);\\nbut when the Rabbit actually TOOK A WATCH OUT OF ITS WAISTCOAT-\\nPOCKET, and looked at it, and then hurried on, Alice started to\\nher feet, for it flashed across her mind that she had never\\nbefore seen a rabbit with either a waistcoat-pocket, or a watch to\\ntake out of it, and burning with curiosity, she ran across the\\nfield a'"
      ]
     },
     "execution_count": 9,
     "metadata": {},
     "output_type": "execute_result"
    }
   ],
   "source": [
    "alice[:1500]"
   ]
  },
  {
   "cell_type": "code",
   "execution_count": 10,
   "metadata": {
    "colab": {},
    "colab_type": "code",
    "id": "u1pWxFYOqCaM"
   },
   "outputs": [],
   "source": [
    "import re"
   ]
  },
  {
   "cell_type": "markdown",
   "metadata": {
    "colab_type": "text",
    "id": "RgRRmhtzMkEO"
   },
   "source": [
    "## The text initially is given row by row separated by \\n symbol, paragraphs are separated by multiple \\n symbols. Replacing multiple \\n with unique qwerty word, deleting all \\n tokens, replacing qwerty back to \\n"
   ]
  },
  {
   "cell_type": "code",
   "execution_count": 11,
   "metadata": {
    "colab": {},
    "colab_type": "code",
    "id": "Dk9oCc8-qCaR"
   },
   "outputs": [],
   "source": [
    "s = \"\\n\\n\""
   ]
  },
  {
   "cell_type": "code",
   "execution_count": 12,
   "metadata": {
    "colab": {},
    "colab_type": "code",
    "id": "jAK-qDgaqCaU"
   },
   "outputs": [],
   "source": [
    "s = re.sub(\"\\n\\n+\", \"a\", s) #какое-то количество \\n"
   ]
  },
  {
   "cell_type": "code",
   "execution_count": 13,
   "metadata": {
    "colab": {
     "base_uri": "https://localhost:8080/",
     "height": 34
    },
    "colab_type": "code",
    "id": "0uMeKD75qCaX",
    "outputId": "ab6766ad-cfd7-492f-9301-1a9b3a08e6f9"
   },
   "outputs": [
    {
     "data": {
      "text/plain": [
       "'a'"
      ]
     },
     "execution_count": 13,
     "metadata": {},
     "output_type": "execute_result"
    }
   ],
   "source": [
    "s"
   ]
  },
  {
   "cell_type": "code",
   "execution_count": 14,
   "metadata": {
    "colab": {},
    "colab_type": "code",
    "id": "KNYApz-RqCab"
   },
   "outputs": [],
   "source": [
    "alice = re.sub(\"\\n\\n+\", \"qwerty\", alice) "
   ]
  },
  {
   "cell_type": "code",
   "execution_count": 15,
   "metadata": {
    "colab": {
     "base_uri": "https://localhost:8080/",
     "height": 74
    },
    "colab_type": "code",
    "id": "mqEOh0VVqCae",
    "outputId": "e01d4f3c-6a46-49af-a7fc-49bee3b792e9"
   },
   "outputs": [
    {
     "data": {
      "text/plain": [
       "'Alice\\'s Adventures in Wonderlandqwerty                ALICE\\'S ADVENTURES IN WONDERLANDqwerty                          Lewis Carrollqwerty               THE MILLENNIUM FULCRUM EDITION 3.0qwerty                            CHAPTER Iqwerty                      Down the Rabbit-Holeqwerty  Alice was beginning to get very tired of sitting by her sister\\non the bank, and of having nothing to do:  once or twice she had\\npeeped into the book her sister was reading, but it had no\\npictures or conversations in it,\"and what is the use of a book,\\'\\nthought Alice\"without pictures or conversation?\\'qwerty  So she was considering in her own mind (as well as she could,\\nfor the hot day made her feel very sleepy and stupid), whether\\nthe pleasure of making a daisy-chain would be worth the trouble\\nof getting up and picking the daisies, when suddenly a White\\nRabbit with pink eyes ran close by her.qwerty  There was nothing so VERY remarkable in that; nor did Alice\\nthink it so VERY much out of the way to hear the Rabbit say to\\nitself,\"Oh dear!  Oh dear!  I shall be late!\" (when she thought\\nit over afterwards, it occurred to her that she ought to have\\nwondered at this, but at the time it all seemed quite natural);\\nbut when the Rabbit actually TOOK A WATCH OUT OF ITS WAISTCOAT-\\nPOCKET, and looked at it, and then hurried on, Alice started to\\nher feet, for it flashed across her mind that she had never\\nbefore seen a rabbit with either a waistcoat-pocket, or a watch to\\ntake out of it, and burning with curiosity'"
      ]
     },
     "execution_count": 15,
     "metadata": {},
     "output_type": "execute_result"
    }
   ],
   "source": [
    "alice[:1500]"
   ]
  },
  {
   "cell_type": "code",
   "execution_count": 16,
   "metadata": {
    "colab": {},
    "colab_type": "code",
    "id": "8iArKAebqCaj"
   },
   "outputs": [],
   "source": [
    "alice = alice.replace(\"\\n\", \" \")"
   ]
  },
  {
   "cell_type": "code",
   "execution_count": 17,
   "metadata": {
    "colab": {
     "base_uri": "https://localhost:8080/",
     "height": 74
    },
    "colab_type": "code",
    "id": "oJKJYAaUqCam",
    "outputId": "a07ea4c5-53a2-4098-d4b9-d9de89b99fe7"
   },
   "outputs": [
    {
     "data": {
      "text/plain": [
       "'Alice\\'s Adventures in Wonderlandqwerty                ALICE\\'S ADVENTURES IN WONDERLANDqwerty                          Lewis Carrollqwerty               THE MILLENNIUM FULCRUM EDITION 3.0qwerty                            CHAPTER Iqwerty                      Down the Rabbit-Holeqwerty  Alice was beginning to get very tired of sitting by her sister on the bank, and of having nothing to do:  once or twice she had peeped into the book her sister was reading, but it had no pictures or conversations in it,\"and what is the use of a book,\\' thought Alice\"without pictures or conversation?\\'qwerty  So she was considering in her own mind (as well as she could, for the hot day made her feel very sleepy and stupid), whether the pleasure of making a daisy-chain would be worth the trouble of getting up and picking the daisies, when suddenly a White Rabbit with pink eyes ran close by her.qwerty  There was nothing so VERY remarkable in that; nor did Alice think it so VERY much out of the way to hear the Rabbit say to itself,\"Oh dear!  Oh dear!  I shall be late!\" (when she thought it over afterwards, it occurred to her that she ought to have wondered at this, but at the time it all seemed quite natural); but when the Rabbit actually TOOK A WATCH OUT OF ITS WAISTCOAT- POCKET, and looked at it, and then hurried on, Alice started to her feet, for it flashed across her mind that she had never before seen a rabbit with either a waistcoat-pocket, or a watch to take out of it, and burning with curiosity'"
      ]
     },
     "execution_count": 17,
     "metadata": {},
     "output_type": "execute_result"
    }
   ],
   "source": [
    "alice[:1500]"
   ]
  },
  {
   "cell_type": "code",
   "execution_count": 18,
   "metadata": {
    "colab": {},
    "colab_type": "code",
    "id": "29lDMakXqCaq"
   },
   "outputs": [],
   "source": [
    "alice = alice.replace(\"qwety\", \"\\n\")"
   ]
  },
  {
   "cell_type": "code",
   "execution_count": 19,
   "metadata": {
    "colab": {
     "base_uri": "https://localhost:8080/",
     "height": 74
    },
    "colab_type": "code",
    "id": "1GgKvy-5qCat",
    "outputId": "b2dfda69-4210-443a-aaf1-ba0f3dfcf820"
   },
   "outputs": [
    {
     "name": "stdout",
     "output_type": "stream",
     "text": [
      "Alice's Adventures in Wonderlandqwerty                ALICE'S ADVENTURES IN WONDERLANDqwerty                          Lewis Carrollqwerty               THE MILLENNIUM FULCRUM EDITION 3.0qwerty                            CHAPTER Iqwerty                      Down the Rabbit-Holeqwerty  Alice was beginning to get very tired of sitting by her sister on the bank, and of having nothing to do:  once or twice she had peeped into the book her sister was reading, but it had no pictures or conversations in it,\"and what is the use of a book,' thought Alice\"without pictures or conversation?'qwerty  So she was considering in her own mind (as well as she could, for the hot day made her feel very sleepy and stupid), whether the pleasure of making a daisy-chain would be worth the trouble of getting up and picking the daisies, when suddenly a White Rabbit with pink eyes ran close by her.qwerty  There was nothing so VERY remarkable in that; nor did Alice think it so VERY much out of the way to hear the Rabbit say to itself,\"Oh dear!  Oh dear!  I shall be late!\" (when she thought it over afterwards, it occurred to her that she ought to have wondered at this, but at the time it all seemed quite natural); but when the Rabbit actually TOOK A WATCH OUT OF ITS WAISTCOAT- POCKET, and looked at it, and then hurried on, Alice started to her feet, for it flashed across her mind that she had never before seen a rabbit with either a waistcoat-pocket, or a watch to take out of it, and burning with curiosity\n"
     ]
    }
   ],
   "source": [
    "print(alice[:1500])"
   ]
  },
  {
   "cell_type": "code",
   "execution_count": 20,
   "metadata": {
    "colab": {},
    "colab_type": "code",
    "id": "YrOEDDGTqCax"
   },
   "outputs": [],
   "source": [
    "alice = alice.replace(\" '\", '\"')\n",
    "alice = alice.replace(\"' \", '\"')\n",
    "alice = alice.replace(\" `\", '\"')\n",
    "alice = alice.replace(\"` \", '\"')"
   ]
  },
  {
   "cell_type": "markdown",
   "metadata": {
    "colab_type": "text",
    "id": "nkLu_ER9MskR"
   },
   "source": [
    "## Separating punctuation symbols by \" \" from both sides to make them separate words"
   ]
  },
  {
   "cell_type": "code",
   "execution_count": 21,
   "metadata": {
    "colab": {},
    "colab_type": "code",
    "id": "9_XUJnTZqCaz"
   },
   "outputs": [],
   "source": [
    "for c in chars:\n",
    "    alice = alice.replace(c,\" \"+c+\" \")"
   ]
  },
  {
   "cell_type": "code",
   "execution_count": 22,
   "metadata": {
    "colab": {},
    "colab_type": "code",
    "id": "7NEKs59BqCa1"
   },
   "outputs": [],
   "source": [
    "alice = alice.replace(\"\\t\", \" \")"
   ]
  },
  {
   "cell_type": "code",
   "execution_count": 23,
   "metadata": {
    "colab": {},
    "colab_type": "code",
    "id": "V5B8UxHfqCa4"
   },
   "outputs": [],
   "source": [
    "alice = alice.replace(\"*\", \" \")"
   ]
  },
  {
   "cell_type": "code",
   "execution_count": 24,
   "metadata": {
    "colab": {},
    "colab_type": "code",
    "id": "1Z1McFJ7qCa6"
   },
   "outputs": [],
   "source": [
    "f = open(\"/Users/elizabethlorelei/Downloads/ML/alice_formatted.txt\", \"w\")\n",
    "f.write(alice)\n",
    "f.close()"
   ]
  },
  {
   "cell_type": "code",
   "execution_count": 25,
   "metadata": {
    "colab": {
     "base_uri": "https://localhost:8080/",
     "height": 74
    },
    "colab_type": "code",
    "id": "HYouRmeSqCa8",
    "outputId": "09f8259c-e960-47e4-cb4d-139d4c2aa42a"
   },
   "outputs": [
    {
     "name": "stdout",
     "output_type": "stream",
     "text": [
      "Alice's Adventures in Wonderlandqwerty                ALICE'S ADVENTURES IN WONDERLANDqwerty                          Lewis Carrollqwerty               THE MILLENNIUM FULCRUM EDITION 3 . 0qwerty                            CHAPTER Iqwerty                      Down the Rabbit - Holeqwerty  Alice was beginning to get very tired of sitting by her sister on the bank ,  and of having nothing to do :   once or twice she had peeped into the book her sister was reading ,  but it had no pictures or conversations in it ,  \" and what is the use of a book ,  \" thought Alice \" without pictures or conversation ? 'qwerty  So she was considering in her own mind  ( as well as she could ,  for the hot day made her feel very sleepy and stupid )  ,  whether the pleasure of making a daisy - chain would be worth the trouble of getting up and picking the daisies ,  when suddenly a White Rabbit with pink eyes ran close by her . qwerty  There was nothing so VERY remarkable in that ;  nor did Alice think it so VERY much out of the way to hear the Rabbit say to itself ,  \" Oh dear !   Oh dear !   I shall be late !  \"   ( when she thought it over afterwards ,  it occurred to her that she ought to have wondered at this ,  but at the time it all seemed quite natural )  ;  but when the Rabbit actually TOOK A WATCH OUT OF ITS WAISTCOAT -  POCKET ,  and looked at it ,  and then hurried on ,  Alice started to her feet ,  for it flashed across her mind that she had never before seen a rabbit with either a waistcoat - pocket ,  or a watch to take out of it ,  and burning with curiosity ,  she ran across the field after it ,  and fortunately was just in time to see it pop down a large rabbit - hole under the hedge . qwerty  In another moment down went Alice after it ,  never once considering how in the world she was to get out again . qwerty  The rabbit - hole went straight on like a tunnel for some way ,  and then dipped suddenly down ,  so suddenly that Alice had not a moment to think about stopping herself before she found herself falling down a very deep well . qwerty  Either the well was very deep ,  or she fell very slowly ,  for she had plenty of time as she went down to look about her and to wonder what was going to happen next .   First ,  she tried to look down and make out what she was coming to ,  but it was too dark to see anything ;  then she looked at the sides of the well ,  and noticed that they were filled with cupboards and book - shelves ;  here and there she saw maps and pictures hung upon pegs .   She took down a jar from one of the shelves as she passed ;  it was labelled \" ORANGE MARMALADE' ,  but to her great disappointment it was empty :   she did not like to drop the jar for fear of killing somebody ,  so managed to put it into one of the cupboards as she fell past it . qwerty  \" Well !  \" thought Alice to herself ,  \" after such a fall as this ,  I shall think nothing of tumbling down stairs !   How brave they'll all think me at home !   Why ,  I wouldn't say anything about it ,  even if I fell off the top of the house !  \"  ( Which was very likely true .  ) qwerty  Down ,  down ,  down .   Would the fall NEVER come to an end !   \" I wonder how many miles I've fallen by this time ?  \" she said aloud .  \" I must be getting somewhere near the centre of the earth .   Let me see :   that would be four thousand miles down ,  I think -  -  \"  ( for ,  you see ,  Alice had learnt several things of this sort in her lessons in the schoolroom ,  and though this was not a VERY good opportunity for showing off her knowledge ,  as there was no one to listen to her ,  still it was good practice to say it over )  \"  -  - yes ,  that's about the right distance -  - but then I wonder what Latitude or Longitude I've got to ?  \"   ( Alice had no idea what Latitude was ,  or Longitude either ,  but thought they were nice grand words to say .  ) qwerty  Presently she began again .   \" I wonder if I shall fall right THROUGH the earth !   How funny it'll seem to come out among the people that walk with their heads downward !   The Antipathies ,  I think -  -  \"  ( she was rather glad there WAS no one listening ,  this time ,  as it didn't sound at all the right word )  \"  -  - but I shall have to ask them what the name of the country is ,  you know .  Please ,  Ma'am ,  is this New Zealand or Australia ?  \"  ( and she tried to curtsey as she spoke -  - fancy CURTSEYING as you're falling through the air !   Do you think you could manage it ?  )   \" And what an ignorant little girl she'll think me for asking !   No ,  it'll never do to ask :   perhaps I shall see it written up somewhere . 'qwerty  Down ,  down ,  down .   There was nothing else to do ,  so Alice soon began talking again .   \" Dinah'll miss me very much to - night ,  I should think !  \"   ( Dinah was the cat .  )   \" I hope they'll remember her saucer of milk at tea - time .   Dinah my dear !   I wish you were down here with me !   There are no mice in the air ,  I'm afraid ,  but you might catch a bat ,  and that's very like a mouse ,  you know .  But do cats eat bats ,  I wonder ?  \"  And here Alice began to get rather sleepy ,  and went on saying to herself ,  in a dreamy sort of way ,  \" Do cats eat bats ?   Do cats eat bats ?  \" and sometimes ,  \" Do bats eat cats ?  \" for ,  you see ,  as she couldn't answer either question ,  it didn't much matter which way she put it .   She felt that she was dozing off ,  and had just begun to dream that she was walking hand in hand with Dinah ,  and saying to her very earnestly ,  \" Now ,  Dinah ,  tell me the truth :   did you ever eat a bat ?  \" when suddenly ,  thump !  thump !  down she came upon a heap of sticks and dry leaves ,  and the fall was over . qwerty  Alice was not a bit hurt ,  and she jumped up on to her feet in a moment :   she looked up ,  but it was all dark overhead ;  before her was another long passage ,  and the White Rabbit was still in sight ,  hurrying down it .   There was not a moment to be lost :  away went Alice like the wind ,  and was just in time to hear it say ,  as it turned a corner ,  \" Oh my ears and whiskers ,  how late it's getting !  \"  She was close behind it when she turned the corner ,  but the Rabbit was no longer to be seen :   she found herself in a long ,  low hall ,  which was lit up by a row of lamps hanging from the roof . qwerty  There were doors all round the hall ,  but they were all locked ;  and when Alice had been all the way down one side and up the other ,  trying every door ,  she walked sadly down the middle ,  wondering how she was ever to get out again . qwerty  Suddenly she came upon a little three - legged table ,  all made of solid glass ;  there was nothing on it except a tiny golden key ,  and Alice's first thought was that it might belong to one of the doors of the hall ;  but ,  alas !  either the locks were too large ,  or the key was too small ,  but at any rate it would not open any of them .   However ,  on the second time round ,  she came upon a low curtain she had not noticed before ,  and behind it was a little door about fifteen inches high :   she tried the little golden key in the lock ,  and to her great delight it fitted ! qwerty  Alice opened the door and found that it led into a small passage ,  not much larger than a rat - hole :   she knelt down and looked along the passage into the loveliest garden you ever saw .  How she longed to get out of that dark hall ,  and wander about among those beds of bright flowers and those cool fountains ,  but she could not even get her head through the doorway ;  \" and even if my head would go through ,  \" thought poor Alice ,  \" it would be of very little use without my shoulders .   Oh ,  how I wish I could shut up like a telescope !   I think I could ,  if I only know how to begin .  \"  For ,  you see ,  so many out - of - the - way things had happened lately ,  that Alice had begun to think that very few things indeed were really impossible . qwerty  There seemed to be no use in waiting by the little door ,  so she went back to the table ,  half hoping she might find another key on it ,  or at any rate a book of rules for shutting people up like telescopes :   this time she found a little bottle on it ,   ( `which certainly was not here before ,  \" said Alice ,  )  and round the neck of the bottle was a paper label ,  with the words \" DRINK ME \" beautifully printed on it in large letters . qwerty  It was all very well to say \" Drink me ,  \" but the wise little Alice was not going to do THAT in a hurry .   \" No ,  I'll look first ,  \" she said ,  \" and see whether it's marked  \" poison \"  or not' ;  for she had read several nice little histories about children who had got burnt ,  and eaten up by wild beasts and other unpleasant things ,  all because they WOULD not remember the simple rules their friends had taught them :   such as ,  that a red - hot poker will burn you if you hold it too long ;  and that if you cut your finger VERY deeply with a knife ,  it usually bleeds ;  and she had never forgotten that ,  if you drink much from a bottle marked \" poison ,  \" it is almost certain to disagree with you ,  sooner or later . qwerty  However ,  this bottle was NOT marked \" poison ,  \" so Alice ventured to taste it ,  and finding it very nice ,   ( it had ,  in fact ,  a sort of mixed flavour of cherry - tart ,  custard ,  pine - apple ,  roast turkey ,  toffee ,  and hot buttered toast ,  )  she very soon finished it off . qwerty                                                                    qwerty                                                              qwerty                                                                    qwerty  \" What a curious feeling !  \" said Alice ;  \" I must be shutting up like a telescope . 'qwerty  And so it was indeed :   she was now only ten inches high ,  and her face brightened up at the thought that she was now the right size for going through the little door into that lovely garden .  First ,  however ,  she waited for a few minutes to see if she was going to shrink any further :   she felt a little nervous about this ;  \" for it might end ,  you know ,  \" said Alice to herself ,  \" in my going out altogether ,  like a candle .   I wonder what I should be like then ?  \"  And she tried to fancy what the flame of a candle is like after the candle is blown out ,  for she could not remember ever having seen such a thing . qwerty  After a while ,  finding that nothing more happened ,  she decided on going into the garden at once ;  but ,  alas for poor Alice !  when she got to the door ,  she found she had forgotten the little golden key ,  and when she went back to the table for it ,  she found she could not possibly reach it :   she could see it quite plainly through the glass ,  and she tried her best to climb up one of the legs of the table ,  but it was too slippery ;  and when she had tired herself out with trying ,  the poor little thing sat down and cried . qwerty  \" Come ,  there's no use in crying like that !  \" said Alice to herself ,  rather sharply ;  \" I advise you to leave off this minute !  \" She generally gave herself very good advice ,   ( though she very seldom followed it )  ,  and sometimes she scolded herself so severely as to bring tears into her eyes ;  and once she remembered trying to box her own ears for having cheated herself in a game of croquet she was playing against herself ,  for this curious child was very fond of pretending to be two people .   \" But it's no use now ,  \" thought poor Alice ,  \" to pretend to be two people !   Why ,  there's hardly enough of me left to make ONE respectable person ! 'qwerty  Soon her eye fell on a little glass box that was lying under the table :   she opened it ,  and found in it a very small cake ,  on which the words \" EAT ME \" were beautifully marked in currants .  \" Well ,  I'll eat it ,  \" said Alice ,  \" and if it makes me grow larger ,  I can reach the key ;  and if it makes me grow smaller ,  I can creep under the door ;  so either way I'll get into the garden ,  and I don't care which happens ! 'qwerty  She ate a little bit ,  and said anxiously to herself ,  \" Which way ?   Which way ? ' ,  holding her hand on the top of her head to feel which way it was growing ,  and she was quite surprised to find that she remained the same size :   to be sure ,  this generally happens when one eats cake ,  but Alice had got so much into the way of expecting nothing but out - of - the - way things to happen ,  that it seemed quite dull and stupid for life to go on in the common way . qwerty  So she set to work ,  and very soon finished off the cake . qwerty                                                                    qwerty                                                              qwerty                                                                    qwerty                           CHAPTER IIqwerty                        The Pool of Tearsqwerty  \" Curiouser and curiouser !  \" cried Alice  ( she was so much surprised ,  that for the moment she quite forgot how to speak good English )  ;  \" now I'm opening out like the largest telescope that ever was !   Good - bye ,  feet !  \"  ( for when she looked down at her feet ,  they seemed to be almost out of sight ,  they were getting so far off )  .   \" Oh ,  my poor little feet ,  I wonder who will put on your shoes and stockings for you now ,  dears ?   I'm sure  _ I _  shan't be able !   I shall be a great deal too far off to trouble myself about you :   you must manage the best way you can ;   -  - but I must be kind to them ,  \" thought Alice ,  \" or perhaps they won't walk the way I want to go !   Let me see :   I'll give them a new pair of boots every Christmas . 'qwerty  And she went on planning to herself how she would manage it .  \" They must go by the carrier ,  \" she thought ;  \" and how funny it'll seem ,  sending presents to one's own feet !   And how odd the directions will look ! qwerty            ALICE'S RIGHT FOOT ,  ESQ .                  HEARTHRUG ,                      NEAR THE FENDER ,                           ( WITH ALICE'S LOVE )  . qwertyOh dear ,  what nonsense I'm talking ! 'qwerty  Just then her head struck against the roof of the hall :   in fact she was now more than nine feet high ,  and she at once took up the little golden key and hurried off to the garden door . qwerty  Poor Alice !   It was as much as she could do ,  lying down on one side ,  to look through into the garden with one eye ;  but to get through was more hopeless than ever :   she sat down and began to cry again . qwerty  \" You ought to be ashamed of yourself ,  \" said Alice ,  \" a great girl like you ,  \"  ( she might well say this )  ,  \" to go on crying in this way !   Stop this moment ,  I tell you !  \"  But she went on all the same ,  shedding gallons of tears ,  until there was a large pool all round her ,  about four inches deep and reaching half down the hall . qwerty  After a time she heard a little pattering of feet in the distance ,  and she hastily dried her eyes to see what was coming .  It was the White Rabbit returning ,  splendidly dressed ,  with a pair of white kid gloves in one hand and a large fan in the other :   he came trotting along in a great hurry ,  muttering to himself as he came ,  \" Oh !  the Duchess ,  the Duchess !  Oh !  won't she be savage if I've kept her waiting !  \"  Alice felt so desperate that she was ready to ask help of any one ;  so ,  when the Rabbit came near her ,  she began ,  in a low ,  timid voice ,  \" If you please ,  sir -  -  \"  The Rabbit started violently ,  dropped the white kid gloves and the fan ,  and skurried away into the darkness as hard as he could go . qwerty  Alice took up the fan and gloves ,  and ,  as the hall was very hot ,  she kept fanning herself all the time she went on talking :  \" Dear ,  dear !   How queer everything is to - day !   And yesterday things went on just as usual .   I wonder if I've been changed in the night ?   Let me think :   was I the same when I got up this morning ?   I almost think I can remember feeling a little different .   But if I'm not the same ,  the next question is ,  Who in the world am I ?   Ah ,  THAT'S the great puzzle !  \"  And she began thinking over all the children she knew that were of the same age as herself ,  to see if she could have been changed for any of them . qwerty  \" I'm sure I'm not Ada ,  \" she said ,  \" for her hair goes in such long ringlets ,  and mine doesn't go in ringlets at all ;  and I'm sure I can't be Mabel ,  for I know all sorts of things ,  and she ,  oh !  she knows such a very little !   Besides ,  SHE'S she ,  and I'm I ,  and -  - oh dear ,  how puzzling it all is !   I'll try if I know all the things I used to know .   Let me see :   four times five is twelve ,  and four times six is thirteen ,  and four times seven is -  - oh dear !  I shall never get to twenty at that rate !   However ,  the Multiplication Table doesn't signify :   let's try Geography .  London is the capital of Paris ,  and Paris is the capital of Rome ,  and Rome -  - no ,  THAT'S all wrong ,  I'm certain !   I must have been changed for Mabel !   I'll try and say  \" How doth the little -  -  \"  \" and she crossed her hands on her lap as if she were saying lessons ,  and began to repeat it ,  but her voice sounded hoarse and strange ,  and the words did not come the same as they used to do :  -  - qwerty            \" How doth the little crocodile               Improve his shining tail ,              And pour the waters of the Nile               On every golden scale ! qwerty            \" How cheerfully he seems to grin ,                How neatly spread his claws ,              And welcome little fishes in               With gently smiling jaws ! 'qwerty  \" I'm sure those are not the right words ,  \" said poor Alice ,  and her eyes filled with tears again as she went on ,  \" I must be Mabel after all ,  and I shall have to go and live in that poky little house ,  and have next to no toys to play with ,  and oh !  ever so many lessons to learn !   No ,  I've made up my mind about it ;  if I'm Mabel ,  I'll stay down here !   It'll be no use their putting their heads down and saying  \" Come up again ,  dear !  \"   I shall only look up and say  \" Who am I then ?   Tell me that first ,  and then ,  if I like being that person ,  I'll come up :   if not ,  I'll stay down here till I'm somebody else \"  -  - but ,  oh dear !  \" cried Alice ,  with a sudden burst of tears ,  \" I do wish they WOULD put their heads down !   I am so VERY tired of being all alone here ! 'qwerty  As she said this she looked down at her hands ,  and was surprised to see that she had put on one of the Rabbit's little white kid gloves while she was talking .   \" How CAN I have done that ?  \" she thought .   \" I must be growing small again .  \"  She got up and went to the table to measure herself by it ,  and found that ,  as nearly as she could guess ,  she was now about two feet high ,  and was going on shrinking rapidly :   she soon found out that the cause of this was the fan she was holding ,  and she dropped it hastily ,  just in time to avoid shrinking away altogether . qwerty`That WAS a narrow escape !  \" said Alice ,  a good deal frightened at the sudden change ,  but very glad to find herself still in existence ;  \" and now for the garden !  \" and she ran with all speed back to the little door :   but ,  alas !  the little door was shut again ,  and the little golden key was lying on the glass table as before ,  \" and things are worse than ever ,  \" thought the poor child ,  \" for I never was so small as this before ,  never !   And I declare it's too bad ,  that it is ! 'qwerty  As she said these words her foot slipped ,  and in another moment ,  splash !  she was up to her chin in salt water .   Her first idea was that she had somehow fallen into the sea ,  \" and in that case I can go back by railway ,  \" she said to herself .    ( Alice had been to the seaside once in her life ,  and had come to the general conclusion ,  that wherever you go to on the English coast you find a number of bathing machines in the sea ,  some children digging in the sand with wooden spades ,  then a row of lodging houses ,  and behind them a railway station .  )   However ,  she soon made out that she was in the pool of tears which she had wept when she was nine feet high . qwerty  \" I wish I hadn't cried so much !  \" said Alice ,  as she swam about ,  trying to find her way out .   \" I shall be punished for it now ,  I suppose ,  by being drowned in my own tears !   That WILL be a queer thing ,  to be sure !   However ,  everything is queer to - day . 'qwerty  Just then she heard something splashing about in the pool a little way off ,  and she swam nearer to make out what it was :   at first she thought it must be a walrus or hippopotamus ,  but then she remembered how small she was now ,  and she soon made out that it was only a mouse that had slipped in like herself . qwerty  \" Would it be of any use ,  now ,  \" thought Alice ,  \" to speak to this mouse ?   Everything is so out - of - the - way down here ,  that I should think very likely it can talk :   at any rate ,  there's no harm in trying .  \"  So she began :   \" O Mouse ,  do you know the way out of this pool ?   I am very tired of swimming about here ,  O Mouse !  \"  ( Alice thought this must be the right way of speaking to a mouse :  she had never done such a thing before ,  but she remembered having seen in her brother's Latin Grammar ,  \" A mouse -  - of a mouse -  - to a mouse -  - a mouse -  - O mouse ! ' )   The Mouse looked at her rather inquisitively ,  and seemed to her to wink with one of its little eyes ,  but it said nothing . qwerty  \" Perhaps it doesn't understand English ,  \" thought Alice ;  \" I daresay it's a French mouse ,  come over with William the Conqueror .  \"   ( For ,  with all her knowledge of history ,  Alice had no very clear notion how long ago anything had happened .  )   So she began again :   \" Ou est ma chatte ?  \" which was the first sentence in her French lesson - book .   The Mouse gave a sudden leap out of the water ,  and seemed to quiver all over with fright .   \" Oh ,  I beg your pardon !  \" cried Alice hastily ,  afraid that she had hurt the poor animal's feelings .   \" I quite forgot you didn't like cats . 'qwerty  \" Not like cats !  \" cried the Mouse ,  in a shrill ,  passionate voice .   \" Would YOU like cats if you were me ? 'qwerty  \" Well ,  perhaps not ,  \" said Alice in a soothing tone :   \" don't be angry about it .   And yet I wish I could show you our cat Dinah :  I think you'd take a fancy to cats if you could only see her .  She is such a dear quiet thing ,  \" Alice went on ,  half to herself ,  as she swam lazily about in the pool ,  \" and she sits purring so nicely by the fire ,  licking her paws and washing her face -  - and she is such a nice soft thing to nurse -  - and she's such a capital one for catching mice -  - oh ,  I beg your pardon !  \" cried Alice again ,  for this time the Mouse was bristling all over ,  and she felt certain it must be really offended .   \" We won't talk about her any more if you'd rather not . 'qwerty  \" We indeed !  \" cried the Mouse ,  who was trembling down to the end of his tail .   \" As if I would talk on such a subject !   Our family always HATED cats :   nasty ,  low ,  vulgar things !   Don't let me hear the name again ! 'qwerty  \" I won't indeed !  \" said Alice ,  in a great hurry to change the subject of conversation .   \" Are you -  - are you fond -  - of -  - of dogs ?  \" The Mouse did not answer ,  so Alice went on eagerly :   \" There is such a nice little dog near our house I should like to show you !  A little bright - eyed terrier ,  you know ,  with oh ,  such long curly brown hair !   And it'll fetch things when you throw them ,  and it'll sit up and beg for its dinner ,  and all sorts of things -  - I can't remember half of them -  - and it belongs to a farmer ,  you know ,  and he says it's so useful ,  it's worth a hundred pounds !  He says it kills all the rats and -  - oh dear !  \" cried Alice in a sorrowful tone ,  \" I'm afraid I've offended it again !  \"  For the Mouse was swimming away from her as hard as it could go ,  and making quite a commotion in the pool as it went . qwerty  So she called softly after it ,  \" Mouse dear !   Do come back again ,  and we won't talk about cats or dogs either ,  if you don't like them !  \"  When the Mouse heard this ,  it turned round and swam slowly back to her :   its face was quite pale  ( with passion ,  Alice thought )  ,  and it said in a low trembling voice ,  \" Let us get to the shore ,  and then I'll tell you my history ,  and you'll understand why it is I hate cats and dogs . 'qwerty  It was high time to go ,  for the pool was getting quite crowded with the birds and animals that had fallen into it :   there were a Duck and a Dodo ,  a Lory and an Eaglet ,  and several other curious creatures .   Alice led the way ,  and the whole party swam to the shore . qwerty                           CHAPTER IIIqwerty                  A Caucus - Race and a Long Taleqwerty  They were indeed a queer - looking party that assembled on the bank -  - the birds with draggled feathers ,  the animals with their fur clinging close to them ,  and all dripping wet ,  cross ,  and uncomfortable . qwerty  The first question of course was ,  how to get dry again :   they had a consultation about this ,  and after a few minutes it seemed quite natural to Alice to find herself talking familiarly with them ,  as if she had known them all her life .   Indeed ,  she had quite a long argument with the Lory ,  who at last turned sulky ,  and would only say ,  \" I am older than you ,  and must know better' ;  and this Alice would not allow without knowing how old it was ,  and ,  as the Lory positively refused to tell its age ,  there was no more to be said . qwerty  At last the Mouse ,  who seemed to be a person of authority among them ,  called out ,  \" Sit down ,  all of you ,  and listen to me !   I'LL soon make you dry enough !  \"  They all sat down at once ,  in a large ring ,  with the Mouse in the middle .   Alice kept her eyes anxiously fixed on it ,  for she felt sure she would catch a bad cold if she did not get dry very soon . qwerty  \" Ahem !  \" said the Mouse with an important air ,  \" are you all ready ?  This is the driest thing I know .   Silence all round ,  if you please !   \" William the Conqueror ,  whose cause was favoured by the pope ,  was soon submitted to by the English ,  who wanted leaders ,  and had been of late much accustomed to usurpation and conquest .   Edwin and Morcar ,  the earls of Mercia and Northumbria -  -  \" 'qwerty  \" Ugh !  \" said the Lory ,  with a shiver . qwerty  \" I beg your pardon !  \" said the Mouse ,  frowning ,  but very politely :   \" Did you speak ? 'qwerty  \" Not I !  \" said the Lory hastily . qwerty  \" I thought you did ,  \" said the Mouse .   \"  -  - I proceed .    \" Edwin and Morcar ,  the earls of Mercia and Northumbria ,  declared for him :  and even Stigand ,  the patriotic archbishop of Canterbury ,  found it advisable -  -  \" 'qwerty  \" Found WHAT ?  \" said the Duck . qwerty  \" Found IT ,  \" the Mouse replied rather crossly :   \" of course you know what  \" it \"  means . 'qwerty  \" I know what  \" it \"  means well enough ,  when I find a thing ,  \" said the Duck :   \" it's generally a frog or a worm .   The question is ,  what did the archbishop find ? 'qwerty  The Mouse did not notice this question ,  but hurriedly went on ,  \"  \"  -  - found it advisable to go with Edgar Atheling to meet William and offer him the crown .   William's conduct at first was moderate .   But the insolence of his Normans -  -  \"   How are you getting on now ,  my dear ?  \" it continued ,  turning to Alice as it spoke . qwerty  \" As wet as ever ,  \" said Alice in a melancholy tone :   \" it doesn't seem to dry me at all . 'qwerty  \" In that case ,  \" said the Dodo solemnly ,  rising to its feet ,  \" I move that the meeting adjourn ,  for the immediate adoption of more energetic remedies -  - 'qwerty  \" Speak English !  \" said the Eaglet .   \" I don't know the meaning of half those long words ,  and ,  what's more ,  I don't believe you do either !  \"  And the Eaglet bent down its head to hide a smile :  some of the other birds tittered audibly . qwerty  \" What I was going to say ,  \" said the Dodo in an offended tone ,  \" was ,  that the best thing to get us dry would be a Caucus - race . 'qwerty  \" What IS a Caucus - race ?  \" said Alice ;  not that she wanted much to know ,  but the Dodo had paused as if it thought that SOMEBODY ought to speak ,  and no one else seemed inclined to say anything . qwerty  \" Why ,  \" said the Dodo ,  \" the best way to explain it is to do it .  \"  ( And ,  as you might like to try the thing yourself ,  some winter day ,  I will tell you how the Dodo managed it .  ) qwerty  First it marked out a race - course ,  in a sort of circle ,   ( `the exact shape doesn't matter ,  \" it said ,  )  and then all the party were placed along the course ,  here and there .   There was no \" One ,  two ,  three ,  and away ,  \" but they began running when they liked ,  and left off when they liked ,  so that it was not easy to know when the race was over .   However ,  when they had been running half an hour or so ,  and were quite dry again ,  the Dodo suddenly called out \" The race is over !  \" and they all crowded round it ,  panting ,  and asking ,  \" But who has won ? 'qwerty  This question the Dodo could not answer without a great deal of thought ,  and it sat for a long time with one finger pressed upon its forehead  ( the position in which you usually see Shakespeare ,  in the pictures of him )  ,  while the rest waited in silence .   At last the Dodo said ,  \" EVERYBODY has won ,  and all must have prizes . 'qwerty  \" But who is to give the prizes ?  \" quite a chorus of voices asked . qwerty  \" Why ,  SHE ,  of course ,  \" said the Dodo ,  pointing to Alice with one finger ;  and the whole party at once crowded round her ,  calling out in a confused way ,  \" Prizes !  Prizes ! 'qwerty  Alice had no idea what to do ,  and in despair she put her hand in her pocket ,  and pulled out a box of comfits ,   ( luckily the salt water had not got into it )  ,  and handed them round as prizes .  There was exactly one a - piece all round . qwerty  \" But she must have a prize herself ,  you know ,  \" said the Mouse . qwerty  \" Of course ,  \" the Dodo replied very gravely .   \" What else have you got in your pocket ?  \" he went on ,  turning to Alice . qwerty  \" Only a thimble ,  \" said Alice sadly . qwerty  \" Hand it over here ,  \" said the Dodo . qwerty  Then they all crowded round her once more ,  while the Dodo solemnly presented the thimble ,  saying \" We beg your acceptance of this elegant thimble' ;  and ,  when it had finished this short speech ,  they all cheered . qwerty  Alice thought the whole thing very absurd ,  but they all looked so grave that she did not dare to laugh ;  and ,  as she could not think of anything to say ,  she simply bowed ,  and took the thimble ,  looking as solemn as she could . qwerty  The next thing was to eat the comfits :   this caused some noise and confusion ,  as the large birds complained that they could not taste theirs ,  and the small ones choked and had to be patted on the back .   However ,  it was over at last ,  and they sat down again in a ring ,  and begged the Mouse to tell them something more . qwerty  \" You promised to tell me your history ,  you know ,  \" said Alice ,  \" and why it is you hate -  - C and D ,  \" she added in a whisper ,  half afraid that it would be offended again . qwerty  \" Mine is a long and a sad tale !  \" said the Mouse ,  turning to Alice ,  and sighing . qwerty  \" It IS a long tail ,  certainly ,  \" said Alice ,  looking down with wonder at the Mouse's tail ;  \" but why do you call it sad ?  \"  And she kept on puzzling about it while the Mouse was speaking ,  so that her idea of the tale was something like this :  -  - qwerty                    \" Fury said to a                    mouse ,  That he                  met in the                house ,               \" Let us               both go to                 law :   I will                   prosecute                     YOU .    -  - Come ,                         I'll take no                         denial ;  We                      must have a                  trial :   For               really this            morning I've           nothing          to do .  \"             Said the              mouse to the                cur ,   \" Such                  a trial ,                     dear Sir ,                           With                      no jury                   or judge ,                  would be               wasting              our               breath .  \"                  \" I'll be                  judge ,  I'll                    be jury ,  \"                           Said                     cunning                       old Fury :                        \" I'll                       try the                          whole                           cause ,                               and                         condemn                        you                       to                        death .  \" 'qwerty  \" You are not attending !  \" said the Mouse to Alice severely .  \" What are you thinking of ? 'qwerty  \" I beg your pardon ,  \" said Alice very humbly :   \" you had got to the fifth bend ,  I think ? 'qwerty  \" I had NOT !  \" cried the Mouse ,  sharply and very angrily . qwerty  \" A knot !  \" said Alice ,  always ready to make herself useful ,  and looking anxiously about her .   \" Oh ,  do let me help to undo it ! 'qwerty  \" I shall do nothing of the sort ,  \" said the Mouse ,  getting up and walking away .   \" You insult me by talking such nonsense ! 'qwerty  \" I didn't mean it !  \" pleaded poor Alice .   \" But you're so easily offended ,  you know ! 'qwerty  The Mouse only growled in reply . qwerty  \" Please come back and finish your story !  \" Alice called after it ;  and the others all joined in chorus ,  \" Yes ,  please do !  \" but the Mouse only shook its head impatiently ,  and walked a little quicker . qwerty  \" What a pity it wouldn't stay !  \" sighed the Lory ,  as soon as it was quite out of sight ;  and an old Crab took the opportunity of saying to her daughter \" Ah ,  my dear !   Let this be a lesson to you never to lose YOUR temper !  \"  \" Hold your tongue ,  Ma !  \" said the young Crab ,  a little snappishly .   \" You're enough to try the patience of an oyster ! 'qwerty  \" I wish I had our Dinah here ,  I know I do !  \" said Alice aloud ,  addressing nobody in particular .   \" She'd soon fetch it back ! 'qwerty  \" And who is Dinah ,  if I might venture to ask the question ?  \" said the Lory . qwerty  Alice replied eagerly ,  for she was always ready to talk about her pet :   \" Dinah's our cat .   And she's such a capital one for catching mice you can't think !   And oh ,  I wish you could see her after the birds !   Why ,  she'll eat a little bird as soon as look at it ! 'qwerty  This speech caused a remarkable sensation among the party .  Some of the birds hurried off at once :   one old Magpie began wrapping itself up very carefully ,  remarking ,  \" I really must be getting home ;  the night - air doesn't suit my throat !  \" and a Canary called out in a trembling voice to its children ,  \" Come away ,  my dears !   It's high time you were all in bed !  \"  On various pretexts they all moved off ,  and Alice was soon left alone . qwerty  \" I wish I hadn't mentioned Dinah !  \" she said to herself in a melancholy tone .   \" Nobody seems to like her ,  down here ,  and I'm sure she's the best cat in the world !   Oh ,  my dear Dinah !   I wonder if I shall ever see you any more !  \"  And here poor Alice began to cry again ,  for she felt very lonely and low - spirited .  In a little while ,  however ,  she again heard a little pattering of footsteps in the distance ,  and she looked up eagerly ,  half hoping that the Mouse had changed his mind ,  and was coming back to finish his story . qwerty                           CHAPTER IVqwerty                The Rabbit Sends in a Little Billqwerty  It was the White Rabbit ,  trotting slowly back again ,  and looking anxiously about as it went ,  as if it had lost something ;  and she heard it muttering to itself \" The Duchess !   The Duchess !  Oh my dear paws !   Oh my fur and whiskers !   She'll get me executed ,  as sure as ferrets are ferrets !   Where CAN I have dropped them ,  I wonder ?  \"  Alice guessed in a moment that it was looking for the fan and the pair of white kid gloves ,  and she very good - naturedly began hunting about for them ,  but they were nowhere to be seen -  - everything seemed to have changed since her swim in the pool ,  and the great hall ,  with the glass table and the little door ,  had vanished completely . qwerty  Very soon the Rabbit noticed Alice ,  as she went hunting about ,  and called out to her in an angry tone ,  \" Why ,  Mary Ann ,  what ARE you doing out here ?   Run home this moment ,  and fetch me a pair of gloves and a fan !   Quick ,  now !  \"  And Alice was so much frightened that she ran off at once in the direction it pointed to ,  without trying to explain the mistake it had made . qwerty  \" He took me for his housemaid ,  \" she said to herself as she ran .  \" How surprised he'll be when he finds out who I am !   But I'd better take him his fan and gloves -  - that is ,  if I can find them .  \" As she said this ,  she came upon a neat little house ,  on the door of which was a bright brass plate with the name \" W .  RABBIT \" engraved upon it .   She went in without knocking ,  and hurried upstairs ,  in great fear lest she should meet the real Mary Ann ,  and be turned out of the house before she had found the fan and gloves . qwerty  \" How queer it seems ,  \" Alice said to herself ,  \" to be going messages for a rabbit !   I suppose Dinah'll be sending me on messages next !  \"  And she began fancying the sort of thing that would happen :   \"  \" Miss Alice !   Come here directly ,  and get ready for your walk !  \"   \" Coming in a minute ,  nurse !   But I've got to see that the mouse doesn't get out .  \"   Only I don't think ,  \" Alice went on ,  \" that they'd let Dinah stop in the house if it began ordering people about like that ! 'qwerty  By this time she had found her way into a tidy little room with a table in the window ,  and on it  ( as she had hoped )  a fan and two or three pairs of tiny white kid gloves :   she took up the fan and a pair of the gloves ,  and was just going to leave the room ,  when her eye fell upon a little bottle that stood near the looking -  glass .   There was no label this time with the words \" DRINK ME ,  \" but nevertheless she uncorked it and put it to her lips .   \" I know SOMETHING interesting is sure to happen ,  \" she said to herself ,  \" whenever I eat or drink anything ;  so I'll just see what this bottle does .   I do hope it'll make me grow large again ,  for really I'm quite tired of being such a tiny little thing ! 'qwerty  It did so indeed ,  and much sooner than she had expected :  before she had drunk half the bottle ,  she found her head pressing against the ceiling ,  and had to stoop to save her neck from being broken .   She hastily put down the bottle ,  saying to herself \" That's quite enough -  - I hope I shan't grow any more -  - As it is ,  I can't get out at the door -  - I do wish I hadn't drunk quite so much ! 'qwerty  Alas !  it was too late to wish that !   She went on growing ,  and growing ,  and very soon had to kneel down on the floor :   in another minute there was not even room for this ,  and she tried the effect of lying down with one elbow against the door ,  and the other arm curled round her head .   Still she went on growing ,  and ,  as a last resource ,  she put one arm out of the window ,  and one foot up the chimney ,  and said to herself \" Now I can do no more ,  whatever happens .   What WILL become of me ? 'qwerty  Luckily for Alice ,  the little magic bottle had now had its full effect ,  and she grew no larger :   still it was very uncomfortable ,  and ,  as there seemed to be no sort of chance of her ever getting out of the room again ,  no wonder she felt unhappy . qwerty  \" It was much pleasanter at home ,  \" thought poor Alice ,  \" when one wasn't always growing larger and smaller ,  and being ordered about by mice and rabbits .   I almost wish I hadn't gone down that rabbit - hole -  - and yet -  - and yet -  - it's rather curious ,  you know ,  this sort of life !   I do wonder what CAN have happened to me !  When I used to read fairy - tales ,  I fancied that kind of thing never happened ,  and now here I am in the middle of one !   There ought to be a book written about me ,  that there ought !   And when I grow up ,  I'll write one -  - but I'm grown up now ,  \" she added in a sorrowful tone ;  \" at least there's no room to grow up any more HERE . 'qwerty  \" But then ,  \" thought Alice ,  \" shall I NEVER get any older than I am now ?   That'll be a comfort ,  one way -  - never to be an old woman -  -  but then -  - always to have lessons to learn !   Oh ,  I shouldn't like THAT ! 'qwerty  \" Oh ,  you foolish Alice !  \" she answered herself .   \" How can you learn lessons in here ?   Why ,  there's hardly room for YOU ,  and no room at all for any lesson - books ! 'qwerty  And so she went on ,  taking first one side and then the other ,  and making quite a conversation of it altogether ;  but after a few minutes she heard a voice outside ,  and stopped to listen . qwerty  \" Mary Ann !   Mary Ann !  \" said the voice .   \" Fetch me my gloves this moment !  \"  Then came a little pattering of feet on the stairs .   Alice knew it was the Rabbit coming to look for her ,  and she trembled till she shook the house ,  quite forgetting that she was now about a thousand times as large as the Rabbit ,  and had no reason to be afraid of it . qwerty  Presently the Rabbit came up to the door ,  and tried to open it ;  but ,  as the door opened inwards ,  and Alice's elbow was pressed hard against it ,  that attempt proved a failure .   Alice heard it say to itself \" Then I'll go round and get in at the window . 'qwerty  \" THAT you won't \" thought Alice ,  and ,  after waiting till she fancied she heard the Rabbit just under the window ,  she suddenly spread out her hand ,  and made a snatch in the air .   She did not get hold of anything ,  but she heard a little shriek and a fall ,  and a crash of broken glass ,  from which she concluded that it was just possible it had fallen into a cucumber - frame ,  or something of the sort . qwerty  Next came an angry voice -  - the Rabbit's -  - `Pat !  Pat !   Where are you ?  \"  And then a voice she had never heard before ,  \" Sure then I'm here !   Digging for apples ,  yer honour ! 'qwerty  \" Digging for apples ,  indeed !  \" said the Rabbit angrily .   \" Here !  Come and help me out of THIS !  \"   ( Sounds of more broken glass .  ) qwerty  \" Now tell me ,  Pat ,  what's that in the window ? 'qwerty  \" Sure ,  it's an arm ,  yer honour !  \"   ( He pronounced it \" arrum . ' ) qwerty  \" An arm ,  you goose !    Who ever saw one that size ?   Why ,  it fills the whole window ! 'qwerty  \" Sure ,  it does ,  yer honour :   but it's an arm for all that . 'qwerty  \" Well ,  it's got no business there ,  at any rate :   go and take it away ! 'qwerty  There was a long silence after this ,  and Alice could only hear whispers now and then ;  such as ,  \" Sure ,  I don't like it ,  yer honour ,  at all ,  at all !  \"  \" Do as I tell you ,  you coward !  \" and at last she spread out her hand again ,  and made another snatch in the air .   This time there were TWO little shrieks ,  and more sounds of broken glass .   \" What a number of cucumber - frames there must be !  \" thought Alice .   \" I wonder what they'll do next !   As for pulling me out of the window ,  I only wish they COULD !   I'm sure I don't want to stay in here any longer ! 'qwerty  She waited for some time without hearing anything more :   at last came a rumbling of little cartwheels ,  and the sound of a good many voices all talking together :   she made out the words :  \" Where's the other ladder ?  -  - Why ,  I hadn't to bring but one ;  Bill's got the other -  - Bill !  fetch it here ,  lad !  -  - Here ,  put \" em up at this corner -  - No ,  tie \" em together first -  - they don't reach half high enough yet -  - Oh !  they'll do well enough ;  don't be particular -  -  Here ,  Bill !  catch hold of this rope -  - Will the roof bear ?  -  - Mind that loose slate -  - Oh ,  it's coming down !   Heads below !  \"  ( a loud crash )  -  - `Now ,  who did that ?  -  - It was Bill ,  I fancy -  - Who's to go down the chimney ?  -  - Nay ,  I shan't !  YOU do it !  -  - That I won't ,  then !  -  - Bill's to go down -  - Here ,  Bill !  the master says you're to go down the chimney ! 'qwerty  \" Oh !  So Bill's got to come down the chimney ,  has he ?  \" said Alice to herself .   \" Shy ,  they seem to put everything upon Bill !  I wouldn't be in Bill's place for a good deal :   this fireplace is narrow ,  to be sure ;  but I THINK I can kick a little ! 'qwerty  She drew her foot as far down the chimney as she could ,  and waited till she heard a little animal  ( she couldn't guess of what sort it was )  scratching and scrambling about in the chimney close above her :   then ,  saying to herself \" This is Bill ,  \" she gave one sharp kick ,  and waited to see what would happen next . qwerty  The first thing she heard was a general chorus of \" There goes Bill !  \" then the Rabbit's voice along -  - `Catch him ,  you by the hedge !  \" then silence ,  and then another confusion of voices -  - `Hold up his head -  - Brandy now -  - Don't choke him -  - How was it ,  old fellow ?  What happened to you ?   Tell us all about it ! 'qwerty  Last came a little feeble ,  squeaking voice ,   ( `That's Bill ,  \" thought Alice ,  )  \" Well ,  I hardly know -  - No more ,  thank ye ;  I'm better now -  - but I'm a deal too flustered to tell you -  - all I know is ,  something comes at me like a Jack - in - the - box ,  and up I goes like a sky - rocket ! 'qwerty  \" So you did ,  old fellow !  \" said the others . qwerty  \" We must burn the house down !  \" said the Rabbit's voice ;  and Alice called out as loud as she could ,  \" If you do .   I'll set Dinah at you ! 'qwerty  There was a dead silence instantly ,  and Alice thought to herself ,  \" I wonder what they WILL do next !   If they had any sense ,  they'd take the roof off .  \"  After a minute or two ,  they began moving about again ,  and Alice heard the Rabbit say ,  \" A barrowful will do ,  to begin with . 'qwerty  \" A barrowful of WHAT ?  \" thought Alice ;  but she had not long to doubt ,  for the next moment a shower of little pebbles came rattling in at the window ,  and some of them hit her in the face .  \" I'll put a stop to this ,  \" she said to herself ,  and shouted out ,  \" You'd better not do that again !  \" which produced another dead silence . qwerty  Alice noticed with some surprise that the pebbles were all turning into little cakes as they lay on the floor ,  and a bright idea came into her head .   \" If I eat one of these cakes ,  \" she thought ,  \" it's sure to make SOME change in my size ;  and as it can't possibly make me larger ,  it must make me smaller ,  I suppose . 'qwerty  So she swallowed one of the cakes ,  and was delighted to find that she began shrinking directly .   As soon as she was small enough to get through the door ,  she ran out of the house ,  and found quite a crowd of little animals and birds waiting outside .  The poor little Lizard ,  Bill ,  was in the middle ,  being held up by two guinea - pigs ,  who were giving it something out of a bottle .  They all made a rush at Alice the moment she appeared ;  but she ran off as hard as she could ,  and soon found herself safe in a thick wood . qwerty  \" The first thing I've got to do ,  \" said Alice to herself ,  as she wandered about in the wood ,  \" is to grow to my right size again ;  and the second thing is to find my way into that lovely garden .  I think that will be the best plan . 'qwerty  It sounded an excellent plan ,  no doubt ,  and very neatly and simply arranged ;  the only difficulty was ,  that she had not the smallest idea how to set about it ;  and while she was peering about anxiously among the trees ,  a little sharp bark just over her head made her look up in a great hurry . qwerty  An enormous puppy was looking down at her with large round eyes ,  and feebly stretching out one paw ,  trying to touch her .  \" Poor little thing !  \" said Alice ,  in a coaxing tone ,  and she tried hard to whistle to it ;  but she was terribly frightened all the time at the thought that it might be hungry ,  in which case it would be very likely to eat her up in spite of all her coaxing . qwerty  Hardly knowing what she did ,  she picked up a little bit of stick ,  and held it out to the puppy ;  whereupon the puppy jumped into the air off all its feet at once ,  with a yelp of delight ,  and rushed at the stick ,  and made believe to worry it ;  then Alice dodged behind a great thistle ,  to keep herself from being run over ;  and the moment she appeared on the other side ,  the puppy made another rush at the stick ,  and tumbled head over heels in its hurry to get hold of it ;  then Alice ,  thinking it was very like having a game of play with a cart - horse ,  and expecting every moment to be trampled under its feet ,  ran round the thistle again ;  then the puppy began a series of short charges at the stick ,  running a very little way forwards each time and a long way back ,  and barking hoarsely all the while ,  till at last it sat down a good way off ,  panting ,  with its tongue hanging out of its mouth ,  and its great eyes half shut . qwerty  This seemed to Alice a good opportunity for making her escape ;  so she set off at once ,  and ran till she was quite tired and out of breath ,  and till the puppy's bark sounded quite faint in the distance . qwerty  \" And yet what a dear little puppy it was !  \" said Alice ,  as she leant against a buttercup to rest herself ,  and fanned herself with one of the leaves :   \" I should have liked teaching it tricks very much ,  if -  - if I'd only been the right size to do it !   Oh dear !   I'd nearly forgotten that I've got to grow up again !   Let me see -  - how IS it to be managed ?   I suppose I ought to eat or drink something or other ;  but the great question is ,  what ? 'qwerty  The great question certainly was ,  what ?   Alice looked all round her at the flowers and the blades of grass ,  but she did not see anything that looked like the right thing to eat or drink under the circumstances .   There was a large mushroom growing near her ,  about the same height as herself ;  and when she had looked under it ,  and on both sides of it ,  and behind it ,  it occurred to her that she might as well look and see what was on the top of it . qwerty  She stretched herself up on tiptoe ,  and peeped over the edge of the mushroom ,  and her eyes immediately met those of a large caterpillar ,  that was sitting on the top with its arms folded ,  quietly smoking a long hookah ,  and taking not the smallest notice of her or of anything else . qwerty                            CHAPTER Vqwerty                    Advice from a Caterpillarqwerty  The Caterpillar and Alice looked at each other for some time in silence :   at last the Caterpillar took the hookah out of its mouth ,  and addressed her in a languid ,  sleepy voice . qwerty  \" Who are YOU ?  \" said the Caterpillar . qwerty  This was not an encouraging opening for a conversation .   Alice replied ,  rather shyly ,  \" I -  - I hardly know ,  sir ,  just at present -  -  at least I know who I WAS when I got up this morning ,  but I think I must have been changed several times since then . 'qwerty  \" What do you mean by that ?  \" said the Caterpillar sternly .  \" Explain yourself ! 'qwerty  \" I can't explain MYSELF ,  I'm afraid ,  sir \" said Alice ,  \" because I'm not myself ,  you see . 'qwerty  \" I don't see ,  \" said the Caterpillar . qwerty  \" I'm afraid I can't put it more clearly ,  \" Alice replied very politely ,  \" for I can't understand it myself to begin with ;  and being so many different sizes in a day is very confusing . 'qwerty  \" It isn't ,  \" said the Caterpillar . qwerty  \" Well ,  perhaps you haven't found it so yet ,  \" said Alice ;  \" but when you have to turn into a chrysalis -  - you will some day ,  you know -  - and then after that into a butterfly ,  I should think you'll feel it a little queer ,  won't you ? 'qwerty  \" Not a bit ,  \" said the Caterpillar . qwerty  \" Well ,  perhaps your feelings may be different ,  \" said Alice ;  \" all I know is ,  it would feel very queer to ME . 'qwerty  \" You !  \" said the Caterpillar contemptuously .   \" Who are YOU ? 'qwerty  Which brought them back again to the beginning of the conversation .   Alice felt a little irritated at the Caterpillar's making such VERY short remarks ,  and she drew herself up and said ,  very gravely ,  \" I think ,  you ought to tell me who YOU are ,  first . 'qwerty  \" Why ?  \" said the Caterpillar . qwerty  Here was another puzzling question ;  and as Alice could not think of any good reason ,  and as the Caterpillar seemed to be in a VERY unpleasant state of mind ,  she turned away . qwerty  \" Come back !  \" the Caterpillar called after her .   \" I've something important to say ! 'qwerty  This sounded promising ,  certainly :   Alice turned and came back again . qwerty  \" Keep your temper ,  \" said the Caterpillar . qwerty  \" Is that all ?  \" said Alice ,  swallowing down her anger as well as she could . qwerty  \" No ,  \" said the Caterpillar . qwerty  Alice thought she might as well wait ,  as she had nothing else to do ,  and perhaps after all it might tell her something worth hearing .   For some minutes it puffed away without speaking ,  but at last it unfolded its arms ,  took the hookah out of its mouth again ,  and said ,  \" So you think you're changed ,  do you ? 'qwerty  \" I'm afraid I am ,  sir ,  \" said Alice ;  \" I can't remember things as I used -  - and I don't keep the same size for ten minutes together ! 'qwerty  \" Can't remember WHAT things ?  \" said the Caterpillar . qwerty  \" Well ,  I've tried to say  \" HOW DOTH THE LITTLE BUSY BEE ,  \"  but it all came different !  \" Alice replied in a very melancholy voice . qwerty  \" Repeat ,   \" YOU ARE OLD ,  FATHER WILLIAM ,  \"  \" said the Caterpillar . qwerty  Alice folded her hands ,  and began :  -  - qwerty    \" You are old ,  Father William ,  \" the young man said ,        \" And your hair has become very white ;      And yet you incessantly stand on your head -  -        Do you think ,  at your age ,  it is right ? 'qwerty    \" In my youth ,  \" Father William replied to his son ,        \" I feared it might injure the brain ;      But ,  now that I'm perfectly sure I have none ,        Why ,  I do it again and again . 'qwerty    \" You are old ,  \" said the youth ,  \" as I mentioned before ,        And have grown most uncommonly fat ;      Yet you turned a back - somersault in at the door -  -        Pray ,  what is the reason of that ? 'qwerty    \" In my youth ,  \" said the sage ,  as he shook his grey locks ,        \" I kept all my limbs very supple     By the use of this ointment -  - one shilling the box -  -        Allow me to sell you a couple ? 'qwerty    \" You are old ,  \" said the youth ,  \" and your jaws are too weak       For anything tougher than suet ;      Yet you finished the goose ,  with the bones and the beak -  -        Pray how did you manage to do it ? 'qwerty    \" In my youth ,  \" said his father ,  \" I took to the law ,        And argued each case with my wife ;      And the muscular strength ,  which it gave to my jaw ,        Has lasted the rest of my life . 'qwerty    \" You are old ,  \" said the youth ,  \" one would hardly suppose       That your eye was as steady as ever ;      Yet you balanced an eel on the end of your nose -  -        What made you so awfully clever ? 'qwerty    \" I have answered three questions ,  and that is enough ,  \"       Said his father ;  \" don't give yourself airs !      Do you think I can listen all day to such stuff ?        Be off ,  or I'll kick you down stairs ! 'qwerty  \" That is not said right ,  \" said the Caterpillar . qwerty  \" Not QUITE right ,  I'm afraid ,  \" said Alice ,  timidly ;  \" some of the words have got altered . 'qwerty  \" It is wrong from beginning to end ,  \" said the Caterpillar decidedly ,  and there was silence for some minutes . qwerty  The Caterpillar was the first to speak . qwerty  \" What size do you want to be ?  \" it asked . qwerty  \" Oh ,  I'm not particular as to size ,  \" Alice hastily replied ;  \" only one doesn't like changing so often ,  you know . 'qwerty  \" I DON'T know ,  \" said the Caterpillar . qwerty  Alice said nothing :   she had never been so much contradicted in her life before ,  and she felt that she was losing her temper . qwerty  \" Are you content now ?  \" said the Caterpillar . qwerty  \" Well ,  I should like to be a LITTLE larger ,  sir ,  if you wouldn't mind ,  \" said Alice :   \" three inches is such a wretched height to be . 'qwerty  \" It is a very good height indeed !  \" said the Caterpillar angrily ,  rearing itself upright as it spoke  ( it was exactly three inches high )  . qwerty  \" But I'm not used to it !  \" pleaded poor Alice in a piteous tone .  And she thought of herself ,  \" I wish the creatures wouldn't be so easily offended ! 'qwerty  \" You'll get used to it in time ,  \" said the Caterpillar ;  and it put the hookah into its mouth and began smoking again . qwerty  This time Alice waited patiently until it chose to speak again .  In a minute or two the Caterpillar took the hookah out of its mouth and yawned once or twice ,  and shook itself .   Then it got down off the mushroom ,  and crawled away in the grass ,  merely remarking as it went ,  \" One side will make you grow taller ,  and the other side will make you grow shorter . 'qwerty  \" One side of WHAT ?   The other side of WHAT ?  \" thought Alice to herself . qwerty  \" Of the mushroom ,  \" said the Caterpillar ,  just as if she had asked it aloud ;  and in another moment it was out of sight . qwerty  Alice remained looking thoughtfully at the mushroom for a minute ,  trying to make out which were the two sides of it ;  and as it was perfectly round ,  she found this a very difficult question .  However ,  at last she stretched her arms round it as far as they would go ,  and broke off a bit of the edge with each hand . qwerty  \" And now which is which ?  \" she said to herself ,  and nibbled a little of the right - hand bit to try the effect :   the next moment she felt a violent blow underneath her chin :   it had struck her foot ! qwerty  She was a good deal frightened by this very sudden change ,  but she felt that there was no time to be lost ,  as she was shrinking rapidly ;  so she set to work at once to eat some of the other bit .  Her chin was pressed so closely against her foot ,  that there was hardly room to open her mouth ;  but she did it at last ,  and managed to swallow a morsel of the lefthand bit . qwerty                                                                    qwerty                                                              qwerty                                                                    qwerty  \" Come ,  my head's free at last !  \" said Alice in a tone of delight ,  which changed into alarm in another moment ,  when she found that her shoulders were nowhere to be found :   all she could see ,  when she looked down ,  was an immense length of neck ,  which seemed to rise like a stalk out of a sea of green leaves that lay far below her . qwerty  \" What CAN all that green stuff be ?  \" said Alice .   \" And where HAVE my shoulders got to ?   And oh ,  my poor hands ,  how is it I can't see you ?  \"  She was moving them about as she spoke ,  but no result seemed to follow ,  except a little shaking among the distant green leaves . qwerty  As there seemed to be no chance of getting her hands up to her head ,  she tried to get her head down to them ,  and was delighted to find that her neck would bend about easily in any direction ,  like a serpent .   She had just succeeded in curving it down into a graceful zigzag ,  and was going to dive in among the leaves ,  which she found to be nothing but the tops of the trees under which she had been wandering ,  when a sharp hiss made her draw back in a hurry :   a large pigeon had flown into her face ,  and was beating her violently with its wings . qwerty  \" Serpent !  \" screamed the Pigeon . qwerty  \" I'm NOT a serpent !  \" said Alice indignantly .   \" Let me alone ! 'qwerty  \" Serpent ,  I say again !  \" repeated the Pigeon ,  but in a more subdued tone ,  and added with a kind of sob ,  \" I've tried every way ,  and nothing seems to suit them ! 'qwerty  \" I haven't the least idea what you're talking about ,  \" said Alice . qwerty  \" I've tried the roots of trees ,  and I've tried banks ,  and I've tried hedges ,  \" the Pigeon went on ,  without attending to her ;  \" but those serpents !   There's no pleasing them ! 'qwerty  Alice was more and more puzzled ,  but she thought there was no use in saying anything more till the Pigeon had finished . qwerty  \" As if it wasn't trouble enough hatching the eggs ,  \" said the Pigeon ;  \" but I must be on the look - out for serpents night and day !   Why ,  I haven't had a wink of sleep these three weeks ! 'qwerty  \" I'm very sorry you've been annoyed ,  \" said Alice ,  who was beginning to see its meaning . qwerty  \" And just as I'd taken the highest tree in the wood ,  \" continued the Pigeon ,  raising its voice to a shriek ,  \" and just as I was thinking I should be free of them at last ,  they must needs come wriggling down from the sky !   Ugh ,  Serpent ! 'qwerty  \" But I'm NOT a serpent ,  I tell you !  \" said Alice .   \" I'm a -  - I'm a -  - 'qwerty  \" Well !   WHAT are you ?  \" said the Pigeon .   \" I can see you're trying to invent something ! 'qwerty  \" I -  - I'm a little girl ,  \" said Alice ,  rather doubtfully ,  as she remembered the number of changes she had gone through that day . qwerty  \" A likely story indeed !  \" said the Pigeon in a tone of the deepest contempt .   \" I've seen a good many little girls in my time ,  but never ONE with such a neck as that !   No ,  no !   You're a serpent ;  and there's no use denying it .   I suppose you'll be telling me next that you never tasted an egg ! 'qwerty  \" I HAVE tasted eggs ,  certainly ,  \" said Alice ,  who was a very truthful child ;  \" but little girls eat eggs quite as much as serpents do ,  you know . 'qwerty  \" I don't believe it ,  \" said the Pigeon ;  \" but if they do ,  why then they're a kind of serpent ,  that's all I can say . 'qwerty  This was such a new idea to Alice ,  that she was quite silent for a minute or two ,  which gave the Pigeon the opportunity of adding ,  \" You're looking for eggs ,  I know THAT well enough ;  and what does it matter to me whether you're a little girl or a serpent ? 'qwerty  \" It matters a good deal to ME ,  \" said Alice hastily ;  \" but I'm not looking for eggs ,  as it happens ;  and if I was ,  I shouldn't want YOURS :   I don't like them raw . 'qwerty  \" Well ,  be off ,  then !  \" said the Pigeon in a sulky tone ,  as it settled down again into its nest .   Alice crouched down among the trees as well as she could ,  for her neck kept getting entangled among the branches ,  and every now and then she had to stop and untwist it .   After a while she remembered that she still held the pieces of mushroom in her hands ,  and she set to work very carefully ,  nibbling first at one and then at the other ,  and growing sometimes taller and sometimes shorter ,  until she had succeeded in bringing herself down to her usual height . qwerty  It was so long since she had been anything near the right size ,  that it felt quite strange at first ;  but she got used to it in a few minutes ,  and began talking to herself ,  as usual .   \" Come ,  there's half my plan done now !   How puzzling all these changes are !   I'm never sure what I'm going to be ,  from one minute to another !   However ,  I've got back to my right size :   the next thing is ,  to get into that beautiful garden -  - how IS that to be done ,  I wonder ?  \"  As she said this ,  she came suddenly upon an open place ,  with a little house in it about four feet high .  \" Whoever lives there ,  \" thought Alice ,  \" it'll never do to come upon them THIS size :   why ,  I should frighten them out of their wits !  \"  So she began nibbling at the righthand bit again ,  and did not venture to go near the house till she had brought herself down to nine inches high . qwerty                           CHAPTER VIqwerty                         Pig and Pepperqwerty  For a minute or two she stood looking at the house ,  and wondering what to do next ,  when suddenly a footman in livery came running out of the wood -  -  ( she considered him to be a footman because he was in livery :   otherwise ,  judging by his face only ,  she would have called him a fish )  -  - and rapped loudly at the door with his knuckles .   It was opened by another footman in livery ,  with a round face ,  and large eyes like a frog ;  and both footmen ,  Alice noticed ,  had powdered hair that curled all over their heads .   She felt very curious to know what it was all about ,  and crept a little way out of the wood to listen . qwerty  The Fish - Footman began by producing from under his arm a great letter ,  nearly as large as himself ,  and this he handed over to the other ,  saying ,  in a solemn tone ,  \" For the Duchess .   An invitation from the Queen to play croquet .  \"  The Frog - Footman repeated ,  in the same solemn tone ,  only changing the order of the words a little ,  \" From the Queen .   An invitation for the Duchess to play croquet . 'qwerty  Then they both bowed low ,  and their curls got entangled together . qwerty  Alice laughed so much at this ,  that she had to run back into the wood for fear of their hearing her ;  and when she next peeped out the Fish - Footman was gone ,  and the other was sitting on the ground near the door ,  staring stupidly up into the sky . qwerty  Alice went timidly up to the door ,  and knocked . qwerty  \" There's no sort of use in knocking ,  \" said the Footman ,  \" and that for two reasons .   First ,  because I'm on the same side of the door as you are ;  secondly ,  because they're making such a noise inside ,  no one could possibly hear you .  \"  And certainly there was a most extraordinary noise going on within -  - a constant howling and sneezing ,  and every now and then a great crash ,  as if a dish or kettle had been broken to pieces . qwerty  \" Please ,  then ,  \" said Alice ,  \" how am I to get in ? 'qwerty  \" There might be some sense in your knocking ,  \" the Footman went on without attending to her ,  \" if we had the door between us .   For instance ,  if you were INSIDE ,  you might knock ,  and I could let you out ,  you know .  \"  He was looking up into the sky all the time he was speaking ,  and this Alice thought decidedly uncivil .   \" But perhaps he can't help it ,  \" she said to herself ;  \" his eyes are so VERY nearly at the top of his head .   But at any rate he might answer questions .  -  - How am I to get in ?  \" she repeated ,  aloud . qwerty  \" I shall sit here ,  \" the Footman remarked ,  \" till tomorrow -  - 'qwerty  At this moment the door of the house opened ,  and a large plate came skimming out ,  straight at the Footman's head :   it just grazed his nose ,  and broke to pieces against one of the trees behind him . qwerty  \"  -  - or next day ,  maybe ,  \" the Footman continued in the same tone ,  exactly as if nothing had happened . qwerty  \" How am I to get in ?  \" asked Alice again ,  in a louder tone . qwerty  \" ARE you to get in at all ?  \" said the Footman .   \" That's the first question ,  you know . 'qwerty  It was ,  no doubt :   only Alice did not like to be told so .  \" It's really dreadful ,  \" she muttered to herself ,  \" the way all the creatures argue .   It's enough to drive one crazy ! 'qwerty  The Footman seemed to think this a good opportunity for repeating his remark ,  with variations .   \" I shall sit here ,  \" he said ,  \" on and off ,  for days and days . 'qwerty  \" But what am I to do ?  \" said Alice . qwerty  \" Anything you like ,  \" said the Footman ,  and began whistling . qwerty  \" Oh ,  there's no use in talking to him ,  \" said Alice desperately :  \" he's perfectly idiotic !  \"  And she opened the door and went in . qwerty  The door led right into a large kitchen ,  which was full of smoke from one end to the other :   the Duchess was sitting on a three - legged stool in the middle ,  nursing a baby ;  the cook was leaning over the fire ,  stirring a large cauldron which seemed to be full of soup . qwerty  \" There's certainly too much pepper in that soup !  \" Alice said to herself ,  as well as she could for sneezing . qwerty  There was certainly too much of it in the air .   Even the Duchess sneezed occasionally ;  and as for the baby ,  it was sneezing and howling alternately without a moment's pause .   The only things in the kitchen that did not sneeze ,  were the cook ,  and a large cat which was sitting on the hearth and grinning from ear to ear . qwerty  \" Please would you tell me ,  \" said Alice ,  a little timidly ,  for she was not quite sure whether it was good manners for her to speak first ,  \" why your cat grins like that ? 'qwerty  \" It's a Cheshire cat ,  \" said the Duchess ,  \" and that's why .   Pig ! 'qwerty  She said the last word with such sudden violence that Alice quite jumped ;  but she saw in another moment that it was addressed to the baby ,  and not to her ,  so she took courage ,  and went on again :  -  - qwerty  \" I didn't know that Cheshire cats always grinned ;  in fact ,  I didn't know that cats COULD grin . 'qwerty  \" They all can ,  \" said the Duchess ;  \" and most of \" em do . 'qwerty  \" I don't know of any that do ,  \" Alice said very politely ,  feeling quite pleased to have got into a conversation . qwerty  \" You don't know much ,  \" said the Duchess ;  \" and that's a fact . 'qwerty  Alice did not at all like the tone of this remark ,  and thought it would be as well to introduce some other subject of conversation .   While she was trying to fix on one ,  the cook took the cauldron of soup off the fire ,  and at once set to work throwing everything within her reach at the Duchess and the baby  -  - the fire - irons came first ;  then followed a shower of saucepans ,  plates ,  and dishes .   The Duchess took no notice of them even when they hit her ;  and the baby was howling so much already ,  that it was quite impossible to say whether the blows hurt it or not . qwerty  \" Oh ,  PLEASE mind what you're doing !  \" cried Alice ,  jumping up and down in an agony of terror .   \" Oh ,  there goes his PRECIOUS nose' ;  as an unusually large saucepan flew close by it ,  and very nearly carried it off . qwerty  \" If everybody minded their own business ,  \" the Duchess said in a hoarse growl ,  \" the world would go round a deal faster than it does . 'qwerty  \" Which would NOT be an advantage ,  \" said Alice ,  who felt very glad to get an opportunity of showing off a little of her knowledge .   \" Just think of what work it would make with the day and night !   You see the earth takes twenty - four hours to turn round on its axis -  - 'qwerty  \" Talking of axes ,  \" said the Duchess ,  \" chop off her head ! 'qwerty  Alice glanced rather anxiously at the cook ,  to see if she meant to take the hint ;  but the cook was busily stirring the soup ,  and seemed not to be listening ,  so she went on again :   \" Twenty - four hours ,  I THINK ;  or is it twelve ?   I -  - 'qwerty  \" Oh ,  don't bother ME ,  \" said the Duchess ;  \" I never could abide figures !  \"  And with that she began nursing her child again ,  singing a sort of lullaby to it as she did so ,  and giving it a violent shake at the end of every line : qwerty        \" Speak roughly to your little boy ,            And beat him when he sneezes :          He only does it to annoy ,            Because he knows it teases . 'qwerty                    CHORUS . qwerty     ( In which the cook and the baby joined )  :  -  - qwerty                \" Wow !  wow !  wow ! 'qwerty  While the Duchess sang the second verse of the song ,  she kept tossing the baby violently up and down ,  and the poor little thing howled so ,  that Alice could hardly hear the words :  -  - qwerty        \" I speak severely to my boy ,            I beat him when he sneezes ;          For he can thoroughly enjoy           The pepper when he pleases ! 'qwerty                    CHORUS . qwerty                \" Wow !  wow !  wow ! 'qwerty  \" Here !  you may nurse it a bit ,  if you like !  \" the Duchess said to Alice ,  flinging the baby at her as she spoke .   \" I must go and get ready to play croquet with the Queen ,  \" and she hurried out of the room .   The cook threw a frying - pan after her as she went out ,  but it just missed her . qwerty  Alice caught the baby with some difficulty ,  as it was a queer -  shaped little creature ,  and held out its arms and legs in all directions ,  \" just like a star - fish ,  \" thought Alice .   The poor little thing was snorting like a steam - engine when she caught it ,  and kept doubling itself up and straightening itself out again ,  so that altogether ,  for the first minute or two ,  it was as much as she could do to hold it . qwerty  As soon as she had made out the proper way of nursing it ,   ( which was to twist it up into a sort of knot ,  and then keep tight hold of its right ear and left foot ,  so as to prevent its undoing itself ,  )  she carried it out into the open air .   \" IF I don't take this child away with me ,  \" thought Alice ,  \" they're sure to kill it in a day or two :   wouldn't it be murder to leave it behind ?  \"  She said the last words out loud ,  and the little thing grunted in reply  ( it had left off sneezing by this time )  .   \" Don't grunt ,  \" said Alice ;  \" that's not at all a proper way of expressing yourself . 'qwerty  The baby grunted again ,  and Alice looked very anxiously into its face to see what was the matter with it .   There could be no doubt that it had a VERY turn - up nose ,  much more like a snout than a real nose ;  also its eyes were getting extremely small for a baby :   altogether Alice did not like the look of the thing at all .   \" But perhaps it was only sobbing ,  \" she thought ,  and looked into its eyes again ,  to see if there were any tears . qwerty  No ,  there were no tears .   \" If you're going to turn into a pig ,  my dear ,  \" said Alice ,  seriously ,  \" I'll have nothing more to do with you .   Mind now !  \"  The poor little thing sobbed again  ( or grunted ,  it was impossible to say which )  ,  and they went on for some while in silence . qwerty  Alice was just beginning to think to herself ,  \" Now ,  what am I to do with this creature when I get it home ?  \" when it grunted again ,  so violently ,  that she looked down into its face in some alarm .   This time there could be NO mistake about it :   it was neither more nor less than a pig ,  and she felt that it would be quite absurd for her to carry it further . qwerty  So she set the little creature down ,  and felt quite relieved to see it trot away quietly into the wood .   \" If it had grown up ,  \" she said to herself ,  \" it would have made a dreadfully ugly child :  but it makes rather a handsome pig ,  I think .  \"  And she began thinking over other children she knew ,  who might do very well as pigs ,  and was just saying to herself ,  \" if one only knew the right way to change them -  -  \" when she was a little startled by seeing the Cheshire Cat sitting on a bough of a tree a few yards off . qwerty  The Cat only grinned when it saw Alice .   It looked good -  natured ,  she thought :   still it had VERY long claws and a great many teeth ,  so she felt that it ought to be treated with respect . qwerty  \" Cheshire Puss ,  \" she began ,  rather timidly ,  as she did not at all know whether it would like the name :   however ,  it only grinned a little wider .   \" Come ,  it's pleased so far ,  \" thought Alice ,  and she went on .   \" Would you tell me ,  please ,  which way I ought to go from here ? 'qwerty  \" That depends a good deal on where you want to get to ,  \" said the Cat . qwerty  \" I don't much care where -  -  \" said Alice . qwerty  \" Then it doesn't matter which way you go ,  \" said the Cat . qwerty  \"  -  - so long as I get SOMEWHERE ,  \" Alice added as an explanation . qwerty  \" Oh ,  you're sure to do that ,  \" said the Cat ,  \" if you only walk long enough . 'qwerty  Alice felt that this could not be denied ,  so she tried another question .   \" What sort of people live about here ? 'qwerty  \" In THAT direction ,  \" the Cat said ,  waving its right paw round ,  \" lives a Hatter :   and in THAT direction ,  \" waving the other paw ,  \" lives a March Hare .   Visit either you like :   they're both mad . 'qwerty  \" But I don't want to go among mad people ,  \" Alice remarked . qwerty  \" Oh ,  you can't help that ,  \" said the Cat :   \" we're all mad here .  I'm mad .   You're mad . 'qwerty  \" How do you know I'm mad ?  \" said Alice . qwerty  \" You must be ,  \" said the Cat ,  \" or you wouldn't have come here . 'qwerty  Alice didn't think that proved it at all ;  however ,  she went on \" And how do you know that you're mad ? 'qwerty  \" To begin with ,  \" said the Cat ,  \" a dog's not mad .   You grant that ? 'qwerty  \" I suppose so ,  \" said Alice . qwerty  \" Well ,  then ,  \" the Cat went on ,  \" you see ,  a dog growls when it's angry ,  and wags its tail when it's pleased .   Now I growl when I'm pleased ,  and wag my tail when I'm angry .   Therefore I'm mad . 'qwerty  \" I call it purring ,  not growling ,  \" said Alice . qwerty  \" Call it what you like ,  \" said the Cat .   \" Do you play croquet with the Queen to - day ? 'qwerty  \" I should like it very much ,  \" said Alice ,  \" but I haven't been invited yet . 'qwerty  \" You'll see me there ,  \" said the Cat ,  and vanished . qwerty  Alice was not much surprised at this ,  she was getting so used to queer things happening .   While she was looking at the place where it had been ,  it suddenly appeared again . qwerty  \" By - the - bye ,  what became of the baby ?  \" said the Cat .   \" I'd nearly forgotten to ask . 'qwerty  \" It turned into a pig ,  \" Alice quietly said ,  just as if it had come back in a natural way . qwerty  \" I thought it would ,  \" said the Cat ,  and vanished again . qwerty  Alice waited a little ,  half expecting to see it again ,  but it did not appear ,  and after a minute or two she walked on in the direction in which the March Hare was said to live .   \" I've seen hatters before ,  \" she said to herself ;  \" the March Hare will be much the most interesting ,  and perhaps as this is May it won't be raving mad -  - at least not so mad as it was in March .  \"  As she said this ,  she looked up ,  and there was the Cat again ,  sitting on a branch of a tree . qwerty  \" Did you say pig ,  or fig ?  \" said the Cat . qwerty  \" I said pig ,  \" replied Alice ;  \" and I wish you wouldn't keep appearing and vanishing so suddenly :   you make one quite giddy . 'qwerty  \" All right ,  \" said the Cat ;  and this time it vanished quite slowly ,  beginning with the end of the tail ,  and ending with the grin ,  which remained some time after the rest of it had gone . qwerty  \" Well !   I've often seen a cat without a grin ,  \" thought Alice ;  \" but a grin without a cat !   It's the most curious thing I ever saw in my life ! 'qwerty  She had not gone much farther before she came in sight of the house of the March Hare :   she thought it must be the right house ,  because the chimneys were shaped like ears and the roof was thatched with fur .   It was so large a house ,  that she did not like to go nearer till she had nibbled some more of the lefthand bit of mushroom ,  and raised herself to about two feet high :   even then she walked up towards it rather timidly ,  saying to herself \" Suppose it should be raving mad after all !   I almost wish I'd gone to see the Hatter instead ! 'qwerty                           CHAPTER VIIqwerty                         A Mad Tea - Partyqwerty  There was a table set out under a tree in front of the house ,  and the March Hare and the Hatter were having tea at it :   a Dormouse was sitting between them ,  fast asleep ,  and the other two were using it as a cushion ,  resting their elbows on it ,  and talking over its head .   \" Very uncomfortable for the Dormouse ,  \" thought Alice ;  \" only ,  as it's asleep ,  I suppose it doesn't mind . 'qwerty  The table was a large one ,  but the three were all crowded together at one corner of it :   \" No room !   No room !  \" they cried out when they saw Alice coming .   \" There's PLENTY of room !  \" said Alice indignantly ,  and she sat down in a large arm - chair at one end of the table . qwerty  \" Have some wine ,  \" the March Hare said in an encouraging tone . qwerty  Alice looked all round the table ,  but there was nothing on it but tea .   \" I don't see any wine ,  \" she remarked . qwerty  \" There isn't any ,  \" said the March Hare . qwerty  \" Then it wasn't very civil of you to offer it ,  \" said Alice angrily . qwerty  \" It wasn't very civil of you to sit down without being invited ,  \" said the March Hare . qwerty  \" I didn't know it was YOUR table ,  \" said Alice ;  \" it's laid for a great many more than three . 'qwerty  \" Your hair wants cutting ,  \" said the Hatter .   He had been looking at Alice for some time with great curiosity ,  and this was his first speech . qwerty  \" You should learn not to make personal remarks ,  \" Alice said with some severity ;  \" it's very rude . 'qwerty  The Hatter opened his eyes very wide on hearing this ;  but all he SAID was ,  \" Why is a raven like a writing - desk ? 'qwerty  \" Come ,  we shall have some fun now !  \" thought Alice .   \" I'm glad they've begun asking riddles .  -  - I believe I can guess that ,  \" she added aloud . qwerty  \" Do you mean that you think you can find out the answer to it ?  \" said the March Hare . qwerty  \" Exactly so ,  \" said Alice . qwerty  \" Then you should say what you mean ,  \" the March Hare went on . qwerty  \" I do ,  \" Alice hastily replied ;  \" at least -  - at least I mean what I say -  - that's the same thing ,  you know . 'qwerty  \" Not the same thing a bit !  \" said the Hatter .   \" You might just as well say that  \" I see what I eat \"  is the same thing as  \" I eat what I see \"  ! 'qwerty  \" You might just as well say ,  \" added the March Hare ,  \" that  \" I like what I get \"  is the same thing as  \" I get what I like \"  ! 'qwerty  \" You might just as well say ,  \" added the Dormouse ,  who seemed to be talking in his sleep ,  \" that  \" I breathe when I sleep \"  is the same thing as  \" I sleep when I breathe \"  ! 'qwerty  \" It IS the same thing with you ,  \" said the Hatter ,  and here the conversation dropped ,  and the party sat silent for a minute ,  while Alice thought over all she could remember about ravens and writing - desks ,  which wasn't much . qwerty  The Hatter was the first to break the silence .   \" What day of the month is it ?  \" he said ,  turning to Alice :   he had taken his watch out of his pocket ,  and was looking at it uneasily ,  shaking it every now and then ,  and holding it to his ear . qwerty  Alice considered a little ,  and then said \" The fourth . 'qwerty  \" Two days wrong !  \" sighed the Hatter .   \" I told you butter wouldn't suit the works !  \" he added looking angrily at the March Hare . qwerty  \" It was the BEST butter ,  \" the March Hare meekly replied . qwerty  \" Yes ,  but some crumbs must have got in as well ,  \" the Hatter grumbled :   \" you shouldn't have put it in with the bread - knife . 'qwerty  The March Hare took the watch and looked at it gloomily :   then he dipped it into his cup of tea ,  and looked at it again :   but he could think of nothing better to say than his first remark ,  \" It was the BEST butter ,  you know . 'qwerty  Alice had been looking over his shoulder with some curiosity .  \" What a funny watch !  \" she remarked .   \" It tells the day of the month ,  and doesn't tell what o'clock it is ! 'qwerty  \" Why should it ?  \" muttered the Hatter .   \" Does YOUR watch tell you what year it is ? 'qwerty  \" Of course not ,  \" Alice replied very readily :   \" but that's because it stays the same year for such a long time together . 'qwerty  \" Which is just the case with MINE ,  \" said the Hatter . qwerty  Alice felt dreadfully puzzled .   The Hatter's remark seemed to have no sort of meaning in it ,  and yet it was certainly English .  \" I don't quite understand you ,  \" she said ,  as politely as she could . qwerty  \" The Dormouse is asleep again ,  \" said the Hatter ,  and he poured a little hot tea upon its nose . qwerty  The Dormouse shook its head impatiently ,  and said ,  without opening its eyes ,  \" Of course ,  of course ;  just what I was going to remark myself . 'qwerty  \" Have you guessed the riddle yet ?  \" the Hatter said ,  turning to Alice again . qwerty  \" No ,  I give it up ,  \" Alice replied :   \" what's the answer ? 'qwerty  \" I haven't the slightest idea ,  \" said the Hatter . qwerty  \" Nor I ,  \" said the March Hare . qwerty  Alice sighed wearily .   \" I think you might do something better with the time ,  \" she said ,  \" than waste it in asking riddles that have no answers . 'qwerty  \" If you knew Time as well as I do ,  \" said the Hatter ,  \" you wouldn't talk about wasting IT .   It's HIM . 'qwerty  \" I don't know what you mean ,  \" said Alice . qwerty  \" Of course you don't !  \" the Hatter said ,  tossing his head contemptuously .   \" I dare say you never even spoke to Time ! 'qwerty  \" Perhaps not ,  \" Alice cautiously replied :   \" but I know I have to beat time when I learn music . 'qwerty  \" Ah !  that accounts for it ,  \" said the Hatter .   \" He won't stand beating .   Now ,  if you only kept on good terms with him ,  he'd do almost anything you liked with the clock .   For instance ,  suppose it were nine o'clock in the morning ,  just time to begin lessons :  you'd only have to whisper a hint to Time ,  and round goes the clock in a twinkling !   Half - past one ,  time for dinner ! 'qwerty   ( `I only wish it was ,  \" the March Hare said to itself in a whisper .  ) qwerty  \" That would be grand ,  certainly ,  \" said Alice thoughtfully :  \" but then -  - I shouldn't be hungry for it ,  you know . 'qwerty  \" Not at first ,  perhaps ,  \" said the Hatter :   \" but you could keep it to half - past one as long as you liked . 'qwerty  \" Is that the way YOU manage ?  \" Alice asked . qwerty  The Hatter shook his head mournfully .   \" Not I !  \" he replied .  \" We quarrelled last March -  - just before HE went mad ,  you know -  -  \"  ( pointing with his tea spoon at the March Hare ,  )  \"  -  - it was at the great concert given by the Queen of Hearts ,  and I had to singqwerty             \" Twinkle ,  twinkle ,  little bat !              How I wonder what you're at !  \" qwertyYou know the song ,  perhaps ? 'qwerty  \" I've heard something like it ,  \" said Alice . qwerty  \" It goes on ,  you know ,  \" the Hatter continued ,  \" in this way :  -  - qwerty             \" Up above the world you fly ,              Like a tea - tray in the sky .                      Twinkle ,  twinkle -  -  \" 'qwertyHere the Dormouse shook itself ,  and began singing in its sleep \" Twinkle ,  twinkle ,  twinkle ,  twinkle -  -  \" and went on so long that they had to pinch it to make it stop . qwerty  \" Well ,  I'd hardly finished the first verse ,  \" said the Hatter ,  \" when the Queen jumped up and bawled out ,   \" He's murdering the time !   Off with his head !  \" 'qwerty  \" How dreadfully savage !  \" exclaimed Alice . qwerty  \" And ever since that ,  \" the Hatter went on in a mournful tone ,  \" he won't do a thing I ask !   It's always six o'clock now . 'qwerty  A bright idea came into Alice's head .   \" Is that the reason so many tea - things are put out here ?  \" she asked . qwerty  \" Yes ,  that's it ,  \" said the Hatter with a sigh :   \" it's always tea - time ,  and we've no time to wash the things between whiles . 'qwerty  \" Then you keep moving round ,  I suppose ?  \" said Alice . qwerty  \" Exactly so ,  \" said the Hatter :   \" as the things get used up . 'qwerty  \" But what happens when you come to the beginning again ?  \" Alice ventured to ask . qwerty  \" Suppose we change the subject ,  \" the March Hare interrupted ,  yawning .   \" I'm getting tired of this .   I vote the young lady tells us a story . 'qwerty  \" I'm afraid I don't know one ,  \" said Alice ,  rather alarmed at the proposal . qwerty  \" Then the Dormouse shall !  \" they both cried .   \" Wake up ,  Dormouse !  \"  And they pinched it on both sides at once . qwerty  The Dormouse slowly opened his eyes .   \" I wasn't asleep ,  \" he said in a hoarse ,  feeble voice :   \" I heard every word you fellows were saying . 'qwerty  \" Tell us a story !  \" said the March Hare . qwerty  \" Yes ,  please do !  \" pleaded Alice . qwerty  \" And be quick about it ,  \" added the Hatter ,  \" or you'll be asleep again before it's done . 'qwerty  \" Once upon a time there were three little sisters ,  \" the Dormouse began in a great hurry ;  \" and their names were Elsie ,  Lacie ,  and Tillie ;  and they lived at the bottom of a well -  - 'qwerty  \" What did they live on ?  \" said Alice ,  who always took a great interest in questions of eating and drinking . qwerty  \" They lived on treacle ,  \" said the Dormouse ,  after thinking a minute or two . qwerty  \" They couldn't have done that ,  you know ,  \" Alice gently remarked ;  \" they'd have been ill . 'qwerty  \" So they were ,  \" said the Dormouse ;  \" VERY ill . 'qwerty  Alice tried to fancy to herself what such an extraordinary ways of living would be like ,  but it puzzled her too much ,  so she went on :   \" But why did they live at the bottom of a well ? 'qwerty  \" Take some more tea ,  \" the March Hare said to Alice ,  very earnestly . qwerty  \" I've had nothing yet ,  \" Alice replied in an offended tone ,  \" so I can't take more . 'qwerty  \" You mean you can't take LESS ,  \" said the Hatter :   \" it's very easy to take MORE than nothing . 'qwerty  \" Nobody asked YOUR opinion ,  \" said Alice . qwerty  \" Who's making personal remarks now ?  \" the Hatter asked triumphantly . qwerty  Alice did not quite know what to say to this :   so she helped herself to some tea and bread - and - butter ,  and then turned to the Dormouse ,  and repeated her question .   \" Why did they live at the bottom of a well ? 'qwerty  The Dormouse again took a minute or two to think about it ,  and then said ,  \" It was a treacle - well . 'qwerty  \" There's no such thing !  \"  Alice was beginning very angrily ,  but the Hatter and the March Hare went \" Sh !  sh !  \" and the Dormouse sulkily remarked ,  \" If you can't be civil ,  you'd better finish the story for yourself . 'qwerty  \" No ,  please go on !  \" Alice said very humbly ;  \" I won't interrupt again .   I dare say there may be ONE . 'qwerty  \" One ,  indeed !  \" said the Dormouse indignantly .   However ,  he consented to go on .   \" And so these three little sisters -  - they were learning to draw ,  you know -  - 'qwerty  \" What did they draw ?  \" said Alice ,  quite forgetting her promise . qwerty  \" Treacle ,  \" said the Dormouse ,  without considering at all this time . qwerty  \" I want a clean cup ,  \" interrupted the Hatter :   \" let's all move one place on . 'qwerty  He moved on as he spoke ,  and the Dormouse followed him :   the March Hare moved into the Dormouse's place ,  and Alice rather unwillingly took the place of the March Hare .   The Hatter was the only one who got any advantage from the change :   and Alice was a good deal worse off than before ,  as the March Hare had just upset the milk - jug into his plate . qwerty  Alice did not wish to offend the Dormouse again ,  so she began very cautiously :   \" But I don't understand .   Where did they draw the treacle from ? 'qwerty  \" You can draw water out of a water - well ,  \" said the Hatter ;  \" so I should think you could draw treacle out of a treacle - well -  - eh ,  stupid ? 'qwerty  \" But they were IN the well ,  \" Alice said to the Dormouse ,  not choosing to notice this last remark . qwerty  \" Of course they were' ,  said the Dormouse ;  \"  -  - well in . 'qwerty  This answer so confused poor Alice ,  that she let the Dormouse go on for some time without interrupting it . qwerty  \" They were learning to draw ,  \" the Dormouse went on ,  yawning and rubbing its eyes ,  for it was getting very sleepy ;  \" and they drew all manner of things -  - everything that begins with an M -  - 'qwerty  \" Why with an M ?  \" said Alice . qwerty  \" Why not ?  \" said the March Hare . qwerty  Alice was silent . qwerty  The Dormouse had closed its eyes by this time ,  and was going off into a doze ;  but ,  on being pinched by the Hatter ,  it woke up again with a little shriek ,  and went on :   \"  -  - that begins with an M ,  such as mouse - traps ,  and the moon ,  and memory ,  and muchness -  -  you know you say things are  \" much of a muchness \"  -  - did you ever see such a thing as a drawing of a muchness ? 'qwerty  \" Really ,  now you ask me ,  \" said Alice ,  very much confused ,  \" I don't think -  - 'qwerty  \" Then you shouldn't talk ,  \" said the Hatter . qwerty  This piece of rudeness was more than Alice could bear :   she got up in great disgust ,  and walked off ;  the Dormouse fell asleep instantly ,  and neither of the others took the least notice of her going ,  though she looked back once or twice ,  half hoping that they would call after her :   the last time she saw them ,  they were trying to put the Dormouse into the teapot . qwerty  \" At any rate I'll never go THERE again !  \" said Alice as she picked her way through the wood .   \" It's the stupidest tea - party I ever was at in all my life ! 'qwerty  Just as she said this ,  she noticed that one of the trees had a door leading right into it .   \" That's very curious !  \" she thought .  \" But everything's curious today .   I think I may as well go in at once .  \" And in she went . qwerty  Once more she found herself in the long hall ,  and close to the little glass table .   \" Now ,  I'll manage better this time ,  \" she said to herself ,  and began by taking the little golden key ,  and unlocking the door that led into the garden .   Then she went to work nibbling at the mushroom  ( she had kept a piece of it in her pocket )  till she was about a foot high :   then she walked down the little passage :   and THEN -  - she found herself at last in the beautiful garden ,  among the bright flower - beds and the cool fountains . qwerty                          CHAPTER VIIIqwerty                   The Queen's Croquet - Groundqwerty  A large rose - tree stood near the entrance of the garden :   the roses growing on it were white ,  but there were three gardeners at it ,  busily painting them red .   Alice thought this a very curious thing ,  and she went nearer to watch them ,  and just as she came up to them she heard one of them say ,  \" Look out now ,  Five !   Don't go splashing paint over me like that ! 'qwerty  \" I couldn't help it ,  \" said Five ,  in a sulky tone ;  \" Seven jogged my elbow . 'qwerty  On which Seven looked up and said ,  \" That's right ,  Five !   Always lay the blame on others ! 'qwerty  \" YOU'D better not talk !  \" said Five .   \" I heard the Queen say only yesterday you deserved to be beheaded ! 'qwerty  \" What for ?  \" said the one who had spoken first . qwerty  \" That's none of YOUR business ,  Two !  \" said Seven . qwerty  \" Yes ,  it IS his business !  \" said Five ,  \" and I'll tell him -  - it was for bringing the cook tulip - roots instead of onions . 'qwerty  Seven flung down his brush ,  and had just begun \" Well ,  of all the unjust things -  -  \" when his eye chanced to fall upon Alice ,  as she stood watching them ,  and he checked himself suddenly :   the others looked round also ,  and all of them bowed low . qwerty  \" Would you tell me ,  \" said Alice ,  a little timidly ,  \" why you are painting those roses ? 'qwerty  Five and Seven said nothing ,  but looked at Two .   Two began in a low voice ,  \" Why the fact is ,  you see ,  Miss ,  this here ought to have been a RED rose - tree ,  and we put a white one in by mistake ;  and if the Queen was to find it out ,  we should all have our heads cut off ,  you know .   So you see ,  Miss ,  we're doing our best ,  afore she comes ,  to -  -  \"  At this moment Five ,  who had been anxiously looking across the garden ,  called out \" The Queen !   The Queen !  \" and the three gardeners instantly threw themselves flat upon their faces .   There was a sound of many footsteps ,  and Alice looked round ,  eager to see the Queen . qwerty  First came ten soldiers carrying clubs ;  these were all shaped like the three gardeners ,  oblong and flat ,  with their hands and feet at the corners :   next the ten courtiers ;  these were ornamented all over with diamonds ,  and walked two and two ,  as the soldiers did .   After these came the royal children ;  there were ten of them ,  and the little dears came jumping merrily along hand in hand ,  in couples :   they were all ornamented with hearts .   Next came the guests ,  mostly Kings and Queens ,  and among them Alice recognised the White Rabbit :   it was talking in a hurried nervous manner ,  smiling at everything that was said ,  and went by without noticing her .   Then followed the Knave of Hearts ,  carrying the King's crown on a crimson velvet cushion ;  and ,  last of all this grand procession ,  came THE KING AND QUEEN OF HEARTS . qwerty  Alice was rather doubtful whether she ought not to lie down on her face like the three gardeners ,  but she could not remember ever having heard of such a rule at processions ;  \" and besides ,  what would be the use of a procession ,  \" thought she ,  \" if people had all to lie down upon their faces ,  so that they couldn't see it ?  \" So she stood still where she was ,  and waited . qwerty  When the procession came opposite to Alice ,  they all stopped and looked at her ,  and the Queen said severely \" Who is this ?  \" She said it to the Knave of Hearts ,  who only bowed and smiled in reply . qwerty  \" Idiot !  \" said the Queen ,  tossing her head impatiently ;  and ,  turning to Alice ,  she went on ,  \" What's your name ,  child ? 'qwerty  \" My name is Alice ,  so please your Majesty ,  \" said Alice very politely ;  but she added ,  to herself ,  \" Why ,  they're only a pack of cards ,  after all .   I needn't be afraid of them ! 'qwerty  \" And who are THESE ?  \" said the Queen ,  pointing to the three gardeners who were lying round the rosetree ;  for ,  you see ,  as they were lying on their faces ,  and the pattern on their backs was the same as the rest of the pack ,  she could not tell whether they were gardeners ,  or soldiers ,  or courtiers ,  or three of her own children . qwerty  \" How should I know ?  \" said Alice ,  surprised at her own courage .  \" It's no business of MINE . 'qwerty  The Queen turned crimson with fury ,  and ,  after glaring at her for a moment like a wild beast ,  screamed \" Off with her head !  Off -  - 'qwerty  \" Nonsense !  \" said Alice ,  very loudly and decidedly ,  and the Queen was silent . qwerty  The King laid his hand upon her arm ,  and timidly said \" Consider ,  my dear :   she is only a child ! 'qwerty  The Queen turned angrily away from him ,  and said to the Knave \" Turn them over ! 'qwerty  The Knave did so ,  very carefully ,  with one foot . qwerty  \" Get up !  \" said the Queen ,  in a shrill ,  loud voice ,  and the three gardeners instantly jumped up ,  and began bowing to the King ,  the Queen ,  the royal children ,  and everybody else . qwerty  \" Leave off that !  \" screamed the Queen .   \" You make me giddy .  \" And then ,  turning to the rose - tree ,  she went on ,  \" What HAVE you been doing here ? 'qwerty  \" May it please your Majesty ,  \" said Two ,  in a very humble tone ,  going down on one knee as he spoke ,  \" we were trying -  - 'qwerty  \" I see !  \" said the Queen ,  who had meanwhile been examining the roses .   \" Off with their heads !  \" and the procession moved on ,  three of the soldiers remaining behind to execute the unfortunate gardeners ,  who ran to Alice for protection . qwerty  \" You shan't be beheaded !  \" said Alice ,  and she put them into a large flower - pot that stood near .   The three soldiers wandered about for a minute or two ,  looking for them ,  and then quietly marched off after the others . qwerty  \" Are their heads off ?  \" shouted the Queen . qwerty  \" Their heads are gone ,  if it please your Majesty !  \" the soldiers shouted in reply . qwerty  \" That's right !  \" shouted the Queen .   \" Can you play croquet ? 'qwerty  The soldiers were silent ,  and looked at Alice ,  as the question was evidently meant for her . qwerty  \" Yes !  \" shouted Alice . qwerty  \" Come on ,  then !  \" roared the Queen ,  and Alice joined the procession ,  wondering very much what would happen next . qwerty  \" It's -  - it's a very fine day !  \" said a timid voice at her side .  She was walking by the White Rabbit ,  who was peeping anxiously into her face . qwerty  \" Very ,  \" said Alice :   \"  -  - where's the Duchess ? 'qwerty  \" Hush !   Hush !  \" said the Rabbit in a low ,  hurried tone .   He looked anxiously over his shoulder as he spoke ,  and then raised himself upon tiptoe ,  put his mouth close to her ear ,  and whispered \" She's under sentence of execution . 'qwerty  \" What for ?  \" said Alice . qwerty  \" Did you say  \" What a pity !  \"  ?  \" the Rabbit asked . qwerty  \" No ,  I didn't ,  \" said Alice :   \" I don't think it's at all a pity .  I said  \" What for ?  \" 'qwerty  \" She boxed the Queen's ears -  -  \" the Rabbit began .   Alice gave a little scream of laughter .   \" Oh ,  hush !  \" the Rabbit whispered in a frightened tone .   \" The Queen will hear you !   You see ,  she came rather late ,  and the Queen said -  - 'qwerty  \" Get to your places !  \" shouted the Queen in a voice of thunder ,  and people began running about in all directions ,  tumbling up against each other ;  however ,  they got settled down in a minute or two ,  and the game began .   Alice thought she had never seen such a curious croquet - ground in her life ;  it was all ridges and furrows ;  the balls were live hedgehogs ,  the mallets live flamingoes ,  and the soldiers had to double themselves up and to stand on their hands and feet ,  to make the arches . qwerty  The chief difficulty Alice found at first was in managing her flamingo :   she succeeded in getting its body tucked away ,  comfortably enough ,  under her arm ,  with its legs hanging down ,  but generally ,  just as she had got its neck nicely straightened out ,  and was going to give the hedgehog a blow with its head ,  it WOULD twist itself round and look up in her face ,  with such a puzzled expression that she could not help bursting out laughing :  and when she had got its head down ,  and was going to begin again ,  it was very provoking to find that the hedgehog had unrolled itself ,  and was in the act of crawling away :   besides all this ,  there was generally a ridge or furrow in the way wherever she wanted to send the hedgehog to ,  and ,  as the doubled - up soldiers were always getting up and walking off to other parts of the ground ,  Alice soon came to the conclusion that it was a very difficult game indeed . qwerty  The players all played at once without waiting for turns ,  quarrelling all the while ,  and fighting for the hedgehogs ;  and in a very short time the Queen was in a furious passion ,  and went stamping about ,  and shouting \" Off with his head !  \" or \" Off with her head !  \" about once in a minute . qwerty  Alice began to feel very uneasy :   to be sure ,  she had not as yet had any dispute with the Queen ,  but she knew that it might happen any minute ,  \" and then ,  \" thought she ,  \" what would become of me ?   They're dreadfully fond of beheading people here ;  the great wonder is ,  that there's any one left alive ! 'qwerty  She was looking about for some way of escape ,  and wondering whether she could get away without being seen ,  when she noticed a curious appearance in the air :   it puzzled her very much at first ,  but ,  after watching it a minute or two ,  she made it out to be a grin ,  and she said to herself \" It's the Cheshire Cat :   now I shall have somebody to talk to . 'qwerty  \" How are you getting on ?  \" said the Cat ,  as soon as there was mouth enough for it to speak with . qwerty  Alice waited till the eyes appeared ,  and then nodded .   \" It's no use speaking to it ,  \" she thought ,  \" till its ears have come ,  or at least one of them .  \"  In another minute the whole head appeared ,  and then Alice put down her flamingo ,  and began an account of the game ,  feeling very glad she had someone to listen to her .   The Cat seemed to think that there was enough of it now in sight ,  and no more of it appeared . qwerty  \" I don't think they play at all fairly ,  \" Alice began ,  in rather a complaining tone ,  \" and they all quarrel so dreadfully one can't hear oneself speak -  - and they don't seem to have any rules in particular ;  at least ,  if there are ,  nobody attends to them -  - and you've no idea how confusing it is all the things being alive ;  for instance ,  there's the arch I've got to go through next walking about at the other end of the ground -  - and I should have croqueted the Queen's hedgehog just now ,  only it ran away when it saw mine coming ! 'qwerty  \" How do you like the Queen ?  \" said the Cat in a low voice . qwerty  \" Not at all ,  \" said Alice :   \" she's so extremely -  -  \"  Just then she noticed that the Queen was close behind her ,  listening :   so she went on ,  \"  -  - likely to win ,  that it's hardly worth while finishing the game . 'qwerty  The Queen smiled and passed on . qwerty  \" Who ARE you talking to ?  \" said the King ,  going up to Alice ,  and looking at the Cat's head with great curiosity . qwerty  \" It's a friend of mine -  - a Cheshire Cat ,  \" said Alice :   \" allow me to introduce it . 'qwerty  \" I don't like the look of it at all ,  \" said the King :  \" however ,  it may kiss my hand if it likes . 'qwerty  \" I'd rather not ,  \" the Cat remarked . qwerty  \" Don't be impertinent ,  \" said the King ,  \" and don't look at me like that !  \"  He got behind Alice as he spoke . qwerty  \" A cat may look at a king ,  \" said Alice .   \" I've read that in some book ,  but I don't remember where . 'qwerty  \" Well ,  it must be removed ,  \" said the King very decidedly ,  and he called the Queen ,  who was passing at the moment ,  \" My dear !   I wish you would have this cat removed ! 'qwerty  The Queen had only one way of settling all difficulties ,  great or small .   \" Off with his head !  \" she said ,  without even looking round . qwerty  \" I'll fetch the executioner myself ,  \" said the King eagerly ,  and he hurried off . qwerty  Alice thought she might as well go back ,  and see how the game was going on ,  as she heard the Queen's voice in the distance ,  screaming with passion .   She had already heard her sentence three of the players to be executed for having missed their turns ,  and she did not like the look of things at all ,  as the game was in such confusion that she never knew whether it was her turn or not .   So she went in search of her hedgehog . qwerty  The hedgehog was engaged in a fight with another hedgehog ,  which seemed to Alice an excellent opportunity for croqueting one of them with the other :   the only difficulty was ,  that her flamingo was gone across to the other side of the garden ,  where Alice could see it trying in a helpless sort of way to fly up into a tree . qwerty  By the time she had caught the flamingo and brought it back ,  the fight was over ,  and both the hedgehogs were out of sight :  \" but it doesn't matter much ,  \" thought Alice ,  \" as all the arches are gone from this side of the ground .  \"  So she tucked it away under her arm ,  that it might not escape again ,  and went back for a little more conversation with her friend . qwerty  When she got back to the Cheshire Cat ,  she was surprised to find quite a large crowd collected round it :   there was a dispute going on between the executioner ,  the King ,  and the Queen ,  who were all talking at once ,  while all the rest were quite silent ,  and looked very uncomfortable . qwerty  The moment Alice appeared ,  she was appealed to by all three to settle the question ,  and they repeated their arguments to her ,  though ,  as they all spoke at once ,  she found it very hard indeed to make out exactly what they said . qwerty  The executioner's argument was ,  that you couldn't cut off a head unless there was a body to cut it off from :   that he had never had to do such a thing before ,  and he wasn't going to begin at HIS time of life . qwerty  The King's argument was ,  that anything that had a head could be beheaded ,  and that you weren't to talk nonsense . qwerty  The Queen's argument was ,  that if something wasn't done about it in less than no time she'd have everybody executed ,  all round .   ( It was this last remark that had made the whole party look so grave and anxious .  ) qwerty  Alice could think of nothing else to say but \" It belongs to the Duchess :   you'd better ask HER about it . 'qwerty  \" She's in prison ,  \" the Queen said to the executioner :   \" fetch her here .  \"  And the executioner went off like an arrow . qwerty   The Cat's head began fading away the moment he was gone ,  and ,  by the time he had come back with the Duchess ,  it had entirely disappeared ;  so the King and the executioner ran wildly up and down looking for it ,  while the rest of the party went back to the game . qwerty                           CHAPTER IXqwerty                     The Mock Turtle's Storyqwerty  \" You can't think how glad I am to see you again ,  you dear old thing !  \" said the Duchess ,  as she tucked her arm affectionately into Alice's ,  and they walked off together . qwerty  Alice was very glad to find her in such a pleasant temper ,  and thought to herself that perhaps it was only the pepper that had made her so savage when they met in the kitchen . qwerty  \" When I'M a Duchess ,  \" she said to herself ,   ( not in a very hopeful tone though )  ,  \" I won't have any pepper in my kitchen AT ALL .   Soup does very well without -  - Maybe it's always pepper that makes people hot - tempered ,  \" she went on ,  very much pleased at having found out a new kind of rule ,  \" and vinegar that makes them sour -  - and camomile that makes them bitter -  - and -  - and barley - sugar and such things that make children sweet - tempered .   I only wish people knew that :   then they wouldn't be so stingy about it ,  you know -  - 'qwerty  She had quite forgotten the Duchess by this time ,  and was a little startled when she heard her voice close to her ear .  \" You're thinking about something ,  my dear ,  and that makes you forget to talk .   I can't tell you just now what the moral of that is ,  but I shall remember it in a bit . 'qwerty  \" Perhaps it hasn't one ,  \" Alice ventured to remark . qwerty  \" Tut ,  tut ,  child !  \" said the Duchess .   \" Everything's got a moral ,  if only you can find it .  \"  And she squeezed herself up closer to Alice's side as she spoke . qwerty  Alice did not much like keeping so close to her :   first ,  because the Duchess was VERY ugly ;  and secondly ,  because she was exactly the right height to rest her chin upon Alice's shoulder ,  and it was an uncomfortably sharp chin .   However ,  she did not like to be rude ,  so she bore it as well as she could . qwerty  \" The game's going on rather better now ,  \" she said ,  by way of keeping up the conversation a little . qwerty  \" 'Tis so ,  \" said the Duchess :   \" and the moral of that is -  -  \" Oh ,  \" tis love ,  \" tis love ,  that makes the world go round !  \" 'qwerty  \" Somebody said ,  \" Alice whispered ,  \" that it's done by everybody minding their own business ! 'qwerty  \" Ah ,  well !   It means much the same thing ,  \" said the Duchess ,  digging her sharp little chin into Alice's shoulder as she added ,  \" and the moral of THAT is -  -  \" Take care of the sense ,  and the sounds will take care of themselves .  \" 'qwerty  \" How fond she is of finding morals in things !  \" Alice thought to herself . qwerty  \" I dare say you're wondering why I don't put my arm round your waist ,  \" the Duchess said after a pause :   \" the reason is ,  that I'm doubtful about the temper of your flamingo .   Shall I try the experiment ? 'qwerty  \" HE might bite ,  \" Alice cautiously replied ,  not feeling at all anxious to have the experiment tried . qwerty  \" Very true ,  \" said the Duchess :   \" flamingoes and mustard both bite .   And the moral of that is -  -  \" Birds of a feather flock together .  \" 'qwerty  \" Only mustard isn't a bird ,  \" Alice remarked . qwerty  \" Right ,  as usual ,  \" said the Duchess :   \" what a clear way you have of putting things ! 'qwerty  \" It's a mineral ,  I THINK ,  \" said Alice . qwerty  \" Of course it is ,  \" said the Duchess ,  who seemed ready to agree to everything that Alice said ;  \" there's a large mustard - mine near here .   And the moral of that is -  -  \" The more there is of mine ,  the less there is of yours .  \" 'qwerty  \" Oh ,  I know !  \" exclaimed Alice ,  who had not attended to this last remark ,  \" it's a vegetable .   It doesn't look like one ,  but it is . 'qwerty  \" I quite agree with you ,  \" said the Duchess ;  \" and the moral of that is -  -  \" Be what you would seem to be \"  -  - or if you'd like it put more simply -  -  \" Never imagine yourself not to be otherwise than what it might appear to others that what you were or might have been was not otherwise than what you had been would have appeared to them to be otherwise .  \" 'qwerty  \" I think I should understand that better ,  \" Alice said very politely ,  \" if I had it written down :   but I can't quite follow it as you say it . 'qwerty  \" That's nothing to what I could say if I chose ,  \" the Duchess replied ,  in a pleased tone . qwerty  \" Pray don't trouble yourself to say it any longer than that ,  \" said Alice . qwerty  \" Oh ,  don't talk about trouble !  \" said the Duchess .   \" I make you a present of everything I've said as yet . 'qwerty  \" A cheap sort of present !  \" thought Alice .   \" I'm glad they don't give birthday presents like that !  \"  But she did not venture to say it out loud . qwerty  \" Thinking again ?  \" the Duchess asked ,  with another dig of her sharp little chin . qwerty  \" I've a right to think ,  \" said Alice sharply ,  for she was beginning to feel a little worried . qwerty  \" Just about as much right ,  \" said the Duchess ,  \" as pigs have to fly ;  and the m -  - 'qwerty  But here ,  to Alice's great surprise ,  the Duchess's voice died away ,  even in the middle of her favourite word \" moral ,  \" and the arm that was linked into hers began to tremble .   Alice looked up ,  and there stood the Queen in front of them ,  with her arms folded ,  frowning like a thunderstorm . qwerty  \" A fine day ,  your Majesty !  \" the Duchess began in a low ,  weak voice . qwerty  \" Now ,  I give you fair warning ,  \" shouted the Queen ,  stamping on the ground as she spoke ;  \" either you or your head must be off ,  and that in about half no time !   Take your choice ! 'qwerty  The Duchess took her choice ,  and was gone in a moment . qwerty  \" Let's go on with the game ,  \" the Queen said to Alice ;  and Alice was too much frightened to say a word ,  but slowly followed her back to the croquet - ground . qwerty  The other guests had taken advantage of the Queen's absence ,  and were resting in the shade :   however ,  the moment they saw her ,  they hurried back to the game ,  the Queen merely remarking that a moment's delay would cost them their lives . qwerty  All the time they were playing the Queen never left off quarrelling with the other players ,  and shouting \" Off with his head !  \" or \" Off with her head !  \"  Those whom she sentenced were taken into custody by the soldiers ,  who of course had to leave off being arches to do this ,  so that by the end of half an hour or so there were no arches left ,  and all the players ,  except the King ,  the Queen ,  and Alice ,  were in custody and under sentence of execution . qwerty  Then the Queen left off ,  quite out of breath ,  and said to Alice ,  \" Have you seen the Mock Turtle yet ? 'qwerty  \" No ,  \" said Alice .   \" I don't even know what a Mock Turtle is . 'qwerty  \" It's the thing Mock Turtle Soup is made from ,  \" said the Queen . qwerty  \" I never saw one ,  or heard of one ,  \" said Alice . qwerty  \" Come on ,  then ,  \" said the Queen ,  \" and he shall tell you his history , 'qwerty  As they walked off together ,  Alice heard the King say in a low voice ,  to the company generally ,  \" You are all pardoned .  \"  \" Come ,  THAT'S a good thing !  \" she said to herself ,  for she had felt quite unhappy at the number of executions the Queen had ordered . qwerty  They very soon came upon a Gryphon ,  lying fast asleep in the sun .    ( IF you don't know what a Gryphon is ,  look at the picture .  )  \" Up ,  lazy thing !  \" said the Queen ,  \" and take this young lady to see the Mock Turtle ,  and to hear his history .   I must go back and see after some executions I have ordered' ;  and she walked off ,  leaving Alice alone with the Gryphon .   Alice did not quite like the look of the creature ,  but on the whole she thought it would be quite as safe to stay with it as to go after that savage Queen :   so she waited . qwerty  The Gryphon sat up and rubbed its eyes :   then it watched the Queen till she was out of sight :   then it chuckled .   \" What fun !  \" said the Gryphon ,  half to itself ,  half to Alice . qwerty  \" What IS the fun ?  \" said Alice . qwerty  \" Why ,  SHE ,  \" said the Gryphon .   \" It's all her fancy ,  that :   they never executes nobody ,  you know .   Come on ! 'qwerty  \" Everybody says  \" come on !  \"  here ,  \" thought Alice ,  as she went slowly after it :   \" I never was so ordered about in all my life ,  never ! 'qwerty  They had not gone far before they saw the Mock Turtle in the distance ,  sitting sad and lonely on a little ledge of rock ,  and ,  as they came nearer ,  Alice could hear him sighing as if his heart would break .   She pitied him deeply .   \" What is his sorrow ?  \" she asked the Gryphon ,  and the Gryphon answered ,  very nearly in the same words as before ,  \" It's all his fancy ,  that :   he hasn't got no sorrow ,  you know .   Come on ! 'qwerty  So they went up to the Mock Turtle ,  who looked at them with large eyes full of tears ,  but said nothing . qwerty  \" This here young lady ,  \" said the Gryphon ,  \" she wants for to know your history ,  she do . 'qwerty  \" I'll tell it her ,  \" said the Mock Turtle in a deep ,  hollow tone :   \" sit down ,  both of you ,  and don't speak a word till I've finished . 'qwerty  So they sat down ,  and nobody spoke for some minutes .   Alice thought to herself ,  \" I don't see how he can EVEN finish ,  if he doesn't begin .  \"  But she waited patiently . qwerty  \" Once ,  \" said the Mock Turtle at last ,  with a deep sigh ,  \" I was a real Turtle . 'qwerty  These words were followed by a very long silence ,  broken only by an occasional exclamation of \" Hjckrrh !  \" from the Gryphon ,  and the constant heavy sobbing of the Mock Turtle .   Alice was very nearly getting up and saying ,  \" Thank you ,  sir ,  for your interesting story ,  \" but she could not help thinking there MUST be more to come ,  so she sat still and said nothing . qwerty  \" When we were little ,  \" the Mock Turtle went on at last ,  more calmly ,  though still sobbing a little now and then ,  \" we went to school in the sea .   The master was an old Turtle -  - we used to call him Tortoise -  - 'qwerty  \" Why did you call him Tortoise ,  if he wasn't one ?  \" Alice asked . qwerty  \" We called him Tortoise because he taught us ,  \" said the Mock Turtle angrily :   \" really you are very dull ! 'qwerty  \" You ought to be ashamed of yourself for asking such a simple question ,  \" added the Gryphon ;  and then they both sat silent and looked at poor Alice ,  who felt ready to sink into the earth .   At last the Gryphon said to the Mock Turtle ,  \" Drive on ,  old fellow !  Don't be all day about it !  \" and he went on in these words : qwerty  \" Yes ,  we went to school in the sea ,  though you mayn't believe it -  - 'qwerty  \" I never said I didn't !  \" interrupted Alice . qwerty  \" You did ,  \" said the Mock Turtle . qwerty  \" Hold your tongue !  \" added the Gryphon ,  before Alice could speak again .   The Mock Turtle went on . qwerty  \" We had the best of educations -  - in fact ,  we went to school every day -  - 'qwerty  \" I'VE been to a day - school ,  too ,  \" said Alice ;  \" you needn't be so proud as all that . 'qwerty  \" With extras ?  \" asked the Mock Turtle a little anxiously . qwerty  \" Yes ,  \" said Alice ,  \" we learned French and music . 'qwerty  \" And washing ?  \" said the Mock Turtle . qwerty  \" Certainly not !  \" said Alice indignantly . qwerty  \" Ah !  then yours wasn't a really good school ,  \" said the Mock Turtle in a tone of great relief .   \" Now at OURS they had at the end of the bill ,   \" French ,  music ,  AND WASHING -  - extra .  \" 'qwerty  \" You couldn't have wanted it much ,  \" said Alice ;  \" living at the bottom of the sea . 'qwerty  \" I couldn't afford to learn it .  \" said the Mock Turtle with a sigh .   \" I only took the regular course . 'qwerty  \" What was that ?  \" inquired Alice . qwerty  \" Reeling and Writhing ,  of course ,  to begin with ,  \" the Mock Turtle replied ;  \" and then the different branches of Arithmetic -  -  Ambition ,  Distraction ,  Uglification ,  and Derision . 'qwerty  \" I never heard of  \" Uglification ,  \"  \" Alice ventured to say .   \" What is it ? 'qwerty  The Gryphon lifted up both its paws in surprise .   \" What !   Never heard of uglifying !  \" it exclaimed .   \" You know what to beautify is ,  I suppose ? 'qwerty  \" Yes ,  \" said Alice doubtfully :   \" it means -  - to -  - make -  - anything -  - prettier . 'qwerty  \" Well ,  then ,  \" the Gryphon went on ,  \" if you don't know what to uglify is ,  you ARE a simpleton . 'qwerty  Alice did not feel encouraged to ask any more questions about it ,  so she turned to the Mock Turtle ,  and said \" What else had you to learn ? 'qwerty  \" Well ,  there was Mystery ,  \" the Mock Turtle replied ,  counting off the subjects on his flappers ,  \"  -  - Mystery ,  ancient and modern ,  with Seaography :   then Drawling -  - the Drawling - master was an old conger - eel ,  that used to come once a week :   HE taught us Drawling ,  Stretching ,  and Fainting in Coils . 'qwerty  \" What was THAT like ?  \" said Alice . qwerty  \" Well ,  I can't show it you myself ,  \" the Mock Turtle said :   \" I'm too stiff .   And the Gryphon never learnt it . 'qwerty  \" Hadn't time ,  \" said the Gryphon :   \" I went to the Classics master ,  though .   He was an old crab ,  HE was . 'qwerty  \" I never went to him ,  \" the Mock Turtle said with a sigh :   \" he taught Laughing and Grief ,  they used to say . 'qwerty  \" So he did ,  so he did ,  \" said the Gryphon ,  sighing in his turn ;  and both creatures hid their faces in their paws . qwerty  \" And how many hours a day did you do lessons ?  \" said Alice ,  in a hurry to change the subject . qwerty  \" Ten hours the first day ,  \" said the Mock Turtle :  \" nine the next ,  and so on . 'qwerty  \" What a curious plan !  \" exclaimed Alice . qwerty  \" That's the reason they're called lessons ,  \" the Gryphon remarked :   \" because they lessen from day to day . 'qwerty  This was quite a new idea to Alice ,  and she thought it over a little before she made her next remark .   \" Then the eleventh day must have been a holiday ? 'qwerty  \" Of course it was ,  \" said the Mock Turtle . qwerty  \" And how did you manage on the twelfth ?  \" Alice went on eagerly . qwerty  \" That's enough about lessons ,  \" the Gryphon interrupted in a very decided tone :   \" tell her something about the games now . 'qwerty                            CHAPTER Xqwerty                      The Lobster Quadrilleqwerty  The Mock Turtle sighed deeply ,  and drew the back of one flapper across his eyes .   He looked at Alice ,  and tried to speak ,  but for a minute or two sobs choked his voice .   \" Same as if he had a bone in his throat ,  \" said the Gryphon :   and it set to work shaking him and punching him in the back .   At last the Mock Turtle recovered his voice ,  and ,  with tears running down his cheeks ,  he went on again :  -  - qwerty  \" You may not have lived much under the sea -  -  \"  ( `I haven't ,  \" said Alice )  -  -  \" and perhaps you were never even introduced to a lobster -  -  \"  ( Alice began to say \" I once tasted -  -  \" but checked herself hastily ,  and said \" No ,  never' )  \"  -  - so you can have no idea what a delightful thing a Lobster Quadrille is ! 'qwerty  \" No ,  indeed ,  \" said Alice .   \" What sort of a dance is it ? 'qwerty  \" Why ,  \" said the Gryphon ,  \" you first form into a line along the sea - shore -  - 'qwerty  \" Two lines !  \" cried the Mock Turtle .   \" Seals ,  turtles ,  salmon ,  and so on ;  then ,  when you've cleared all the jelly - fish out of the way -  - 'qwerty  \" THAT generally takes some time ,  \" interrupted the Gryphon . qwerty  \"  -  - you advance twice -  - 'qwerty  \" Each with a lobster as a partner !  \" cried the Gryphon . qwerty  \" Of course ,  \" the Mock Turtle said :   \" advance twice ,  set to partners -  - 'qwerty  \"  -  - change lobsters ,  and retire in same order ,  \" continued the Gryphon . qwerty  \" Then ,  you know ,  \" the Mock Turtle went on ,  \" you throw the -  - 'qwerty  \" The lobsters !  \" shouted the Gryphon ,  with a bound into the air . qwerty  \"  -  - as far out to sea as you can -  - 'qwerty  \" Swim after them !  \" screamed the Gryphon . qwerty  \" Turn a somersault in the sea !  \" cried the Mock Turtle ,  capering wildly about . qwerty  \" Change lobsters again !  \" yelled the Gryphon at the top of its voice . qwerty  \" Back to land again ,  and that's all the first figure ,  \" said the Mock Turtle ,  suddenly dropping his voice ;  and the two creatures ,  who had been jumping about like mad things all this time ,  sat down again very sadly and quietly ,  and looked at Alice . qwerty  \" It must be a very pretty dance ,  \" said Alice timidly . qwerty  \" Would you like to see a little of it ?  \" said the Mock Turtle . qwerty  \" Very much indeed ,  \" said Alice . qwerty  \" Come ,  let's try the first figure !  \" said the Mock Turtle to the Gryphon .   \" We can do without lobsters ,  you know .   Which shall sing ? 'qwerty  \" Oh ,  YOU sing ,  \" said the Gryphon .   \" I've forgotten the words . 'qwerty  So they began solemnly dancing round and round Alice ,  every now and then treading on her toes when they passed too close ,  and waving their forepaws to mark the time ,  while the Mock Turtle sang this ,  very slowly and sadly :  -  - qwerty` \" Will you walk a little faster ?  \"  said a whiting to a snail .   \" There's a porpoise close behind us ,  and he's treading on my  tail .  See how eagerly the lobsters and the turtles all advance !  They are waiting on the shingle -  - will you come and join the dance ? qwertyWill you ,  won't you ,  will you ,  won't you ,  will you join the dance ?  Will you ,  won't you ,  will you ,  won't you ,  won't you join the dance ? qwerty \" You can really have no notion how delightful it will be When they take us up and throw us ,  with the lobsters ,  out to                                                       sea !  \"  But the snail replied  \" Too far ,  too far !  \"  and gave a look                                                        askance -  -  Said he thanked the whiting kindly ,  but he would not join the    dance .      Would not ,  could not ,  would not ,  could not ,  would not join         the dance .      Would not ,  could not ,  would not ,  could not ,  could not join         the dance . qwerty` \" What matters it how far we go ?  \"  his scaly friend replied .   \" There is another shore ,  you know ,  upon the other side .  The further off from England the nearer is to France -  -  Then turn not pale ,  beloved snail ,  but come and join the dance . qwerty    Will you ,  won't you ,  will you ,  won't you ,  will you join the          dance ?      Will you ,  won't you ,  will you ,  won't you ,  won't you join the          dance ?  \" 'qwerty  \" Thank you ,  it's a very interesting dance to watch ,  \" said Alice ,  feeling very glad that it was over at last :   \" and I do so like that curious song about the whiting ! 'qwerty  \" Oh ,  as to the whiting ,  \" said the Mock Turtle ,  \" they -  - you've seen them ,  of course ? 'qwerty  \" Yes ,  \" said Alice ,  \" I've often seen them at dinn -  -  \" she checked herself hastily . qwerty  \" I don't know where Dinn may be ,  \" said the Mock Turtle ,  \" but if you've seen them so often ,  of course you know what they're like . 'qwerty  \" I believe so ,  \" Alice replied thoughtfully .   \" They have their tails in their mouths -  - and they're all over crumbs . 'qwerty  \" You're wrong about the crumbs ,  \" said the Mock Turtle :  \" crumbs would all wash off in the sea .   But they HAVE their tails in their mouths ;  and the reason is -  -  \" here the Mock Turtle yawned and shut his eyes .  -  - `Tell her about the reason and all that ,  \" he said to the Gryphon . qwerty  \" The reason is ,  \" said the Gryphon ,  \" that they WOULD go with the lobsters to the dance .   So they got thrown out to sea .   So they had to fall a long way .   So they got their tails fast in their mouths .   So they couldn't get them out again .   That's all . 'qwerty  \" Thank you ,  \" said Alice ,  \" it's very interesting .   I never knew so much about a whiting before . 'qwerty  \" I can tell you more than that ,  if you like ,  \" said the Gryphon .   \" Do you know why it's called a whiting ? 'qwerty  \" I never thought about it ,  \" said Alice .   \" Why ? 'qwerty  \" IT DOES THE BOOTS AND SHOES .  \" the Gryphon replied very solemnly . qwerty  Alice was thoroughly puzzled .   \" Does the boots and shoes !  \" she repeated in a wondering tone . qwerty  \" Why ,  what are YOUR shoes done with ?  \" said the Gryphon .   \" I mean ,  what makes them so shiny ? 'qwerty  Alice looked down at them ,  and considered a little before she gave her answer .   \" They're done with blacking ,  I believe . 'qwerty  \" Boots and shoes under the sea ,  \" the Gryphon went on in a deep voice ,  \" are done with a whiting .   Now you know . 'qwerty  \" And what are they made of ?  \" Alice asked in a tone of great curiosity . qwerty  \" Soles and eels ,  of course ,  \" the Gryphon replied rather impatiently :   \" any shrimp could have told you that . 'qwerty  \" If I'd been the whiting ,  \" said Alice ,  whose thoughts were still running on the song ,  \" I'd have said to the porpoise ,   \" Keep back ,  please :   we don't want YOU with us !  \" 'qwerty  \" They were obliged to have him with them ,  \" the Mock Turtle said :   \" no wise fish would go anywhere without a porpoise . 'qwerty  \" Wouldn't it really ?  \" said Alice in a tone of great surprise . qwerty  \" Of course not ,  \" said the Mock Turtle :   \" why ,  if a fish came to ME ,  and told me he was going a journey ,  I should say  \" With what porpoise ?  \" 'qwerty  \" Don't you mean  \" purpose \"  ?  \" said Alice . qwerty  \" I mean what I say ,  \" the Mock Turtle replied in an offended tone .   And the Gryphon added \" Come ,  let's hear some of YOUR adventures . 'qwerty  \" I could tell you my adventures -  - beginning from this morning ,  \" said Alice a little timidly :   \" but it's no use going back to yesterday ,  because I was a different person then . 'qwerty  \" Explain all that ,  \" said the Mock Turtle . qwerty  \" No ,  no !   The adventures first ,  \" said the Gryphon in an impatient tone :   \" explanations take such a dreadful time . 'qwerty  So Alice began telling them her adventures from the time when she first saw the White Rabbit .   She was a little nervous about it just at first ,  the two creatures got so close to her ,  one on each side ,  and opened their eyes and mouths so VERY wide ,  but she gained courage as she went on .   Her listeners were perfectly quiet till she got to the part about her repeating \" YOU ARE OLD ,  FATHER WILLIAM ,  \" to the Caterpillar ,  and the words all coming different ,  and then the Mock Turtle drew a long breath ,  and said \" That's very curious . 'qwerty  \" It's all about as curious as it can be ,  \" said the Gryphon . qwerty  \" It all came different !  \" the Mock Turtle repeated thoughtfully .   \" I should like to hear her try and repeat something now .   Tell her to begin .  \"  He looked at the Gryphon as if he thought it had some kind of authority over Alice . qwerty  \" Stand up and repeat  \" 'TIS THE VOICE OF THE SLUGGARD ,  \"  \" said the Gryphon . qwerty  \" How the creatures order one about ,  and make one repeat lessons !  \" thought Alice ;  \" I might as well be at school at once .  \" However ,  she got up ,  and began to repeat it ,  but her head was so full of the Lobster Quadrille ,  that she hardly knew what she was saying ,  and the words came very queer indeed :  -  - qwerty    \" 'Tis the voice of the Lobster ;  I heard him declare ,       \" You have baked me too brown ,  I must sugar my hair .  \"      As a duck with its eyelids ,  so he with his nose     Trims his belt and his buttons ,  and turns out his toes . 'qwerty               [ later editions continued as follows     When the sands are all dry ,  he is gay as a lark ,      And will talk in contemptuous tones of the Shark ,      But ,  when the tide rises and sharks are around ,      His voice has a timid and tremulous sound .  ] qwerty  \" That's different from what I used to say when I was a child ,  \" said the Gryphon . qwerty  \" Well ,  I never heard it before ,  \" said the Mock Turtle ;  \" but it sounds uncommon nonsense . 'qwerty  Alice said nothing ;  she had sat down with her face in her hands ,  wondering if anything would EVER happen in a natural way again . qwerty  \" I should like to have it explained ,  \" said the Mock Turtle . qwerty  \" She can't explain it ,  \" said the Gryphon hastily .   \" Go on with the next verse . 'qwerty  \" But about his toes ?  \" the Mock Turtle persisted .   \" How COULD he turn them out with his nose ,  you know ? 'qwerty  \" It's the first position in dancing .  \" Alice said ;  but was dreadfully puzzled by the whole thing ,  and longed to change the subject . qwerty  \" Go on with the next verse ,  \" the Gryphon repeated impatiently :  \" it begins  \" I passed by his garden .  \" 'qwerty  Alice did not dare to disobey ,  though she felt sure it would all come wrong ,  and she went on in a trembling voice :  -  - qwerty    \" I passed by his garden ,  and marked ,  with one eye ,      How the Owl and the Panther were sharing a pie -  - 'qwerty         [ later editions continued as follows     The Panther took pie - crust ,  and gravy ,  and meat ,      While the Owl had the dish as its share of the treat .      When the pie was all finished ,  the Owl ,  as a boon ,      Was kindly permitted to pocket the spoon :      While the Panther received knife and fork with a growl ,      And concluded the banquet -  -  ] qwerty  \" What IS the use of repeating all that stuff ,  \" the Mock Turtle interrupted ,  \" if you don't explain it as you go on ?   It's by far the most confusing thing I ever heard ! 'qwerty  \" Yes ,  I think you'd better leave off ,  \" said the Gryphon :   and Alice was only too glad to do so . qwerty  \" Shall we try another figure of the Lobster Quadrille ?  \" the Gryphon went on .   \" Or would you like the Mock Turtle to sing you a song ? 'qwerty  \" Oh ,  a song ,  please ,  if the Mock Turtle would be so kind ,  \" Alice replied ,  so eagerly that the Gryphon said ,  in a rather offended tone ,  \" Hm !   No accounting for tastes !   Sing her  \" Turtle Soup ,  \"  will you ,  old fellow ? 'qwerty  The Mock Turtle sighed deeply ,  and began ,  in a voice sometimes choked with sobs ,  to sing this :  -  - qwerty    \" Beautiful Soup ,  so rich and green ,      Waiting in a hot tureen !      Who for such dainties would not stoop ?      Soup of the evening ,  beautiful Soup !      Soup of the evening ,  beautiful Soup !          Beau -  - ootiful Soo -  - oop !          Beau -  - ootiful Soo -  - oop !      Soo -  - oop of the e -  - e -  - evening ,          Beautiful ,  beautiful Soup ! qwerty    \" Beautiful Soup !   Who cares for fish ,      Game ,  or any other dish ?      Who would not give all else for two     Pennyworth only of beautiful Soup ?      Pennyworth only of beautiful Soup ?          Beau -  - ootiful Soo -  - oop !          Beau -  - ootiful Soo -  - oop !      Soo -  - oop of the e -  - e -  - evening ,          Beautiful ,  beauti -  - FUL SOUP ! 'qwerty  \" Chorus again !  \" cried the Gryphon ,  and the Mock Turtle had just begun to repeat it ,  when a cry of \" The trial's beginning !  \" was heard in the distance . qwerty  \" Come on !  \" cried the Gryphon ,  and ,  taking Alice by the hand ,  it hurried off ,  without waiting for the end of the song . qwerty  \" What trial is it ?  \" Alice panted as she ran ;  but the Gryphon only answered \" Come on !  \" and ran the faster ,  while more and more faintly came ,  carried on the breeze that followed them ,  the melancholy words :  -  - qwerty    \" Soo -  - oop of the e -  - e -  - evening ,          Beautiful ,  beautiful Soup ! 'qwerty                           CHAPTER XIqwerty                      Who Stole the Tarts ? qwerty  The King and Queen of Hearts were seated on their throne when they arrived ,  with a great crowd assembled about them -  - all sorts of little birds and beasts ,  as well as the whole pack of cards :  the Knave was standing before them ,  in chains ,  with a soldier on each side to guard him ;  and near the King was the White Rabbit ,  with a trumpet in one hand ,  and a scroll of parchment in the other .   In the very middle of the court was a table ,  with a large dish of tarts upon it :   they looked so good ,  that it made Alice quite hungry to look at them -  - `I wish they'd get the trial done ,  \" she thought ,  \" and hand round the refreshments !  \"  But there seemed to be no chance of this ,  so she began looking at everything about her ,  to pass away the time . qwerty  Alice had never been in a court of justice before ,  but she had read about them in books ,  and she was quite pleased to find that she knew the name of nearly everything there .   \" That's the judge ,  \" she said to herself ,  \" because of his great wig . 'qwerty  The judge ,  by the way ,  was the King ;  and as he wore his crown over the wig ,   ( look at the frontispiece if you want to see how he did it ,  )  he did not look at all comfortable ,  and it was certainly not becoming . qwerty  \" And that's the jury - box ,  \" thought Alice ,  \" and those twelve creatures ,  \"  ( she was obliged to say \" creatures ,  \" you see ,  because some of them were animals ,  and some were birds ,  )  \" I suppose they are the jurors .  \"  She said this last word two or three times over to herself ,  being rather proud of it :   for she thought ,  and rightly too ,  that very few little girls of her age knew the meaning of it at all .   However ,  \" jury - men \" would have done just as well . qwerty  The twelve jurors were all writing very busily on slates .  \" What are they doing ?  \"  Alice whispered to the Gryphon .   \" They can't have anything to put down yet ,  before the trial's begun . 'qwerty  \" They're putting down their names ,  \" the Gryphon whispered in reply ,  \" for fear they should forget them before the end of the trial . 'qwerty  \" Stupid things !  \" Alice began in a loud ,  indignant voice ,  but she stopped hastily ,  for the White Rabbit cried out ,  \" Silence in the court !  \" and the King put on his spectacles and looked anxiously round ,  to make out who was talking . qwerty  Alice could see ,  as well as if she were looking over their shoulders ,  that all the jurors were writing down \" stupid things !  \" on their slates ,  and she could even make out that one of them didn't know how to spell \" stupid ,  \" and that he had to ask his neighbour to tell him .   \" A nice muddle their slates'll be in before the trial's over !  \" thought Alice . qwerty  One of the jurors had a pencil that squeaked .   This of course ,  Alice could not stand ,  and she went round the court and got behind him ,  and very soon found an opportunity of taking it away .   She did it so quickly that the poor little juror  ( it was Bill ,  the Lizard )  could not make out at all what had become of it ;  so ,  after hunting all about for it ,  he was obliged to write with one finger for the rest of the day ;  and this was of very little use ,  as it left no mark on the slate . qwerty  \" Herald ,  read the accusation !  \" said the King . qwerty  On this the White Rabbit blew three blasts on the trumpet ,  and then unrolled the parchment scroll ,  and read as follows :  -  - qwerty    \" The Queen of Hearts ,  she made some tarts ,            All on a summer day :        The Knave of Hearts ,  he stole those tarts ,            And took them quite away ! 'qwerty  \" Consider your verdict ,  \" the King said to the jury . qwerty  \" Not yet ,  not yet !  \" the Rabbit hastily interrupted .   \" There's a great deal to come before that ! 'qwerty  \" Call the first witness ,  \" said the King ;  and the White Rabbit blew three blasts on the trumpet ,  and called out ,  \" First witness ! 'qwerty  The first witness was the Hatter .   He came in with a teacup in one hand and a piece of bread - and - butter in the other .   \" I beg pardon ,  your Majesty ,  \" he began ,  \" for bringing these in :   but I hadn't quite finished my tea when I was sent for . 'qwerty  \" You ought to have finished ,  \" said the King .   \" When did you begin ? 'qwerty  The Hatter looked at the March Hare ,  who had followed him into the court ,  arm - in - arm with the Dormouse .   \" Fourteenth of March ,  I think it was ,  \" he said . qwerty  \" Fifteenth ,  \" said the March Hare . qwerty  \" Sixteenth ,  \" added the Dormouse . qwerty  \" Write that down ,  \" the King said to the jury ,  and the jury eagerly wrote down all three dates on their slates ,  and then added them up ,  and reduced the answer to shillings and pence . qwerty  \" Take off your hat ,  \" the King said to the Hatter . qwerty  \" It isn't mine ,  \" said the Hatter . qwerty  \" Stolen !  \" the King exclaimed ,  turning to the jury ,  who instantly made a memorandum of the fact . qwerty  \" I keep them to sell ,  \" the Hatter added as an explanation ;  \" I've none of my own .   I'm a hatter . 'qwerty  Here the Queen put on her spectacles ,  and began staring at the Hatter ,  who turned pale and fidgeted . qwerty  \" Give your evidence ,  \" said the King ;  \" and don't be nervous ,  or I'll have you executed on the spot . 'qwerty  This did not seem to encourage the witness at all :   he kept shifting from one foot to the other ,  looking uneasily at the Queen ,  and in his confusion he bit a large piece out of his teacup instead of the bread - and - butter . qwerty  Just at this moment Alice felt a very curious sensation ,  which puzzled her a good deal until she made out what it was :   she was beginning to grow larger again ,  and she thought at first she would get up and leave the court ;  but on second thoughts she decided to remain where she was as long as there was room for her . qwerty  \" I wish you wouldn't squeeze so .  \" said the Dormouse ,  who was sitting next to her .   \" I can hardly breathe . 'qwerty  \" I can't help it ,  \" said Alice very meekly :   \" I'm growing . 'qwerty  \" You've no right to grow here ,  \" said the Dormouse . qwerty  \" Don't talk nonsense ,  \" said Alice more boldly :   \" you know you're growing too . 'qwerty  \" Yes ,  but I grow at a reasonable pace ,  \" said the Dormouse :  \" not in that ridiculous fashion .  \"  And he got up very sulkily and crossed over to the other side of the court . qwerty  All this time the Queen had never left off staring at the Hatter ,  and ,  just as the Dormouse crossed the court ,  she said to one of the officers of the court ,  \" Bring me the list of the singers in the last concert !  \" on which the wretched Hatter trembled so ,  that he shook both his shoes off . qwerty  \" Give your evidence ,  \" the King repeated angrily ,  \" or I'll have you executed ,  whether you're nervous or not . 'qwerty  \" I'm a poor man ,  your Majesty ,  \" the Hatter began ,  in a trembling voice ,  \"  -  - and I hadn't begun my tea -  - not above a week or so -  - and what with the bread - and - butter getting so thin -  - and the twinkling of the tea -  - 'qwerty  \" The twinkling of the what ?  \" said the King . qwerty  \" It began with the tea ,  \" the Hatter replied . qwerty  \" Of course twinkling begins with a T !  \" said the King sharply .  \" Do you take me for a dunce ?   Go on ! 'qwerty  \" I'm a poor man ,  \" the Hatter went on ,  \" and most things twinkled after that -  - only the March Hare said -  - 'qwerty  \" I didn't !  \" the March Hare interrupted in a great hurry . qwerty  \" You did !  \" said the Hatter . qwerty  \" I deny it !  \" said the March Hare . qwerty  \" He denies it ,  \" said the King :   \" leave out that part . 'qwerty  \" Well ,  at any rate ,  the Dormouse said -  -  \" the Hatter went on ,  looking anxiously round to see if he would deny it too :   but the Dormouse denied nothing ,  being fast asleep . qwerty  \" After that ,  \" continued the Hatter ,  \" I cut some more bread -  and - butter -  - 'qwerty  \" But what did the Dormouse say ?  \" one of the jury asked . qwerty  \" That I can't remember ,  \" said the Hatter . qwerty  \" You MUST remember ,  \" remarked the King ,  \" or I'll have you executed . 'qwerty  The miserable Hatter dropped his teacup and bread - and - butter ,  and went down on one knee .   \" I'm a poor man ,  your Majesty ,  \" he began . qwerty  \" You're a very poor speaker ,  \" said the King . qwerty  Here one of the guinea - pigs cheered ,  and was immediately suppressed by the officers of the court .    ( As that is rather a hard word ,  I will just explain to you how it was done .   They had a large canvas bag ,  which tied up at the mouth with strings :  into this they slipped the guinea - pig ,  head first ,  and then sat upon it .  ) qwerty  \" I'm glad I've seen that done ,  \" thought Alice .   \" I've so often read in the newspapers ,  at the end of trials ,   \" There was some attempts at applause ,  which was immediately suppressed by the officers of the court ,  \"  and I never understood what it meant till now . 'qwerty  \" If that's all you know about it ,  you may stand down ,  \" continued the King . qwerty  \" I can't go no lower ,  \" said the Hatter :   \" I'm on the floor ,  as it is . 'qwerty  \" Then you may SIT down ,  \" the King replied . qwerty  Here the other guinea - pig cheered ,  and was suppressed . qwerty  \" Come ,  that finished the guinea - pigs !  \" thought Alice .   \" Now we shall get on better . 'qwerty  \" I'd rather finish my tea ,  \" said the Hatter ,  with an anxious look at the Queen ,  who was reading the list of singers . qwerty  \" You may go ,  \" said the King ,  and the Hatter hurriedly left the court ,  without even waiting to put his shoes on . qwerty  \"  -  - and just take his head off outside ,  \" the Queen added to one of the officers :   but the Hatter was out of sight before the officer could get to the door . qwerty  \" Call the next witness !  \" said the King . qwerty  The next witness was the Duchess's cook .   She carried the pepper - box in her hand ,  and Alice guessed who it was ,  even before she got into the court ,  by the way the people near the door began sneezing all at once . qwerty  \" Give your evidence ,  \" said the King . qwerty  \" Shan't ,  \" said the cook . qwerty  The King looked anxiously at the White Rabbit ,  who said in a low voice ,  \" Your Majesty must cross - examine THIS witness . 'qwerty  \" Well ,  if I must ,  I must ,  \" the King said ,  with a melancholy air ,  and ,  after folding his arms and frowning at the cook till his eyes were nearly out of sight ,  he said in a deep voice ,  \" What are tarts made of ? 'qwerty  \" Pepper ,  mostly ,  \" said the cook . qwerty  \" Treacle ,  \" said a sleepy voice behind her . qwerty  \" Collar that Dormouse ,  \" the Queen shrieked out .   \" Behead that Dormouse !   Turn that Dormouse out of court !   Suppress him !   Pinch him !   Off with his whiskers ! 'qwerty  For some minutes the whole court was in confusion ,  getting the Dormouse turned out ,  and ,  by the time they had settled down again ,  the cook had disappeared . qwerty  \" Never mind !  \" said the King ,  with an air of great relief .  \" Call the next witness .  \"  And he added in an undertone to the Queen ,  \" Really ,  my dear ,  YOU must cross - examine the next witness .  It quite makes my forehead ache ! 'qwerty  Alice watched the White Rabbit as he fumbled over the list ,  feeling very curious to see what the next witness would be like ,  \"  -  - for they haven't got much evidence YET ,  \" she said to herself .  Imagine her surprise ,  when the White Rabbit read out ,  at the top of his shrill little voice ,  the name \" Alice ! 'qwerty                           CHAPTER XIIqwerty                        Alice's Evidenceqwerty  \" Here !  \" cried Alice ,  quite forgetting in the flurry of the moment how large she had grown in the last few minutes ,  and she jumped up in such a hurry that she tipped over the jury - box with the edge of her skirt ,  upsetting all the jurymen on to the heads of the crowd below ,  and there they lay sprawling about ,  reminding her very much of a globe of goldfish she had accidentally upset the week before . qwerty  \" Oh ,  I BEG your pardon !  \" she exclaimed in a tone of great dismay ,  and began picking them up again as quickly as she could ,  for the accident of the goldfish kept running in her head ,  and she had a vague sort of idea that they must be collected at once and put back into the jury - box ,  or they would die . qwerty  \" The trial cannot proceed ,  \" said the King in a very grave voice ,  \" until all the jurymen are back in their proper places -  -  ALL ,  \" he repeated with great emphasis ,  looking hard at Alice as he said do . qwerty  Alice looked at the jury - box ,  and saw that ,  in her haste ,  she had put the Lizard in head downwards ,  and the poor little thing was waving its tail about in a melancholy way ,  being quite unable to move .   She soon got it out again ,  and put it right ;  \" not that it signifies much ,  \" she said to herself ;  \" I should think it would be QUITE as much use in the trial one way up as the other . 'qwerty  As soon as the jury had a little recovered from the shock of being upset ,  and their slates and pencils had been found and handed back to them ,  they set to work very diligently to write out a history of the accident ,  all except the Lizard ,  who seemed too much overcome to do anything but sit with its mouth open ,  gazing up into the roof of the court . qwerty  \" What do you know about this business ?  \" the King said to Alice . qwerty  \" Nothing ,  \" said Alice . qwerty  \" Nothing WHATEVER ?  \" persisted the King . qwerty  \" Nothing whatever ,  \" said Alice . qwerty  \" That's very important ,  \" the King said ,  turning to the jury .  They were just beginning to write this down on their slates ,  when the White Rabbit interrupted :   \" UNimportant ,  your Majesty means ,  of course ,  \" he said in a very respectful tone ,  but frowning and making faces at him as he spoke . qwerty  \" UNimportant ,  of course ,  I meant ,  \" the King hastily said ,  and went on to himself in an undertone ,  \" important -  - unimportant -  -  unimportant -  - important -  -  \" as if he were trying which word sounded best . qwerty  Some of the jury wrote it down \" important ,  \" and some \" unimportant .  \"  Alice could see this ,  as she was near enough to look over their slates ;  \" but it doesn't matter a bit ,  \" she thought to herself . qwerty  At this moment the King ,  who had been for some time busily writing in his note - book ,  cackled out \" Silence !  \" and read out from his book ,  \" Rule Forty - two .   ALL PERSONS MORE THAN A MILE HIGH TO LEAVE THE COURT . 'qwerty  Everybody looked at Alice . qwerty  \" I'M not a mile high ,  \" said Alice . qwerty  \" You are ,  \" said the King . qwerty  \" Nearly two miles high ,  \" added the Queen . qwerty  \" Well ,  I shan't go ,  at any rate ,  \" said Alice :   \" besides ,  that's not a regular rule :   you invented it just now . 'qwerty  \" It's the oldest rule in the book ,  \" said the King . qwerty  \" Then it ought to be Number One ,  \" said Alice . qwerty  The King turned pale ,  and shut his note - book hastily .  \" Consider your verdict ,  \" he said to the jury ,  in a low ,  trembling voice . qwerty  \" There's more evidence to come yet ,  please your Majesty ,  \" said the White Rabbit ,  jumping up in a great hurry ;  \" this paper has just been picked up . 'qwerty  \" What's in it ?  \" said the Queen . qwerty  \" I haven't opened it yet ,  \" said the White Rabbit ,  \" but it seems to be a letter ,  written by the prisoner to -  - to somebody . 'qwerty  \" It must have been that ,  \" said the King ,  \" unless it was written to nobody ,  which isn't usual ,  you know . 'qwerty  \" Who is it directed to ?  \" said one of the jurymen . qwerty  \" It isn't directed at all ,  \" said the White Rabbit ;  \" in fact ,  there's nothing written on the OUTSIDE .  \"  He unfolded the paper as he spoke ,  and added \" It isn't a letter ,  after all :   it's a set of verses . 'qwerty  \" Are they in the prisoner's handwriting ?  \" asked another of the jurymen . qwerty  \" No ,  they're not ,  \" said the White Rabbit ,  \" and that's the queerest thing about it .  \"   ( The jury all looked puzzled .  ) qwerty  \" He must have imitated somebody else's hand ,  \" said the King .   ( The jury all brightened up again .  ) qwerty  \" Please your Majesty ,  \" said the Knave ,  \" I didn't write it ,  and they can't prove I did :   there's no name signed at the end . 'qwerty  \" If you didn't sign it ,  \" said the King ,  \" that only makes the matter worse .   You MUST have meant some mischief ,  or else you'd have signed your name like an honest man . 'qwerty  There was a general clapping of hands at this :   it was the first really clever thing the King had said that day . qwerty  \" That PROVES his guilt ,  \" said the Queen . qwerty  \" It proves nothing of the sort !  \" said Alice .   \" Why ,  you don't even know what they're about ! 'qwerty  \" Read them ,  \" said the King . qwerty  The White Rabbit put on his spectacles .   \" Where shall I begin ,  please your Majesty ?  \" he asked . qwerty  \" Begin at the beginning ,  \" the King said gravely ,  \" and go on till you come to the end :   then stop . 'qwerty  These were the verses the White Rabbit read :  -  - qwerty        \" They told me you had been to her ,            And mentioned me to him :          She gave me a good character ,            But said I could not swim . qwerty        He sent them word I had not gone            ( We know it to be true )  :          If she should push the matter on ,            What would become of you ? qwerty        I gave her one ,  they gave him two ,            You gave us three or more ;          They all returned from him to you ,            Though they were mine before . qwerty        If I or she should chance to be           Involved in this affair ,          He trusts to you to set them free ,            Exactly as we were . qwerty        My notion was that you had been            ( Before she had this fit )          An obstacle that came between           Him ,  and ourselves ,  and it . qwerty        Don't let him know she liked them best ,            For this must ever be         A secret ,  kept from all the rest ,            Between yourself and me . 'qwerty  \" That's the most important piece of evidence we've heard yet ,  \" said the King ,  rubbing his hands ;  \" so now let the jury -  - 'qwerty  \" If any one of them can explain it ,  \" said Alice ,   ( she had grown so large in the last few minutes that she wasn't a bit afraid of interrupting him ,  )  \" I'll give him sixpence .    _ I _  don't believe there's an atom of meaning in it . 'qwerty  The jury all wrote down on their slates ,  \" SHE doesn't believe there's an atom of meaning in it ,  \" but none of them attempted to explain the paper . qwerty  \" If there's no meaning in it ,  \" said the King ,  \" that saves a world of trouble ,  you know ,  as we needn't try to find any .   And yet I don't know ,  \" he went on ,  spreading out the verses on his knee ,  and looking at them with one eye ;  \" I seem to see some meaning in them ,  after all .    \"  -  - SAID I COULD NOT SWIM -  -  \"  you can't swim ,  can you ?  \" he added ,  turning to the Knave . qwerty  The Knave shook his head sadly .   \" Do I look like it ?  \" he said .   ( Which he certainly did NOT ,  being made entirely of cardboard .  ) qwerty  \" All right ,  so far ,  \" said the King ,  and he went on muttering over the verses to himself :   \"  \" WE KNOW IT TO BE TRUE -  -  \"  that's the jury ,  of course -  -   \" I GAVE HER ONE ,  THEY GAVE HIM TWO -  -  \"  why ,  that must be what he did with the tarts ,  you know -  - 'qwerty  \" But ,  it goes on  \" THEY ALL RETURNED FROM HIM TO YOU ,  \"  \" said Alice . qwerty  \" Why ,  there they are !  \" said the King triumphantly ,  pointing to the tarts on the table .   \" Nothing can be clearer than THAT .  Then again -  -  \" BEFORE SHE HAD THIS FIT -  -  \"   you never had fits ,  my dear ,  I think ?  \" he said to the Queen . qwerty  \" Never !  \" said the Queen furiously ,  throwing an inkstand at the Lizard as she spoke .    ( The unfortunate little Bill had left off writing on his slate with one finger ,  as he found it made no mark ;  but he now hastily began again ,  using the ink ,  that was trickling down his face ,  as long as it lasted .  ) qwerty  \" Then the words don't FIT you ,  \" said the King ,  looking round the court with a smile .   There was a dead silence . qwerty  \" It's a pun !  \" the King added in an offended tone ,  and everybody laughed ,  \" Let the jury consider their verdict ,  \" the King said ,  for about the twentieth time that day . qwerty  \" No ,  no !  \" said the Queen .   \" Sentence first -  - verdict afterwards . 'qwerty  \" Stuff and nonsense !  \" said Alice loudly .   \" The idea of having the sentence first ! 'qwerty  \" Hold your tongue !  \" said the Queen ,  turning purple . qwerty  \" I won't !  \" said Alice . qwerty  \" Off with her head !  \" the Queen shouted at the top of her voice .  Nobody moved . qwerty  \" Who cares for you ?  \" said Alice ,   ( she had grown to her full size by this time .  )   \" You're nothing but a pack of cards ! 'qwerty  At this the whole pack rose up into the air ,  and came flying down upon her :   she gave a little scream ,  half of fright and half of anger ,  and tried to beat them off ,  and found herself lying on the bank ,  with her head in the lap of her sister ,  who was gently brushing away some dead leaves that had fluttered down from the trees upon her face . qwerty  \" Wake up ,  Alice dear !  \" said her sister ;  \" Why ,  what a long sleep you've had ! 'qwerty  \" Oh ,  I've had such a curious dream !  \" said Alice ,  and she told her sister ,  as well as she could remember them ,  all these strange Adventures of hers that you have just been reading about ;  and when she had finished ,  her sister kissed her ,  and said ,  \" It WAS a curious dream ,  dear ,  certainly :   but now run in to your tea ;  it's getting late .  \"  So Alice got up and ran off ,  thinking while she ran ,  as well she might ,  what a wonderful dream it had been . qwerty  But her sister sat still just as she left her ,  leaning her head on her hand ,  watching the setting sun ,  and thinking of little Alice and all her wonderful Adventures ,  till she too began dreaming after a fashion ,  and this was her dream :  -  - qwerty  First ,  she dreamed of little Alice herself ,  and once again the tiny hands were clasped upon her knee ,  and the bright eager eyes were looking up into hers -  - she could hear the very tones of her voice ,  and see that queer little toss of her head to keep back the wandering hair that WOULD always get into her eyes -  - and still as she listened ,  or seemed to listen ,  the whole place around her became alive the strange creatures of her little sister's dream . qwerty  The long grass rustled at her feet as the White Rabbit hurried by -  - the frightened Mouse splashed his way through the neighbouring pool -  - she could hear the rattle of the teacups as the March Hare and his friends shared their never - ending meal ,  and the shrill voice of the Queen ordering off her unfortunate guests to execution -  - once more the pig - baby was sneezing on the Duchess's knee ,  while plates and dishes crashed around it -  - once more the shriek of the Gryphon ,  the squeaking of the Lizard's slate - pencil ,  and the choking of the suppressed guinea - pigs ,  filled the air ,  mixed up with the distant sobs of the miserable Mock Turtle . qwerty  So she sat on ,  with closed eyes ,  and half believed herself in Wonderland ,  though she knew she had but to open them again ,  and all would change to dull reality -  - the grass would be only rustling in the wind ,  and the pool rippling to the waving of the reeds -  - the rattling teacups would change to tinkling sheep -  bells ,  and the Queen's shrill cries to the voice of the shepherd boy -  - and the sneeze of the baby ,  the shriek of the Gryphon ,  and all the other queer noises ,  would change  ( she knew )  to the confused clamour of the busy farm - yard -  - while the lowing of the cattle in the distance would take the place of the Mock Turtle's heavy sobs . qwerty  Lastly ,  she pictured to herself how this same little sister of hers would ,  in the after - time ,  be herself a grown woman ;  and how she would keep ,  through all her riper years ,  the simple and loving heart of her childhood :   and how she would gather about her other little children ,  and make THEIR eyes bright and eager with many a strange tale ,  perhaps even with the dream of Wonderland of long ago :   and how she would feel with all their simple sorrows ,  and find a pleasure in all their simple joys ,  remembering her own child - life ,  and the happy summer days . qwerty                             THE END\n"
     ]
    }
   ],
   "source": [
    "print(alice)"
   ]
  },
  {
   "cell_type": "code",
   "execution_count": 26,
   "metadata": {
    "colab": {},
    "colab_type": "code",
    "id": "4BdlXnRiqCbB"
   },
   "outputs": [],
   "source": [
    "alice = alice.lower()"
   ]
  },
  {
   "cell_type": "code",
   "execution_count": 27,
   "metadata": {
    "colab": {},
    "colab_type": "code",
    "id": "cRgtk9vhqCbD"
   },
   "outputs": [],
   "source": [
    "alice_words = alice.split()"
   ]
  },
  {
   "cell_type": "code",
   "execution_count": 28,
   "metadata": {
    "colab": {
     "base_uri": "https://localhost:8080/",
     "height": 1717
    },
    "colab_type": "code",
    "id": "f_KF34jfqCbF",
    "outputId": "c1cefd77-c3b6-47d0-c727-192d8c1683f9"
   },
   "outputs": [
    {
     "data": {
      "text/plain": [
       "[\"alice's\",\n",
       " 'adventures',\n",
       " 'in',\n",
       " 'wonderlandqwerty',\n",
       " \"alice's\",\n",
       " 'adventures',\n",
       " 'in',\n",
       " 'wonderlandqwerty',\n",
       " 'lewis',\n",
       " 'carrollqwerty',\n",
       " 'the',\n",
       " 'millennium',\n",
       " 'fulcrum',\n",
       " 'edition',\n",
       " '3',\n",
       " '.',\n",
       " '0qwerty',\n",
       " 'chapter',\n",
       " 'iqwerty',\n",
       " 'down',\n",
       " 'the',\n",
       " 'rabbit',\n",
       " '-',\n",
       " 'holeqwerty',\n",
       " 'alice',\n",
       " 'was',\n",
       " 'beginning',\n",
       " 'to',\n",
       " 'get',\n",
       " 'very',\n",
       " 'tired',\n",
       " 'of',\n",
       " 'sitting',\n",
       " 'by',\n",
       " 'her',\n",
       " 'sister',\n",
       " 'on',\n",
       " 'the',\n",
       " 'bank',\n",
       " ',',\n",
       " 'and',\n",
       " 'of',\n",
       " 'having',\n",
       " 'nothing',\n",
       " 'to',\n",
       " 'do',\n",
       " ':',\n",
       " 'once',\n",
       " 'or',\n",
       " 'twice',\n",
       " 'she',\n",
       " 'had',\n",
       " 'peeped',\n",
       " 'into',\n",
       " 'the',\n",
       " 'book',\n",
       " 'her',\n",
       " 'sister',\n",
       " 'was',\n",
       " 'reading',\n",
       " ',',\n",
       " 'but',\n",
       " 'it',\n",
       " 'had',\n",
       " 'no',\n",
       " 'pictures',\n",
       " 'or',\n",
       " 'conversations',\n",
       " 'in',\n",
       " 'it',\n",
       " ',',\n",
       " '\"',\n",
       " 'and',\n",
       " 'what',\n",
       " 'is',\n",
       " 'the',\n",
       " 'use',\n",
       " 'of',\n",
       " 'a',\n",
       " 'book',\n",
       " ',',\n",
       " '\"',\n",
       " 'thought',\n",
       " 'alice',\n",
       " '\"',\n",
       " 'without',\n",
       " 'pictures',\n",
       " 'or',\n",
       " 'conversation',\n",
       " '?',\n",
       " \"'qwerty\",\n",
       " 'so',\n",
       " 'she',\n",
       " 'was',\n",
       " 'considering',\n",
       " 'in',\n",
       " 'her',\n",
       " 'own',\n",
       " 'mind',\n",
       " '(']"
      ]
     },
     "execution_count": 28,
     "metadata": {},
     "output_type": "execute_result"
    }
   ],
   "source": [
    "alice_words[:100]"
   ]
  },
  {
   "cell_type": "code",
   "execution_count": 29,
   "metadata": {
    "colab": {
     "base_uri": "https://localhost:8080/",
     "height": 34
    },
    "colab_type": "code",
    "id": "mw2x2kg-qCbH",
    "outputId": "736effce-5959-4dc5-cbe7-bf782eff5d1a"
   },
   "outputs": [
    {
     "data": {
      "text/plain": [
       "34724"
      ]
     },
     "execution_count": 29,
     "metadata": {},
     "output_type": "execute_result"
    }
   ],
   "source": [
    "len(alice_words)"
   ]
  },
  {
   "cell_type": "code",
   "execution_count": 30,
   "metadata": {
    "colab": {},
    "colab_type": "code",
    "id": "mS1pNJMYqCbK"
   },
   "outputs": [],
   "source": [
    "vocab = set(alice_words)"
   ]
  },
  {
   "cell_type": "code",
   "execution_count": 31,
   "metadata": {
    "colab": {
     "base_uri": "https://localhost:8080/",
     "height": 34
    },
    "colab_type": "code",
    "id": "977ottKOqCbM",
    "outputId": "d25bb9fa-c4cd-4732-b0f0-ad4139c2c8c4"
   },
   "outputs": [
    {
     "data": {
      "text/plain": [
       "2687"
      ]
     },
     "execution_count": 31,
     "metadata": {},
     "output_type": "execute_result"
    }
   ],
   "source": [
    "len(vocab)"
   ]
  },
  {
   "cell_type": "markdown",
   "metadata": {
    "colab_type": "text",
    "id": "upeZp39tMyKj"
   },
   "source": [
    "## Dictionaries for converting index to word and back"
   ]
  },
  {
   "cell_type": "code",
   "execution_count": 32,
   "metadata": {
    "colab": {},
    "colab_type": "code",
    "id": "EfA7HAoFqCbO"
   },
   "outputs": [],
   "source": [
    "index_to_word = {i: word for i, word in enumerate(vocab)}"
   ]
  },
  {
   "cell_type": "code",
   "execution_count": 33,
   "metadata": {
    "colab": {
     "base_uri": "https://localhost:8080/",
     "height": 17034
    },
    "colab_type": "code",
    "id": "-nUTXShdqCbQ",
    "outputId": "c2b94063-7c47-481a-9f1a-4876ae54334a"
   },
   "outputs": [
    {
     "data": {
      "text/plain": [
       "{0: 'sudden',\n",
       " 1: 'none',\n",
       " 2: 'chanced',\n",
       " 3: 'ours',\n",
       " 4: 'impatient',\n",
       " 5: 'panted',\n",
       " 6: 'ourselves',\n",
       " 7: 'waiting',\n",
       " 8: 'wonder',\n",
       " 9: 'flock',\n",
       " 10: 'upset',\n",
       " 11: 'pigs',\n",
       " 12: 'using',\n",
       " 13: 'affair',\n",
       " 14: 'spite',\n",
       " 15: 'field',\n",
       " 16: 'branch',\n",
       " 17: 'whose',\n",
       " 18: 'fast',\n",
       " 19: 'one',\n",
       " 20: 'late',\n",
       " 21: '[',\n",
       " 22: 'fitted',\n",
       " 23: 'ridges',\n",
       " 24: 'joined',\n",
       " 25: 'mice',\n",
       " 26: 'nearly',\n",
       " 27: 'panting',\n",
       " 28: 'pause',\n",
       " 29: 'provoking',\n",
       " 30: '_',\n",
       " 31: 'pretending',\n",
       " 32: 'lad',\n",
       " 33: 'know',\n",
       " 34: 'coaxing',\n",
       " 35: 'rosetree',\n",
       " 36: 'star',\n",
       " 37: 'welcome',\n",
       " 38: 'ordered',\n",
       " 39: 'merely',\n",
       " 40: 'suppressed',\n",
       " 41: 'unimportant',\n",
       " 42: 'nervous',\n",
       " 43: 'indeed',\n",
       " 44: 'clean',\n",
       " 45: 'book',\n",
       " 46: 'shower',\n",
       " 47: 'coast',\n",
       " 48: 'engraved',\n",
       " 49: 'important',\n",
       " 50: 'fluttered',\n",
       " 51: 'wet',\n",
       " 52: 'weeks',\n",
       " 53: 'flown',\n",
       " 54: 'giving',\n",
       " 55: 'quick',\n",
       " 56: 'throwing',\n",
       " 57: 'list',\n",
       " 58: 'snail',\n",
       " 59: 'punching',\n",
       " 60: \"dinah's\",\n",
       " 61: 'makes',\n",
       " 62: 'fourth',\n",
       " 63: 'powdered',\n",
       " 64: 'sun',\n",
       " 65: 'flapper',\n",
       " 66: 'certain',\n",
       " 67: 'window',\n",
       " 68: \"i've\",\n",
       " 69: 'goes',\n",
       " 70: 'men',\n",
       " 71: 'treacle',\n",
       " 72: 'hungry',\n",
       " 73: 'insolence',\n",
       " 74: 'bend',\n",
       " 75: 'judge',\n",
       " 76: 'encouraging',\n",
       " 77: 'shoes',\n",
       " 78: 'glad',\n",
       " 79: 'smiling',\n",
       " 80: 'asking',\n",
       " 81: 'contradicted',\n",
       " 82: 'closely',\n",
       " 83: 'viiqwerty',\n",
       " 84: \"isn't\",\n",
       " 85: 'whiles',\n",
       " 86: 'rubbed',\n",
       " 87: 'lips',\n",
       " 88: 'says',\n",
       " 89: 'laughing',\n",
       " 90: \"footman's\",\n",
       " 91: 'twist',\n",
       " 92: 'waited',\n",
       " 93: 'take',\n",
       " 94: 'means',\n",
       " 95: 'far',\n",
       " 96: 'beg',\n",
       " 97: 'comfort',\n",
       " 98: 'indignantly',\n",
       " 99: 'hedges',\n",
       " 100: 'until',\n",
       " 101: 'pine',\n",
       " 102: \"'tis\",\n",
       " 103: 'wondered',\n",
       " 104: 'shall',\n",
       " 105: 'violent',\n",
       " 106: 'scrambling',\n",
       " 107: 'ridge',\n",
       " 108: 'horse',\n",
       " 109: 'content',\n",
       " 110: 'have',\n",
       " 111: 'esq',\n",
       " 112: 'large',\n",
       " 113: 'rules',\n",
       " 114: 'or',\n",
       " 115: \"won't\",\n",
       " 116: 'patriotic',\n",
       " 117: 'caught',\n",
       " 118: '3',\n",
       " 119: 'move',\n",
       " 120: 'growls',\n",
       " 121: 'tureen',\n",
       " 122: 'kettle',\n",
       " 123: 'loveliest',\n",
       " 124: 'morning',\n",
       " 125: 'ravens',\n",
       " 126: 'consented',\n",
       " 127: 'see',\n",
       " 128: 'silence',\n",
       " 129: 'larger',\n",
       " 130: 'wore',\n",
       " 131: 'ferrets',\n",
       " 132: 'wash',\n",
       " 133: 'carrollqwerty',\n",
       " 134: 'beast',\n",
       " 135: 'forgetting',\n",
       " 136: 'doubled',\n",
       " 137: 'signed',\n",
       " 138: 'company',\n",
       " 139: 'height',\n",
       " 140: 'fashion',\n",
       " 141: 'pigeon',\n",
       " 142: 'teacups',\n",
       " 143: 'flew',\n",
       " 144: 'seemed',\n",
       " 145: 'millennium',\n",
       " 146: 'leaning',\n",
       " 147: 'water',\n",
       " 148: 'set',\n",
       " 149: 'curving',\n",
       " 150: 'extras',\n",
       " 151: 'elegant',\n",
       " 152: 'uglify',\n",
       " 153: 'whatever',\n",
       " 154: 'brown',\n",
       " 155: 'apple',\n",
       " 156: 'dear',\n",
       " 157: 'fireplace',\n",
       " 158: 'began',\n",
       " 159: 'slowly',\n",
       " 160: \"that's\",\n",
       " 161: 'jurymen',\n",
       " 162: 'gravely',\n",
       " 163: \"weren't\",\n",
       " 164: 'courtiers',\n",
       " 165: 'stolen',\n",
       " 166: 'mouth',\n",
       " 167: 'peeping',\n",
       " 168: 'subjects',\n",
       " 169: 'ordering',\n",
       " 170: 'corner',\n",
       " 171: 'general',\n",
       " 172: 'wife',\n",
       " 173: 'oneself',\n",
       " 174: 'cares',\n",
       " 175: 'age',\n",
       " 176: 'yelled',\n",
       " 177: 'whispers',\n",
       " 178: 'give',\n",
       " 179: 'myself',\n",
       " 180: 'went',\n",
       " 181: 'fairly',\n",
       " 182: 'accident',\n",
       " 183: 'fight',\n",
       " 184: 'happen',\n",
       " 185: 'smile',\n",
       " 186: 'thunderstorm',\n",
       " 187: 'stirring',\n",
       " 188: 'calmly',\n",
       " 189: 'house',\n",
       " 190: 'longitude',\n",
       " 191: 'common',\n",
       " 192: 'send',\n",
       " 193: 'memory',\n",
       " 194: 'verdict',\n",
       " 195: 'friend',\n",
       " 196: 'above',\n",
       " 197: 'evidenceqwerty',\n",
       " 198: 'feather',\n",
       " 199: 'own',\n",
       " 200: 'fairy',\n",
       " 201: 'chatte',\n",
       " 202: 'teaching',\n",
       " 203: 'thoughts',\n",
       " 204: 'tales',\n",
       " 205: 'singqwerty',\n",
       " 206: 'stingy',\n",
       " 207: 'quadrilleqwerty',\n",
       " 208: 'seeing',\n",
       " 209: 'followed',\n",
       " 210: 'variations',\n",
       " 211: 'inquisitively',\n",
       " 212: 'how',\n",
       " 213: 'passion',\n",
       " 214: 'canterbury',\n",
       " 215: 'sorry',\n",
       " 216: 'qwerty`that',\n",
       " 217: 'trial',\n",
       " 218: 'note',\n",
       " 219: 'simpleton',\n",
       " 220: 'doubtfully',\n",
       " 221: 'tucked',\n",
       " 222: 'telescope',\n",
       " 223: 'trumpet',\n",
       " 224: 'recovered',\n",
       " 225: 'existence',\n",
       " 226: 'axes',\n",
       " 227: 'question',\n",
       " 228: 'seven',\n",
       " 229: 'lie',\n",
       " 230: 'lower',\n",
       " 231: 'haste',\n",
       " 232: 'offer',\n",
       " 233: 'subdued',\n",
       " 234: 'desks',\n",
       " 235: 'cheeks',\n",
       " 236: 'saucepan',\n",
       " 237: 'burn',\n",
       " 238: 'name',\n",
       " 239: 'assembled',\n",
       " 240: 'engine',\n",
       " 241: 'upon',\n",
       " 242: 'use',\n",
       " 243: 'almost',\n",
       " 244: 'bathing',\n",
       " 245: 'plan',\n",
       " 246: 'skimming',\n",
       " 247: 'desperate',\n",
       " 248: 'uncivil',\n",
       " 249: 'march',\n",
       " 250: 'occurred',\n",
       " 251: 'inside',\n",
       " 252: 'grins',\n",
       " 253: 'annoy',\n",
       " 254: 'persons',\n",
       " 255: 'places',\n",
       " 256: 'older',\n",
       " 257: 'living',\n",
       " 258: 'looking',\n",
       " 259: 'worried',\n",
       " 260: 'protection',\n",
       " 261: 'must',\n",
       " 262: 'advice',\n",
       " 263: 'undoing',\n",
       " 264: 'trying',\n",
       " 265: 'miss',\n",
       " 266: 'directly',\n",
       " 267: 'airs',\n",
       " 268: 'delight',\n",
       " 269: 'boy',\n",
       " 270: \"puppy's\",\n",
       " 271: \"everything's\",\n",
       " 272: 'meeting',\n",
       " 273: 'confusing',\n",
       " 274: 'immediate',\n",
       " 275: 'became',\n",
       " 276: 'once',\n",
       " 277: 'neatly',\n",
       " 278: 'w',\n",
       " 279: 'wants',\n",
       " 280: 'along',\n",
       " 281: 'boots',\n",
       " 282: 'waistcoat',\n",
       " 283: 'sneeze',\n",
       " 284: 'mushroom',\n",
       " 285: 'joys',\n",
       " 286: 'upright',\n",
       " 287: 'stigand',\n",
       " 288: 'taste',\n",
       " 289: 't',\n",
       " 290: 'camomile',\n",
       " 291: 'ugly',\n",
       " 292: 'happy',\n",
       " 293: 'bye',\n",
       " 294: 'hall',\n",
       " 295: 'lives',\n",
       " 296: 'executed',\n",
       " 297: 'flappers',\n",
       " 298: 'settling',\n",
       " 299: 'making',\n",
       " 300: 'for',\n",
       " 301: 'burnt',\n",
       " 302: 'home',\n",
       " 303: 'struck',\n",
       " 304: 'learning',\n",
       " 305: 'mustard',\n",
       " 306: 'coils',\n",
       " 307: 'ought',\n",
       " 308: 'mallets',\n",
       " 309: 'extra',\n",
       " 310: 'person',\n",
       " 311: 'from',\n",
       " 312: 'master',\n",
       " 313: 'draw',\n",
       " 314: 'difficult',\n",
       " 315: 'stamping',\n",
       " 316: 'exact',\n",
       " 317: 'becoming',\n",
       " 318: 'condemn',\n",
       " 319: 'shaking',\n",
       " 320: 'upstairs',\n",
       " 321: 'miserable',\n",
       " 322: 'so',\n",
       " 323: 'opposite',\n",
       " 324: 'permitted',\n",
       " 325: 'lesson',\n",
       " 326: 'sternly',\n",
       " 327: 'kindly',\n",
       " 328: 'viqwerty',\n",
       " 329: 'loud',\n",
       " 330: 'lodging',\n",
       " 331: 'turning',\n",
       " 332: 'dig',\n",
       " 333: 'speak',\n",
       " 334: 'dreaming',\n",
       " 335: 'smoking',\n",
       " 336: 'case',\n",
       " 337: 'backs',\n",
       " 338: 'licking',\n",
       " 339: 'rabbits',\n",
       " 340: 'shyly',\n",
       " 341: 'sentenced',\n",
       " 342: 'answer',\n",
       " 343: 'terribly',\n",
       " 344: 'bitter',\n",
       " 345: 'nasty',\n",
       " 346: 'handsome',\n",
       " 347: 'dreadfully',\n",
       " 348: 'riddles',\n",
       " 349: 'buttered',\n",
       " 350: 'charges',\n",
       " 351: 'roses',\n",
       " 352: 'inches',\n",
       " 353: 'fellow',\n",
       " 354: 'footmen',\n",
       " 355: 'mile',\n",
       " 356: 'wretched',\n",
       " 357: 'xiqwerty',\n",
       " 358: 'lifted',\n",
       " 359: 'curtsey',\n",
       " 360: 'deeply',\n",
       " 361: 'her',\n",
       " 362: 'telling',\n",
       " 363: 'everything',\n",
       " 364: 'slates',\n",
       " 365: 'irritated',\n",
       " 366: 'printed',\n",
       " 367: 'thin',\n",
       " 368: 'gryphon',\n",
       " 369: 'figure',\n",
       " 370: 'rock',\n",
       " 371: 'interesting',\n",
       " 372: 'pleasure',\n",
       " 373: 'counting',\n",
       " 374: 'branches',\n",
       " 375: 'ma',\n",
       " 376: 'pence',\n",
       " 377: 'clapping',\n",
       " 378: 'cost',\n",
       " 379: 'cartwheels',\n",
       " 380: 'leant',\n",
       " 381: 'finger',\n",
       " 382: 'cry',\n",
       " 383: 'such',\n",
       " 384: 'dripping',\n",
       " 385: 'broken',\n",
       " 386: 'day',\n",
       " 387: 'quarrelled',\n",
       " 388: 'off',\n",
       " 389: 'bones',\n",
       " 390: \"can't\",\n",
       " 391: \"mouse's\",\n",
       " 392: 'ink',\n",
       " 393: 'yelp',\n",
       " 394: 'sensation',\n",
       " 395: 'lewis',\n",
       " 396: 'sir',\n",
       " 397: 'william',\n",
       " 398: 'paper',\n",
       " 399: 'geography',\n",
       " 400: 'idiot',\n",
       " 401: 'remark',\n",
       " 402: 'easily',\n",
       " 403: 'birds',\n",
       " 404: 'pulled',\n",
       " 405: 'happened',\n",
       " 406: 'modern',\n",
       " 407: 'maps',\n",
       " 408: 'believe',\n",
       " 409: 'mean',\n",
       " 410: 'ground',\n",
       " 411: 'game',\n",
       " 412: 'muttered',\n",
       " 413: 'accounting',\n",
       " 414: 'line',\n",
       " 415: 'cats',\n",
       " 416: 'frame',\n",
       " 417: 'bed',\n",
       " 418: 'conversations',\n",
       " 419: 'order',\n",
       " 420: 'appear',\n",
       " 421: 'creatures',\n",
       " 422: 'shark',\n",
       " 423: 'was',\n",
       " 424: 'invited',\n",
       " 425: 'ada',\n",
       " 426: 'yard',\n",
       " 427: 'really',\n",
       " 428: 'sky',\n",
       " 429: 'mournful',\n",
       " 430: 'ways',\n",
       " 431: 'tried',\n",
       " 432: 'eye',\n",
       " 433: 'carrier',\n",
       " 434: 'doorway',\n",
       " 435: 'hm',\n",
       " 436: 'twice',\n",
       " 437: 'stoop',\n",
       " 438: 'rose',\n",
       " 439: 'anxiously',\n",
       " 440: 'teases',\n",
       " 441: 'sooner',\n",
       " 442: 'save',\n",
       " 443: 'beasts',\n",
       " 444: 'death',\n",
       " 445: 'yawning',\n",
       " 446: 'prettier',\n",
       " 447: \"wouldn't\",\n",
       " 448: 'seem',\n",
       " 449: 'puffed',\n",
       " 450: 'seems',\n",
       " 451: 'brushing',\n",
       " 452: 'tumbling',\n",
       " 453: 'railway',\n",
       " 454: 'shriek',\n",
       " 455: 'collected',\n",
       " 456: 'examine',\n",
       " 457: 'splashed',\n",
       " 458: 'beauti',\n",
       " 459: 'pan',\n",
       " 460: 'screaming',\n",
       " 461: 'only',\n",
       " 462: 'sad',\n",
       " 463: 'minding',\n",
       " 464: 'changed',\n",
       " 465: 'uncomfortably',\n",
       " 466: 'feel',\n",
       " 467: 'queerest',\n",
       " 468: 'bleeds',\n",
       " 469: 'knuckles',\n",
       " 470: 'key',\n",
       " 471: 'carry',\n",
       " 472: 'questions',\n",
       " 473: 'shrinking',\n",
       " 474: 'fulcrum',\n",
       " 475: 'bringing',\n",
       " 476: 'antipathies',\n",
       " 477: 'more',\n",
       " 478: \"they're\",\n",
       " 479: \"they've\",\n",
       " 480: 'butter',\n",
       " 481: 'toast',\n",
       " 482: 'were',\n",
       " 483: 'considering',\n",
       " 484: 'hurriedly',\n",
       " 485: 'bowed',\n",
       " 486: 'depends',\n",
       " 487: 'sounds',\n",
       " 488: 'trickling',\n",
       " 489: 'ledge',\n",
       " 490: 'rush',\n",
       " 491: 'made',\n",
       " 492: 'stuff',\n",
       " 493: 'riddle',\n",
       " 494: 'fanning',\n",
       " 495: 'pair',\n",
       " 496: 'denies',\n",
       " 497: 'crowded',\n",
       " 498: 'feared',\n",
       " 499: 'iiqwerty',\n",
       " 500: 'back',\n",
       " 501: 'miles',\n",
       " 502: 'can',\n",
       " 503: 'catching',\n",
       " 504: 'newspapers',\n",
       " 505: '`the',\n",
       " 506: 'bore',\n",
       " 507: 'soldiers',\n",
       " 508: 'sharp',\n",
       " 509: 'changing',\n",
       " 510: 'stop',\n",
       " 511: 'bottom',\n",
       " 512: 'treading',\n",
       " 513: 'askance',\n",
       " 514: 'neighbour',\n",
       " 515: 'farm',\n",
       " 516: 'milk',\n",
       " 517: 'shrink',\n",
       " 518: 'moment',\n",
       " 519: 'find',\n",
       " 520: 'children',\n",
       " 521: 'fine',\n",
       " 522: 'here',\n",
       " 523: 'baked',\n",
       " 524: 'actually',\n",
       " 525: 'either',\n",
       " 526: 'steam',\n",
       " 527: 'rapped',\n",
       " 528: 'magpie',\n",
       " 529: 'standing',\n",
       " 530: ':',\n",
       " 531: 'course',\n",
       " 532: 'different',\n",
       " 533: 'sh',\n",
       " 534: 'execution',\n",
       " 535: 'energetic',\n",
       " 536: 'imitated',\n",
       " 537: 'heels',\n",
       " 538: 'taller',\n",
       " 539: 'rippling',\n",
       " 540: 'vinegar',\n",
       " 541: 'likely',\n",
       " 542: 'man',\n",
       " 543: 'sure',\n",
       " 544: 'understood',\n",
       " 545: 'most',\n",
       " 546: 'hopeful',\n",
       " 547: 'eggs',\n",
       " 548: 'helped',\n",
       " 549: 'died',\n",
       " 550: 'jumping',\n",
       " 551: 'why',\n",
       " 552: 'promised',\n",
       " 553: 'onions',\n",
       " 554: 'perhaps',\n",
       " 555: 'not',\n",
       " 556: 'breath',\n",
       " 557: 'till',\n",
       " 558: 'tale',\n",
       " 559: 'pressing',\n",
       " 560: 'summer',\n",
       " 561: \"not'\",\n",
       " 562: 'mischief',\n",
       " 563: 'dodged',\n",
       " 564: 'curly',\n",
       " 565: 'drew',\n",
       " 566: 'waist',\n",
       " 567: 'longer',\n",
       " 568: 'grow',\n",
       " 569: 'somewhere',\n",
       " 570: 'sugar',\n",
       " 571: 'narrow',\n",
       " 572: 'knows',\n",
       " 573: 'plates',\n",
       " 574: \"he'll\",\n",
       " 575: 'rearing',\n",
       " 576: 'eyelids',\n",
       " 577: 'fender',\n",
       " 578: 'better',\n",
       " 579: 'falling',\n",
       " 580: \"shan't\",\n",
       " 581: 'personal',\n",
       " 582: 'nursing',\n",
       " 583: 'fills',\n",
       " 584: \"mayn't\",\n",
       " 585: 'rattle',\n",
       " 586: 'out',\n",
       " 587: 'evening',\n",
       " 588: 'he',\n",
       " 589: 'pink',\n",
       " 590: 'catch',\n",
       " 591: 'slightest',\n",
       " 592: 'pretty',\n",
       " 593: 'interrupted',\n",
       " 594: 'qwerty`',\n",
       " 595: 'position',\n",
       " 596: 'nibbled',\n",
       " 597: 'clinging',\n",
       " 598: 'longed',\n",
       " 599: 'turned',\n",
       " 600: 'games',\n",
       " 601: 'nurse',\n",
       " 602: 'finds',\n",
       " 603: 'mark',\n",
       " 604: 'nicely',\n",
       " 605: 'hat',\n",
       " 606: 'quietly',\n",
       " 607: 'jumped',\n",
       " 608: 'hjckrrh',\n",
       " 609: 'invent',\n",
       " 610: 'instantly',\n",
       " 611: 'round',\n",
       " 612: 'listening',\n",
       " 613: 'fact',\n",
       " 614: 'clasped',\n",
       " 615: 'cushion',\n",
       " 616: 'scream',\n",
       " 617: 'losing',\n",
       " 618: '-',\n",
       " 619: 'way',\n",
       " 620: 'laid',\n",
       " 621: 'finish',\n",
       " 622: 'croqueted',\n",
       " 623: 'noise',\n",
       " 624: 'trampled',\n",
       " 625: 'over',\n",
       " 626: 'opening',\n",
       " 627: 'pot',\n",
       " 628: 'birthday',\n",
       " 629: 'england',\n",
       " 630: 'evidence',\n",
       " 631: 'partners',\n",
       " 632: 'caucus',\n",
       " 633: 'hare',\n",
       " 634: 'hear',\n",
       " 635: 'land',\n",
       " 636: 'clearer',\n",
       " 637: 'woke',\n",
       " 638: 'remarkable',\n",
       " 639: 'neither',\n",
       " 640: 'hearth',\n",
       " 641: 'golden',\n",
       " 642: 'arithmetic',\n",
       " 643: 'someone',\n",
       " 644: 'led',\n",
       " 645: 'best',\n",
       " 646: 'submitted',\n",
       " 647: 'weak',\n",
       " 648: 'sorrow',\n",
       " 649: 'tiptoe',\n",
       " 650: 'chop',\n",
       " 651: 'rattling',\n",
       " 652: 'herself',\n",
       " 653: 'cake',\n",
       " 654: 'received',\n",
       " 655: 'hanging',\n",
       " 656: 'angrily',\n",
       " 657: \"executioner's\",\n",
       " 658: 'those',\n",
       " 659: 'written',\n",
       " 660: 'bats',\n",
       " 661: 'dinn',\n",
       " 662: 'rubbing',\n",
       " 663: 'dropping',\n",
       " 664: 'pointing',\n",
       " 665: 'tut',\n",
       " 666: 'triumphantly',\n",
       " 667: 'dunce',\n",
       " 668: 'beating',\n",
       " 669: 'directed',\n",
       " 670: 'remarked',\n",
       " 671: 'bright',\n",
       " 672: 'sit',\n",
       " 673: 'going',\n",
       " 674: 'adventures',\n",
       " 675: 'frowning',\n",
       " 676: 'execute',\n",
       " 677: 'altogether',\n",
       " 678: 'knock',\n",
       " 679: 'they',\n",
       " 680: 'whistle',\n",
       " 681: 'fan',\n",
       " 682: 'feelings',\n",
       " 683: 'yesterday',\n",
       " 684: 'stopped',\n",
       " 685: 'crown',\n",
       " 686: 'blow',\n",
       " 687: 'sneezing',\n",
       " 688: 'dipped',\n",
       " 689: 'finishing',\n",
       " 690: 'things',\n",
       " 691: \"she's\",\n",
       " 692: '`catch',\n",
       " 693: 'livery',\n",
       " 694: 'ready',\n",
       " 695: 'crust',\n",
       " 696: 'world',\n",
       " 697: 'lowing',\n",
       " 698: 'occasional',\n",
       " 699: \"never'\",\n",
       " 700: 'hearts',\n",
       " 701: 'doubtful',\n",
       " 702: 'sound',\n",
       " 703: 'learn',\n",
       " 704: 'matter',\n",
       " 705: 'often',\n",
       " 706: 'iqwerty',\n",
       " 707: 'twinkled',\n",
       " 708: 'corners',\n",
       " 709: 'honour',\n",
       " 710: 'attends',\n",
       " 711: 'to',\n",
       " 712: 'kept',\n",
       " 713: 'bone',\n",
       " 714: 'tide',\n",
       " 715: 'pop',\n",
       " 716: 'snappishly',\n",
       " 717: 'drawling',\n",
       " 718: 'respectable',\n",
       " 719: 'cart',\n",
       " 720: 'rich',\n",
       " 721: 'idiotic',\n",
       " 722: 'hearing',\n",
       " 723: 'race',\n",
       " 724: 'already',\n",
       " 725: 'hoped',\n",
       " 726: 'alarmed',\n",
       " 727: 'crimson',\n",
       " 728: 'guilt',\n",
       " 729: 'noticed',\n",
       " 730: 'mercia',\n",
       " 731: 'body',\n",
       " 732: 'good',\n",
       " 733: 'chuckled',\n",
       " 734: 'soo',\n",
       " 735: 'soon',\n",
       " 736: 'liked',\n",
       " 737: 'reasons',\n",
       " 738: 'witness',\n",
       " 739: 'wonderlandqwerty',\n",
       " 740: 'grant',\n",
       " 741: 'crab',\n",
       " 742: 'bat',\n",
       " 743: 'stool',\n",
       " 744: 'seaography',\n",
       " 745: 'curtain',\n",
       " 746: 'louder',\n",
       " 747: 'elbow',\n",
       " 748: 'always',\n",
       " 749: 'rate',\n",
       " 750: 'ixqwerty',\n",
       " 751: 'speaker',\n",
       " 752: 'swallowing',\n",
       " 753: 'ladder',\n",
       " 754: 'various',\n",
       " 755: 'ahem',\n",
       " 756: \"brother's\",\n",
       " 757: 'seals',\n",
       " 758: 'legged',\n",
       " 759: \"it's\",\n",
       " 760: 'decidedly',\n",
       " 761: 'kitchen',\n",
       " 762: 'no',\n",
       " 763: 'secret',\n",
       " 764: 'grief',\n",
       " 765: 'fall',\n",
       " 766: 'three',\n",
       " 767: 'pleaded',\n",
       " 768: 'since',\n",
       " 769: 'used',\n",
       " 770: 'distraction',\n",
       " 771: \"duchess's\",\n",
       " 772: 'still',\n",
       " 773: 'takes',\n",
       " 774: 'murdering',\n",
       " 775: 'us',\n",
       " 776: 'balls',\n",
       " 777: 'irons',\n",
       " 778: 'wake',\n",
       " 779: 'toss',\n",
       " 780: 'cautiously',\n",
       " 781: 'bent',\n",
       " 782: 'london',\n",
       " 783: 'it',\n",
       " 784: 'pretend',\n",
       " 785: 'beheading',\n",
       " 786: 'hoping',\n",
       " 787: 'fun',\n",
       " 788: 'also',\n",
       " 789: 'curled',\n",
       " 790: 'uneasily',\n",
       " 791: 'dodo',\n",
       " 792: 'puss',\n",
       " 793: 'rustled',\n",
       " 794: 'positively',\n",
       " 795: 'swallowed',\n",
       " 796: 'last',\n",
       " 797: 'argue',\n",
       " 798: \"you've\",\n",
       " 799: 'rome',\n",
       " 800: 'immense',\n",
       " 801: 'doing',\n",
       " 802: 'desk',\n",
       " 803: 'toys',\n",
       " 804: \"'qwertyhere\",\n",
       " 805: 'managed',\n",
       " 806: 'grunted',\n",
       " 807: 'writing',\n",
       " 808: 'sulky',\n",
       " 809: 'leave',\n",
       " 810: 'held',\n",
       " 811: 'shilling',\n",
       " 812: 'queen',\n",
       " 813: 'purple',\n",
       " 814: 'rule',\n",
       " 815: 'slate',\n",
       " 816: 'thirteen',\n",
       " 817: 'custody',\n",
       " 818: 'each',\n",
       " 819: 'upsetting',\n",
       " 820: 'splashing',\n",
       " 821: 'caterpillarqwerty',\n",
       " 822: 'arm',\n",
       " 823: 'likes',\n",
       " 824: 'extraordinary',\n",
       " 825: 'want',\n",
       " 826: 'perfectly',\n",
       " 827: 'squeezed',\n",
       " 828: 'crumbs',\n",
       " 829: 'plate',\n",
       " 830: 'killing',\n",
       " 831: 'disobey',\n",
       " 832: 'billqwerty',\n",
       " 833: 'mineral',\n",
       " 834: 'custard',\n",
       " 835: 'subject',\n",
       " 836: 'any',\n",
       " 837: 'surprised',\n",
       " 838: 'wide',\n",
       " 839: 'ootiful',\n",
       " 840: 'goldfish',\n",
       " 841: 'left',\n",
       " 842: 'smiled',\n",
       " 843: 'lizard',\n",
       " 844: 'truth',\n",
       " 845: 'doubling',\n",
       " 846: 'sang',\n",
       " 847: 'top',\n",
       " 848: 'atheling',\n",
       " 849: 'nevertheless',\n",
       " 850: 'near',\n",
       " 851: 'tired',\n",
       " 852: 'talking',\n",
       " 853: 'remained',\n",
       " 854: 'venture',\n",
       " 855: 'strength',\n",
       " 856: 'sluggard',\n",
       " 857: 'across',\n",
       " 858: 'advantage',\n",
       " 859: 'nonsense',\n",
       " 860: 'took',\n",
       " 861: 'salmon',\n",
       " 862: 'piece',\n",
       " 863: 'jury',\n",
       " 864: 'chapter',\n",
       " 865: 'few',\n",
       " 866: 'deny',\n",
       " 867: 'came',\n",
       " 868: 'blasts',\n",
       " 869: 'peering',\n",
       " 870: 'regular',\n",
       " 871: 'denied',\n",
       " 872: 'suppose',\n",
       " 873: 'justice',\n",
       " 874: 'cauldron',\n",
       " 875: 'ringlets',\n",
       " 876: 'agree',\n",
       " 877: 'hint',\n",
       " 878: 'eel',\n",
       " 879: 'writhing',\n",
       " 880: 'chance',\n",
       " 881: 'share',\n",
       " 882: 'tumbled',\n",
       " 883: \"we've\",\n",
       " 884: 'straightening',\n",
       " 885: 'royal',\n",
       " 886: 'declared',\n",
       " 887: 'stood',\n",
       " 888: 'whether',\n",
       " 889: 'brightened',\n",
       " 890: 'unlocking',\n",
       " 891: 'dressed',\n",
       " 892: 'ran',\n",
       " 893: 'shaped',\n",
       " 894: 'this',\n",
       " 895: 'hold',\n",
       " 896: 'advisable',\n",
       " 897: 'majesty',\n",
       " 898: 'girls',\n",
       " 899: 'tray',\n",
       " 900: 'uglifying',\n",
       " 901: 'tastes',\n",
       " 902: 'fury',\n",
       " 903: 'beau',\n",
       " 904: 'edge',\n",
       " 905: 'sink',\n",
       " 906: 'jug',\n",
       " 907: 'lock',\n",
       " 908: 'fortunately',\n",
       " 909: 'are',\n",
       " 910: 'downwards',\n",
       " 911: 'reason',\n",
       " 912: 'wonderful',\n",
       " 913: 'consultation',\n",
       " 914: 'smallest',\n",
       " 915: 'clever',\n",
       " 916: 'instance',\n",
       " 917: 'double',\n",
       " 918: 'meanwhile',\n",
       " 919: 'archbishop',\n",
       " 920: 'raving',\n",
       " 921: 'drinking',\n",
       " 922: 'alternately',\n",
       " 923: 'agony',\n",
       " 924: 'shared',\n",
       " 925: 'dreadful',\n",
       " 926: 'sobbing',\n",
       " 927: 'twelfth',\n",
       " 928: 'read',\n",
       " 929: 'delightful',\n",
       " 930: 'watching',\n",
       " 931: 'night',\n",
       " 932: 'thimble',\n",
       " 933: 'contemptuous',\n",
       " 934: 'when',\n",
       " 935: 'muscular',\n",
       " 936: 'fellows',\n",
       " 937: \"slates'll\",\n",
       " 938: 'highest',\n",
       " 939: 'push',\n",
       " 940: 'adoption',\n",
       " 941: 'safe',\n",
       " 942: 'growled',\n",
       " 943: 'doubt',\n",
       " 944: 'mistake',\n",
       " 945: 'produced',\n",
       " 946: 'startled',\n",
       " 947: 'hatters',\n",
       " 948: 'traps',\n",
       " 949: 'involved',\n",
       " 950: 'thought',\n",
       " 951: 'hippopotamus',\n",
       " 952: 'worse',\n",
       " 953: 'low',\n",
       " 954: 'qwertyyou',\n",
       " 955: 'opinion',\n",
       " 956: 'animals',\n",
       " 957: 'wait',\n",
       " 958: 'edwin',\n",
       " 959: 'help',\n",
       " 960: 'trotting',\n",
       " 961: 'throat',\n",
       " 962: 'a',\n",
       " 963: 'eager',\n",
       " 964: 'cheshire',\n",
       " 965: 'kissed',\n",
       " 966: 'curtseying',\n",
       " 967: 'conduct',\n",
       " 968: 'iiiqwerty',\n",
       " 969: 'past',\n",
       " 970: 'comfits',\n",
       " 971: 'elbows',\n",
       " 972: 'throne',\n",
       " 973: 'retire',\n",
       " 974: 'tarts',\n",
       " 975: 'brought',\n",
       " 976: 'hours',\n",
       " 977: 'loose',\n",
       " 978: 'foot',\n",
       " 979: 'fetch',\n",
       " 980: 'stand',\n",
       " 981: 'within',\n",
       " 982: 'forgotten',\n",
       " 983: 'spectacles',\n",
       " 984: '`now',\n",
       " 985: 'gather',\n",
       " 986: 'foolish',\n",
       " 987: 'experiment',\n",
       " 988: 'lose',\n",
       " 989: 'producing',\n",
       " 990: 'tempered',\n",
       " 991: 'brain',\n",
       " 992: 'france',\n",
       " 993: 'darkness',\n",
       " 994: 'elsie',\n",
       " 995: 'oop',\n",
       " 996: 'grin',\n",
       " 997: 'hide',\n",
       " 998: 'look',\n",
       " 999: 'mad',\n",
       " ...}"
      ]
     },
     "execution_count": 33,
     "metadata": {},
     "output_type": "execute_result"
    }
   ],
   "source": [
    "index_to_word "
   ]
  },
  {
   "cell_type": "code",
   "execution_count": 34,
   "metadata": {
    "colab": {},
    "colab_type": "code",
    "id": "ZnWstIe_qCbT"
   },
   "outputs": [],
   "source": [
    "word_to_index = {word: i for i, word in index_to_word.items()}"
   ]
  },
  {
   "cell_type": "code",
   "execution_count": 35,
   "metadata": {
    "colab": {
     "base_uri": "https://localhost:8080/",
     "height": 17034
    },
    "colab_type": "code",
    "id": "b0Oe9HY7qCbW",
    "outputId": "cccd77bc-f382-4078-9580-f4791976d55c"
   },
   "outputs": [
    {
     "data": {
      "text/plain": [
       "{'sudden': 0,\n",
       " 'none': 1,\n",
       " 'chanced': 2,\n",
       " 'ours': 3,\n",
       " 'impatient': 4,\n",
       " 'panted': 5,\n",
       " 'ourselves': 6,\n",
       " 'waiting': 7,\n",
       " 'wonder': 8,\n",
       " 'flock': 9,\n",
       " 'upset': 10,\n",
       " 'pigs': 11,\n",
       " 'using': 12,\n",
       " 'affair': 13,\n",
       " 'spite': 14,\n",
       " 'field': 15,\n",
       " 'branch': 16,\n",
       " 'whose': 17,\n",
       " 'fast': 18,\n",
       " 'one': 19,\n",
       " 'late': 20,\n",
       " '[': 21,\n",
       " 'fitted': 22,\n",
       " 'ridges': 23,\n",
       " 'joined': 24,\n",
       " 'mice': 25,\n",
       " 'nearly': 26,\n",
       " 'panting': 27,\n",
       " 'pause': 28,\n",
       " 'provoking': 29,\n",
       " '_': 30,\n",
       " 'pretending': 31,\n",
       " 'lad': 32,\n",
       " 'know': 33,\n",
       " 'coaxing': 34,\n",
       " 'rosetree': 35,\n",
       " 'star': 36,\n",
       " 'welcome': 37,\n",
       " 'ordered': 38,\n",
       " 'merely': 39,\n",
       " 'suppressed': 40,\n",
       " 'unimportant': 41,\n",
       " 'nervous': 42,\n",
       " 'indeed': 43,\n",
       " 'clean': 44,\n",
       " 'book': 45,\n",
       " 'shower': 46,\n",
       " 'coast': 47,\n",
       " 'engraved': 48,\n",
       " 'important': 49,\n",
       " 'fluttered': 50,\n",
       " 'wet': 51,\n",
       " 'weeks': 52,\n",
       " 'flown': 53,\n",
       " 'giving': 54,\n",
       " 'quick': 55,\n",
       " 'throwing': 56,\n",
       " 'list': 57,\n",
       " 'snail': 58,\n",
       " 'punching': 59,\n",
       " \"dinah's\": 60,\n",
       " 'makes': 61,\n",
       " 'fourth': 62,\n",
       " 'powdered': 63,\n",
       " 'sun': 64,\n",
       " 'flapper': 65,\n",
       " 'certain': 66,\n",
       " 'window': 67,\n",
       " \"i've\": 68,\n",
       " 'goes': 69,\n",
       " 'men': 70,\n",
       " 'treacle': 71,\n",
       " 'hungry': 72,\n",
       " 'insolence': 73,\n",
       " 'bend': 74,\n",
       " 'judge': 75,\n",
       " 'encouraging': 76,\n",
       " 'shoes': 77,\n",
       " 'glad': 78,\n",
       " 'smiling': 79,\n",
       " 'asking': 80,\n",
       " 'contradicted': 81,\n",
       " 'closely': 82,\n",
       " 'viiqwerty': 83,\n",
       " \"isn't\": 84,\n",
       " 'whiles': 85,\n",
       " 'rubbed': 86,\n",
       " 'lips': 87,\n",
       " 'says': 88,\n",
       " 'laughing': 89,\n",
       " \"footman's\": 90,\n",
       " 'twist': 91,\n",
       " 'waited': 92,\n",
       " 'take': 93,\n",
       " 'means': 94,\n",
       " 'far': 95,\n",
       " 'beg': 96,\n",
       " 'comfort': 97,\n",
       " 'indignantly': 98,\n",
       " 'hedges': 99,\n",
       " 'until': 100,\n",
       " 'pine': 101,\n",
       " \"'tis\": 102,\n",
       " 'wondered': 103,\n",
       " 'shall': 104,\n",
       " 'violent': 105,\n",
       " 'scrambling': 106,\n",
       " 'ridge': 107,\n",
       " 'horse': 108,\n",
       " 'content': 109,\n",
       " 'have': 110,\n",
       " 'esq': 111,\n",
       " 'large': 112,\n",
       " 'rules': 113,\n",
       " 'or': 114,\n",
       " \"won't\": 115,\n",
       " 'patriotic': 116,\n",
       " 'caught': 117,\n",
       " '3': 118,\n",
       " 'move': 119,\n",
       " 'growls': 120,\n",
       " 'tureen': 121,\n",
       " 'kettle': 122,\n",
       " 'loveliest': 123,\n",
       " 'morning': 124,\n",
       " 'ravens': 125,\n",
       " 'consented': 126,\n",
       " 'see': 127,\n",
       " 'silence': 128,\n",
       " 'larger': 129,\n",
       " 'wore': 130,\n",
       " 'ferrets': 131,\n",
       " 'wash': 132,\n",
       " 'carrollqwerty': 133,\n",
       " 'beast': 134,\n",
       " 'forgetting': 135,\n",
       " 'doubled': 136,\n",
       " 'signed': 137,\n",
       " 'company': 138,\n",
       " 'height': 139,\n",
       " 'fashion': 140,\n",
       " 'pigeon': 141,\n",
       " 'teacups': 142,\n",
       " 'flew': 143,\n",
       " 'seemed': 144,\n",
       " 'millennium': 145,\n",
       " 'leaning': 146,\n",
       " 'water': 147,\n",
       " 'set': 148,\n",
       " 'curving': 149,\n",
       " 'extras': 150,\n",
       " 'elegant': 151,\n",
       " 'uglify': 152,\n",
       " 'whatever': 153,\n",
       " 'brown': 154,\n",
       " 'apple': 155,\n",
       " 'dear': 156,\n",
       " 'fireplace': 157,\n",
       " 'began': 158,\n",
       " 'slowly': 159,\n",
       " \"that's\": 160,\n",
       " 'jurymen': 161,\n",
       " 'gravely': 162,\n",
       " \"weren't\": 163,\n",
       " 'courtiers': 164,\n",
       " 'stolen': 165,\n",
       " 'mouth': 166,\n",
       " 'peeping': 167,\n",
       " 'subjects': 168,\n",
       " 'ordering': 169,\n",
       " 'corner': 170,\n",
       " 'general': 171,\n",
       " 'wife': 172,\n",
       " 'oneself': 173,\n",
       " 'cares': 174,\n",
       " 'age': 175,\n",
       " 'yelled': 176,\n",
       " 'whispers': 177,\n",
       " 'give': 178,\n",
       " 'myself': 179,\n",
       " 'went': 180,\n",
       " 'fairly': 181,\n",
       " 'accident': 182,\n",
       " 'fight': 183,\n",
       " 'happen': 184,\n",
       " 'smile': 185,\n",
       " 'thunderstorm': 186,\n",
       " 'stirring': 187,\n",
       " 'calmly': 188,\n",
       " 'house': 189,\n",
       " 'longitude': 190,\n",
       " 'common': 191,\n",
       " 'send': 192,\n",
       " 'memory': 193,\n",
       " 'verdict': 194,\n",
       " 'friend': 195,\n",
       " 'above': 196,\n",
       " 'evidenceqwerty': 197,\n",
       " 'feather': 198,\n",
       " 'own': 199,\n",
       " 'fairy': 200,\n",
       " 'chatte': 201,\n",
       " 'teaching': 202,\n",
       " 'thoughts': 203,\n",
       " 'tales': 204,\n",
       " 'singqwerty': 205,\n",
       " 'stingy': 206,\n",
       " 'quadrilleqwerty': 207,\n",
       " 'seeing': 208,\n",
       " 'followed': 209,\n",
       " 'variations': 210,\n",
       " 'inquisitively': 211,\n",
       " 'how': 212,\n",
       " 'passion': 213,\n",
       " 'canterbury': 214,\n",
       " 'sorry': 215,\n",
       " 'qwerty`that': 216,\n",
       " 'trial': 217,\n",
       " 'note': 218,\n",
       " 'simpleton': 219,\n",
       " 'doubtfully': 220,\n",
       " 'tucked': 221,\n",
       " 'telescope': 222,\n",
       " 'trumpet': 223,\n",
       " 'recovered': 224,\n",
       " 'existence': 225,\n",
       " 'axes': 226,\n",
       " 'question': 227,\n",
       " 'seven': 228,\n",
       " 'lie': 229,\n",
       " 'lower': 230,\n",
       " 'haste': 231,\n",
       " 'offer': 232,\n",
       " 'subdued': 233,\n",
       " 'desks': 234,\n",
       " 'cheeks': 235,\n",
       " 'saucepan': 236,\n",
       " 'burn': 237,\n",
       " 'name': 238,\n",
       " 'assembled': 239,\n",
       " 'engine': 240,\n",
       " 'upon': 241,\n",
       " 'use': 242,\n",
       " 'almost': 243,\n",
       " 'bathing': 244,\n",
       " 'plan': 245,\n",
       " 'skimming': 246,\n",
       " 'desperate': 247,\n",
       " 'uncivil': 248,\n",
       " 'march': 249,\n",
       " 'occurred': 250,\n",
       " 'inside': 251,\n",
       " 'grins': 252,\n",
       " 'annoy': 253,\n",
       " 'persons': 254,\n",
       " 'places': 255,\n",
       " 'older': 256,\n",
       " 'living': 257,\n",
       " 'looking': 258,\n",
       " 'worried': 259,\n",
       " 'protection': 260,\n",
       " 'must': 261,\n",
       " 'advice': 262,\n",
       " 'undoing': 263,\n",
       " 'trying': 264,\n",
       " 'miss': 265,\n",
       " 'directly': 266,\n",
       " 'airs': 267,\n",
       " 'delight': 268,\n",
       " 'boy': 269,\n",
       " \"puppy's\": 270,\n",
       " \"everything's\": 271,\n",
       " 'meeting': 272,\n",
       " 'confusing': 273,\n",
       " 'immediate': 274,\n",
       " 'became': 275,\n",
       " 'once': 276,\n",
       " 'neatly': 277,\n",
       " 'w': 278,\n",
       " 'wants': 279,\n",
       " 'along': 280,\n",
       " 'boots': 281,\n",
       " 'waistcoat': 282,\n",
       " 'sneeze': 283,\n",
       " 'mushroom': 284,\n",
       " 'joys': 285,\n",
       " 'upright': 286,\n",
       " 'stigand': 287,\n",
       " 'taste': 288,\n",
       " 't': 289,\n",
       " 'camomile': 290,\n",
       " 'ugly': 291,\n",
       " 'happy': 292,\n",
       " 'bye': 293,\n",
       " 'hall': 294,\n",
       " 'lives': 295,\n",
       " 'executed': 296,\n",
       " 'flappers': 297,\n",
       " 'settling': 298,\n",
       " 'making': 299,\n",
       " 'for': 300,\n",
       " 'burnt': 301,\n",
       " 'home': 302,\n",
       " 'struck': 303,\n",
       " 'learning': 304,\n",
       " 'mustard': 305,\n",
       " 'coils': 306,\n",
       " 'ought': 307,\n",
       " 'mallets': 308,\n",
       " 'extra': 309,\n",
       " 'person': 310,\n",
       " 'from': 311,\n",
       " 'master': 312,\n",
       " 'draw': 313,\n",
       " 'difficult': 314,\n",
       " 'stamping': 315,\n",
       " 'exact': 316,\n",
       " 'becoming': 317,\n",
       " 'condemn': 318,\n",
       " 'shaking': 319,\n",
       " 'upstairs': 320,\n",
       " 'miserable': 321,\n",
       " 'so': 322,\n",
       " 'opposite': 323,\n",
       " 'permitted': 324,\n",
       " 'lesson': 325,\n",
       " 'sternly': 326,\n",
       " 'kindly': 327,\n",
       " 'viqwerty': 328,\n",
       " 'loud': 329,\n",
       " 'lodging': 330,\n",
       " 'turning': 331,\n",
       " 'dig': 332,\n",
       " 'speak': 333,\n",
       " 'dreaming': 334,\n",
       " 'smoking': 335,\n",
       " 'case': 336,\n",
       " 'backs': 337,\n",
       " 'licking': 338,\n",
       " 'rabbits': 339,\n",
       " 'shyly': 340,\n",
       " 'sentenced': 341,\n",
       " 'answer': 342,\n",
       " 'terribly': 343,\n",
       " 'bitter': 344,\n",
       " 'nasty': 345,\n",
       " 'handsome': 346,\n",
       " 'dreadfully': 347,\n",
       " 'riddles': 348,\n",
       " 'buttered': 349,\n",
       " 'charges': 350,\n",
       " 'roses': 351,\n",
       " 'inches': 352,\n",
       " 'fellow': 353,\n",
       " 'footmen': 354,\n",
       " 'mile': 355,\n",
       " 'wretched': 356,\n",
       " 'xiqwerty': 357,\n",
       " 'lifted': 358,\n",
       " 'curtsey': 359,\n",
       " 'deeply': 360,\n",
       " 'her': 361,\n",
       " 'telling': 362,\n",
       " 'everything': 363,\n",
       " 'slates': 364,\n",
       " 'irritated': 365,\n",
       " 'printed': 366,\n",
       " 'thin': 367,\n",
       " 'gryphon': 368,\n",
       " 'figure': 369,\n",
       " 'rock': 370,\n",
       " 'interesting': 371,\n",
       " 'pleasure': 372,\n",
       " 'counting': 373,\n",
       " 'branches': 374,\n",
       " 'ma': 375,\n",
       " 'pence': 376,\n",
       " 'clapping': 377,\n",
       " 'cost': 378,\n",
       " 'cartwheels': 379,\n",
       " 'leant': 380,\n",
       " 'finger': 381,\n",
       " 'cry': 382,\n",
       " 'such': 383,\n",
       " 'dripping': 384,\n",
       " 'broken': 385,\n",
       " 'day': 386,\n",
       " 'quarrelled': 387,\n",
       " 'off': 388,\n",
       " 'bones': 389,\n",
       " \"can't\": 390,\n",
       " \"mouse's\": 391,\n",
       " 'ink': 392,\n",
       " 'yelp': 393,\n",
       " 'sensation': 394,\n",
       " 'lewis': 395,\n",
       " 'sir': 396,\n",
       " 'william': 397,\n",
       " 'paper': 398,\n",
       " 'geography': 399,\n",
       " 'idiot': 400,\n",
       " 'remark': 401,\n",
       " 'easily': 402,\n",
       " 'birds': 403,\n",
       " 'pulled': 404,\n",
       " 'happened': 405,\n",
       " 'modern': 406,\n",
       " 'maps': 407,\n",
       " 'believe': 408,\n",
       " 'mean': 409,\n",
       " 'ground': 410,\n",
       " 'game': 411,\n",
       " 'muttered': 412,\n",
       " 'accounting': 413,\n",
       " 'line': 414,\n",
       " 'cats': 415,\n",
       " 'frame': 416,\n",
       " 'bed': 417,\n",
       " 'conversations': 418,\n",
       " 'order': 419,\n",
       " 'appear': 420,\n",
       " 'creatures': 421,\n",
       " 'shark': 422,\n",
       " 'was': 423,\n",
       " 'invited': 424,\n",
       " 'ada': 425,\n",
       " 'yard': 426,\n",
       " 'really': 427,\n",
       " 'sky': 428,\n",
       " 'mournful': 429,\n",
       " 'ways': 430,\n",
       " 'tried': 431,\n",
       " 'eye': 432,\n",
       " 'carrier': 433,\n",
       " 'doorway': 434,\n",
       " 'hm': 435,\n",
       " 'twice': 436,\n",
       " 'stoop': 437,\n",
       " 'rose': 438,\n",
       " 'anxiously': 439,\n",
       " 'teases': 440,\n",
       " 'sooner': 441,\n",
       " 'save': 442,\n",
       " 'beasts': 443,\n",
       " 'death': 444,\n",
       " 'yawning': 445,\n",
       " 'prettier': 446,\n",
       " \"wouldn't\": 447,\n",
       " 'seem': 448,\n",
       " 'puffed': 449,\n",
       " 'seems': 450,\n",
       " 'brushing': 451,\n",
       " 'tumbling': 452,\n",
       " 'railway': 453,\n",
       " 'shriek': 454,\n",
       " 'collected': 455,\n",
       " 'examine': 456,\n",
       " 'splashed': 457,\n",
       " 'beauti': 458,\n",
       " 'pan': 459,\n",
       " 'screaming': 460,\n",
       " 'only': 461,\n",
       " 'sad': 462,\n",
       " 'minding': 463,\n",
       " 'changed': 464,\n",
       " 'uncomfortably': 465,\n",
       " 'feel': 466,\n",
       " 'queerest': 467,\n",
       " 'bleeds': 468,\n",
       " 'knuckles': 469,\n",
       " 'key': 470,\n",
       " 'carry': 471,\n",
       " 'questions': 472,\n",
       " 'shrinking': 473,\n",
       " 'fulcrum': 474,\n",
       " 'bringing': 475,\n",
       " 'antipathies': 476,\n",
       " 'more': 477,\n",
       " \"they're\": 478,\n",
       " \"they've\": 479,\n",
       " 'butter': 480,\n",
       " 'toast': 481,\n",
       " 'were': 482,\n",
       " 'considering': 483,\n",
       " 'hurriedly': 484,\n",
       " 'bowed': 485,\n",
       " 'depends': 486,\n",
       " 'sounds': 487,\n",
       " 'trickling': 488,\n",
       " 'ledge': 489,\n",
       " 'rush': 490,\n",
       " 'made': 491,\n",
       " 'stuff': 492,\n",
       " 'riddle': 493,\n",
       " 'fanning': 494,\n",
       " 'pair': 495,\n",
       " 'denies': 496,\n",
       " 'crowded': 497,\n",
       " 'feared': 498,\n",
       " 'iiqwerty': 499,\n",
       " 'back': 500,\n",
       " 'miles': 501,\n",
       " 'can': 502,\n",
       " 'catching': 503,\n",
       " 'newspapers': 504,\n",
       " '`the': 505,\n",
       " 'bore': 506,\n",
       " 'soldiers': 507,\n",
       " 'sharp': 508,\n",
       " 'changing': 509,\n",
       " 'stop': 510,\n",
       " 'bottom': 511,\n",
       " 'treading': 512,\n",
       " 'askance': 513,\n",
       " 'neighbour': 514,\n",
       " 'farm': 515,\n",
       " 'milk': 516,\n",
       " 'shrink': 517,\n",
       " 'moment': 518,\n",
       " 'find': 519,\n",
       " 'children': 520,\n",
       " 'fine': 521,\n",
       " 'here': 522,\n",
       " 'baked': 523,\n",
       " 'actually': 524,\n",
       " 'either': 525,\n",
       " 'steam': 526,\n",
       " 'rapped': 527,\n",
       " 'magpie': 528,\n",
       " 'standing': 529,\n",
       " ':': 530,\n",
       " 'course': 531,\n",
       " 'different': 532,\n",
       " 'sh': 533,\n",
       " 'execution': 534,\n",
       " 'energetic': 535,\n",
       " 'imitated': 536,\n",
       " 'heels': 537,\n",
       " 'taller': 538,\n",
       " 'rippling': 539,\n",
       " 'vinegar': 540,\n",
       " 'likely': 541,\n",
       " 'man': 542,\n",
       " 'sure': 543,\n",
       " 'understood': 544,\n",
       " 'most': 545,\n",
       " 'hopeful': 546,\n",
       " 'eggs': 547,\n",
       " 'helped': 548,\n",
       " 'died': 549,\n",
       " 'jumping': 550,\n",
       " 'why': 551,\n",
       " 'promised': 552,\n",
       " 'onions': 553,\n",
       " 'perhaps': 554,\n",
       " 'not': 555,\n",
       " 'breath': 556,\n",
       " 'till': 557,\n",
       " 'tale': 558,\n",
       " 'pressing': 559,\n",
       " 'summer': 560,\n",
       " \"not'\": 561,\n",
       " 'mischief': 562,\n",
       " 'dodged': 563,\n",
       " 'curly': 564,\n",
       " 'drew': 565,\n",
       " 'waist': 566,\n",
       " 'longer': 567,\n",
       " 'grow': 568,\n",
       " 'somewhere': 569,\n",
       " 'sugar': 570,\n",
       " 'narrow': 571,\n",
       " 'knows': 572,\n",
       " 'plates': 573,\n",
       " \"he'll\": 574,\n",
       " 'rearing': 575,\n",
       " 'eyelids': 576,\n",
       " 'fender': 577,\n",
       " 'better': 578,\n",
       " 'falling': 579,\n",
       " \"shan't\": 580,\n",
       " 'personal': 581,\n",
       " 'nursing': 582,\n",
       " 'fills': 583,\n",
       " \"mayn't\": 584,\n",
       " 'rattle': 585,\n",
       " 'out': 586,\n",
       " 'evening': 587,\n",
       " 'he': 588,\n",
       " 'pink': 589,\n",
       " 'catch': 590,\n",
       " 'slightest': 591,\n",
       " 'pretty': 592,\n",
       " 'interrupted': 593,\n",
       " 'qwerty`': 594,\n",
       " 'position': 595,\n",
       " 'nibbled': 596,\n",
       " 'clinging': 597,\n",
       " 'longed': 598,\n",
       " 'turned': 599,\n",
       " 'games': 600,\n",
       " 'nurse': 601,\n",
       " 'finds': 602,\n",
       " 'mark': 603,\n",
       " 'nicely': 604,\n",
       " 'hat': 605,\n",
       " 'quietly': 606,\n",
       " 'jumped': 607,\n",
       " 'hjckrrh': 608,\n",
       " 'invent': 609,\n",
       " 'instantly': 610,\n",
       " 'round': 611,\n",
       " 'listening': 612,\n",
       " 'fact': 613,\n",
       " 'clasped': 614,\n",
       " 'cushion': 615,\n",
       " 'scream': 616,\n",
       " 'losing': 617,\n",
       " '-': 618,\n",
       " 'way': 619,\n",
       " 'laid': 620,\n",
       " 'finish': 621,\n",
       " 'croqueted': 622,\n",
       " 'noise': 623,\n",
       " 'trampled': 624,\n",
       " 'over': 625,\n",
       " 'opening': 626,\n",
       " 'pot': 627,\n",
       " 'birthday': 628,\n",
       " 'england': 629,\n",
       " 'evidence': 630,\n",
       " 'partners': 631,\n",
       " 'caucus': 632,\n",
       " 'hare': 633,\n",
       " 'hear': 634,\n",
       " 'land': 635,\n",
       " 'clearer': 636,\n",
       " 'woke': 637,\n",
       " 'remarkable': 638,\n",
       " 'neither': 639,\n",
       " 'hearth': 640,\n",
       " 'golden': 641,\n",
       " 'arithmetic': 642,\n",
       " 'someone': 643,\n",
       " 'led': 644,\n",
       " 'best': 645,\n",
       " 'submitted': 646,\n",
       " 'weak': 647,\n",
       " 'sorrow': 648,\n",
       " 'tiptoe': 649,\n",
       " 'chop': 650,\n",
       " 'rattling': 651,\n",
       " 'herself': 652,\n",
       " 'cake': 653,\n",
       " 'received': 654,\n",
       " 'hanging': 655,\n",
       " 'angrily': 656,\n",
       " \"executioner's\": 657,\n",
       " 'those': 658,\n",
       " 'written': 659,\n",
       " 'bats': 660,\n",
       " 'dinn': 661,\n",
       " 'rubbing': 662,\n",
       " 'dropping': 663,\n",
       " 'pointing': 664,\n",
       " 'tut': 665,\n",
       " 'triumphantly': 666,\n",
       " 'dunce': 667,\n",
       " 'beating': 668,\n",
       " 'directed': 669,\n",
       " 'remarked': 670,\n",
       " 'bright': 671,\n",
       " 'sit': 672,\n",
       " 'going': 673,\n",
       " 'adventures': 674,\n",
       " 'frowning': 675,\n",
       " 'execute': 676,\n",
       " 'altogether': 677,\n",
       " 'knock': 678,\n",
       " 'they': 679,\n",
       " 'whistle': 680,\n",
       " 'fan': 681,\n",
       " 'feelings': 682,\n",
       " 'yesterday': 683,\n",
       " 'stopped': 684,\n",
       " 'crown': 685,\n",
       " 'blow': 686,\n",
       " 'sneezing': 687,\n",
       " 'dipped': 688,\n",
       " 'finishing': 689,\n",
       " 'things': 690,\n",
       " \"she's\": 691,\n",
       " '`catch': 692,\n",
       " 'livery': 693,\n",
       " 'ready': 694,\n",
       " 'crust': 695,\n",
       " 'world': 696,\n",
       " 'lowing': 697,\n",
       " 'occasional': 698,\n",
       " \"never'\": 699,\n",
       " 'hearts': 700,\n",
       " 'doubtful': 701,\n",
       " 'sound': 702,\n",
       " 'learn': 703,\n",
       " 'matter': 704,\n",
       " 'often': 705,\n",
       " 'iqwerty': 706,\n",
       " 'twinkled': 707,\n",
       " 'corners': 708,\n",
       " 'honour': 709,\n",
       " 'attends': 710,\n",
       " 'to': 711,\n",
       " 'kept': 712,\n",
       " 'bone': 713,\n",
       " 'tide': 714,\n",
       " 'pop': 715,\n",
       " 'snappishly': 716,\n",
       " 'drawling': 717,\n",
       " 'respectable': 718,\n",
       " 'cart': 719,\n",
       " 'rich': 720,\n",
       " 'idiotic': 721,\n",
       " 'hearing': 722,\n",
       " 'race': 723,\n",
       " 'already': 724,\n",
       " 'hoped': 725,\n",
       " 'alarmed': 726,\n",
       " 'crimson': 727,\n",
       " 'guilt': 728,\n",
       " 'noticed': 729,\n",
       " 'mercia': 730,\n",
       " 'body': 731,\n",
       " 'good': 732,\n",
       " 'chuckled': 733,\n",
       " 'soo': 734,\n",
       " 'soon': 735,\n",
       " 'liked': 736,\n",
       " 'reasons': 737,\n",
       " 'witness': 738,\n",
       " 'wonderlandqwerty': 739,\n",
       " 'grant': 740,\n",
       " 'crab': 741,\n",
       " 'bat': 742,\n",
       " 'stool': 743,\n",
       " 'seaography': 744,\n",
       " 'curtain': 745,\n",
       " 'louder': 746,\n",
       " 'elbow': 747,\n",
       " 'always': 748,\n",
       " 'rate': 749,\n",
       " 'ixqwerty': 750,\n",
       " 'speaker': 751,\n",
       " 'swallowing': 752,\n",
       " 'ladder': 753,\n",
       " 'various': 754,\n",
       " 'ahem': 755,\n",
       " \"brother's\": 756,\n",
       " 'seals': 757,\n",
       " 'legged': 758,\n",
       " \"it's\": 759,\n",
       " 'decidedly': 760,\n",
       " 'kitchen': 761,\n",
       " 'no': 762,\n",
       " 'secret': 763,\n",
       " 'grief': 764,\n",
       " 'fall': 765,\n",
       " 'three': 766,\n",
       " 'pleaded': 767,\n",
       " 'since': 768,\n",
       " 'used': 769,\n",
       " 'distraction': 770,\n",
       " \"duchess's\": 771,\n",
       " 'still': 772,\n",
       " 'takes': 773,\n",
       " 'murdering': 774,\n",
       " 'us': 775,\n",
       " 'balls': 776,\n",
       " 'irons': 777,\n",
       " 'wake': 778,\n",
       " 'toss': 779,\n",
       " 'cautiously': 780,\n",
       " 'bent': 781,\n",
       " 'london': 782,\n",
       " 'it': 783,\n",
       " 'pretend': 784,\n",
       " 'beheading': 785,\n",
       " 'hoping': 786,\n",
       " 'fun': 787,\n",
       " 'also': 788,\n",
       " 'curled': 789,\n",
       " 'uneasily': 790,\n",
       " 'dodo': 791,\n",
       " 'puss': 792,\n",
       " 'rustled': 793,\n",
       " 'positively': 794,\n",
       " 'swallowed': 795,\n",
       " 'last': 796,\n",
       " 'argue': 797,\n",
       " \"you've\": 798,\n",
       " 'rome': 799,\n",
       " 'immense': 800,\n",
       " 'doing': 801,\n",
       " 'desk': 802,\n",
       " 'toys': 803,\n",
       " \"'qwertyhere\": 804,\n",
       " 'managed': 805,\n",
       " 'grunted': 806,\n",
       " 'writing': 807,\n",
       " 'sulky': 808,\n",
       " 'leave': 809,\n",
       " 'held': 810,\n",
       " 'shilling': 811,\n",
       " 'queen': 812,\n",
       " 'purple': 813,\n",
       " 'rule': 814,\n",
       " 'slate': 815,\n",
       " 'thirteen': 816,\n",
       " 'custody': 817,\n",
       " 'each': 818,\n",
       " 'upsetting': 819,\n",
       " 'splashing': 820,\n",
       " 'caterpillarqwerty': 821,\n",
       " 'arm': 822,\n",
       " 'likes': 823,\n",
       " 'extraordinary': 824,\n",
       " 'want': 825,\n",
       " 'perfectly': 826,\n",
       " 'squeezed': 827,\n",
       " 'crumbs': 828,\n",
       " 'plate': 829,\n",
       " 'killing': 830,\n",
       " 'disobey': 831,\n",
       " 'billqwerty': 832,\n",
       " 'mineral': 833,\n",
       " 'custard': 834,\n",
       " 'subject': 835,\n",
       " 'any': 836,\n",
       " 'surprised': 837,\n",
       " 'wide': 838,\n",
       " 'ootiful': 839,\n",
       " 'goldfish': 840,\n",
       " 'left': 841,\n",
       " 'smiled': 842,\n",
       " 'lizard': 843,\n",
       " 'truth': 844,\n",
       " 'doubling': 845,\n",
       " 'sang': 846,\n",
       " 'top': 847,\n",
       " 'atheling': 848,\n",
       " 'nevertheless': 849,\n",
       " 'near': 850,\n",
       " 'tired': 851,\n",
       " 'talking': 852,\n",
       " 'remained': 853,\n",
       " 'venture': 854,\n",
       " 'strength': 855,\n",
       " 'sluggard': 856,\n",
       " 'across': 857,\n",
       " 'advantage': 858,\n",
       " 'nonsense': 859,\n",
       " 'took': 860,\n",
       " 'salmon': 861,\n",
       " 'piece': 862,\n",
       " 'jury': 863,\n",
       " 'chapter': 864,\n",
       " 'few': 865,\n",
       " 'deny': 866,\n",
       " 'came': 867,\n",
       " 'blasts': 868,\n",
       " 'peering': 869,\n",
       " 'regular': 870,\n",
       " 'denied': 871,\n",
       " 'suppose': 872,\n",
       " 'justice': 873,\n",
       " 'cauldron': 874,\n",
       " 'ringlets': 875,\n",
       " 'agree': 876,\n",
       " 'hint': 877,\n",
       " 'eel': 878,\n",
       " 'writhing': 879,\n",
       " 'chance': 880,\n",
       " 'share': 881,\n",
       " 'tumbled': 882,\n",
       " \"we've\": 883,\n",
       " 'straightening': 884,\n",
       " 'royal': 885,\n",
       " 'declared': 886,\n",
       " 'stood': 887,\n",
       " 'whether': 888,\n",
       " 'brightened': 889,\n",
       " 'unlocking': 890,\n",
       " 'dressed': 891,\n",
       " 'ran': 892,\n",
       " 'shaped': 893,\n",
       " 'this': 894,\n",
       " 'hold': 895,\n",
       " 'advisable': 896,\n",
       " 'majesty': 897,\n",
       " 'girls': 898,\n",
       " 'tray': 899,\n",
       " 'uglifying': 900,\n",
       " 'tastes': 901,\n",
       " 'fury': 902,\n",
       " 'beau': 903,\n",
       " 'edge': 904,\n",
       " 'sink': 905,\n",
       " 'jug': 906,\n",
       " 'lock': 907,\n",
       " 'fortunately': 908,\n",
       " 'are': 909,\n",
       " 'downwards': 910,\n",
       " 'reason': 911,\n",
       " 'wonderful': 912,\n",
       " 'consultation': 913,\n",
       " 'smallest': 914,\n",
       " 'clever': 915,\n",
       " 'instance': 916,\n",
       " 'double': 917,\n",
       " 'meanwhile': 918,\n",
       " 'archbishop': 919,\n",
       " 'raving': 920,\n",
       " 'drinking': 921,\n",
       " 'alternately': 922,\n",
       " 'agony': 923,\n",
       " 'shared': 924,\n",
       " 'dreadful': 925,\n",
       " 'sobbing': 926,\n",
       " 'twelfth': 927,\n",
       " 'read': 928,\n",
       " 'delightful': 929,\n",
       " 'watching': 930,\n",
       " 'night': 931,\n",
       " 'thimble': 932,\n",
       " 'contemptuous': 933,\n",
       " 'when': 934,\n",
       " 'muscular': 935,\n",
       " 'fellows': 936,\n",
       " \"slates'll\": 937,\n",
       " 'highest': 938,\n",
       " 'push': 939,\n",
       " 'adoption': 940,\n",
       " 'safe': 941,\n",
       " 'growled': 942,\n",
       " 'doubt': 943,\n",
       " 'mistake': 944,\n",
       " 'produced': 945,\n",
       " 'startled': 946,\n",
       " 'hatters': 947,\n",
       " 'traps': 948,\n",
       " 'involved': 949,\n",
       " 'thought': 950,\n",
       " 'hippopotamus': 951,\n",
       " 'worse': 952,\n",
       " 'low': 953,\n",
       " 'qwertyyou': 954,\n",
       " 'opinion': 955,\n",
       " 'animals': 956,\n",
       " 'wait': 957,\n",
       " 'edwin': 958,\n",
       " 'help': 959,\n",
       " 'trotting': 960,\n",
       " 'throat': 961,\n",
       " 'a': 962,\n",
       " 'eager': 963,\n",
       " 'cheshire': 964,\n",
       " 'kissed': 965,\n",
       " 'curtseying': 966,\n",
       " 'conduct': 967,\n",
       " 'iiiqwerty': 968,\n",
       " 'past': 969,\n",
       " 'comfits': 970,\n",
       " 'elbows': 971,\n",
       " 'throne': 972,\n",
       " 'retire': 973,\n",
       " 'tarts': 974,\n",
       " 'brought': 975,\n",
       " 'hours': 976,\n",
       " 'loose': 977,\n",
       " 'foot': 978,\n",
       " 'fetch': 979,\n",
       " 'stand': 980,\n",
       " 'within': 981,\n",
       " 'forgotten': 982,\n",
       " 'spectacles': 983,\n",
       " '`now': 984,\n",
       " 'gather': 985,\n",
       " 'foolish': 986,\n",
       " 'experiment': 987,\n",
       " 'lose': 988,\n",
       " 'producing': 989,\n",
       " 'tempered': 990,\n",
       " 'brain': 991,\n",
       " 'france': 992,\n",
       " 'darkness': 993,\n",
       " 'elsie': 994,\n",
       " 'oop': 995,\n",
       " 'grin': 996,\n",
       " 'hide': 997,\n",
       " 'look': 998,\n",
       " 'mad': 999,\n",
       " ...}"
      ]
     },
     "execution_count": 35,
     "metadata": {},
     "output_type": "execute_result"
    }
   ],
   "source": [
    "word_to_index"
   ]
  },
  {
   "cell_type": "markdown",
   "metadata": {
    "colab_type": "text",
    "id": "LGNoVxqiM49t"
   },
   "source": [
    "## Function changes input text to the form ready to feed into next stage of preprocessing"
   ]
  },
  {
   "cell_type": "code",
   "execution_count": 36,
   "metadata": {
    "colab": {},
    "colab_type": "code",
    "id": "MGI719znqCbZ"
   },
   "outputs": [],
   "source": [
    "def normalize(s):\n",
    "    chars = string.punctuation\n",
    "    for c in chars:\n",
    "        s = s.replace(c,\" \"+c+\" \")\n",
    "    s = s.lower()\n",
    "    return s  "
   ]
  },
  {
   "cell_type": "code",
   "execution_count": 37,
   "metadata": {
    "colab": {
     "base_uri": "https://localhost:8080/",
     "height": 34
    },
    "colab_type": "code",
    "id": "O5HsRB8aqCbb",
    "outputId": "072371cd-eb5c-4b0d-f7b5-768cabbde6a9"
   },
   "outputs": [
    {
     "data": {
      "text/plain": [
       "' irfvjj ;  dd : kdjjrrj'"
      ]
     },
     "execution_count": 37,
     "metadata": {},
     "output_type": "execute_result"
    }
   ],
   "source": [
    "normalize(\" irfvjj; dd:kDJJRRJ\")"
   ]
  },
  {
   "cell_type": "markdown",
   "metadata": {
    "colab_type": "text",
    "id": "21BG4Y7nM8i6"
   },
   "source": [
    "## Function accept checks if given list of words is inside dictionary"
   ]
  },
  {
   "cell_type": "code",
   "execution_count": 38,
   "metadata": {
    "colab": {},
    "colab_type": "code",
    "id": "mD4MftgnqCbe"
   },
   "outputs": [],
   "source": [
    "def accept(words):\n",
    "    for word in words:\n",
    "        if(not word in vocab):\n",
    "            return False\n",
    "    return True"
   ]
  },
  {
   "cell_type": "markdown",
   "metadata": {
    "colab_type": "text",
    "id": "R_I1QMdJNAwF"
   },
   "source": [
    "## Converting input text to numpy array of indices"
   ]
  },
  {
   "cell_type": "code",
   "execution_count": 39,
   "metadata": {
    "colab": {},
    "colab_type": "code",
    "id": "DxivrF8RqCbg"
   },
   "outputs": [],
   "source": [
    "def text_to_index(s):\n",
    "    s = normalize(s)\n",
    "    s_words = s.split()\n",
    "    if (not accept(s_words)):\n",
    "        print(\"Error\")\n",
    "        return \"\"\n",
    "    return np.array([word_to_index[word] for word in s_words])"
   ]
  },
  {
   "cell_type": "markdown",
   "metadata": {
    "colab_type": "text",
    "id": "TgkffCJDNFFI"
   },
   "source": [
    "## Function converts list of words to numpy array of indices"
   ]
  },
  {
   "cell_type": "code",
   "execution_count": 40,
   "metadata": {
    "colab": {},
    "colab_type": "code",
    "id": "VfbZQEi9qCbi"
   },
   "outputs": [],
   "source": [
    "def word_list_to_index(s_words):\n",
    "    if (not accept(s_words)):\n",
    "        print(\"Error\")\n",
    "        return \"\"\n",
    "    return np.array([word_to_index[word] for word in s_words])"
   ]
  },
  {
   "cell_type": "markdown",
   "metadata": {
    "colab_type": "text",
    "id": "Fwg0rudmNIrf"
   },
   "source": [
    "## Function converts numpy array of indices back to text"
   ]
  },
  {
   "cell_type": "code",
   "execution_count": 41,
   "metadata": {
    "colab": {},
    "colab_type": "code",
    "id": "wQrn8D9aqCbk"
   },
   "outputs": [],
   "source": [
    "def index_to_text(inds):\n",
    "    s = \"\"\n",
    "    for i in range(inds.shape[0]):\n",
    "        s += index_to_word[inds[i]] + \" \"\n",
    "    return s"
   ]
  },
  {
   "cell_type": "code",
   "execution_count": 42,
   "metadata": {
    "colab": {
     "base_uri": "https://localhost:8080/",
     "height": 34
    },
    "colab_type": "code",
    "id": "5vjF7AHoqCbm",
    "outputId": "b98c5757-a3c6-4e99-a352-85a78f03b78e"
   },
   "outputs": [
    {
     "data": {
      "text/plain": [
       "'alice , ? land '"
      ]
     },
     "execution_count": 42,
     "metadata": {},
     "output_type": "execute_result"
    }
   ],
   "source": [
    "index_to_text(text_to_index(\"Alice , ? land\"))"
   ]
  },
  {
   "cell_type": "code",
   "execution_count": 43,
   "metadata": {
    "colab": {
     "base_uri": "https://localhost:8080/",
     "height": 74
    },
    "colab_type": "code",
    "id": "jo3bkuAQqCbo",
    "outputId": "b0785586-68bc-4b6e-b92f-cfe343aa1233"
   },
   "outputs": [
    {
     "data": {
      "text/plain": [
       "'alice\\'s adventures in wonderlandqwerty                alice\\'s adventures in wonderlandqwerty                          lewis carrollqwerty               the millennium fulcrum edition 3 . 0qwerty                            chapter iqwerty                      down the rabbit - holeqwerty  alice was beginning to get very tired of sitting by her sister on the bank ,  and of having nothing to do :   once or twice she had peeped into the book her sister was reading ,  but it had no pictures or conversations in it ,  \" and what is the use of a book ,  \" thought alice \" without pictures or conversation ? \\'qwerty  so she was considering in her own mind  ( as well as she could ,  for the hot day made her feel very sleepy and stupid )  ,  whether the pleasure of making a daisy - chain would be worth the trouble of getting up and picking the daisies ,  when suddenly a white rabbit with pink eyes ran close by her . qwerty  there was nothing so very remarkable in that ;  nor did alice think it so very much out of the way to hear the rabbit say to itself ,  \" oh dear !   oh dear !   i shall be late !  \"   ( when she thought it over afterwards ,  it occurred to her that she ought to have wondered at this ,  but at the time it all seemed quite natural )  ;  but when the rabbit actually took a watch out of its waistcoat -  pocket ,  and looked at it ,  and then hurried on ,  alice started to her feet ,  for it flashed across her mind that she had never before seen a rabbit with either a waistcoat - pocket ,  or a watch to take out of it ,  and burning with curiosity ,  she ran across the field after it ,  and fortunately was just in time to see it pop down a large rabbit - hole under the hedge . qwerty  in another moment down went alice after it ,  never once considering how in the world she was to get out again . qwerty  the rabbit - hole went straight on like a tunnel for some way ,  and then dipped suddenly down ,  so suddenly that alice had not a moment to think about stopping herself before she found herself falling down a very deep well . qwerty  either the well was very deep ,  or she fell very slowly ,  for she had plenty of time as she went down to look about her and to wonder what was going to happen next .   first ,  she tried to look down and make out what she was coming to ,  but it was too dark to see anything ;  then she looked at the sides of the well ,  and noticed that they were filled with cupboards and book - shelves ;  here and there she saw maps and pictures hung upon pegs .   she took down a jar from one of the shelves as she passed ;  it was labelled \" orange marmalade\\' ,  but to her great disappointment it was empty :   she did not like to drop the jar for fear of killing somebody ,  so managed to put it into one of the cupboards as she fell past it . qwerty  \" well !  \" thought alice to herself ,  \" after such a fall as this ,  i shall think nothing of tumbling down stairs !   how brave they\\'ll all think me at home !   why ,  i wouldn\\'t say anything about it ,  even if i fell off the top of the house !  \"  ( which was very likely true .  ) qwerty  down ,  down ,  down .   would the fall never come to an end !   \" i wonder how many miles i\\'ve fallen by this time ?  \" she said aloud .  \" i must be getting somewhere near the centre of the earth .   let me see :   that would be four thousand miles down ,  i think -  -  \"  ( for ,  you see ,  alice had learnt several things of this sort in her lessons in the schoolroom ,  and though this was not a very good opportunity for showing off her knowledge ,  as there was no one to listen to her ,  still it was good practice to say it over )  \"  -  - yes ,  that\\'s about the right distance -  - but then i wonder what latitude or longitude i\\'ve got to ?  \"   ( alice had no idea what latitude was ,  or longitude either ,  but thought they were nice grand words to say .  ) qwerty  presently she began again .   \" i wonder if i shall fall right through the earth !   how funny it\\'ll seem to come out among the people that walk with their heads downward !   the antipathies ,  i think -  -  \"  ( she was rather glad there was no one listening ,  this time ,  as it didn\\'t sound at all the right word )  \"  -  - but i shall have to ask them what the name of the country is ,  you know .  please ,  ma\\'am ,  is this new zealand or australia ?  \"  ( and she tried to curtsey as she spoke -  - fancy curtseying as you\\'re falling through the air !   do you think you could manage it ?  )   \" and what an ignorant little girl she\\'ll think me for asking !   no ,  it\\'ll never do to ask :   perhaps i shall see it written up somewhere . \\'qwerty  down ,  down ,  down .   there was nothing else to do ,  so alice soon began talking again .   \" dinah\\'ll miss me very much to - night ,  i should think !  \"   ( dinah was the cat .  )   \" i hope they\\'ll remember her saucer of milk at tea - time .   dinah my dear !   i wish you were down here with me !   there are no mice in the air ,  i\\'m afraid ,  but you might catch a bat ,  and that\\'s very like a mouse ,  you know .  but do cats eat bats ,  i wonder ?  \"  and here alice began to get rather sleepy ,  and went on saying to herself ,  in a dreamy sort of way ,  \" do cats eat bats ?   do cats eat bats ?  \" and sometimes ,  \" do bats eat cats ?  \" for ,  you see ,  as she couldn\\'t answer either question ,  it didn\\'t much matter which way she put it .   she felt that she was dozing off ,  and had just begun to dream that she was walking hand in hand with dinah ,  and saying to her very earnestly ,  \" now ,  dinah ,  tell me the truth :   did you ever eat a bat ?  \" when suddenly ,  thump !  thump !  down she came upon a heap of sticks and dry leaves ,  and the fall was over . qwerty  alice was not a bit hurt ,  and she jumped up on to her feet in a moment :   she looked up ,  but it was all dark overhead ;  before her was another long passage ,  and the white rabbit was still in sight ,  hurrying down it .   there was not a moment to be lost :  away went alice like the wind ,  and was just in time to hear it say ,  as it turned a corner ,  \" oh my ears and whiskers ,  how late it\\'s getting !  \"  she was close behind it when she turned the corner ,  but the rabbit was no longer to be seen :   she found herself in a long ,  low hall ,  which was lit up by a row of lamps hanging from the roof . qwerty  there were doors all round the hall ,  but they were all locked ;  and when alice had been all the way down one side and up the other ,  trying every door ,  she walked sadly down the middle ,  wondering how she was ever to get out again . qwerty  suddenly she came upon a little three - legged table ,  all made of solid glass ;  there was nothing on it except a tiny golden key ,  and alice\\'s first thought was that it might belong to one of the doors of the hall ;  but ,  alas !  either the locks were too large ,  or the key was too small ,  but at any rate it would not open any of them .   however ,  on the second time round ,  she came upon a low curtain she had not noticed before ,  and behind it was a little door about fifteen inches high :   she tried the little golden key in the lock ,  and to her great delight it fitted ! qwerty  alice opened the door and found that it led into a small passage ,  not much larger than a rat - hole :   she knelt down and looked along the passage into the loveliest garden you ever saw .  how she longed to get out of that dark hall ,  and wander about among those beds of bright flowers and those cool fountains ,  but she could not even get her head through the doorway ;  \" and even if my head would go through ,  \" thought poor alice ,  \" it would be of very little use without my shoulders .   oh ,  how i wish i could shut up like a telescope !   i think i could ,  if i only know how to begin .  \"  for ,  you see ,  so many out - of - the - way things had happened lately ,  that alice had begun to think that very few things indeed were really impossible . qwerty  there seemed to be no use in waiting by the little door ,  so she went back to the table ,  half hoping she might find another key on it ,  or at any rate a book of rules for shutting people up like telescopes :   this time she found a little bottle on it ,   ( `which certainly was not here before ,  \" said alice ,  )  and round the neck of the bottle was a paper label ,  with the words \" drink me \" beautifully printed on it in large letters . qwerty  it was all very well to say \" drink me ,  \" but the wise little alice was not going to do that in a hurry .   \" no ,  i\\'ll look first ,  \" she said ,  \" and see whether it\\'s marked  \" poison \"  or not\\' ;  for she had read several nice little histories about children who had got burnt ,  and eaten up by wild beasts and other unpleasant things ,  all because they would not remember the simple rules their friends had taught them :   such as ,  that a red - hot poker will burn you if you hold it too long ;  and that if you cut your finger very deeply with a knife ,  it usually bleeds ;  and she had never forgotten that ,  if you drink much from a bottle marked \" poison ,  \" it is almost certain to disagree with you ,  sooner or later . qwerty  however ,  this bottle was not marked \" poison ,  \" so alice ventured to taste it ,  and finding it very nice ,   ( it had ,  in fact ,  a sort of mixed flavour of cherry - tart ,  custard ,  pine - apple ,  roast turkey ,  toffee ,  and hot buttered toast ,  )  she very soon finished it off . qwerty                                                                    qwerty                                                              qwerty                                                                    qwerty  \" what a curious feeling !  \" said alice ;  \" i must be shutting up like a telescope . \\'qwerty  and so it was indeed :   she was now only ten inches high ,  and her face brightened up at the thought that she was now the right size for going through the little door into that lovely garden .  first ,  however ,  she waited for a few minutes to see if she was going to shrink any further :   she felt a little nervous about this ;  \" for it might end ,  you know ,  \" said alice to herself ,  \" in my going out altogether ,  like a candle .   i wonder what i should be like then ?  \"  and she tried to fancy what the flame of a candle is like after the candle is blown out ,  for she could not remember ever having seen such a thing . qwerty  after a while ,  finding that nothing more happened ,  she decided on going into the garden at once ;  but ,  alas for poor alice !  when she got to the door ,  she found she had forgotten the little golden key ,  and when she went back to the table for it ,  she found she could not possibly reach it :   she could see it quite plainly through the glass ,  and she tried her best to climb up one of the legs of the table ,  but it was too slippery ;  and when she had tired herself out with trying ,  the poor little thing sat down and cried . qwerty  \" come ,  there\\'s no use in crying like that !  \" said alice to herself ,  rather sharply ;  \" i advise you to leave off this minute !  \" she generally gave herself very good advice ,   ( though she very seldom followed it )  ,  and sometimes she scolded herself so severely as to bring tears into her eyes ;  and once she remembered trying to box her own ears for having cheated herself in a game of croquet she was playing against herself ,  for this curious child was very fond of pretending to be two people .   \" but it\\'s no use now ,  \" thought poor alice ,  \" to pretend to be two people !   why ,  there\\'s hardly enough of me left to make one respectable person ! \\'qwerty  soon her eye fell on a little glass box that was lying under the table :   she opened it ,  and found in it a very small cake ,  on which the words \" eat me \" were beautifully marked in currants .  \" well ,  i\\'ll eat it ,  \" said alice ,  \" and if it makes me grow larger ,  i can reach the key ;  and if it makes me grow smaller ,  i can creep under the door ;  so either way i\\'ll get into the garden ,  and i don\\'t care which happens ! \\'qwerty  she ate a little bit ,  and said anxiously to herself ,  \" which way ?   which way ? \\' ,  holding her hand on the top of her head to feel which way it was growing ,  and she was quite surprised to find that she remained the same size :   to be sure ,  this generally happens when one eats cake ,  but alice had got so much into the way of expecting nothing but out - of - the - way things to happen ,  that it seemed quite dull and stupid for life to go on in the common way . qwerty  so she set to work ,  and very soon finished off the cake . qwerty                                                                    qwerty                                                              qwerty                                                                    qwerty                           chapter iiqwerty                        the pool of tearsqwerty  \" curiouser and curiouser !  \" cried alice  ( she was so much surprised ,  that for the moment she quite forgot how to speak good english )  ;  \" now i\\'m opening out like the largest telescope that ever was !   good - bye ,  feet !  \"  ( for when she looked down at her feet ,  they seemed to be almost out of sight ,  they were getting so far off )  .   \" oh ,  my poor little feet ,  i wonder who will put on your shoes and stockings for you now ,  dears ?   i\\'m sure  _ i _  shan\\'t be able !   i shall be a great deal too far off to trouble myself about you :   you must manage the best way you can ;   -  - but i must be kind to them ,  \" thought alice ,  \" or perhaps they won\\'t walk the way i want to go !   let me see :   i\\'ll give them a new pair of boots every christmas . \\'qwerty  and she went on planning to herself how she would manage it .  \" they must go by the carrier ,  \" she thought ;  \" and how funny it\\'ll seem ,  sending presents to one\\'s own feet !   and how odd the directions will look ! qwerty            alice\\'s right foot ,  esq .                  hearthrug ,                      near the fender ,                           ( with alice\\'s love )  . qwertyoh dear ,  what nonsense i\\'m talking ! \\'qwerty  just then her head struck against the roof of the hall :   in fact she was now more than nine feet high ,  and she at once took up the little golden key and hurried off to the garden door . qwerty  poor alice !   it was as much as she could do ,  lying down on one side ,  to look through into the garden with one eye ;  but to get through was more hopeless than ever :   she sat down and began to cry again . qwerty  \" you ought to be ashamed of yourself ,  \" said alice ,  \" a great girl like you ,  \"  ( she might well say this )  ,  \" to go on crying in this way !   stop this moment ,  i tell you !  \"  but she went on all the same ,  shedding gallons of tears ,  until there was a large pool all round her ,  about four inches deep and reaching half down the hall . qwerty  after a time she heard a little pattering of feet in the distance ,  and she hastily dried her eyes to see what was coming .  it was the white rabbit returning ,  splendidly dressed ,  with a pair of white kid gloves in one hand and a large fan in the other :   he came trotting along in a great hurry ,  muttering to himself as he came ,  \" oh !  the duchess ,  the duchess !  oh !  won\\'t she be savage if i\\'ve kept her waiting !  \"  alice felt so desperate that she was ready to ask help of any one ;  so ,  when the rabbit came near her ,  she began ,  in a low ,  timid voice ,  \" if you please ,  sir -  -  \"  the rabbit started violently ,  dropped the white kid gloves and the fan ,  and skurried away into the darkness as hard as he could go . qwerty  alice took up the fan and gloves ,  and ,  as the hall was very hot ,  she kept fanning herself all the time she went on talking :  \" dear ,  dear !   how queer everything is to - day !   and yesterday things went on just as usual .   i wonder if i\\'ve been changed in the night ?   let me think :   was i the same when i got up this morning ?   i almost think i can remember feeling a little different .   but if i\\'m not the same ,  the next question is ,  who in the world am i ?   ah ,  that\\'s the great puzzle !  \"  and she began thinking over all the children she knew that were of the same age as herself ,  to see if she could have been changed for any of them . qwerty  \" i\\'m sure i\\'m not ada ,  \" she said ,  \" for her hair goes in such long ringlets ,  and mine doesn\\'t go in ringlets at all ;  and i\\'m sure i can\\'t be mabel ,  for i know all sorts of things ,  and she ,  oh !  she knows such a very little !   besides ,  she\\'s she ,  and i\\'m i ,  and -  - oh dear ,  how puzzling it all is !   i\\'ll try if i know all the things i used to know .   let me see :   four times five is twelve ,  and four times six is thirteen ,  and four times seven is -  - oh dear !  i shall never get to twenty at that rate !   however ,  the multiplication table doesn\\'t signify :   let\\'s try geography .  london is the capital of paris ,  and paris is the capital of rome ,  and rome -  - no ,  that\\'s all wrong ,  i\\'m certain !   i must have been changed for mabel !   i\\'ll try and say  \" how doth the little -  -  \"  \" and she crossed her hands on her lap as if she were saying lessons ,  and began to repeat it ,  but her voice sounded hoarse and strange ,  and the words did not come the same as they used to do :  -  - qwerty            \" how doth the little crocodile               improve his shining tail ,              and pour the waters of the nile               on every golden scale ! qwerty            \" how cheerfully he seems to grin ,                how neatly spread his claws ,              and welcome little fishes in               with gently smiling jaws ! \\'qwerty  \" i\\'m sure those are not the right words ,  \" said poor alice ,  and her eyes filled with tears again as she went on ,  \" i must be mabel after all ,  and i shall have to go and live in that poky little house ,  and have next to no toys to play with ,  and oh !  ever so many lessons to learn !   no ,  i\\'ve made up my mind about it ;  if i\\'m mabel ,  i\\'ll stay down here !   it\\'ll be no use their putting their heads down and saying  \" come up again ,  dear !  \"   i shall only look up and say  \" who am i then ?   tell me that first ,  and then ,  if i like being that person ,  i\\'ll come up :   if not ,  i\\'ll stay down here till i\\'m somebody else \"  -  - but ,  oh dear !  \" cried alice ,  with a sudden burst of tears ,  \" i do wish they would put their heads down !   i am so very tired of being all alone here ! \\'qwerty  as she said this she looked down at her hands ,  and was surprised to see that she had put on one of the rabbit\\'s little white kid gloves while she was talking .   \" how can i have done that ?  \" she thought .   \" i must be growing small again .  \"  she got up and went to the table to measure herself by it ,  and found that ,  as nearly as she could guess ,  she was now about two feet high ,  and was going on shrinking rapidly :   she soon found out that the cause of this was the fan she was holding ,  and she dropped it hastily ,  just in time to avoid shrinking away altogether . qwerty`that was a narrow escape !  \" said alice ,  a good deal frightened at the sudden change ,  but very glad to find herself still in existence ;  \" and now for the garden !  \" and she ran with all speed back to the little door :   but ,  alas !  the little door was shut again ,  and the little golden key was lying on the glass table as before ,  \" and things are worse than ever ,  \" thought the poor child ,  \" for i never was so small as this before ,  never !   and i declare it\\'s too bad ,  that it is ! \\'qwerty  as she said these words her foot slipped ,  and in another moment ,  splash !  she was up to her chin in salt water .   her first idea was that she had somehow fallen into the sea ,  \" and in that case i can go back by railway ,  \" she said to herself .    ( alice had been to the seaside once in her life ,  and had come to the general conclusion ,  that wherever you go to on the english coast you find a number of bathing machines in the sea ,  some children digging in the sand with wooden spades ,  then a row of lodging houses ,  and behind them a railway station .  )   however ,  she soon made out that she was in the pool of tears which she had wept when she was nine feet high . qwerty  \" i wish i hadn\\'t cried so much !  \" said alice ,  as she swam about ,  trying to find her way out .   \" i shall be punished for it now ,  i suppose ,  by being drowned in my own tears !   that will be a queer thing ,  to be sure !   however ,  everything is queer to - day . \\'qwerty  just then she heard something splashing about in the pool a little way off ,  and she swam nearer to make out what it was :   at first she thought it must be a walrus or hippopotamus ,  but then she remembered how small she was now ,  and she soon made out that it was only a mouse that had slipped in like herself . qwerty  \" would it be of any use ,  now ,  \" thought alice ,  \" to speak to this mouse ?   everything is so out - of - the - way down here ,  that i should think very likely it can talk :   at any rate ,  there\\'s no harm in trying .  \"  so she began :   \" o mouse ,  do you know the way out of this pool ?   i am very tired of swimming about here ,  o mouse !  \"  ( alice thought this must be the right way of speaking to a mouse :  she had never done such a thing before ,  but she remembered having seen in her brother\\'s latin grammar ,  \" a mouse -  - of a mouse -  - to a mouse -  - a mouse -  - o mouse ! \\' )   the mouse looked at her rather inquisitively ,  and seemed to her to wink with one of its little eyes ,  but it said nothing . qwerty  \" perhaps it doesn\\'t understand english ,  \" thought alice ;  \" i daresay it\\'s a french mouse ,  come over with william the conqueror .  \"   ( for ,  with all her knowledge of history ,  alice had no very clear notion how long ago anything had happened .  )   so she began again :   \" ou est ma chatte ?  \" which was the first sentence in her french lesson - book .   the mouse gave a sudden leap out of the water ,  and seemed to quiver all over with fright .   \" oh ,  i beg your pardon !  \" cried alice hastily ,  afraid that she had hurt the poor animal\\'s feelings .   \" i quite forgot you didn\\'t like cats . \\'qwerty  \" not like cats !  \" cried the mouse ,  in a shrill ,  passionate voice .   \" would you like cats if you were me ? \\'qwerty  \" well ,  perhaps not ,  \" said alice in a soothing tone :   \" don\\'t be angry about it .   and yet i wish i could show you our cat dinah :  i think you\\'d take a fancy to cats if you could only see her .  she is such a dear quiet thing ,  \" alice went on ,  half to herself ,  as she swam lazily about in the pool ,  \" and she sits purring so nicely by the fire ,  licking her paws and washing her face -  - and she is such a nice soft thing to nurse -  - and she\\'s such a capital one for catching mice -  - oh ,  i beg your pardon !  \" cried alice again ,  for this time the mouse was bristling all over ,  and she felt certain it must be really offended .   \" we won\\'t talk about her any more if you\\'d rather not . \\'qwerty  \" we indeed !  \" cried the mouse ,  who was trembling down to the end of his tail .   \" as if i would talk on such a subject !   our family always hated cats :   nasty ,  low ,  vulgar things !   don\\'t let me hear the name again ! \\'qwerty  \" i won\\'t indeed !  \" said alice ,  in a great hurry to change the subject of conversation .   \" are you -  - are you fond -  - of -  - of dogs ?  \" the mouse did not answer ,  so alice went on eagerly :   \" there is such a nice little dog near our house i should like to show you !  a little bright - eyed terrier ,  you know ,  with oh ,  such long curly brown hair !   and it\\'ll fetch things when you throw them ,  and it\\'ll sit up and beg for its dinner ,  and all sorts of things -  - i can\\'t remember half of them -  - and it belongs to a farmer ,  you know ,  and he says it\\'s so useful ,  it\\'s worth a hundred pounds !  he says it kills all the rats and -  - oh dear !  \" cried alice in a sorrowful tone ,  \" i\\'m afraid i\\'ve offended it again !  \"  for the mouse was swimming away from her as hard as it could go ,  and making quite a commotion in the pool as it went . qwerty  so she called softly after it ,  \" mouse dear !   do come back again ,  and we won\\'t talk about cats or dogs either ,  if you don\\'t like them !  \"  when the mouse heard this ,  it turned round and swam slowly back to her :   its face was quite pale  ( with passion ,  alice thought )  ,  and it said in a low trembling voice ,  \" let us get to the shore ,  and then i\\'ll tell you my history ,  and you\\'ll understand why it is i hate cats and dogs . \\'qwerty  it was high time to go ,  for the pool was getting quite crowded with the birds and animals that had fallen into it :   there were a duck and a dodo ,  a lory and an eaglet ,  and several other curious creatures .   alice led the way ,  and the whole party swam to the shore . qwerty                           chapter iiiqwerty                  a caucus - race and a long taleqwerty  they were indeed a queer - looking party that assembled on the bank -  - the birds with draggled feathers ,  the animals with their fur clinging close to them ,  and all dripping wet ,  cross ,  and uncomfortable . qwerty  the first question of course was ,  how to get dry again :   they had a consultation about this ,  and after a few minutes it seemed quite natural to alice to find herself talking familiarly with them ,  as if she had known them all her life .   indeed ,  she had quite a long argument with the lory ,  who at last turned sulky ,  and would only say ,  \" i am older than you ,  and must know better\\' ;  and this alice would not allow without knowing how old it was ,  and ,  as the lory positively refused to tell its age ,  there was no more to be said . qwerty  at last the mouse ,  who seemed to be a person of authority among them ,  called out ,  \" sit down ,  all of you ,  and listen to me !   i\\'ll soon make you dry enough !  \"  they all sat down at once ,  in a large ring ,  with the mouse in the middle .   alice kept her eyes anxiously fixed on it ,  for she felt sure she would catch a bad cold if she did not get dry very soon . qwerty  \" ahem !  \" said the mouse with an important air ,  \" are you all ready ?  this is the driest thing i know .   silence all round ,  if you please !   \" william the conqueror ,  whose cause was favoured by the pope ,  was soon submitted to by the english ,  who wanted leaders ,  and had been of late much accustomed to usurpation and conquest .   edwin and morcar ,  the earls of mercia and northumbria -  -  \" \\'qwerty  \" ugh !  \" said the lory ,  with a shiver . qwerty  \" i beg your pardon !  \" said the mouse ,  frowning ,  but very politely :   \" did you speak ? \\'qwerty  \" not i !  \" said the lory hastily . qwerty  \" i thought you did ,  \" said the mouse .   \"  -  - i proceed .    \" edwin and morcar ,  the earls of mercia and northumbria ,  declared for him :  and even stigand ,  the patriotic archbishop of canterbury ,  found it advisable -  -  \" \\'qwerty  \" found what ?  \" said the duck . qwerty  \" found it ,  \" the mouse replied rather crossly :   \" of course you know what  \" it \"  means . \\'qwerty  \" i know what  \" it \"  means well enough ,  when i find a thing ,  \" said the duck :   \" it\\'s generally a frog or a worm .   the question is ,  what did the archbishop find ? \\'qwerty  the mouse did not notice this question ,  but hurriedly went on ,  \"  \"  -  - found it advisable to go with edgar atheling to meet william and offer him the crown .   william\\'s conduct at first was moderate .   but the insolence of his normans -  -  \"   how are you getting on now ,  my dear ?  \" it continued ,  turning to alice as it spoke . qwerty  \" as wet as ever ,  \" said alice in a melancholy tone :   \" it doesn\\'t seem to dry me at all . \\'qwerty  \" in that case ,  \" said the dodo solemnly ,  rising to its feet ,  \" i move that the meeting adjourn ,  for the immediate adoption of more energetic remedies -  - \\'qwerty  \" speak english !  \" said the eaglet .   \" i don\\'t know the meaning of half those long words ,  and ,  what\\'s more ,  i don\\'t believe you do either !  \"  and the eaglet bent down its head to hide a smile :  some of the other birds tittered audibly . qwerty  \" what i was going to say ,  \" said the dodo in an offended tone ,  \" was ,  that the best thing to get us dry would be a caucus - race . \\'qwerty  \" what is a caucus - race ?  \" said alice ;  not that she wanted much to know ,  but the dodo had paused as if it thought that somebody ought to speak ,  and no one else seemed inclined to say anything . qwerty  \" why ,  \" said the dodo ,  \" the best way to explain it is to do it .  \"  ( and ,  as you might like to try the thing yourself ,  some winter day ,  i will tell you how the dodo managed it .  ) qwerty  first it marked out a race - course ,  in a sort of circle ,   ( `the exact shape doesn\\'t matter ,  \" it said ,  )  and then all the party were placed along the course ,  here and there .   there was no \" one ,  two ,  three ,  and away ,  \" but they began running when they liked ,  and left off when they liked ,  so that it was not easy to know when the race was over .   however ,  when they had been running half an hour or so ,  and were quite dry again ,  the dodo suddenly called out \" the race is over !  \" and they all crowded round it ,  panting ,  and asking ,  \" but who has won ? \\'qwerty  this question the dodo could not answer without a great deal of thought ,  and it sat for a long time with one finger pressed upon its forehead  ( the position in which you usually see shakespeare ,  in the pictures of him )  ,  while the rest waited in silence .   at last the dodo said ,  \" everybody has won ,  and all must have prizes . \\'qwerty  \" but who is to give the prizes ?  \" quite a chorus of voices asked . qwerty  \" why ,  she ,  of course ,  \" said the dodo ,  pointing to alice with one finger ;  and the whole party at once crowded round her ,  calling out in a confused way ,  \" prizes !  prizes ! \\'qwerty  alice had no idea what to do ,  and in despair she put her hand in her pocket ,  and pulled out a box of comfits ,   ( luckily the salt water had not got into it )  ,  and handed them round as prizes .  there was exactly one a - piece all round . qwerty  \" but she must have a prize herself ,  you know ,  \" said the mouse . qwerty  \" of course ,  \" the dodo replied very gravely .   \" what else have you got in your pocket ?  \" he went on ,  turning to alice . qwerty  \" only a thimble ,  \" said alice sadly . qwerty  \" hand it over here ,  \" said the dodo . qwerty  then they all crowded round her once more ,  while the dodo solemnly presented the thimble ,  saying \" we beg your acceptance of this elegant thimble\\' ;  and ,  when it had finished this short speech ,  they all cheered . qwerty  alice thought the whole thing very absurd ,  but they all looked so grave that she did not dare to laugh ;  and ,  as she could not think of anything to say ,  she simply bowed ,  and took the thimble ,  looking as solemn as she could . qwerty  the next thing was to eat the comfits :   this caused some noise and confusion ,  as the large birds complained that they could not taste theirs ,  and the small ones choked and had to be patted on the back .   however ,  it was over at last ,  and they sat down again in a ring ,  and begged the mouse to tell them something more . qwerty  \" you promised to tell me your history ,  you know ,  \" said alice ,  \" and why it is you hate -  - c and d ,  \" she added in a whisper ,  half afraid that it would be offended again . qwerty  \" mine is a long and a sad tale !  \" said the mouse ,  turning to alice ,  and sighing . qwerty  \" it is a long tail ,  certainly ,  \" said alice ,  looking down with wonder at the mouse\\'s tail ;  \" but why do you call it sad ?  \"  and she kept on puzzling about it while the mouse was speaking ,  so that her idea of the tale was something like this :  -  - qwerty                    \" fury said to a                    mouse ,  that he                  met in the                house ,               \" let us               both go to                 law :   i will                   prosecute                     you .    -  - come ,                         i\\'ll take no                         denial ;  we                      must have a                  trial :   for               really this            morning i\\'ve           nothing          to do .  \"             said the              mouse to the                cur ,   \" such                  a trial ,                     dear sir ,                           with                      no jury                   or judge ,                  would be               wasting              our               breath .  \"                  \" i\\'ll be                  judge ,  i\\'ll                    be jury ,  \"                           said                     cunning                       old fury :                        \" i\\'ll                       try the                          whole                           cause ,                               and                         condemn                        you                       to                        death .  \" \\'qwerty  \" you are not attending !  \" said the mouse to alice severely .  \" what are you thinking of ? \\'qwerty  \" i beg your pardon ,  \" said alice very humbly :   \" you had got to the fifth bend ,  i think ? \\'qwerty  \" i had not !  \" cried the mouse ,  sharply and very angrily . qwerty  \" a knot !  \" said alice ,  always ready to make herself useful ,  and looking anxiously about her .   \" oh ,  do let me help to undo it ! \\'qwerty  \" i shall do nothing of the sort ,  \" said the mouse ,  getting up and walking away .   \" you insult me by talking such nonsense ! \\'qwerty  \" i didn\\'t mean it !  \" pleaded poor alice .   \" but you\\'re so easily offended ,  you know ! \\'qwerty  the mouse only growled in reply . qwerty  \" please come back and finish your story !  \" alice called after it ;  and the others all joined in chorus ,  \" yes ,  please do !  \" but the mouse only shook its head impatiently ,  and walked a little quicker . qwerty  \" what a pity it wouldn\\'t stay !  \" sighed the lory ,  as soon as it was quite out of sight ;  and an old crab took the opportunity of saying to her daughter \" ah ,  my dear !   let this be a lesson to you never to lose your temper !  \"  \" hold your tongue ,  ma !  \" said the young crab ,  a little snappishly .   \" you\\'re enough to try the patience of an oyster ! \\'qwerty  \" i wish i had our dinah here ,  i know i do !  \" said alice aloud ,  addressing nobody in particular .   \" she\\'d soon fetch it back ! \\'qwerty  \" and who is dinah ,  if i might venture to ask the question ?  \" said the lory . qwerty  alice replied eagerly ,  for she was always ready to talk about her pet :   \" dinah\\'s our cat .   and she\\'s such a capital one for catching mice you can\\'t think !   and oh ,  i wish you could see her after the birds !   why ,  she\\'ll eat a little bird as soon as look at it ! \\'qwerty  this speech caused a remarkable sensation among the party .  some of the birds hurried off at once :   one old magpie began wrapping itself up very carefully ,  remarking ,  \" i really must be getting home ;  the night - air doesn\\'t suit my throat !  \" and a canary called out in a trembling voice to its children ,  \" come away ,  my dears !   it\\'s high time you were all in bed !  \"  on various pretexts they all moved off ,  and alice was soon left alone . qwerty  \" i wish i hadn\\'t mentioned dinah !  \" she said to herself in a melancholy tone .   \" nobody seems to like her ,  down here ,  and i\\'m sure she\\'s the best cat in the world !   oh ,  my dear dinah !   i wonder if i shall ever see you any more !  \"  and here poor alice began to cry again ,  for she felt very lonely and low - spirited .  in a little while ,  however ,  she again heard a little pattering of footsteps in the distance ,  and she looked up eagerly ,  half hoping that the mouse had changed his mind ,  and was coming back to finish his story . qwerty                           chapter ivqwerty                the rabbit sends in a little billqwerty  it was the white rabbit ,  trotting slowly back again ,  and looking anxiously about as it went ,  as if it had lost something ;  and she heard it muttering to itself \" the duchess !   the duchess !  oh my dear paws !   oh my fur and whiskers !   she\\'ll get me executed ,  as sure as ferrets are ferrets !   where can i have dropped them ,  i wonder ?  \"  alice guessed in a moment that it was looking for the fan and the pair of white kid gloves ,  and she very good - naturedly began hunting about for them ,  but they were nowhere to be seen -  - everything seemed to have changed since her swim in the pool ,  and the great hall ,  with the glass table and the little door ,  had vanished completely . qwerty  very soon the rabbit noticed alice ,  as she went hunting about ,  and called out to her in an angry tone ,  \" why ,  mary ann ,  what are you doing out here ?   run home this moment ,  and fetch me a pair of gloves and a fan !   quick ,  now !  \"  and alice was so much frightened that she ran off at once in the direction it pointed to ,  without trying to explain the mistake it had made . qwerty  \" he took me for his housemaid ,  \" she said to herself as she ran .  \" how surprised he\\'ll be when he finds out who i am !   but i\\'d better take him his fan and gloves -  - that is ,  if i can find them .  \" as she said this ,  she came upon a neat little house ,  on the door of which was a bright brass plate with the name \" w .  rabbit \" engraved upon it .   she went in without knocking ,  and hurried upstairs ,  in great fear lest she should meet the real mary ann ,  and be turned out of the house before she had found the fan and gloves . qwerty  \" how queer it seems ,  \" alice said to herself ,  \" to be going messages for a rabbit !   i suppose dinah\\'ll be sending me on messages next !  \"  and she began fancying the sort of thing that would happen :   \"  \" miss alice !   come here directly ,  and get ready for your walk !  \"   \" coming in a minute ,  nurse !   but i\\'ve got to see that the mouse doesn\\'t get out .  \"   only i don\\'t think ,  \" alice went on ,  \" that they\\'d let dinah stop in the house if it began ordering people about like that ! \\'qwerty  by this time she had found her way into a tidy little room with a table in the window ,  and on it  ( as she had hoped )  a fan and two or three pairs of tiny white kid gloves :   she took up the fan and a pair of the gloves ,  and was just going to leave the room ,  when her eye fell upon a little bottle that stood near the looking -  glass .   there was no label this time with the words \" drink me ,  \" but nevertheless she uncorked it and put it to her lips .   \" i know something interesting is sure to happen ,  \" she said to herself ,  \" whenever i eat or drink anything ;  so i\\'ll just see what this bottle does .   i do hope it\\'ll make me grow large again ,  for really i\\'m quite tired of being such a tiny little thing ! \\'qwerty  it did so indeed ,  and much sooner than she had expected :  before she had drunk half the bottle ,  she found her head pressing against the ceiling ,  and had to stoop to save her neck from being broken .   she hastily put down the bottle ,  saying to herself \" that\\'s quite enough -  - i hope i shan\\'t grow any more -  - as it is ,  i can\\'t get out at the door -  - i do wish i hadn\\'t drunk quite so much ! \\'qwerty  alas !  it was too late to wish that !   she went on growing ,  and growing ,  and very soon had to kneel down on the floor :   in another minute there was not even room for this ,  and she tried the effect of lying down with one elbow against the door ,  and the other arm curled round her head .   still she went on growing ,  and ,  as a last resource ,  she put one arm out of the window ,  and one foot up the chimney ,  and said to herself \" now i can do no more ,  whatever happens .   what will become of me ? \\'qwerty  luckily for alice ,  the little magic bottle had now had its full effect ,  and she grew no larger :   still it was very uncomfortable ,  and ,  as there seemed to be no sort of chance of her ever getting out of the room again ,  no wonder she felt unhappy . qwerty  \" it was much pleasanter at home ,  \" thought poor alice ,  \" when one wasn\\'t always growing larger and smaller ,  and being ordered about by mice and rabbits .   i almost wish i hadn\\'t gone down that rabbit - hole -  - and yet -  - and yet -  - it\\'s rather curious ,  you know ,  this sort of life !   i do wonder what can have happened to me !  when i used to read fairy - tales ,  i fancied that kind of thing never happened ,  and now here i am in the middle of one !   there ought to be a book written about me ,  that there ought !   and when i grow up ,  i\\'ll write one -  - but i\\'m grown up now ,  \" she added in a sorrowful tone ;  \" at least there\\'s no room to grow up any more here . \\'qwerty  \" but then ,  \" thought alice ,  \" shall i never get any older than i am now ?   that\\'ll be a comfort ,  one way -  - never to be an old woman -  -  but then -  - always to have lessons to learn !   oh ,  i shouldn\\'t like that ! \\'qwerty  \" oh ,  you foolish alice !  \" she answered herself .   \" how can you learn lessons in here ?   why ,  there\\'s hardly room for you ,  and no room at all for any lesson - books ! \\'qwerty  and so she went on ,  taking first one side and then the other ,  and making quite a conversation of it altogether ;  but after a few minutes she heard a voice outside ,  and stopped to listen . qwerty  \" mary ann !   mary ann !  \" said the voice .   \" fetch me my gloves this moment !  \"  then came a little pattering of feet on the stairs .   alice knew it was the rabbit coming to look for her ,  and she trembled till she shook the house ,  quite forgetting that she was now about a thousand times as large as the rabbit ,  and had no reason to be afraid of it . qwerty  presently the rabbit came up to the door ,  and tried to open it ;  but ,  as the door opened inwards ,  and alice\\'s elbow was pressed hard against it ,  that attempt proved a failure .   alice heard it say to itself \" then i\\'ll go round and get in at the window . \\'qwerty  \" that you won\\'t \" thought alice ,  and ,  after waiting till she fancied she heard the rabbit just under the window ,  she suddenly spread out her hand ,  and made a snatch in the air .   she did not get hold of anything ,  but she heard a little shriek and a fall ,  and a crash of broken glass ,  from which she concluded that it was just possible it had fallen into a cucumber - frame ,  or something of the sort . qwerty  next came an angry voice -  - the rabbit\\'s -  - `pat !  pat !   where are you ?  \"  and then a voice she had never heard before ,  \" sure then i\\'m here !   digging for apples ,  yer honour ! \\'qwerty  \" digging for apples ,  indeed !  \" said the rabbit angrily .   \" here !  come and help me out of this !  \"   ( sounds of more broken glass .  ) qwerty  \" now tell me ,  pat ,  what\\'s that in the window ? \\'qwerty  \" sure ,  it\\'s an arm ,  yer honour !  \"   ( he pronounced it \" arrum . \\' ) qwerty  \" an arm ,  you goose !    who ever saw one that size ?   why ,  it fills the whole window ! \\'qwerty  \" sure ,  it does ,  yer honour :   but it\\'s an arm for all that . \\'qwerty  \" well ,  it\\'s got no business there ,  at any rate :   go and take it away ! \\'qwerty  there was a long silence after this ,  and alice could only hear whispers now and then ;  such as ,  \" sure ,  i don\\'t like it ,  yer honour ,  at all ,  at all !  \"  \" do as i tell you ,  you coward !  \" and at last she spread out her hand again ,  and made another snatch in the air .   this time there were two little shrieks ,  and more sounds of broken glass .   \" what a number of cucumber - frames there must be !  \" thought alice .   \" i wonder what they\\'ll do next !   as for pulling me out of the window ,  i only wish they could !   i\\'m sure i don\\'t want to stay in here any longer ! \\'qwerty  she waited for some time without hearing anything more :   at last came a rumbling of little cartwheels ,  and the sound of a good many voices all talking together :   she made out the words :  \" where\\'s the other ladder ?  -  - why ,  i hadn\\'t to bring but one ;  bill\\'s got the other -  - bill !  fetch it here ,  lad !  -  - here ,  put \" em up at this corner -  - no ,  tie \" em together first -  - they don\\'t reach half high enough yet -  - oh !  they\\'ll do well enough ;  don\\'t be particular -  -  here ,  bill !  catch hold of this rope -  - will the roof bear ?  -  - mind that loose slate -  - oh ,  it\\'s coming down !   heads below !  \"  ( a loud crash )  -  - `now ,  who did that ?  -  - it was bill ,  i fancy -  - who\\'s to go down the chimney ?  -  - nay ,  i shan\\'t !  you do it !  -  - that i won\\'t ,  then !  -  - bill\\'s to go down -  - here ,  bill !  the master says you\\'re to go down the chimney ! \\'qwerty  \" oh !  so bill\\'s got to come down the chimney ,  has he ?  \" said alice to herself .   \" shy ,  they seem to put everything upon bill !  i wouldn\\'t be in bill\\'s place for a good deal :   this fireplace is narrow ,  to be sure ;  but i think i can kick a little ! \\'qwerty  she drew her foot as far down the chimney as she could ,  and waited till she heard a little animal  ( she couldn\\'t guess of what sort it was )  scratching and scrambling about in the chimney close above her :   then ,  saying to herself \" this is bill ,  \" she gave one sharp kick ,  and waited to see what would happen next . qwerty  the first thing she heard was a general chorus of \" there goes bill !  \" then the rabbit\\'s voice along -  - `catch him ,  you by the hedge !  \" then silence ,  and then another confusion of voices -  - `hold up his head -  - brandy now -  - don\\'t choke him -  - how was it ,  old fellow ?  what happened to you ?   tell us all about it ! \\'qwerty  last came a little feeble ,  squeaking voice ,   ( `that\\'s bill ,  \" thought alice ,  )  \" well ,  i hardly know -  - no more ,  thank ye ;  i\\'m better now -  - but i\\'m a deal too flustered to tell you -  - all i know is ,  something comes at me like a jack - in - the - box ,  and up i goes like a sky - rocket ! \\'qwerty  \" so you did ,  old fellow !  \" said the others . qwerty  \" we must burn the house down !  \" said the rabbit\\'s voice ;  and alice called out as loud as she could ,  \" if you do .   i\\'ll set dinah at you ! \\'qwerty  there was a dead silence instantly ,  and alice thought to herself ,  \" i wonder what they will do next !   if they had any sense ,  they\\'d take the roof off .  \"  after a minute or two ,  they began moving about again ,  and alice heard the rabbit say ,  \" a barrowful will do ,  to begin with . \\'qwerty  \" a barrowful of what ?  \" thought alice ;  but she had not long to doubt ,  for the next moment a shower of little pebbles came rattling in at the window ,  and some of them hit her in the face .  \" i\\'ll put a stop to this ,  \" she said to herself ,  and shouted out ,  \" you\\'d better not do that again !  \" which produced another dead silence . qwerty  alice noticed with some surprise that the pebbles were all turning into little cakes as they lay on the floor ,  and a bright idea came into her head .   \" if i eat one of these cakes ,  \" she thought ,  \" it\\'s sure to make some change in my size ;  and as it can\\'t possibly make me larger ,  it must make me smaller ,  i suppose . \\'qwerty  so she swallowed one of the cakes ,  and was delighted to find that she began shrinking directly .   as soon as she was small enough to get through the door ,  she ran out of the house ,  and found quite a crowd of little animals and birds waiting outside .  the poor little lizard ,  bill ,  was in the middle ,  being held up by two guinea - pigs ,  who were giving it something out of a bottle .  they all made a rush at alice the moment she appeared ;  but she ran off as hard as she could ,  and soon found herself safe in a thick wood . qwerty  \" the first thing i\\'ve got to do ,  \" said alice to herself ,  as she wandered about in the wood ,  \" is to grow to my right size again ;  and the second thing is to find my way into that lovely garden .  i think that will be the best plan . \\'qwerty  it sounded an excellent plan ,  no doubt ,  and very neatly and simply arranged ;  the only difficulty was ,  that she had not the smallest idea how to set about it ;  and while she was peering about anxiously among the trees ,  a little sharp bark just over her head made her look up in a great hurry . qwerty  an enormous puppy was looking down at her with large round eyes ,  and feebly stretching out one paw ,  trying to touch her .  \" poor little thing !  \" said alice ,  in a coaxing tone ,  and she tried hard to whistle to it ;  but she was terribly frightened all the time at the thought that it might be hungry ,  in which case it would be very likely to eat her up in spite of all her coaxing . qwerty  hardly knowing what she did ,  she picked up a little bit of stick ,  and held it out to the puppy ;  whereupon the puppy jumped into the air off all its feet at once ,  with a yelp of delight ,  and rushed at the stick ,  and made believe to worry it ;  then alice dodged behind a great thistle ,  to keep herself from being run over ;  and the moment she appeared on the other side ,  the puppy made another rush at the stick ,  and tumbled head over heels in its hurry to get hold of it ;  then alice ,  thinking it was very like having a game of play with a cart - horse ,  and expecting every moment to be trampled under its feet ,  ran round the thistle again ;  then the puppy began a series of short charges at the stick ,  running a very little way forwards each time and a long way back ,  and barking hoarsely all the while ,  till at last it sat down a good way off ,  panting ,  with its tongue hanging out of its mouth ,  and its great eyes half shut . qwerty  this seemed to alice a good opportunity for making her escape ;  so she set off at once ,  and ran till she was quite tired and out of breath ,  and till the puppy\\'s bark sounded quite faint in the distance . qwerty  \" and yet what a dear little puppy it was !  \" said alice ,  as she leant against a buttercup to rest herself ,  and fanned herself with one of the leaves :   \" i should have liked teaching it tricks very much ,  if -  - if i\\'d only been the right size to do it !   oh dear !   i\\'d nearly forgotten that i\\'ve got to grow up again !   let me see -  - how is it to be managed ?   i suppose i ought to eat or drink something or other ;  but the great question is ,  what ? \\'qwerty  the great question certainly was ,  what ?   alice looked all round her at the flowers and the blades of grass ,  but she did not see anything that looked like the right thing to eat or drink under the circumstances .   there was a large mushroom growing near her ,  about the same height as herself ;  and when she had looked under it ,  and on both sides of it ,  and behind it ,  it occurred to her that she might as well look and see what was on the top of it . qwerty  she stretched herself up on tiptoe ,  and peeped over the edge of the mushroom ,  and her eyes immediately met those of a large caterpillar ,  that was sitting on the top with its arms folded ,  quietly smoking a long hookah ,  and taking not the smallest notice of her or of anything else . qwerty                            chapter vqwerty                    advice from a caterpillarqwerty  the caterpillar and alice looked at each other for some time in silence :   at last the caterpillar took the hookah out of its mouth ,  and addressed her in a languid ,  sleepy voice . qwerty  \" who are you ?  \" said the caterpillar . qwerty  this was not an encouraging opening for a conversation .   alice replied ,  rather shyly ,  \" i -  - i hardly know ,  sir ,  just at present -  -  at least i know who i was when i got up this morning ,  but i think i must have been changed several times since then . \\'qwerty  \" what do you mean by that ?  \" said the caterpillar sternly .  \" explain yourself ! \\'qwerty  \" i can\\'t explain myself ,  i\\'m afraid ,  sir \" said alice ,  \" because i\\'m not myself ,  you see . \\'qwerty  \" i don\\'t see ,  \" said the caterpillar . qwerty  \" i\\'m afraid i can\\'t put it more clearly ,  \" alice replied very politely ,  \" for i can\\'t understand it myself to begin with ;  and being so many different sizes in a day is very confusing . \\'qwerty  \" it isn\\'t ,  \" said the caterpillar . qwerty  \" well ,  perhaps you haven\\'t found it so yet ,  \" said alice ;  \" but when you have to turn into a chrysalis -  - you will some day ,  you know -  - and then after that into a butterfly ,  i should think you\\'ll feel it a little queer ,  won\\'t you ? \\'qwerty  \" not a bit ,  \" said the caterpillar . qwerty  \" well ,  perhaps your feelings may be different ,  \" said alice ;  \" all i know is ,  it would feel very queer to me . \\'qwerty  \" you !  \" said the caterpillar contemptuously .   \" who are you ? \\'qwerty  which brought them back again to the beginning of the conversation .   alice felt a little irritated at the caterpillar\\'s making such very short remarks ,  and she drew herself up and said ,  very gravely ,  \" i think ,  you ought to tell me who you are ,  first . \\'qwerty  \" why ?  \" said the caterpillar . qwerty  here was another puzzling question ;  and as alice could not think of any good reason ,  and as the caterpillar seemed to be in a very unpleasant state of mind ,  she turned away . qwerty  \" come back !  \" the caterpillar called after her .   \" i\\'ve something important to say ! \\'qwerty  this sounded promising ,  certainly :   alice turned and came back again . qwerty  \" keep your temper ,  \" said the caterpillar . qwerty  \" is that all ?  \" said alice ,  swallowing down her anger as well as she could . qwerty  \" no ,  \" said the caterpillar . qwerty  alice thought she might as well wait ,  as she had nothing else to do ,  and perhaps after all it might tell her something worth hearing .   for some minutes it puffed away without speaking ,  but at last it unfolded its arms ,  took the hookah out of its mouth again ,  and said ,  \" so you think you\\'re changed ,  do you ? \\'qwerty  \" i\\'m afraid i am ,  sir ,  \" said alice ;  \" i can\\'t remember things as i used -  - and i don\\'t keep the same size for ten minutes together ! \\'qwerty  \" can\\'t remember what things ?  \" said the caterpillar . qwerty  \" well ,  i\\'ve tried to say  \" how doth the little busy bee ,  \"  but it all came different !  \" alice replied in a very melancholy voice . qwerty  \" repeat ,   \" you are old ,  father william ,  \"  \" said the caterpillar . qwerty  alice folded her hands ,  and began :  -  - qwerty    \" you are old ,  father william ,  \" the young man said ,        \" and your hair has become very white ;      and yet you incessantly stand on your head -  -        do you think ,  at your age ,  it is right ? \\'qwerty    \" in my youth ,  \" father william replied to his son ,        \" i feared it might injure the brain ;      but ,  now that i\\'m perfectly sure i have none ,        why ,  i do it again and again . \\'qwerty    \" you are old ,  \" said the youth ,  \" as i mentioned before ,        and have grown most uncommonly fat ;      yet you turned a back - somersault in at the door -  -        pray ,  what is the reason of that ? \\'qwerty    \" in my youth ,  \" said the sage ,  as he shook his grey locks ,        \" i kept all my limbs very supple     by the use of this ointment -  - one shilling the box -  -        allow me to sell you a couple ? \\'qwerty    \" you are old ,  \" said the youth ,  \" and your jaws are too weak       for anything tougher than suet ;      yet you finished the goose ,  with the bones and the beak -  -        pray how did you manage to do it ? \\'qwerty    \" in my youth ,  \" said his father ,  \" i took to the law ,        and argued each case with my wife ;      and the muscular strength ,  which it gave to my jaw ,        has lasted the rest of my life . \\'qwerty    \" you are old ,  \" said the youth ,  \" one would hardly suppose       that your eye was as steady as ever ;      yet you balanced an eel on the end of your nose -  -        what made you so awfully clever ? \\'qwerty    \" i have answered three questions ,  and that is enough ,  \"       said his father ;  \" don\\'t give yourself airs !      do you think i can listen all day to such stuff ?        be off ,  or i\\'ll kick you down stairs ! \\'qwerty  \" that is not said right ,  \" said the caterpillar . qwerty  \" not quite right ,  i\\'m afraid ,  \" said alice ,  timidly ;  \" some of the words have got altered . \\'qwerty  \" it is wrong from beginning to end ,  \" said the caterpillar decidedly ,  and there was silence for some minutes . qwerty  the caterpillar was the first to speak . qwerty  \" what size do you want to be ?  \" it asked . qwerty  \" oh ,  i\\'m not particular as to size ,  \" alice hastily replied ;  \" only one doesn\\'t like changing so often ,  you know . \\'qwerty  \" i don\\'t know ,  \" said the caterpillar . qwerty  alice said nothing :   she had never been so much contradicted in her life before ,  and she felt that she was losing her temper . qwerty  \" are you content now ?  \" said the caterpillar . qwerty  \" well ,  i should like to be a little larger ,  sir ,  if you wouldn\\'t mind ,  \" said alice :   \" three inches is such a wretched height to be . \\'qwerty  \" it is a very good height indeed !  \" said the caterpillar angrily ,  rearing itself upright as it spoke  ( it was exactly three inches high )  . qwerty  \" but i\\'m not used to it !  \" pleaded poor alice in a piteous tone .  and she thought of herself ,  \" i wish the creatures wouldn\\'t be so easily offended ! \\'qwerty  \" you\\'ll get used to it in time ,  \" said the caterpillar ;  and it put the hookah into its mouth and began smoking again . qwerty  this time alice waited patiently until it chose to speak again .  in a minute or two the caterpillar took the hookah out of its mouth and yawned once or twice ,  and shook itself .   then it got down off the mushroom ,  and crawled away in the grass ,  merely remarking as it went ,  \" one side will make you grow taller ,  and the other side will make you grow shorter . \\'qwerty  \" one side of what ?   the other side of what ?  \" thought alice to herself . qwerty  \" of the mushroom ,  \" said the caterpillar ,  just as if she had asked it aloud ;  and in another moment it was out of sight . qwerty  alice remained looking thoughtfully at the mushroom for a minute ,  trying to make out which were the two sides of it ;  and as it was perfectly round ,  she found this a very difficult question .  however ,  at last she stretched her arms round it as far as they would go ,  and broke off a bit of the edge with each hand . qwerty  \" and now which is which ?  \" she said to herself ,  and nibbled a little of the right - hand bit to try the effect :   the next moment she felt a violent blow underneath her chin :   it had struck her foot ! qwerty  she was a good deal frightened by this very sudden change ,  but she felt that there was no time to be lost ,  as she was shrinking rapidly ;  so she set to work at once to eat some of the other bit .  her chin was pressed so closely against her foot ,  that there was hardly room to open her mouth ;  but she did it at last ,  and managed to swallow a morsel of the lefthand bit . qwerty                                                                    qwerty                                                              qwerty                                                                    qwerty  \" come ,  my head\\'s free at last !  \" said alice in a tone of delight ,  which changed into alarm in another moment ,  when she found that her shoulders were nowhere to be found :   all she could see ,  when she looked down ,  was an immense length of neck ,  which seemed to rise like a stalk out of a sea of green leaves that lay far below her . qwerty  \" what can all that green stuff be ?  \" said alice .   \" and where have my shoulders got to ?   and oh ,  my poor hands ,  how is it i can\\'t see you ?  \"  she was moving them about as she spoke ,  but no result seemed to follow ,  except a little shaking among the distant green leaves . qwerty  as there seemed to be no chance of getting her hands up to her head ,  she tried to get her head down to them ,  and was delighted to find that her neck would bend about easily in any direction ,  like a serpent .   she had just succeeded in curving it down into a graceful zigzag ,  and was going to dive in among the leaves ,  which she found to be nothing but the tops of the trees under which she had been wandering ,  when a sharp hiss made her draw back in a hurry :   a large pigeon had flown into her face ,  and was beating her violently with its wings . qwerty  \" serpent !  \" screamed the pigeon . qwerty  \" i\\'m not a serpent !  \" said alice indignantly .   \" let me alone ! \\'qwerty  \" serpent ,  i say again !  \" repeated the pigeon ,  but in a more subdued tone ,  and added with a kind of sob ,  \" i\\'ve tried every way ,  and nothing seems to suit them ! \\'qwerty  \" i haven\\'t the least idea what you\\'re talking about ,  \" said alice . qwerty  \" i\\'ve tried the roots of trees ,  and i\\'ve tried banks ,  and i\\'ve tried hedges ,  \" the pigeon went on ,  without attending to her ;  \" but those serpents !   there\\'s no pleasing them ! \\'qwerty  alice was more and more puzzled ,  but she thought there was no use in saying anything more till the pigeon had finished . qwerty  \" as if it wasn\\'t trouble enough hatching the eggs ,  \" said the pigeon ;  \" but i must be on the look - out for serpents night and day !   why ,  i haven\\'t had a wink of sleep these three weeks ! \\'qwerty  \" i\\'m very sorry you\\'ve been annoyed ,  \" said alice ,  who was beginning to see its meaning . qwerty  \" and just as i\\'d taken the highest tree in the wood ,  \" continued the pigeon ,  raising its voice to a shriek ,  \" and just as i was thinking i should be free of them at last ,  they must needs come wriggling down from the sky !   ugh ,  serpent ! \\'qwerty  \" but i\\'m not a serpent ,  i tell you !  \" said alice .   \" i\\'m a -  - i\\'m a -  - \\'qwerty  \" well !   what are you ?  \" said the pigeon .   \" i can see you\\'re trying to invent something ! \\'qwerty  \" i -  - i\\'m a little girl ,  \" said alice ,  rather doubtfully ,  as she remembered the number of changes she had gone through that day . qwerty  \" a likely story indeed !  \" said the pigeon in a tone of the deepest contempt .   \" i\\'ve seen a good many little girls in my time ,  but never one with such a neck as that !   no ,  no !   you\\'re a serpent ;  and there\\'s no use denying it .   i suppose you\\'ll be telling me next that you never tasted an egg ! \\'qwerty  \" i have tasted eggs ,  certainly ,  \" said alice ,  who was a very truthful child ;  \" but little girls eat eggs quite as much as serpents do ,  you know . \\'qwerty  \" i don\\'t believe it ,  \" said the pigeon ;  \" but if they do ,  why then they\\'re a kind of serpent ,  that\\'s all i can say . \\'qwerty  this was such a new idea to alice ,  that she was quite silent for a minute or two ,  which gave the pigeon the opportunity of adding ,  \" you\\'re looking for eggs ,  i know that well enough ;  and what does it matter to me whether you\\'re a little girl or a serpent ? \\'qwerty  \" it matters a good deal to me ,  \" said alice hastily ;  \" but i\\'m not looking for eggs ,  as it happens ;  and if i was ,  i shouldn\\'t want yours :   i don\\'t like them raw . \\'qwerty  \" well ,  be off ,  then !  \" said the pigeon in a sulky tone ,  as it settled down again into its nest .   alice crouched down among the trees as well as she could ,  for her neck kept getting entangled among the branches ,  and every now and then she had to stop and untwist it .   after a while she remembered that she still held the pieces of mushroom in her hands ,  and she set to work very carefully ,  nibbling first at one and then at the other ,  and growing sometimes taller and sometimes shorter ,  until she had succeeded in bringing herself down to her usual height . qwerty  it was so long since she had been anything near the right size ,  that it felt quite strange at first ;  but she got used to it in a few minutes ,  and began talking to herself ,  as usual .   \" come ,  there\\'s half my plan done now !   how puzzling all these changes are !   i\\'m never sure what i\\'m going to be ,  from one minute to another !   however ,  i\\'ve got back to my right size :   the next thing is ,  to get into that beautiful garden -  - how is that to be done ,  i wonder ?  \"  as she said this ,  she came suddenly upon an open place ,  with a little house in it about four feet high .  \" whoever lives there ,  \" thought alice ,  \" it\\'ll never do to come upon them this size :   why ,  i should frighten them out of their wits !  \"  so she began nibbling at the righthand bit again ,  and did not venture to go near the house till she had brought herself down to nine inches high . qwerty                           chapter viqwerty                         pig and pepperqwerty  for a minute or two she stood looking at the house ,  and wondering what to do next ,  when suddenly a footman in livery came running out of the wood -  -  ( she considered him to be a footman because he was in livery :   otherwise ,  judging by his face only ,  she would have called him a fish )  -  - and rapped loudly at the door with his knuckles .   it was opened by another footman in livery ,  with a round face ,  and large eyes like a frog ;  and both footmen ,  alice noticed ,  had powdered hair that curled all over their heads .   she felt very curious to know what it was all about ,  and crept a little way out of the wood to listen . qwerty  the fish - footman began by producing from under his arm a great letter ,  nearly as large as himself ,  and this he handed over to the other ,  saying ,  in a solemn tone ,  \" for the duchess .   an invitation from the queen to play croquet .  \"  the frog - footman repeated ,  in the same solemn tone ,  only changing the order of the words a little ,  \" from the queen .   an invitation for the duchess to play croquet . \\'qwerty  then they both bowed low ,  and their curls got entangled together . qwerty  alice laughed so much at this ,  that she had to run back into the wood for fear of their hearing her ;  and when she next peeped out the fish - footman was gone ,  and the other was sitting on the ground near the door ,  staring stupidly up into the sky . qwerty  alice went timidly up to the door ,  and knocked . qwerty  \" there\\'s no sort of use in knocking ,  \" said the footman ,  \" and that for two reasons .   first ,  because i\\'m on the same side of the door as you are ;  secondly ,  because they\\'re making such a noise inside ,  no one could possibly hear you .  \"  and certainly there was a most extraordinary noise going on within -  - a constant howling and sneezing ,  and every now and then a great crash ,  as if a dish or kettle had been broken to pieces . qwerty  \" please ,  then ,  \" said alice ,  \" how am i to get in ? \\'qwerty  \" there might be some sense in your knocking ,  \" the footman went on without attending to her ,  \" if we had the door between us .   for instance ,  if you were inside ,  you might knock ,  and i could let you out ,  you know .  \"  he was looking up into the sky all the time he was speaking ,  and this alice thought decidedly uncivil .   \" but perhaps he can\\'t help it ,  \" she said to herself ;  \" his eyes are so very nearly at the top of his head .   but at any rate he might answer questions .  -  - how am i to get in ?  \" she repeated ,  aloud . qwerty  \" i shall sit here ,  \" the footman remarked ,  \" till tomorrow -  - \\'qwerty  at this moment the door of the house opened ,  and a large plate came skimming out ,  straight at the footman\\'s head :   it just grazed his nose ,  and broke to pieces against one of the trees behind him . qwerty  \"  -  - or next day ,  maybe ,  \" the footman continued in the same tone ,  exactly as if nothing had happened . qwerty  \" how am i to get in ?  \" asked alice again ,  in a louder tone . qwerty  \" are you to get in at all ?  \" said the footman .   \" that\\'s the first question ,  you know . \\'qwerty  it was ,  no doubt :   only alice did not like to be told so .  \" it\\'s really dreadful ,  \" she muttered to herself ,  \" the way all the creatures argue .   it\\'s enough to drive one crazy ! \\'qwerty  the footman seemed to think this a good opportunity for repeating his remark ,  with variations .   \" i shall sit here ,  \" he said ,  \" on and off ,  for days and days . \\'qwerty  \" but what am i to do ?  \" said alice . qwerty  \" anything you like ,  \" said the footman ,  and began whistling . qwerty  \" oh ,  there\\'s no use in talking to him ,  \" said alice desperately :  \" he\\'s perfectly idiotic !  \"  and she opened the door and went in . qwerty  the door led right into a large kitchen ,  which was full of smoke from one end to the other :   the duchess was sitting on a three - legged stool in the middle ,  nursing a baby ;  the cook was leaning over the fire ,  stirring a large cauldron which seemed to be full of soup . qwerty  \" there\\'s certainly too much pepper in that soup !  \" alice said to herself ,  as well as she could for sneezing . qwerty  there was certainly too much of it in the air .   even the duchess sneezed occasionally ;  and as for the baby ,  it was sneezing and howling alternately without a moment\\'s pause .   the only things in the kitchen that did not sneeze ,  were the cook ,  and a large cat which was sitting on the hearth and grinning from ear to ear . qwerty  \" please would you tell me ,  \" said alice ,  a little timidly ,  for she was not quite sure whether it was good manners for her to speak first ,  \" why your cat grins like that ? \\'qwerty  \" it\\'s a cheshire cat ,  \" said the duchess ,  \" and that\\'s why .   pig ! \\'qwerty  she said the last word with such sudden violence that alice quite jumped ;  but she saw in another moment that it was addressed to the baby ,  and not to her ,  so she took courage ,  and went on again :  -  - qwerty  \" i didn\\'t know that cheshire cats always grinned ;  in fact ,  i didn\\'t know that cats could grin . \\'qwerty  \" they all can ,  \" said the duchess ;  \" and most of \" em do . \\'qwerty  \" i don\\'t know of any that do ,  \" alice said very politely ,  feeling quite pleased to have got into a conversation . qwerty  \" you don\\'t know much ,  \" said the duchess ;  \" and that\\'s a fact . \\'qwerty  alice did not at all like the tone of this remark ,  and thought it would be as well to introduce some other subject of conversation .   while she was trying to fix on one ,  the cook took the cauldron of soup off the fire ,  and at once set to work throwing everything within her reach at the duchess and the baby  -  - the fire - irons came first ;  then followed a shower of saucepans ,  plates ,  and dishes .   the duchess took no notice of them even when they hit her ;  and the baby was howling so much already ,  that it was quite impossible to say whether the blows hurt it or not . qwerty  \" oh ,  please mind what you\\'re doing !  \" cried alice ,  jumping up and down in an agony of terror .   \" oh ,  there goes his precious nose\\' ;  as an unusually large saucepan flew close by it ,  and very nearly carried it off . qwerty  \" if everybody minded their own business ,  \" the duchess said in a hoarse growl ,  \" the world would go round a deal faster than it does . \\'qwerty  \" which would not be an advantage ,  \" said alice ,  who felt very glad to get an opportunity of showing off a little of her knowledge .   \" just think of what work it would make with the day and night !   you see the earth takes twenty - four hours to turn round on its axis -  - \\'qwerty  \" talking of axes ,  \" said the duchess ,  \" chop off her head ! \\'qwerty  alice glanced rather anxiously at the cook ,  to see if she meant to take the hint ;  but the cook was busily stirring the soup ,  and seemed not to be listening ,  so she went on again :   \" twenty - four hours ,  i think ;  or is it twelve ?   i -  - \\'qwerty  \" oh ,  don\\'t bother me ,  \" said the duchess ;  \" i never could abide figures !  \"  and with that she began nursing her child again ,  singing a sort of lullaby to it as she did so ,  and giving it a violent shake at the end of every line : qwerty        \" speak roughly to your little boy ,            and beat him when he sneezes :          he only does it to annoy ,            because he knows it teases . \\'qwerty                    chorus . qwerty     ( in which the cook and the baby joined )  :  -  - qwerty                \" wow !  wow !  wow ! \\'qwerty  while the duchess sang the second verse of the song ,  she kept tossing the baby violently up and down ,  and the poor little thing howled so ,  that alice could hardly hear the words :  -  - qwerty        \" i speak severely to my boy ,            i beat him when he sneezes ;          for he can thoroughly enjoy           the pepper when he pleases ! \\'qwerty                    chorus . qwerty                \" wow !  wow !  wow ! \\'qwerty  \" here !  you may nurse it a bit ,  if you like !  \" the duchess said to alice ,  flinging the baby at her as she spoke .   \" i must go and get ready to play croquet with the queen ,  \" and she hurried out of the room .   the cook threw a frying - pan after her as she went out ,  but it just missed her . qwerty  alice caught the baby with some difficulty ,  as it was a queer -  shaped little creature ,  and held out its arms and legs in all directions ,  \" just like a star - fish ,  \" thought alice .   the poor little thing was snorting like a steam - engine when she caught it ,  and kept doubling itself up and straightening itself out again ,  so that altogether ,  for the first minute or two ,  it was as much as she could do to hold it . qwerty  as soon as she had made out the proper way of nursing it ,   ( which was to twist it up into a sort of knot ,  and then keep tight hold of its right ear and left foot ,  so as to prevent its undoing itself ,  )  she carried it out into the open air .   \" if i don\\'t take this child away with me ,  \" thought alice ,  \" they\\'re sure to kill it in a day or two :   wouldn\\'t it be murder to leave it behind ?  \"  she said the last words out loud ,  and the little thing grunted in reply  ( it had left off sneezing by this time )  .   \" don\\'t grunt ,  \" said alice ;  \" that\\'s not at all a proper way of expressing yourself . \\'qwerty  the baby grunted again ,  and alice looked very anxiously into its face to see what was the matter with it .   there could be no doubt that it had a very turn - up nose ,  much more like a snout than a real nose ;  also its eyes were getting extremely small for a baby :   altogether alice did not like the look of the thing at all .   \" but perhaps it was only sobbing ,  \" she thought ,  and looked into its eyes again ,  to see if there were any tears . qwerty  no ,  there were no tears .   \" if you\\'re going to turn into a pig ,  my dear ,  \" said alice ,  seriously ,  \" i\\'ll have nothing more to do with you .   mind now !  \"  the poor little thing sobbed again  ( or grunted ,  it was impossible to say which )  ,  and they went on for some while in silence . qwerty  alice was just beginning to think to herself ,  \" now ,  what am i to do with this creature when i get it home ?  \" when it grunted again ,  so violently ,  that she looked down into its face in some alarm .   this time there could be no mistake about it :   it was neither more nor less than a pig ,  and she felt that it would be quite absurd for her to carry it further . qwerty  so she set the little creature down ,  and felt quite relieved to see it trot away quietly into the wood .   \" if it had grown up ,  \" she said to herself ,  \" it would have made a dreadfully ugly child :  but it makes rather a handsome pig ,  i think .  \"  and she began thinking over other children she knew ,  who might do very well as pigs ,  and was just saying to herself ,  \" if one only knew the right way to change them -  -  \" when she was a little startled by seeing the cheshire cat sitting on a bough of a tree a few yards off . qwerty  the cat only grinned when it saw alice .   it looked good -  natured ,  she thought :   still it had very long claws and a great many teeth ,  so she felt that it ought to be treated with respect . qwerty  \" cheshire puss ,  \" she began ,  rather timidly ,  as she did not at all know whether it would like the name :   however ,  it only grinned a little wider .   \" come ,  it\\'s pleased so far ,  \" thought alice ,  and she went on .   \" would you tell me ,  please ,  which way i ought to go from here ? \\'qwerty  \" that depends a good deal on where you want to get to ,  \" said the cat . qwerty  \" i don\\'t much care where -  -  \" said alice . qwerty  \" then it doesn\\'t matter which way you go ,  \" said the cat . qwerty  \"  -  - so long as i get somewhere ,  \" alice added as an explanation . qwerty  \" oh ,  you\\'re sure to do that ,  \" said the cat ,  \" if you only walk long enough . \\'qwerty  alice felt that this could not be denied ,  so she tried another question .   \" what sort of people live about here ? \\'qwerty  \" in that direction ,  \" the cat said ,  waving its right paw round ,  \" lives a hatter :   and in that direction ,  \" waving the other paw ,  \" lives a march hare .   visit either you like :   they\\'re both mad . \\'qwerty  \" but i don\\'t want to go among mad people ,  \" alice remarked . qwerty  \" oh ,  you can\\'t help that ,  \" said the cat :   \" we\\'re all mad here .  i\\'m mad .   you\\'re mad . \\'qwerty  \" how do you know i\\'m mad ?  \" said alice . qwerty  \" you must be ,  \" said the cat ,  \" or you wouldn\\'t have come here . \\'qwerty  alice didn\\'t think that proved it at all ;  however ,  she went on \" and how do you know that you\\'re mad ? \\'qwerty  \" to begin with ,  \" said the cat ,  \" a dog\\'s not mad .   you grant that ? \\'qwerty  \" i suppose so ,  \" said alice . qwerty  \" well ,  then ,  \" the cat went on ,  \" you see ,  a dog growls when it\\'s angry ,  and wags its tail when it\\'s pleased .   now i growl when i\\'m pleased ,  and wag my tail when i\\'m angry .   therefore i\\'m mad . \\'qwerty  \" i call it purring ,  not growling ,  \" said alice . qwerty  \" call it what you like ,  \" said the cat .   \" do you play croquet with the queen to - day ? \\'qwerty  \" i should like it very much ,  \" said alice ,  \" but i haven\\'t been invited yet . \\'qwerty  \" you\\'ll see me there ,  \" said the cat ,  and vanished . qwerty  alice was not much surprised at this ,  she was getting so used to queer things happening .   while she was looking at the place where it had been ,  it suddenly appeared again . qwerty  \" by - the - bye ,  what became of the baby ?  \" said the cat .   \" i\\'d nearly forgotten to ask . \\'qwerty  \" it turned into a pig ,  \" alice quietly said ,  just as if it had come back in a natural way . qwerty  \" i thought it would ,  \" said the cat ,  and vanished again . qwerty  alice waited a little ,  half expecting to see it again ,  but it did not appear ,  and after a minute or two she walked on in the direction in which the march hare was said to live .   \" i\\'ve seen hatters before ,  \" she said to herself ;  \" the march hare will be much the most interesting ,  and perhaps as this is may it won\\'t be raving mad -  - at least not so mad as it was in march .  \"  as she said this ,  she looked up ,  and there was the cat again ,  sitting on a branch of a tree . qwerty  \" did you say pig ,  or fig ?  \" said the cat . qwerty  \" i said pig ,  \" replied alice ;  \" and i wish you wouldn\\'t keep appearing and vanishing so suddenly :   you make one quite giddy . \\'qwerty  \" all right ,  \" said the cat ;  and this time it vanished quite slowly ,  beginning with the end of the tail ,  and ending with the grin ,  which remained some time after the rest of it had gone . qwerty  \" well !   i\\'ve often seen a cat without a grin ,  \" thought alice ;  \" but a grin without a cat !   it\\'s the most curious thing i ever saw in my life ! \\'qwerty  she had not gone much farther before she came in sight of the house of the march hare :   she thought it must be the right house ,  because the chimneys were shaped like ears and the roof was thatched with fur .   it was so large a house ,  that she did not like to go nearer till she had nibbled some more of the lefthand bit of mushroom ,  and raised herself to about two feet high :   even then she walked up towards it rather timidly ,  saying to herself \" suppose it should be raving mad after all !   i almost wish i\\'d gone to see the hatter instead ! \\'qwerty                           chapter viiqwerty                         a mad tea - partyqwerty  there was a table set out under a tree in front of the house ,  and the march hare and the hatter were having tea at it :   a dormouse was sitting between them ,  fast asleep ,  and the other two were using it as a cushion ,  resting their elbows on it ,  and talking over its head .   \" very uncomfortable for the dormouse ,  \" thought alice ;  \" only ,  as it\\'s asleep ,  i suppose it doesn\\'t mind . \\'qwerty  the table was a large one ,  but the three were all crowded together at one corner of it :   \" no room !   no room !  \" they cried out when they saw alice coming .   \" there\\'s plenty of room !  \" said alice indignantly ,  and she sat down in a large arm - chair at one end of the table . qwerty  \" have some wine ,  \" the march hare said in an encouraging tone . qwerty  alice looked all round the table ,  but there was nothing on it but tea .   \" i don\\'t see any wine ,  \" she remarked . qwerty  \" there isn\\'t any ,  \" said the march hare . qwerty  \" then it wasn\\'t very civil of you to offer it ,  \" said alice angrily . qwerty  \" it wasn\\'t very civil of you to sit down without being invited ,  \" said the march hare . qwerty  \" i didn\\'t know it was your table ,  \" said alice ;  \" it\\'s laid for a great many more than three . \\'qwerty  \" your hair wants cutting ,  \" said the hatter .   he had been looking at alice for some time with great curiosity ,  and this was his first speech . qwerty  \" you should learn not to make personal remarks ,  \" alice said with some severity ;  \" it\\'s very rude . \\'qwerty  the hatter opened his eyes very wide on hearing this ;  but all he said was ,  \" why is a raven like a writing - desk ? \\'qwerty  \" come ,  we shall have some fun now !  \" thought alice .   \" i\\'m glad they\\'ve begun asking riddles .  -  - i believe i can guess that ,  \" she added aloud . qwerty  \" do you mean that you think you can find out the answer to it ?  \" said the march hare . qwerty  \" exactly so ,  \" said alice . qwerty  \" then you should say what you mean ,  \" the march hare went on . qwerty  \" i do ,  \" alice hastily replied ;  \" at least -  - at least i mean what i say -  - that\\'s the same thing ,  you know . \\'qwerty  \" not the same thing a bit !  \" said the hatter .   \" you might just as well say that  \" i see what i eat \"  is the same thing as  \" i eat what i see \"  ! \\'qwerty  \" you might just as well say ,  \" added the march hare ,  \" that  \" i like what i get \"  is the same thing as  \" i get what i like \"  ! \\'qwerty  \" you might just as well say ,  \" added the dormouse ,  who seemed to be talking in his sleep ,  \" that  \" i breathe when i sleep \"  is the same thing as  \" i sleep when i breathe \"  ! \\'qwerty  \" it is the same thing with you ,  \" said the hatter ,  and here the conversation dropped ,  and the party sat silent for a minute ,  while alice thought over all she could remember about ravens and writing - desks ,  which wasn\\'t much . qwerty  the hatter was the first to break the silence .   \" what day of the month is it ?  \" he said ,  turning to alice :   he had taken his watch out of his pocket ,  and was looking at it uneasily ,  shaking it every now and then ,  and holding it to his ear . qwerty  alice considered a little ,  and then said \" the fourth . \\'qwerty  \" two days wrong !  \" sighed the hatter .   \" i told you butter wouldn\\'t suit the works !  \" he added looking angrily at the march hare . qwerty  \" it was the best butter ,  \" the march hare meekly replied . qwerty  \" yes ,  but some crumbs must have got in as well ,  \" the hatter grumbled :   \" you shouldn\\'t have put it in with the bread - knife . \\'qwerty  the march hare took the watch and looked at it gloomily :   then he dipped it into his cup of tea ,  and looked at it again :   but he could think of nothing better to say than his first remark ,  \" it was the best butter ,  you know . \\'qwerty  alice had been looking over his shoulder with some curiosity .  \" what a funny watch !  \" she remarked .   \" it tells the day of the month ,  and doesn\\'t tell what o\\'clock it is ! \\'qwerty  \" why should it ?  \" muttered the hatter .   \" does your watch tell you what year it is ? \\'qwerty  \" of course not ,  \" alice replied very readily :   \" but that\\'s because it stays the same year for such a long time together . \\'qwerty  \" which is just the case with mine ,  \" said the hatter . qwerty  alice felt dreadfully puzzled .   the hatter\\'s remark seemed to have no sort of meaning in it ,  and yet it was certainly english .  \" i don\\'t quite understand you ,  \" she said ,  as politely as she could . qwerty  \" the dormouse is asleep again ,  \" said the hatter ,  and he poured a little hot tea upon its nose . qwerty  the dormouse shook its head impatiently ,  and said ,  without opening its eyes ,  \" of course ,  of course ;  just what i was going to remark myself . \\'qwerty  \" have you guessed the riddle yet ?  \" the hatter said ,  turning to alice again . qwerty  \" no ,  i give it up ,  \" alice replied :   \" what\\'s the answer ? \\'qwerty  \" i haven\\'t the slightest idea ,  \" said the hatter . qwerty  \" nor i ,  \" said the march hare . qwerty  alice sighed wearily .   \" i think you might do something better with the time ,  \" she said ,  \" than waste it in asking riddles that have no answers . \\'qwerty  \" if you knew time as well as i do ,  \" said the hatter ,  \" you wouldn\\'t talk about wasting it .   it\\'s him . \\'qwerty  \" i don\\'t know what you mean ,  \" said alice . qwerty  \" of course you don\\'t !  \" the hatter said ,  tossing his head contemptuously .   \" i dare say you never even spoke to time ! \\'qwerty  \" perhaps not ,  \" alice cautiously replied :   \" but i know i have to beat time when i learn music . \\'qwerty  \" ah !  that accounts for it ,  \" said the hatter .   \" he won\\'t stand beating .   now ,  if you only kept on good terms with him ,  he\\'d do almost anything you liked with the clock .   for instance ,  suppose it were nine o\\'clock in the morning ,  just time to begin lessons :  you\\'d only have to whisper a hint to time ,  and round goes the clock in a twinkling !   half - past one ,  time for dinner ! \\'qwerty   ( `i only wish it was ,  \" the march hare said to itself in a whisper .  ) qwerty  \" that would be grand ,  certainly ,  \" said alice thoughtfully :  \" but then -  - i shouldn\\'t be hungry for it ,  you know . \\'qwerty  \" not at first ,  perhaps ,  \" said the hatter :   \" but you could keep it to half - past one as long as you liked . \\'qwerty  \" is that the way you manage ?  \" alice asked . qwerty  the hatter shook his head mournfully .   \" not i !  \" he replied .  \" we quarrelled last march -  - just before he went mad ,  you know -  -  \"  ( pointing with his tea spoon at the march hare ,  )  \"  -  - it was at the great concert given by the queen of hearts ,  and i had to singqwerty             \" twinkle ,  twinkle ,  little bat !              how i wonder what you\\'re at !  \" qwertyyou know the song ,  perhaps ? \\'qwerty  \" i\\'ve heard something like it ,  \" said alice . qwerty  \" it goes on ,  you know ,  \" the hatter continued ,  \" in this way :  -  - qwerty             \" up above the world you fly ,              like a tea - tray in the sky .                      twinkle ,  twinkle -  -  \" \\'qwertyhere the dormouse shook itself ,  and began singing in its sleep \" twinkle ,  twinkle ,  twinkle ,  twinkle -  -  \" and went on so long that they had to pinch it to make it stop . qwerty  \" well ,  i\\'d hardly finished the first verse ,  \" said the hatter ,  \" when the queen jumped up and bawled out ,   \" he\\'s murdering the time !   off with his head !  \" \\'qwerty  \" how dreadfully savage !  \" exclaimed alice . qwerty  \" and ever since that ,  \" the hatter went on in a mournful tone ,  \" he won\\'t do a thing i ask !   it\\'s always six o\\'clock now . \\'qwerty  a bright idea came into alice\\'s head .   \" is that the reason so many tea - things are put out here ?  \" she asked . qwerty  \" yes ,  that\\'s it ,  \" said the hatter with a sigh :   \" it\\'s always tea - time ,  and we\\'ve no time to wash the things between whiles . \\'qwerty  \" then you keep moving round ,  i suppose ?  \" said alice . qwerty  \" exactly so ,  \" said the hatter :   \" as the things get used up . \\'qwerty  \" but what happens when you come to the beginning again ?  \" alice ventured to ask . qwerty  \" suppose we change the subject ,  \" the march hare interrupted ,  yawning .   \" i\\'m getting tired of this .   i vote the young lady tells us a story . \\'qwerty  \" i\\'m afraid i don\\'t know one ,  \" said alice ,  rather alarmed at the proposal . qwerty  \" then the dormouse shall !  \" they both cried .   \" wake up ,  dormouse !  \"  and they pinched it on both sides at once . qwerty  the dormouse slowly opened his eyes .   \" i wasn\\'t asleep ,  \" he said in a hoarse ,  feeble voice :   \" i heard every word you fellows were saying . \\'qwerty  \" tell us a story !  \" said the march hare . qwerty  \" yes ,  please do !  \" pleaded alice . qwerty  \" and be quick about it ,  \" added the hatter ,  \" or you\\'ll be asleep again before it\\'s done . \\'qwerty  \" once upon a time there were three little sisters ,  \" the dormouse began in a great hurry ;  \" and their names were elsie ,  lacie ,  and tillie ;  and they lived at the bottom of a well -  - \\'qwerty  \" what did they live on ?  \" said alice ,  who always took a great interest in questions of eating and drinking . qwerty  \" they lived on treacle ,  \" said the dormouse ,  after thinking a minute or two . qwerty  \" they couldn\\'t have done that ,  you know ,  \" alice gently remarked ;  \" they\\'d have been ill . \\'qwerty  \" so they were ,  \" said the dormouse ;  \" very ill . \\'qwerty  alice tried to fancy to herself what such an extraordinary ways of living would be like ,  but it puzzled her too much ,  so she went on :   \" but why did they live at the bottom of a well ? \\'qwerty  \" take some more tea ,  \" the march hare said to alice ,  very earnestly . qwerty  \" i\\'ve had nothing yet ,  \" alice replied in an offended tone ,  \" so i can\\'t take more . \\'qwerty  \" you mean you can\\'t take less ,  \" said the hatter :   \" it\\'s very easy to take more than nothing . \\'qwerty  \" nobody asked your opinion ,  \" said alice . qwerty  \" who\\'s making personal remarks now ?  \" the hatter asked triumphantly . qwerty  alice did not quite know what to say to this :   so she helped herself to some tea and bread - and - butter ,  and then turned to the dormouse ,  and repeated her question .   \" why did they live at the bottom of a well ? \\'qwerty  the dormouse again took a minute or two to think about it ,  and then said ,  \" it was a treacle - well . \\'qwerty  \" there\\'s no such thing !  \"  alice was beginning very angrily ,  but the hatter and the march hare went \" sh !  sh !  \" and the dormouse sulkily remarked ,  \" if you can\\'t be civil ,  you\\'d better finish the story for yourself . \\'qwerty  \" no ,  please go on !  \" alice said very humbly ;  \" i won\\'t interrupt again .   i dare say there may be one . \\'qwerty  \" one ,  indeed !  \" said the dormouse indignantly .   however ,  he consented to go on .   \" and so these three little sisters -  - they were learning to draw ,  you know -  - \\'qwerty  \" what did they draw ?  \" said alice ,  quite forgetting her promise . qwerty  \" treacle ,  \" said the dormouse ,  without considering at all this time . qwerty  \" i want a clean cup ,  \" interrupted the hatter :   \" let\\'s all move one place on . \\'qwerty  he moved on as he spoke ,  and the dormouse followed him :   the march hare moved into the dormouse\\'s place ,  and alice rather unwillingly took the place of the march hare .   the hatter was the only one who got any advantage from the change :   and alice was a good deal worse off than before ,  as the march hare had just upset the milk - jug into his plate . qwerty  alice did not wish to offend the dormouse again ,  so she began very cautiously :   \" but i don\\'t understand .   where did they draw the treacle from ? \\'qwerty  \" you can draw water out of a water - well ,  \" said the hatter ;  \" so i should think you could draw treacle out of a treacle - well -  - eh ,  stupid ? \\'qwerty  \" but they were in the well ,  \" alice said to the dormouse ,  not choosing to notice this last remark . qwerty  \" of course they were\\' ,  said the dormouse ;  \"  -  - well in . \\'qwerty  this answer so confused poor alice ,  that she let the dormouse go on for some time without interrupting it . qwerty  \" they were learning to draw ,  \" the dormouse went on ,  yawning and rubbing its eyes ,  for it was getting very sleepy ;  \" and they drew all manner of things -  - everything that begins with an m -  - \\'qwerty  \" why with an m ?  \" said alice . qwerty  \" why not ?  \" said the march hare . qwerty  alice was silent . qwerty  the dormouse had closed its eyes by this time ,  and was going off into a doze ;  but ,  on being pinched by the hatter ,  it woke up again with a little shriek ,  and went on :   \"  -  - that begins with an m ,  such as mouse - traps ,  and the moon ,  and memory ,  and muchness -  -  you know you say things are  \" much of a muchness \"  -  - did you ever see such a thing as a drawing of a muchness ? \\'qwerty  \" really ,  now you ask me ,  \" said alice ,  very much confused ,  \" i don\\'t think -  - \\'qwerty  \" then you shouldn\\'t talk ,  \" said the hatter . qwerty  this piece of rudeness was more than alice could bear :   she got up in great disgust ,  and walked off ;  the dormouse fell asleep instantly ,  and neither of the others took the least notice of her going ,  though she looked back once or twice ,  half hoping that they would call after her :   the last time she saw them ,  they were trying to put the dormouse into the teapot . qwerty  \" at any rate i\\'ll never go there again !  \" said alice as she picked her way through the wood .   \" it\\'s the stupidest tea - party i ever was at in all my life ! \\'qwerty  just as she said this ,  she noticed that one of the trees had a door leading right into it .   \" that\\'s very curious !  \" she thought .  \" but everything\\'s curious today .   i think i may as well go in at once .  \" and in she went . qwerty  once more she found herself in the long hall ,  and close to the little glass table .   \" now ,  i\\'ll manage better this time ,  \" she said to herself ,  and began by taking the little golden key ,  and unlocking the door that led into the garden .   then she went to work nibbling at the mushroom  ( she had kept a piece of it in her pocket )  till she was about a foot high :   then she walked down the little passage :   and then -  - she found herself at last in the beautiful garden ,  among the bright flower - beds and the cool fountains . qwerty                          chapter viiiqwerty                   the queen\\'s croquet - groundqwerty  a large rose - tree stood near the entrance of the garden :   the roses growing on it were white ,  but there were three gardeners at it ,  busily painting them red .   alice thought this a very curious thing ,  and she went nearer to watch them ,  and just as she came up to them she heard one of them say ,  \" look out now ,  five !   don\\'t go splashing paint over me like that ! \\'qwerty  \" i couldn\\'t help it ,  \" said five ,  in a sulky tone ;  \" seven jogged my elbow . \\'qwerty  on which seven looked up and said ,  \" that\\'s right ,  five !   always lay the blame on others ! \\'qwerty  \" you\\'d better not talk !  \" said five .   \" i heard the queen say only yesterday you deserved to be beheaded ! \\'qwerty  \" what for ?  \" said the one who had spoken first . qwerty  \" that\\'s none of your business ,  two !  \" said seven . qwerty  \" yes ,  it is his business !  \" said five ,  \" and i\\'ll tell him -  - it was for bringing the cook tulip - roots instead of onions . \\'qwerty  seven flung down his brush ,  and had just begun \" well ,  of all the unjust things -  -  \" when his eye chanced to fall upon alice ,  as she stood watching them ,  and he checked himself suddenly :   the others looked round also ,  and all of them bowed low . qwerty  \" would you tell me ,  \" said alice ,  a little timidly ,  \" why you are painting those roses ? \\'qwerty  five and seven said nothing ,  but looked at two .   two began in a low voice ,  \" why the fact is ,  you see ,  miss ,  this here ought to have been a red rose - tree ,  and we put a white one in by mistake ;  and if the queen was to find it out ,  we should all have our heads cut off ,  you know .   so you see ,  miss ,  we\\'re doing our best ,  afore she comes ,  to -  -  \"  at this moment five ,  who had been anxiously looking across the garden ,  called out \" the queen !   the queen !  \" and the three gardeners instantly threw themselves flat upon their faces .   there was a sound of many footsteps ,  and alice looked round ,  eager to see the queen . qwerty  first came ten soldiers carrying clubs ;  these were all shaped like the three gardeners ,  oblong and flat ,  with their hands and feet at the corners :   next the ten courtiers ;  these were ornamented all over with diamonds ,  and walked two and two ,  as the soldiers did .   after these came the royal children ;  there were ten of them ,  and the little dears came jumping merrily along hand in hand ,  in couples :   they were all ornamented with hearts .   next came the guests ,  mostly kings and queens ,  and among them alice recognised the white rabbit :   it was talking in a hurried nervous manner ,  smiling at everything that was said ,  and went by without noticing her .   then followed the knave of hearts ,  carrying the king\\'s crown on a crimson velvet cushion ;  and ,  last of all this grand procession ,  came the king and queen of hearts . qwerty  alice was rather doubtful whether she ought not to lie down on her face like the three gardeners ,  but she could not remember ever having heard of such a rule at processions ;  \" and besides ,  what would be the use of a procession ,  \" thought she ,  \" if people had all to lie down upon their faces ,  so that they couldn\\'t see it ?  \" so she stood still where she was ,  and waited . qwerty  when the procession came opposite to alice ,  they all stopped and looked at her ,  and the queen said severely \" who is this ?  \" she said it to the knave of hearts ,  who only bowed and smiled in reply . qwerty  \" idiot !  \" said the queen ,  tossing her head impatiently ;  and ,  turning to alice ,  she went on ,  \" what\\'s your name ,  child ? \\'qwerty  \" my name is alice ,  so please your majesty ,  \" said alice very politely ;  but she added ,  to herself ,  \" why ,  they\\'re only a pack of cards ,  after all .   i needn\\'t be afraid of them ! \\'qwerty  \" and who are these ?  \" said the queen ,  pointing to the three gardeners who were lying round the rosetree ;  for ,  you see ,  as they were lying on their faces ,  and the pattern on their backs was the same as the rest of the pack ,  she could not tell whether they were gardeners ,  or soldiers ,  or courtiers ,  or three of her own children . qwerty  \" how should i know ?  \" said alice ,  surprised at her own courage .  \" it\\'s no business of mine . \\'qwerty  the queen turned crimson with fury ,  and ,  after glaring at her for a moment like a wild beast ,  screamed \" off with her head !  off -  - \\'qwerty  \" nonsense !  \" said alice ,  very loudly and decidedly ,  and the queen was silent . qwerty  the king laid his hand upon her arm ,  and timidly said \" consider ,  my dear :   she is only a child ! \\'qwerty  the queen turned angrily away from him ,  and said to the knave \" turn them over ! \\'qwerty  the knave did so ,  very carefully ,  with one foot . qwerty  \" get up !  \" said the queen ,  in a shrill ,  loud voice ,  and the three gardeners instantly jumped up ,  and began bowing to the king ,  the queen ,  the royal children ,  and everybody else . qwerty  \" leave off that !  \" screamed the queen .   \" you make me giddy .  \" and then ,  turning to the rose - tree ,  she went on ,  \" what have you been doing here ? \\'qwerty  \" may it please your majesty ,  \" said two ,  in a very humble tone ,  going down on one knee as he spoke ,  \" we were trying -  - \\'qwerty  \" i see !  \" said the queen ,  who had meanwhile been examining the roses .   \" off with their heads !  \" and the procession moved on ,  three of the soldiers remaining behind to execute the unfortunate gardeners ,  who ran to alice for protection . qwerty  \" you shan\\'t be beheaded !  \" said alice ,  and she put them into a large flower - pot that stood near .   the three soldiers wandered about for a minute or two ,  looking for them ,  and then quietly marched off after the others . qwerty  \" are their heads off ?  \" shouted the queen . qwerty  \" their heads are gone ,  if it please your majesty !  \" the soldiers shouted in reply . qwerty  \" that\\'s right !  \" shouted the queen .   \" can you play croquet ? \\'qwerty  the soldiers were silent ,  and looked at alice ,  as the question was evidently meant for her . qwerty  \" yes !  \" shouted alice . qwerty  \" come on ,  then !  \" roared the queen ,  and alice joined the procession ,  wondering very much what would happen next . qwerty  \" it\\'s -  - it\\'s a very fine day !  \" said a timid voice at her side .  she was walking by the white rabbit ,  who was peeping anxiously into her face . qwerty  \" very ,  \" said alice :   \"  -  - where\\'s the duchess ? \\'qwerty  \" hush !   hush !  \" said the rabbit in a low ,  hurried tone .   he looked anxiously over his shoulder as he spoke ,  and then raised himself upon tiptoe ,  put his mouth close to her ear ,  and whispered \" she\\'s under sentence of execution . \\'qwerty  \" what for ?  \" said alice . qwerty  \" did you say  \" what a pity !  \"  ?  \" the rabbit asked . qwerty  \" no ,  i didn\\'t ,  \" said alice :   \" i don\\'t think it\\'s at all a pity .  i said  \" what for ?  \" \\'qwerty  \" she boxed the queen\\'s ears -  -  \" the rabbit began .   alice gave a little scream of laughter .   \" oh ,  hush !  \" the rabbit whispered in a frightened tone .   \" the queen will hear you !   you see ,  she came rather late ,  and the queen said -  - \\'qwerty  \" get to your places !  \" shouted the queen in a voice of thunder ,  and people began running about in all directions ,  tumbling up against each other ;  however ,  they got settled down in a minute or two ,  and the game began .   alice thought she had never seen such a curious croquet - ground in her life ;  it was all ridges and furrows ;  the balls were live hedgehogs ,  the mallets live flamingoes ,  and the soldiers had to double themselves up and to stand on their hands and feet ,  to make the arches . qwerty  the chief difficulty alice found at first was in managing her flamingo :   she succeeded in getting its body tucked away ,  comfortably enough ,  under her arm ,  with its legs hanging down ,  but generally ,  just as she had got its neck nicely straightened out ,  and was going to give the hedgehog a blow with its head ,  it would twist itself round and look up in her face ,  with such a puzzled expression that she could not help bursting out laughing :  and when she had got its head down ,  and was going to begin again ,  it was very provoking to find that the hedgehog had unrolled itself ,  and was in the act of crawling away :   besides all this ,  there was generally a ridge or furrow in the way wherever she wanted to send the hedgehog to ,  and ,  as the doubled - up soldiers were always getting up and walking off to other parts of the ground ,  alice soon came to the conclusion that it was a very difficult game indeed . qwerty  the players all played at once without waiting for turns ,  quarrelling all the while ,  and fighting for the hedgehogs ;  and in a very short time the queen was in a furious passion ,  and went stamping about ,  and shouting \" off with his head !  \" or \" off with her head !  \" about once in a minute . qwerty  alice began to feel very uneasy :   to be sure ,  she had not as yet had any dispute with the queen ,  but she knew that it might happen any minute ,  \" and then ,  \" thought she ,  \" what would become of me ?   they\\'re dreadfully fond of beheading people here ;  the great wonder is ,  that there\\'s any one left alive ! \\'qwerty  she was looking about for some way of escape ,  and wondering whether she could get away without being seen ,  when she noticed a curious appearance in the air :   it puzzled her very much at first ,  but ,  after watching it a minute or two ,  she made it out to be a grin ,  and she said to herself \" it\\'s the cheshire cat :   now i shall have somebody to talk to . \\'qwerty  \" how are you getting on ?  \" said the cat ,  as soon as there was mouth enough for it to speak with . qwerty  alice waited till the eyes appeared ,  and then nodded .   \" it\\'s no use speaking to it ,  \" she thought ,  \" till its ears have come ,  or at least one of them .  \"  in another minute the whole head appeared ,  and then alice put down her flamingo ,  and began an account of the game ,  feeling very glad she had someone to listen to her .   the cat seemed to think that there was enough of it now in sight ,  and no more of it appeared . qwerty  \" i don\\'t think they play at all fairly ,  \" alice began ,  in rather a complaining tone ,  \" and they all quarrel so dreadfully one can\\'t hear oneself speak -  - and they don\\'t seem to have any rules in particular ;  at least ,  if there are ,  nobody attends to them -  - and you\\'ve no idea how confusing it is all the things being alive ;  for instance ,  there\\'s the arch i\\'ve got to go through next walking about at the other end of the ground -  - and i should have croqueted the queen\\'s hedgehog just now ,  only it ran away when it saw mine coming ! \\'qwerty  \" how do you like the queen ?  \" said the cat in a low voice . qwerty  \" not at all ,  \" said alice :   \" she\\'s so extremely -  -  \"  just then she noticed that the queen was close behind her ,  listening :   so she went on ,  \"  -  - likely to win ,  that it\\'s hardly worth while finishing the game . \\'qwerty  the queen smiled and passed on . qwerty  \" who are you talking to ?  \" said the king ,  going up to alice ,  and looking at the cat\\'s head with great curiosity . qwerty  \" it\\'s a friend of mine -  - a cheshire cat ,  \" said alice :   \" allow me to introduce it . \\'qwerty  \" i don\\'t like the look of it at all ,  \" said the king :  \" however ,  it may kiss my hand if it likes . \\'qwerty  \" i\\'d rather not ,  \" the cat remarked . qwerty  \" don\\'t be impertinent ,  \" said the king ,  \" and don\\'t look at me like that !  \"  he got behind alice as he spoke . qwerty  \" a cat may look at a king ,  \" said alice .   \" i\\'ve read that in some book ,  but i don\\'t remember where . \\'qwerty  \" well ,  it must be removed ,  \" said the king very decidedly ,  and he called the queen ,  who was passing at the moment ,  \" my dear !   i wish you would have this cat removed ! \\'qwerty  the queen had only one way of settling all difficulties ,  great or small .   \" off with his head !  \" she said ,  without even looking round . qwerty  \" i\\'ll fetch the executioner myself ,  \" said the king eagerly ,  and he hurried off . qwerty  alice thought she might as well go back ,  and see how the game was going on ,  as she heard the queen\\'s voice in the distance ,  screaming with passion .   she had already heard her sentence three of the players to be executed for having missed their turns ,  and she did not like the look of things at all ,  as the game was in such confusion that she never knew whether it was her turn or not .   so she went in search of her hedgehog . qwerty  the hedgehog was engaged in a fight with another hedgehog ,  which seemed to alice an excellent opportunity for croqueting one of them with the other :   the only difficulty was ,  that her flamingo was gone across to the other side of the garden ,  where alice could see it trying in a helpless sort of way to fly up into a tree . qwerty  by the time she had caught the flamingo and brought it back ,  the fight was over ,  and both the hedgehogs were out of sight :  \" but it doesn\\'t matter much ,  \" thought alice ,  \" as all the arches are gone from this side of the ground .  \"  so she tucked it away under her arm ,  that it might not escape again ,  and went back for a little more conversation with her friend . qwerty  when she got back to the cheshire cat ,  she was surprised to find quite a large crowd collected round it :   there was a dispute going on between the executioner ,  the king ,  and the queen ,  who were all talking at once ,  while all the rest were quite silent ,  and looked very uncomfortable . qwerty  the moment alice appeared ,  she was appealed to by all three to settle the question ,  and they repeated their arguments to her ,  though ,  as they all spoke at once ,  she found it very hard indeed to make out exactly what they said . qwerty  the executioner\\'s argument was ,  that you couldn\\'t cut off a head unless there was a body to cut it off from :   that he had never had to do such a thing before ,  and he wasn\\'t going to begin at his time of life . qwerty  the king\\'s argument was ,  that anything that had a head could be beheaded ,  and that you weren\\'t to talk nonsense . qwerty  the queen\\'s argument was ,  that if something wasn\\'t done about it in less than no time she\\'d have everybody executed ,  all round .   ( it was this last remark that had made the whole party look so grave and anxious .  ) qwerty  alice could think of nothing else to say but \" it belongs to the duchess :   you\\'d better ask her about it . \\'qwerty  \" she\\'s in prison ,  \" the queen said to the executioner :   \" fetch her here .  \"  and the executioner went off like an arrow . qwerty   the cat\\'s head began fading away the moment he was gone ,  and ,  by the time he had come back with the duchess ,  it had entirely disappeared ;  so the king and the executioner ran wildly up and down looking for it ,  while the rest of the party went back to the game . qwerty                           chapter ixqwerty                     the mock turtle\\'s storyqwerty  \" you can\\'t think how glad i am to see you again ,  you dear old thing !  \" said the duchess ,  as she tucked her arm affectionately into alice\\'s ,  and they walked off together . qwerty  alice was very glad to find her in such a pleasant temper ,  and thought to herself that perhaps it was only the pepper that had made her so savage when they met in the kitchen . qwerty  \" when i\\'m a duchess ,  \" she said to herself ,   ( not in a very hopeful tone though )  ,  \" i won\\'t have any pepper in my kitchen at all .   soup does very well without -  - maybe it\\'s always pepper that makes people hot - tempered ,  \" she went on ,  very much pleased at having found out a new kind of rule ,  \" and vinegar that makes them sour -  - and camomile that makes them bitter -  - and -  - and barley - sugar and such things that make children sweet - tempered .   i only wish people knew that :   then they wouldn\\'t be so stingy about it ,  you know -  - \\'qwerty  she had quite forgotten the duchess by this time ,  and was a little startled when she heard her voice close to her ear .  \" you\\'re thinking about something ,  my dear ,  and that makes you forget to talk .   i can\\'t tell you just now what the moral of that is ,  but i shall remember it in a bit . \\'qwerty  \" perhaps it hasn\\'t one ,  \" alice ventured to remark . qwerty  \" tut ,  tut ,  child !  \" said the duchess .   \" everything\\'s got a moral ,  if only you can find it .  \"  and she squeezed herself up closer to alice\\'s side as she spoke . qwerty  alice did not much like keeping so close to her :   first ,  because the duchess was very ugly ;  and secondly ,  because she was exactly the right height to rest her chin upon alice\\'s shoulder ,  and it was an uncomfortably sharp chin .   however ,  she did not like to be rude ,  so she bore it as well as she could . qwerty  \" the game\\'s going on rather better now ,  \" she said ,  by way of keeping up the conversation a little . qwerty  \" \\'tis so ,  \" said the duchess :   \" and the moral of that is -  -  \" oh ,  \" tis love ,  \" tis love ,  that makes the world go round !  \" \\'qwerty  \" somebody said ,  \" alice whispered ,  \" that it\\'s done by everybody minding their own business ! \\'qwerty  \" ah ,  well !   it means much the same thing ,  \" said the duchess ,  digging her sharp little chin into alice\\'s shoulder as she added ,  \" and the moral of that is -  -  \" take care of the sense ,  and the sounds will take care of themselves .  \" \\'qwerty  \" how fond she is of finding morals in things !  \" alice thought to herself . qwerty  \" i dare say you\\'re wondering why i don\\'t put my arm round your waist ,  \" the duchess said after a pause :   \" the reason is ,  that i\\'m doubtful about the temper of your flamingo .   shall i try the experiment ? \\'qwerty  \" he might bite ,  \" alice cautiously replied ,  not feeling at all anxious to have the experiment tried . qwerty  \" very true ,  \" said the duchess :   \" flamingoes and mustard both bite .   and the moral of that is -  -  \" birds of a feather flock together .  \" \\'qwerty  \" only mustard isn\\'t a bird ,  \" alice remarked . qwerty  \" right ,  as usual ,  \" said the duchess :   \" what a clear way you have of putting things ! \\'qwerty  \" it\\'s a mineral ,  i think ,  \" said alice . qwerty  \" of course it is ,  \" said the duchess ,  who seemed ready to agree to everything that alice said ;  \" there\\'s a large mustard - mine near here .   and the moral of that is -  -  \" the more there is of mine ,  the less there is of yours .  \" \\'qwerty  \" oh ,  i know !  \" exclaimed alice ,  who had not attended to this last remark ,  \" it\\'s a vegetable .   it doesn\\'t look like one ,  but it is . \\'qwerty  \" i quite agree with you ,  \" said the duchess ;  \" and the moral of that is -  -  \" be what you would seem to be \"  -  - or if you\\'d like it put more simply -  -  \" never imagine yourself not to be otherwise than what it might appear to others that what you were or might have been was not otherwise than what you had been would have appeared to them to be otherwise .  \" \\'qwerty  \" i think i should understand that better ,  \" alice said very politely ,  \" if i had it written down :   but i can\\'t quite follow it as you say it . \\'qwerty  \" that\\'s nothing to what i could say if i chose ,  \" the duchess replied ,  in a pleased tone . qwerty  \" pray don\\'t trouble yourself to say it any longer than that ,  \" said alice . qwerty  \" oh ,  don\\'t talk about trouble !  \" said the duchess .   \" i make you a present of everything i\\'ve said as yet . \\'qwerty  \" a cheap sort of present !  \" thought alice .   \" i\\'m glad they don\\'t give birthday presents like that !  \"  but she did not venture to say it out loud . qwerty  \" thinking again ?  \" the duchess asked ,  with another dig of her sharp little chin . qwerty  \" i\\'ve a right to think ,  \" said alice sharply ,  for she was beginning to feel a little worried . qwerty  \" just about as much right ,  \" said the duchess ,  \" as pigs have to fly ;  and the m -  - \\'qwerty  but here ,  to alice\\'s great surprise ,  the duchess\\'s voice died away ,  even in the middle of her favourite word \" moral ,  \" and the arm that was linked into hers began to tremble .   alice looked up ,  and there stood the queen in front of them ,  with her arms folded ,  frowning like a thunderstorm . qwerty  \" a fine day ,  your majesty !  \" the duchess began in a low ,  weak voice . qwerty  \" now ,  i give you fair warning ,  \" shouted the queen ,  stamping on the ground as she spoke ;  \" either you or your head must be off ,  and that in about half no time !   take your choice ! \\'qwerty  the duchess took her choice ,  and was gone in a moment . qwerty  \" let\\'s go on with the game ,  \" the queen said to alice ;  and alice was too much frightened to say a word ,  but slowly followed her back to the croquet - ground . qwerty  the other guests had taken advantage of the queen\\'s absence ,  and were resting in the shade :   however ,  the moment they saw her ,  they hurried back to the game ,  the queen merely remarking that a moment\\'s delay would cost them their lives . qwerty  all the time they were playing the queen never left off quarrelling with the other players ,  and shouting \" off with his head !  \" or \" off with her head !  \"  those whom she sentenced were taken into custody by the soldiers ,  who of course had to leave off being arches to do this ,  so that by the end of half an hour or so there were no arches left ,  and all the players ,  except the king ,  the queen ,  and alice ,  were in custody and under sentence of execution . qwerty  then the queen left off ,  quite out of breath ,  and said to alice ,  \" have you seen the mock turtle yet ? \\'qwerty  \" no ,  \" said alice .   \" i don\\'t even know what a mock turtle is . \\'qwerty  \" it\\'s the thing mock turtle soup is made from ,  \" said the queen . qwerty  \" i never saw one ,  or heard of one ,  \" said alice . qwerty  \" come on ,  then ,  \" said the queen ,  \" and he shall tell you his history , \\'qwerty  as they walked off together ,  alice heard the king say in a low voice ,  to the company generally ,  \" you are all pardoned .  \"  \" come ,  that\\'s a good thing !  \" she said to herself ,  for she had felt quite unhappy at the number of executions the queen had ordered . qwerty  they very soon came upon a gryphon ,  lying fast asleep in the sun .    ( if you don\\'t know what a gryphon is ,  look at the picture .  )  \" up ,  lazy thing !  \" said the queen ,  \" and take this young lady to see the mock turtle ,  and to hear his history .   i must go back and see after some executions i have ordered\\' ;  and she walked off ,  leaving alice alone with the gryphon .   alice did not quite like the look of the creature ,  but on the whole she thought it would be quite as safe to stay with it as to go after that savage queen :   so she waited . qwerty  the gryphon sat up and rubbed its eyes :   then it watched the queen till she was out of sight :   then it chuckled .   \" what fun !  \" said the gryphon ,  half to itself ,  half to alice . qwerty  \" what is the fun ?  \" said alice . qwerty  \" why ,  she ,  \" said the gryphon .   \" it\\'s all her fancy ,  that :   they never executes nobody ,  you know .   come on ! \\'qwerty  \" everybody says  \" come on !  \"  here ,  \" thought alice ,  as she went slowly after it :   \" i never was so ordered about in all my life ,  never ! \\'qwerty  they had not gone far before they saw the mock turtle in the distance ,  sitting sad and lonely on a little ledge of rock ,  and ,  as they came nearer ,  alice could hear him sighing as if his heart would break .   she pitied him deeply .   \" what is his sorrow ?  \" she asked the gryphon ,  and the gryphon answered ,  very nearly in the same words as before ,  \" it\\'s all his fancy ,  that :   he hasn\\'t got no sorrow ,  you know .   come on ! \\'qwerty  so they went up to the mock turtle ,  who looked at them with large eyes full of tears ,  but said nothing . qwerty  \" this here young lady ,  \" said the gryphon ,  \" she wants for to know your history ,  she do . \\'qwerty  \" i\\'ll tell it her ,  \" said the mock turtle in a deep ,  hollow tone :   \" sit down ,  both of you ,  and don\\'t speak a word till i\\'ve finished . \\'qwerty  so they sat down ,  and nobody spoke for some minutes .   alice thought to herself ,  \" i don\\'t see how he can even finish ,  if he doesn\\'t begin .  \"  but she waited patiently . qwerty  \" once ,  \" said the mock turtle at last ,  with a deep sigh ,  \" i was a real turtle . \\'qwerty  these words were followed by a very long silence ,  broken only by an occasional exclamation of \" hjckrrh !  \" from the gryphon ,  and the constant heavy sobbing of the mock turtle .   alice was very nearly getting up and saying ,  \" thank you ,  sir ,  for your interesting story ,  \" but she could not help thinking there must be more to come ,  so she sat still and said nothing . qwerty  \" when we were little ,  \" the mock turtle went on at last ,  more calmly ,  though still sobbing a little now and then ,  \" we went to school in the sea .   the master was an old turtle -  - we used to call him tortoise -  - \\'qwerty  \" why did you call him tortoise ,  if he wasn\\'t one ?  \" alice asked . qwerty  \" we called him tortoise because he taught us ,  \" said the mock turtle angrily :   \" really you are very dull ! \\'qwerty  \" you ought to be ashamed of yourself for asking such a simple question ,  \" added the gryphon ;  and then they both sat silent and looked at poor alice ,  who felt ready to sink into the earth .   at last the gryphon said to the mock turtle ,  \" drive on ,  old fellow !  don\\'t be all day about it !  \" and he went on in these words : qwerty  \" yes ,  we went to school in the sea ,  though you mayn\\'t believe it -  - \\'qwerty  \" i never said i didn\\'t !  \" interrupted alice . qwerty  \" you did ,  \" said the mock turtle . qwerty  \" hold your tongue !  \" added the gryphon ,  before alice could speak again .   the mock turtle went on . qwerty  \" we had the best of educations -  - in fact ,  we went to school every day -  - \\'qwerty  \" i\\'ve been to a day - school ,  too ,  \" said alice ;  \" you needn\\'t be so proud as all that . \\'qwerty  \" with extras ?  \" asked the mock turtle a little anxiously . qwerty  \" yes ,  \" said alice ,  \" we learned french and music . \\'qwerty  \" and washing ?  \" said the mock turtle . qwerty  \" certainly not !  \" said alice indignantly . qwerty  \" ah !  then yours wasn\\'t a really good school ,  \" said the mock turtle in a tone of great relief .   \" now at ours they had at the end of the bill ,   \" french ,  music ,  and washing -  - extra .  \" \\'qwerty  \" you couldn\\'t have wanted it much ,  \" said alice ;  \" living at the bottom of the sea . \\'qwerty  \" i couldn\\'t afford to learn it .  \" said the mock turtle with a sigh .   \" i only took the regular course . \\'qwerty  \" what was that ?  \" inquired alice . qwerty  \" reeling and writhing ,  of course ,  to begin with ,  \" the mock turtle replied ;  \" and then the different branches of arithmetic -  -  ambition ,  distraction ,  uglification ,  and derision . \\'qwerty  \" i never heard of  \" uglification ,  \"  \" alice ventured to say .   \" what is it ? \\'qwerty  the gryphon lifted up both its paws in surprise .   \" what !   never heard of uglifying !  \" it exclaimed .   \" you know what to beautify is ,  i suppose ? \\'qwerty  \" yes ,  \" said alice doubtfully :   \" it means -  - to -  - make -  - anything -  - prettier . \\'qwerty  \" well ,  then ,  \" the gryphon went on ,  \" if you don\\'t know what to uglify is ,  you are a simpleton . \\'qwerty  alice did not feel encouraged to ask any more questions about it ,  so she turned to the mock turtle ,  and said \" what else had you to learn ? \\'qwerty  \" well ,  there was mystery ,  \" the mock turtle replied ,  counting off the subjects on his flappers ,  \"  -  - mystery ,  ancient and modern ,  with seaography :   then drawling -  - the drawling - master was an old conger - eel ,  that used to come once a week :   he taught us drawling ,  stretching ,  and fainting in coils . \\'qwerty  \" what was that like ?  \" said alice . qwerty  \" well ,  i can\\'t show it you myself ,  \" the mock turtle said :   \" i\\'m too stiff .   and the gryphon never learnt it . \\'qwerty  \" hadn\\'t time ,  \" said the gryphon :   \" i went to the classics master ,  though .   he was an old crab ,  he was . \\'qwerty  \" i never went to him ,  \" the mock turtle said with a sigh :   \" he taught laughing and grief ,  they used to say . \\'qwerty  \" so he did ,  so he did ,  \" said the gryphon ,  sighing in his turn ;  and both creatures hid their faces in their paws . qwerty  \" and how many hours a day did you do lessons ?  \" said alice ,  in a hurry to change the subject . qwerty  \" ten hours the first day ,  \" said the mock turtle :  \" nine the next ,  and so on . \\'qwerty  \" what a curious plan !  \" exclaimed alice . qwerty  \" that\\'s the reason they\\'re called lessons ,  \" the gryphon remarked :   \" because they lessen from day to day . \\'qwerty  this was quite a new idea to alice ,  and she thought it over a little before she made her next remark .   \" then the eleventh day must have been a holiday ? \\'qwerty  \" of course it was ,  \" said the mock turtle . qwerty  \" and how did you manage on the twelfth ?  \" alice went on eagerly . qwerty  \" that\\'s enough about lessons ,  \" the gryphon interrupted in a very decided tone :   \" tell her something about the games now . \\'qwerty                            chapter xqwerty                      the lobster quadrilleqwerty  the mock turtle sighed deeply ,  and drew the back of one flapper across his eyes .   he looked at alice ,  and tried to speak ,  but for a minute or two sobs choked his voice .   \" same as if he had a bone in his throat ,  \" said the gryphon :   and it set to work shaking him and punching him in the back .   at last the mock turtle recovered his voice ,  and ,  with tears running down his cheeks ,  he went on again :  -  - qwerty  \" you may not have lived much under the sea -  -  \"  ( `i haven\\'t ,  \" said alice )  -  -  \" and perhaps you were never even introduced to a lobster -  -  \"  ( alice began to say \" i once tasted -  -  \" but checked herself hastily ,  and said \" no ,  never\\' )  \"  -  - so you can have no idea what a delightful thing a lobster quadrille is ! \\'qwerty  \" no ,  indeed ,  \" said alice .   \" what sort of a dance is it ? \\'qwerty  \" why ,  \" said the gryphon ,  \" you first form into a line along the sea - shore -  - \\'qwerty  \" two lines !  \" cried the mock turtle .   \" seals ,  turtles ,  salmon ,  and so on ;  then ,  when you\\'ve cleared all the jelly - fish out of the way -  - \\'qwerty  \" that generally takes some time ,  \" interrupted the gryphon . qwerty  \"  -  - you advance twice -  - \\'qwerty  \" each with a lobster as a partner !  \" cried the gryphon . qwerty  \" of course ,  \" the mock turtle said :   \" advance twice ,  set to partners -  - \\'qwerty  \"  -  - change lobsters ,  and retire in same order ,  \" continued the gryphon . qwerty  \" then ,  you know ,  \" the mock turtle went on ,  \" you throw the -  - \\'qwerty  \" the lobsters !  \" shouted the gryphon ,  with a bound into the air . qwerty  \"  -  - as far out to sea as you can -  - \\'qwerty  \" swim after them !  \" screamed the gryphon . qwerty  \" turn a somersault in the sea !  \" cried the mock turtle ,  capering wildly about . qwerty  \" change lobsters again !  \" yelled the gryphon at the top of its voice . qwerty  \" back to land again ,  and that\\'s all the first figure ,  \" said the mock turtle ,  suddenly dropping his voice ;  and the two creatures ,  who had been jumping about like mad things all this time ,  sat down again very sadly and quietly ,  and looked at alice . qwerty  \" it must be a very pretty dance ,  \" said alice timidly . qwerty  \" would you like to see a little of it ?  \" said the mock turtle . qwerty  \" very much indeed ,  \" said alice . qwerty  \" come ,  let\\'s try the first figure !  \" said the mock turtle to the gryphon .   \" we can do without lobsters ,  you know .   which shall sing ? \\'qwerty  \" oh ,  you sing ,  \" said the gryphon .   \" i\\'ve forgotten the words . \\'qwerty  so they began solemnly dancing round and round alice ,  every now and then treading on her toes when they passed too close ,  and waving their forepaws to mark the time ,  while the mock turtle sang this ,  very slowly and sadly :  -  - qwerty` \" will you walk a little faster ?  \"  said a whiting to a snail .   \" there\\'s a porpoise close behind us ,  and he\\'s treading on my  tail .  see how eagerly the lobsters and the turtles all advance !  they are waiting on the shingle -  - will you come and join the dance ? qwertywill you ,  won\\'t you ,  will you ,  won\\'t you ,  will you join the dance ?  will you ,  won\\'t you ,  will you ,  won\\'t you ,  won\\'t you join the dance ? qwerty \" you can really have no notion how delightful it will be when they take us up and throw us ,  with the lobsters ,  out to                                                       sea !  \"  but the snail replied  \" too far ,  too far !  \"  and gave a look                                                        askance -  -  said he thanked the whiting kindly ,  but he would not join the    dance .      would not ,  could not ,  would not ,  could not ,  would not join         the dance .      would not ,  could not ,  would not ,  could not ,  could not join         the dance . qwerty` \" what matters it how far we go ?  \"  his scaly friend replied .   \" there is another shore ,  you know ,  upon the other side .  the further off from england the nearer is to france -  -  then turn not pale ,  beloved snail ,  but come and join the dance . qwerty    will you ,  won\\'t you ,  will you ,  won\\'t you ,  will you join the          dance ?      will you ,  won\\'t you ,  will you ,  won\\'t you ,  won\\'t you join the          dance ?  \" \\'qwerty  \" thank you ,  it\\'s a very interesting dance to watch ,  \" said alice ,  feeling very glad that it was over at last :   \" and i do so like that curious song about the whiting ! \\'qwerty  \" oh ,  as to the whiting ,  \" said the mock turtle ,  \" they -  - you\\'ve seen them ,  of course ? \\'qwerty  \" yes ,  \" said alice ,  \" i\\'ve often seen them at dinn -  -  \" she checked herself hastily . qwerty  \" i don\\'t know where dinn may be ,  \" said the mock turtle ,  \" but if you\\'ve seen them so often ,  of course you know what they\\'re like . \\'qwerty  \" i believe so ,  \" alice replied thoughtfully .   \" they have their tails in their mouths -  - and they\\'re all over crumbs . \\'qwerty  \" you\\'re wrong about the crumbs ,  \" said the mock turtle :  \" crumbs would all wash off in the sea .   but they have their tails in their mouths ;  and the reason is -  -  \" here the mock turtle yawned and shut his eyes .  -  - `tell her about the reason and all that ,  \" he said to the gryphon . qwerty  \" the reason is ,  \" said the gryphon ,  \" that they would go with the lobsters to the dance .   so they got thrown out to sea .   so they had to fall a long way .   so they got their tails fast in their mouths .   so they couldn\\'t get them out again .   that\\'s all . \\'qwerty  \" thank you ,  \" said alice ,  \" it\\'s very interesting .   i never knew so much about a whiting before . \\'qwerty  \" i can tell you more than that ,  if you like ,  \" said the gryphon .   \" do you know why it\\'s called a whiting ? \\'qwerty  \" i never thought about it ,  \" said alice .   \" why ? \\'qwerty  \" it does the boots and shoes .  \" the gryphon replied very solemnly . qwerty  alice was thoroughly puzzled .   \" does the boots and shoes !  \" she repeated in a wondering tone . qwerty  \" why ,  what are your shoes done with ?  \" said the gryphon .   \" i mean ,  what makes them so shiny ? \\'qwerty  alice looked down at them ,  and considered a little before she gave her answer .   \" they\\'re done with blacking ,  i believe . \\'qwerty  \" boots and shoes under the sea ,  \" the gryphon went on in a deep voice ,  \" are done with a whiting .   now you know . \\'qwerty  \" and what are they made of ?  \" alice asked in a tone of great curiosity . qwerty  \" soles and eels ,  of course ,  \" the gryphon replied rather impatiently :   \" any shrimp could have told you that . \\'qwerty  \" if i\\'d been the whiting ,  \" said alice ,  whose thoughts were still running on the song ,  \" i\\'d have said to the porpoise ,   \" keep back ,  please :   we don\\'t want you with us !  \" \\'qwerty  \" they were obliged to have him with them ,  \" the mock turtle said :   \" no wise fish would go anywhere without a porpoise . \\'qwerty  \" wouldn\\'t it really ?  \" said alice in a tone of great surprise . qwerty  \" of course not ,  \" said the mock turtle :   \" why ,  if a fish came to me ,  and told me he was going a journey ,  i should say  \" with what porpoise ?  \" \\'qwerty  \" don\\'t you mean  \" purpose \"  ?  \" said alice . qwerty  \" i mean what i say ,  \" the mock turtle replied in an offended tone .   and the gryphon added \" come ,  let\\'s hear some of your adventures . \\'qwerty  \" i could tell you my adventures -  - beginning from this morning ,  \" said alice a little timidly :   \" but it\\'s no use going back to yesterday ,  because i was a different person then . \\'qwerty  \" explain all that ,  \" said the mock turtle . qwerty  \" no ,  no !   the adventures first ,  \" said the gryphon in an impatient tone :   \" explanations take such a dreadful time . \\'qwerty  so alice began telling them her adventures from the time when she first saw the white rabbit .   she was a little nervous about it just at first ,  the two creatures got so close to her ,  one on each side ,  and opened their eyes and mouths so very wide ,  but she gained courage as she went on .   her listeners were perfectly quiet till she got to the part about her repeating \" you are old ,  father william ,  \" to the caterpillar ,  and the words all coming different ,  and then the mock turtle drew a long breath ,  and said \" that\\'s very curious . \\'qwerty  \" it\\'s all about as curious as it can be ,  \" said the gryphon . qwerty  \" it all came different !  \" the mock turtle repeated thoughtfully .   \" i should like to hear her try and repeat something now .   tell her to begin .  \"  he looked at the gryphon as if he thought it had some kind of authority over alice . qwerty  \" stand up and repeat  \" \\'tis the voice of the sluggard ,  \"  \" said the gryphon . qwerty  \" how the creatures order one about ,  and make one repeat lessons !  \" thought alice ;  \" i might as well be at school at once .  \" however ,  she got up ,  and began to repeat it ,  but her head was so full of the lobster quadrille ,  that she hardly knew what she was saying ,  and the words came very queer indeed :  -  - qwerty    \" \\'tis the voice of the lobster ;  i heard him declare ,       \" you have baked me too brown ,  i must sugar my hair .  \"      as a duck with its eyelids ,  so he with his nose     trims his belt and his buttons ,  and turns out his toes . \\'qwerty               [ later editions continued as follows     when the sands are all dry ,  he is gay as a lark ,      and will talk in contemptuous tones of the shark ,      but ,  when the tide rises and sharks are around ,      his voice has a timid and tremulous sound .  ] qwerty  \" that\\'s different from what i used to say when i was a child ,  \" said the gryphon . qwerty  \" well ,  i never heard it before ,  \" said the mock turtle ;  \" but it sounds uncommon nonsense . \\'qwerty  alice said nothing ;  she had sat down with her face in her hands ,  wondering if anything would ever happen in a natural way again . qwerty  \" i should like to have it explained ,  \" said the mock turtle . qwerty  \" she can\\'t explain it ,  \" said the gryphon hastily .   \" go on with the next verse . \\'qwerty  \" but about his toes ?  \" the mock turtle persisted .   \" how could he turn them out with his nose ,  you know ? \\'qwerty  \" it\\'s the first position in dancing .  \" alice said ;  but was dreadfully puzzled by the whole thing ,  and longed to change the subject . qwerty  \" go on with the next verse ,  \" the gryphon repeated impatiently :  \" it begins  \" i passed by his garden .  \" \\'qwerty  alice did not dare to disobey ,  though she felt sure it would all come wrong ,  and she went on in a trembling voice :  -  - qwerty    \" i passed by his garden ,  and marked ,  with one eye ,      how the owl and the panther were sharing a pie -  - \\'qwerty         [ later editions continued as follows     the panther took pie - crust ,  and gravy ,  and meat ,      while the owl had the dish as its share of the treat .      when the pie was all finished ,  the owl ,  as a boon ,      was kindly permitted to pocket the spoon :      while the panther received knife and fork with a growl ,      and concluded the banquet -  -  ] qwerty  \" what is the use of repeating all that stuff ,  \" the mock turtle interrupted ,  \" if you don\\'t explain it as you go on ?   it\\'s by far the most confusing thing i ever heard ! \\'qwerty  \" yes ,  i think you\\'d better leave off ,  \" said the gryphon :   and alice was only too glad to do so . qwerty  \" shall we try another figure of the lobster quadrille ?  \" the gryphon went on .   \" or would you like the mock turtle to sing you a song ? \\'qwerty  \" oh ,  a song ,  please ,  if the mock turtle would be so kind ,  \" alice replied ,  so eagerly that the gryphon said ,  in a rather offended tone ,  \" hm !   no accounting for tastes !   sing her  \" turtle soup ,  \"  will you ,  old fellow ? \\'qwerty  the mock turtle sighed deeply ,  and began ,  in a voice sometimes choked with sobs ,  to sing this :  -  - qwerty    \" beautiful soup ,  so rich and green ,      waiting in a hot tureen !      who for such dainties would not stoop ?      soup of the evening ,  beautiful soup !      soup of the evening ,  beautiful soup !          beau -  - ootiful soo -  - oop !          beau -  - ootiful soo -  - oop !      soo -  - oop of the e -  - e -  - evening ,          beautiful ,  beautiful soup ! qwerty    \" beautiful soup !   who cares for fish ,      game ,  or any other dish ?      who would not give all else for two     pennyworth only of beautiful soup ?      pennyworth only of beautiful soup ?          beau -  - ootiful soo -  - oop !          beau -  - ootiful soo -  - oop !      soo -  - oop of the e -  - e -  - evening ,          beautiful ,  beauti -  - ful soup ! \\'qwerty  \" chorus again !  \" cried the gryphon ,  and the mock turtle had just begun to repeat it ,  when a cry of \" the trial\\'s beginning !  \" was heard in the distance . qwerty  \" come on !  \" cried the gryphon ,  and ,  taking alice by the hand ,  it hurried off ,  without waiting for the end of the song . qwerty  \" what trial is it ?  \" alice panted as she ran ;  but the gryphon only answered \" come on !  \" and ran the faster ,  while more and more faintly came ,  carried on the breeze that followed them ,  the melancholy words :  -  - qwerty    \" soo -  - oop of the e -  - e -  - evening ,          beautiful ,  beautiful soup ! \\'qwerty                           chapter xiqwerty                      who stole the tarts ? qwerty  the king and queen of hearts were seated on their throne when they arrived ,  with a great crowd assembled about them -  - all sorts of little birds and beasts ,  as well as the whole pack of cards :  the knave was standing before them ,  in chains ,  with a soldier on each side to guard him ;  and near the king was the white rabbit ,  with a trumpet in one hand ,  and a scroll of parchment in the other .   in the very middle of the court was a table ,  with a large dish of tarts upon it :   they looked so good ,  that it made alice quite hungry to look at them -  - `i wish they\\'d get the trial done ,  \" she thought ,  \" and hand round the refreshments !  \"  but there seemed to be no chance of this ,  so she began looking at everything about her ,  to pass away the time . qwerty  alice had never been in a court of justice before ,  but she had read about them in books ,  and she was quite pleased to find that she knew the name of nearly everything there .   \" that\\'s the judge ,  \" she said to herself ,  \" because of his great wig . \\'qwerty  the judge ,  by the way ,  was the king ;  and as he wore his crown over the wig ,   ( look at the frontispiece if you want to see how he did it ,  )  he did not look at all comfortable ,  and it was certainly not becoming . qwerty  \" and that\\'s the jury - box ,  \" thought alice ,  \" and those twelve creatures ,  \"  ( she was obliged to say \" creatures ,  \" you see ,  because some of them were animals ,  and some were birds ,  )  \" i suppose they are the jurors .  \"  she said this last word two or three times over to herself ,  being rather proud of it :   for she thought ,  and rightly too ,  that very few little girls of her age knew the meaning of it at all .   however ,  \" jury - men \" would have done just as well . qwerty  the twelve jurors were all writing very busily on slates .  \" what are they doing ?  \"  alice whispered to the gryphon .   \" they can\\'t have anything to put down yet ,  before the trial\\'s begun . \\'qwerty  \" they\\'re putting down their names ,  \" the gryphon whispered in reply ,  \" for fear they should forget them before the end of the trial . \\'qwerty  \" stupid things !  \" alice began in a loud ,  indignant voice ,  but she stopped hastily ,  for the white rabbit cried out ,  \" silence in the court !  \" and the king put on his spectacles and looked anxiously round ,  to make out who was talking . qwerty  alice could see ,  as well as if she were looking over their shoulders ,  that all the jurors were writing down \" stupid things !  \" on their slates ,  and she could even make out that one of them didn\\'t know how to spell \" stupid ,  \" and that he had to ask his neighbour to tell him .   \" a nice muddle their slates\\'ll be in before the trial\\'s over !  \" thought alice . qwerty  one of the jurors had a pencil that squeaked .   this of course ,  alice could not stand ,  and she went round the court and got behind him ,  and very soon found an opportunity of taking it away .   she did it so quickly that the poor little juror  ( it was bill ,  the lizard )  could not make out at all what had become of it ;  so ,  after hunting all about for it ,  he was obliged to write with one finger for the rest of the day ;  and this was of very little use ,  as it left no mark on the slate . qwerty  \" herald ,  read the accusation !  \" said the king . qwerty  on this the white rabbit blew three blasts on the trumpet ,  and then unrolled the parchment scroll ,  and read as follows :  -  - qwerty    \" the queen of hearts ,  she made some tarts ,            all on a summer day :        the knave of hearts ,  he stole those tarts ,            and took them quite away ! \\'qwerty  \" consider your verdict ,  \" the king said to the jury . qwerty  \" not yet ,  not yet !  \" the rabbit hastily interrupted .   \" there\\'s a great deal to come before that ! \\'qwerty  \" call the first witness ,  \" said the king ;  and the white rabbit blew three blasts on the trumpet ,  and called out ,  \" first witness ! \\'qwerty  the first witness was the hatter .   he came in with a teacup in one hand and a piece of bread - and - butter in the other .   \" i beg pardon ,  your majesty ,  \" he began ,  \" for bringing these in :   but i hadn\\'t quite finished my tea when i was sent for . \\'qwerty  \" you ought to have finished ,  \" said the king .   \" when did you begin ? \\'qwerty  the hatter looked at the march hare ,  who had followed him into the court ,  arm - in - arm with the dormouse .   \" fourteenth of march ,  i think it was ,  \" he said . qwerty  \" fifteenth ,  \" said the march hare . qwerty  \" sixteenth ,  \" added the dormouse . qwerty  \" write that down ,  \" the king said to the jury ,  and the jury eagerly wrote down all three dates on their slates ,  and then added them up ,  and reduced the answer to shillings and pence . qwerty  \" take off your hat ,  \" the king said to the hatter . qwerty  \" it isn\\'t mine ,  \" said the hatter . qwerty  \" stolen !  \" the king exclaimed ,  turning to the jury ,  who instantly made a memorandum of the fact . qwerty  \" i keep them to sell ,  \" the hatter added as an explanation ;  \" i\\'ve none of my own .   i\\'m a hatter . \\'qwerty  here the queen put on her spectacles ,  and began staring at the hatter ,  who turned pale and fidgeted . qwerty  \" give your evidence ,  \" said the king ;  \" and don\\'t be nervous ,  or i\\'ll have you executed on the spot . \\'qwerty  this did not seem to encourage the witness at all :   he kept shifting from one foot to the other ,  looking uneasily at the queen ,  and in his confusion he bit a large piece out of his teacup instead of the bread - and - butter . qwerty  just at this moment alice felt a very curious sensation ,  which puzzled her a good deal until she made out what it was :   she was beginning to grow larger again ,  and she thought at first she would get up and leave the court ;  but on second thoughts she decided to remain where she was as long as there was room for her . qwerty  \" i wish you wouldn\\'t squeeze so .  \" said the dormouse ,  who was sitting next to her .   \" i can hardly breathe . \\'qwerty  \" i can\\'t help it ,  \" said alice very meekly :   \" i\\'m growing . \\'qwerty  \" you\\'ve no right to grow here ,  \" said the dormouse . qwerty  \" don\\'t talk nonsense ,  \" said alice more boldly :   \" you know you\\'re growing too . \\'qwerty  \" yes ,  but i grow at a reasonable pace ,  \" said the dormouse :  \" not in that ridiculous fashion .  \"  and he got up very sulkily and crossed over to the other side of the court . qwerty  all this time the queen had never left off staring at the hatter ,  and ,  just as the dormouse crossed the court ,  she said to one of the officers of the court ,  \" bring me the list of the singers in the last concert !  \" on which the wretched hatter trembled so ,  that he shook both his shoes off . qwerty  \" give your evidence ,  \" the king repeated angrily ,  \" or i\\'ll have you executed ,  whether you\\'re nervous or not . \\'qwerty  \" i\\'m a poor man ,  your majesty ,  \" the hatter began ,  in a trembling voice ,  \"  -  - and i hadn\\'t begun my tea -  - not above a week or so -  - and what with the bread - and - butter getting so thin -  - and the twinkling of the tea -  - \\'qwerty  \" the twinkling of the what ?  \" said the king . qwerty  \" it began with the tea ,  \" the hatter replied . qwerty  \" of course twinkling begins with a t !  \" said the king sharply .  \" do you take me for a dunce ?   go on ! \\'qwerty  \" i\\'m a poor man ,  \" the hatter went on ,  \" and most things twinkled after that -  - only the march hare said -  - \\'qwerty  \" i didn\\'t !  \" the march hare interrupted in a great hurry . qwerty  \" you did !  \" said the hatter . qwerty  \" i deny it !  \" said the march hare . qwerty  \" he denies it ,  \" said the king :   \" leave out that part . \\'qwerty  \" well ,  at any rate ,  the dormouse said -  -  \" the hatter went on ,  looking anxiously round to see if he would deny it too :   but the dormouse denied nothing ,  being fast asleep . qwerty  \" after that ,  \" continued the hatter ,  \" i cut some more bread -  and - butter -  - \\'qwerty  \" but what did the dormouse say ?  \" one of the jury asked . qwerty  \" that i can\\'t remember ,  \" said the hatter . qwerty  \" you must remember ,  \" remarked the king ,  \" or i\\'ll have you executed . \\'qwerty  the miserable hatter dropped his teacup and bread - and - butter ,  and went down on one knee .   \" i\\'m a poor man ,  your majesty ,  \" he began . qwerty  \" you\\'re a very poor speaker ,  \" said the king . qwerty  here one of the guinea - pigs cheered ,  and was immediately suppressed by the officers of the court .    ( as that is rather a hard word ,  i will just explain to you how it was done .   they had a large canvas bag ,  which tied up at the mouth with strings :  into this they slipped the guinea - pig ,  head first ,  and then sat upon it .  ) qwerty  \" i\\'m glad i\\'ve seen that done ,  \" thought alice .   \" i\\'ve so often read in the newspapers ,  at the end of trials ,   \" there was some attempts at applause ,  which was immediately suppressed by the officers of the court ,  \"  and i never understood what it meant till now . \\'qwerty  \" if that\\'s all you know about it ,  you may stand down ,  \" continued the king . qwerty  \" i can\\'t go no lower ,  \" said the hatter :   \" i\\'m on the floor ,  as it is . \\'qwerty  \" then you may sit down ,  \" the king replied . qwerty  here the other guinea - pig cheered ,  and was suppressed . qwerty  \" come ,  that finished the guinea - pigs !  \" thought alice .   \" now we shall get on better . \\'qwerty  \" i\\'d rather finish my tea ,  \" said the hatter ,  with an anxious look at the queen ,  who was reading the list of singers . qwerty  \" you may go ,  \" said the king ,  and the hatter hurriedly left the court ,  without even waiting to put his shoes on . qwerty  \"  -  - and just take his head off outside ,  \" the queen added to one of the officers :   but the hatter was out of sight before the officer could get to the door . qwerty  \" call the next witness !  \" said the king . qwerty  the next witness was the duchess\\'s cook .   she carried the pepper - box in her hand ,  and alice guessed who it was ,  even before she got into the court ,  by the way the people near the door began sneezing all at once . qwerty  \" give your evidence ,  \" said the king . qwerty  \" shan\\'t ,  \" said the cook . qwerty  the king looked anxiously at the white rabbit ,  who said in a low voice ,  \" your majesty must cross - examine this witness . \\'qwerty  \" well ,  if i must ,  i must ,  \" the king said ,  with a melancholy air ,  and ,  after folding his arms and frowning at the cook till his eyes were nearly out of sight ,  he said in a deep voice ,  \" what are tarts made of ? \\'qwerty  \" pepper ,  mostly ,  \" said the cook . qwerty  \" treacle ,  \" said a sleepy voice behind her . qwerty  \" collar that dormouse ,  \" the queen shrieked out .   \" behead that dormouse !   turn that dormouse out of court !   suppress him !   pinch him !   off with his whiskers ! \\'qwerty  for some minutes the whole court was in confusion ,  getting the dormouse turned out ,  and ,  by the time they had settled down again ,  the cook had disappeared . qwerty  \" never mind !  \" said the king ,  with an air of great relief .  \" call the next witness .  \"  and he added in an undertone to the queen ,  \" really ,  my dear ,  you must cross - examine the next witness .  it quite makes my forehead ache ! \\'qwerty  alice watched the white rabbit as he fumbled over the list ,  feeling very curious to see what the next witness would be like ,  \"  -  - for they haven\\'t got much evidence yet ,  \" she said to herself .  imagine her surprise ,  when the white rabbit read out ,  at the top of his shrill little voice ,  the name \" alice ! \\'qwerty                           chapter xiiqwerty                        alice\\'s evidenceqwerty  \" here !  \" cried alice ,  quite forgetting in the flurry of the moment how large she had grown in the last few minutes ,  and she jumped up in such a hurry that she tipped over the jury - box with the edge of her skirt ,  upsetting all the jurymen on to the heads of the crowd below ,  and there they lay sprawling about ,  reminding her very much of a globe of goldfish she had accidentally upset the week before . qwerty  \" oh ,  i beg your pardon !  \" she exclaimed in a tone of great dismay ,  and began picking them up again as quickly as she could ,  for the accident of the goldfish kept running in her head ,  and she had a vague sort of idea that they must be collected at once and put back into the jury - box ,  or they would die . qwerty  \" the trial cannot proceed ,  \" said the king in a very grave voice ,  \" until all the jurymen are back in their proper places -  -  all ,  \" he repeated with great emphasis ,  looking hard at alice as he said do . qwerty  alice looked at the jury - box ,  and saw that ,  in her haste ,  she had put the lizard in head downwards ,  and the poor little thing was waving its tail about in a melancholy way ,  being quite unable to move .   she soon got it out again ,  and put it right ;  \" not that it signifies much ,  \" she said to herself ;  \" i should think it would be quite as much use in the trial one way up as the other . \\'qwerty  as soon as the jury had a little recovered from the shock of being upset ,  and their slates and pencils had been found and handed back to them ,  they set to work very diligently to write out a history of the accident ,  all except the lizard ,  who seemed too much overcome to do anything but sit with its mouth open ,  gazing up into the roof of the court . qwerty  \" what do you know about this business ?  \" the king said to alice . qwerty  \" nothing ,  \" said alice . qwerty  \" nothing whatever ?  \" persisted the king . qwerty  \" nothing whatever ,  \" said alice . qwerty  \" that\\'s very important ,  \" the king said ,  turning to the jury .  they were just beginning to write this down on their slates ,  when the white rabbit interrupted :   \" unimportant ,  your majesty means ,  of course ,  \" he said in a very respectful tone ,  but frowning and making faces at him as he spoke . qwerty  \" unimportant ,  of course ,  i meant ,  \" the king hastily said ,  and went on to himself in an undertone ,  \" important -  - unimportant -  -  unimportant -  - important -  -  \" as if he were trying which word sounded best . qwerty  some of the jury wrote it down \" important ,  \" and some \" unimportant .  \"  alice could see this ,  as she was near enough to look over their slates ;  \" but it doesn\\'t matter a bit ,  \" she thought to herself . qwerty  at this moment the king ,  who had been for some time busily writing in his note - book ,  cackled out \" silence !  \" and read out from his book ,  \" rule forty - two .   all persons more than a mile high to leave the court . \\'qwerty  everybody looked at alice . qwerty  \" i\\'m not a mile high ,  \" said alice . qwerty  \" you are ,  \" said the king . qwerty  \" nearly two miles high ,  \" added the queen . qwerty  \" well ,  i shan\\'t go ,  at any rate ,  \" said alice :   \" besides ,  that\\'s not a regular rule :   you invented it just now . \\'qwerty  \" it\\'s the oldest rule in the book ,  \" said the king . qwerty  \" then it ought to be number one ,  \" said alice . qwerty  the king turned pale ,  and shut his note - book hastily .  \" consider your verdict ,  \" he said to the jury ,  in a low ,  trembling voice . qwerty  \" there\\'s more evidence to come yet ,  please your majesty ,  \" said the white rabbit ,  jumping up in a great hurry ;  \" this paper has just been picked up . \\'qwerty  \" what\\'s in it ?  \" said the queen . qwerty  \" i haven\\'t opened it yet ,  \" said the white rabbit ,  \" but it seems to be a letter ,  written by the prisoner to -  - to somebody . \\'qwerty  \" it must have been that ,  \" said the king ,  \" unless it was written to nobody ,  which isn\\'t usual ,  you know . \\'qwerty  \" who is it directed to ?  \" said one of the jurymen . qwerty  \" it isn\\'t directed at all ,  \" said the white rabbit ;  \" in fact ,  there\\'s nothing written on the outside .  \"  he unfolded the paper as he spoke ,  and added \" it isn\\'t a letter ,  after all :   it\\'s a set of verses . \\'qwerty  \" are they in the prisoner\\'s handwriting ?  \" asked another of the jurymen . qwerty  \" no ,  they\\'re not ,  \" said the white rabbit ,  \" and that\\'s the queerest thing about it .  \"   ( the jury all looked puzzled .  ) qwerty  \" he must have imitated somebody else\\'s hand ,  \" said the king .   ( the jury all brightened up again .  ) qwerty  \" please your majesty ,  \" said the knave ,  \" i didn\\'t write it ,  and they can\\'t prove i did :   there\\'s no name signed at the end . \\'qwerty  \" if you didn\\'t sign it ,  \" said the king ,  \" that only makes the matter worse .   you must have meant some mischief ,  or else you\\'d have signed your name like an honest man . \\'qwerty  there was a general clapping of hands at this :   it was the first really clever thing the king had said that day . qwerty  \" that proves his guilt ,  \" said the queen . qwerty  \" it proves nothing of the sort !  \" said alice .   \" why ,  you don\\'t even know what they\\'re about ! \\'qwerty  \" read them ,  \" said the king . qwerty  the white rabbit put on his spectacles .   \" where shall i begin ,  please your majesty ?  \" he asked . qwerty  \" begin at the beginning ,  \" the king said gravely ,  \" and go on till you come to the end :   then stop . \\'qwerty  these were the verses the white rabbit read :  -  - qwerty        \" they told me you had been to her ,            and mentioned me to him :          she gave me a good character ,            but said i could not swim . qwerty        he sent them word i had not gone            ( we know it to be true )  :          if she should push the matter on ,            what would become of you ? qwerty        i gave her one ,  they gave him two ,            you gave us three or more ;          they all returned from him to you ,            though they were mine before . qwerty        if i or she should chance to be           involved in this affair ,          he trusts to you to set them free ,            exactly as we were . qwerty        my notion was that you had been            ( before she had this fit )          an obstacle that came between           him ,  and ourselves ,  and it . qwerty        don\\'t let him know she liked them best ,            for this must ever be         a secret ,  kept from all the rest ,            between yourself and me . \\'qwerty  \" that\\'s the most important piece of evidence we\\'ve heard yet ,  \" said the king ,  rubbing his hands ;  \" so now let the jury -  - \\'qwerty  \" if any one of them can explain it ,  \" said alice ,   ( she had grown so large in the last few minutes that she wasn\\'t a bit afraid of interrupting him ,  )  \" i\\'ll give him sixpence .    _ i _  don\\'t believe there\\'s an atom of meaning in it . \\'qwerty  the jury all wrote down on their slates ,  \" she doesn\\'t believe there\\'s an atom of meaning in it ,  \" but none of them attempted to explain the paper . qwerty  \" if there\\'s no meaning in it ,  \" said the king ,  \" that saves a world of trouble ,  you know ,  as we needn\\'t try to find any .   and yet i don\\'t know ,  \" he went on ,  spreading out the verses on his knee ,  and looking at them with one eye ;  \" i seem to see some meaning in them ,  after all .    \"  -  - said i could not swim -  -  \"  you can\\'t swim ,  can you ?  \" he added ,  turning to the knave . qwerty  the knave shook his head sadly .   \" do i look like it ?  \" he said .   ( which he certainly did not ,  being made entirely of cardboard .  ) qwerty  \" all right ,  so far ,  \" said the king ,  and he went on muttering over the verses to himself :   \"  \" we know it to be true -  -  \"  that\\'s the jury ,  of course -  -   \" i gave her one ,  they gave him two -  -  \"  why ,  that must be what he did with the tarts ,  you know -  - \\'qwerty  \" but ,  it goes on  \" they all returned from him to you ,  \"  \" said alice . qwerty  \" why ,  there they are !  \" said the king triumphantly ,  pointing to the tarts on the table .   \" nothing can be clearer than that .  then again -  -  \" before she had this fit -  -  \"   you never had fits ,  my dear ,  i think ?  \" he said to the queen . qwerty  \" never !  \" said the queen furiously ,  throwing an inkstand at the lizard as she spoke .    ( the unfortunate little bill had left off writing on his slate with one finger ,  as he found it made no mark ;  but he now hastily began again ,  using the ink ,  that was trickling down his face ,  as long as it lasted .  ) qwerty  \" then the words don\\'t fit you ,  \" said the king ,  looking round the court with a smile .   there was a dead silence . qwerty  \" it\\'s a pun !  \" the king added in an offended tone ,  and everybody laughed ,  \" let the jury consider their verdict ,  \" the king said ,  for about the twentieth time that day . qwerty  \" no ,  no !  \" said the queen .   \" sentence first -  - verdict afterwards . \\'qwerty  \" stuff and nonsense !  \" said alice loudly .   \" the idea of having the sentence first ! \\'qwerty  \" hold your tongue !  \" said the queen ,  turning purple . qwerty  \" i won\\'t !  \" said alice . qwerty  \" off with her head !  \" the queen shouted at the top of her voice .  nobody moved . qwerty  \" who cares for you ?  \" said alice ,   ( she had grown to her full size by this time .  )   \" you\\'re nothing but a pack of cards ! \\'qwerty  at this the whole pack rose up into the air ,  and came flying down upon her :   she gave a little scream ,  half of fright and half of anger ,  and tried to beat them off ,  and found herself lying on the bank ,  with her head in the lap of her sister ,  who was gently brushing away some dead leaves that had fluttered down from the trees upon her face . qwerty  \" wake up ,  alice dear !  \" said her sister ;  \" why ,  what a long sleep you\\'ve had ! \\'qwerty  \" oh ,  i\\'ve had such a curious dream !  \" said alice ,  and she told her sister ,  as well as she could remember them ,  all these strange adventures of hers that you have just been reading about ;  and when she had finished ,  her sister kissed her ,  and said ,  \" it was a curious dream ,  dear ,  certainly :   but now run in to your tea ;  it\\'s getting late .  \"  so alice got up and ran off ,  thinking while she ran ,  as well she might ,  what a wonderful dream it had been . qwerty  but her sister sat still just as she left her ,  leaning her head on her hand ,  watching the setting sun ,  and thinking of little alice and all her wonderful adventures ,  till she too began dreaming after a fashion ,  and this was her dream :  -  - qwerty  first ,  she dreamed of little alice herself ,  and once again the tiny hands were clasped upon her knee ,  and the bright eager eyes were looking up into hers -  - she could hear the very tones of her voice ,  and see that queer little toss of her head to keep back the wandering hair that would always get into her eyes -  - and still as she listened ,  or seemed to listen ,  the whole place around her became alive the strange creatures of her little sister\\'s dream . qwerty  the long grass rustled at her feet as the white rabbit hurried by -  - the frightened mouse splashed his way through the neighbouring pool -  - she could hear the rattle of the teacups as the march hare and his friends shared their never - ending meal ,  and the shrill voice of the queen ordering off her unfortunate guests to execution -  - once more the pig - baby was sneezing on the duchess\\'s knee ,  while plates and dishes crashed around it -  - once more the shriek of the gryphon ,  the squeaking of the lizard\\'s slate - pencil ,  and the choking of the suppressed guinea - pigs ,  filled the air ,  mixed up with the distant sobs of the miserable mock turtle . qwerty  so she sat on ,  with closed eyes ,  and half believed herself in wonderland ,  though she knew she had but to open them again ,  and all would change to dull reality -  - the grass would be only rustling in the wind ,  and the pool rippling to the waving of the reeds -  - the rattling teacups would change to tinkling sheep -  bells ,  and the queen\\'s shrill cries to the voice of the shepherd boy -  - and the sneeze of the baby ,  the shriek of the gryphon ,  and all the other queer noises ,  would change  ( she knew )  to the confused clamour of the busy farm - yard -  - while the lowing of the cattle in the distance would take the place of the mock turtle\\'s heavy sobs . qwerty  lastly ,  she pictured to herself how this same little sister of hers would ,  in the after - time ,  be herself a grown woman ;  and how she would keep ,  through all her riper years ,  the simple and loving heart of her childhood :   and how she would gather about her other little children ,  and make their eyes bright and eager with many a strange tale ,  perhaps even with the dream of wonderland of long ago :   and how she would feel with all their simple sorrows ,  and find a pleasure in all their simple joys ,  remembering her own child - life ,  and the happy summer days . qwerty                             the end'"
      ]
     },
     "execution_count": 43,
     "metadata": {},
     "output_type": "execute_result"
    }
   ],
   "source": [
    "alice"
   ]
  },
  {
   "cell_type": "code",
   "execution_count": 44,
   "metadata": {
    "colab": {},
    "colab_type": "code",
    "id": "GOO8NEAdqCbq"
   },
   "outputs": [],
   "source": [
    "alice_ind = word_list_to_index(alice_words)"
   ]
  },
  {
   "cell_type": "markdown",
   "metadata": {
    "colab_type": "text",
    "id": "b07wP89KNM-E"
   },
   "source": [
    "## Creating training set: input - sequence of 20 words, output - 21-th word"
   ]
  },
  {
   "cell_type": "code",
   "execution_count": 45,
   "metadata": {
    "colab": {},
    "colab_type": "code",
    "id": "WGA1PaO3qCbr"
   },
   "outputs": [],
   "source": [
    "sequence_len = 20\n",
    "train_x = []\n",
    "train_y = []\n",
    "\n",
    "for i in range(alice_ind.shape[0] - sequence_len - 1):\n",
    "    train_x.append(alice_ind[i:i+sequence_len])\n",
    "    train_y.append(alice_ind[i+sequence_len])\n",
    "\n",
    "train_x = np.array(train_x)\n",
    "train_y = np.array(train_y)"
   ]
  },
  {
   "cell_type": "code",
   "execution_count": 46,
   "metadata": {
    "colab": {
     "base_uri": "https://localhost:8080/",
     "height": 34
    },
    "colab_type": "code",
    "id": "U4QZbpkuPFuw",
    "outputId": "33f95186-b529-4bf6-aa5c-95a329fbb243"
   },
   "outputs": [
    {
     "data": {
      "text/plain": [
       "(34703, 20)"
      ]
     },
     "execution_count": 46,
     "metadata": {},
     "output_type": "execute_result"
    }
   ],
   "source": [
    "train_x.shape"
   ]
  },
  {
   "cell_type": "code",
   "execution_count": 47,
   "metadata": {
    "colab": {
     "base_uri": "https://localhost:8080/",
     "height": 34
    },
    "colab_type": "code",
    "id": "htaTj6_uqCbs",
    "outputId": "b9b50e82-d361-4221-e44d-555f8983e61f"
   },
   "outputs": [
    {
     "data": {
      "text/plain": [
       "(34703,)"
      ]
     },
     "execution_count": 47,
     "metadata": {},
     "output_type": "execute_result"
    }
   ],
   "source": [
    "train_y.shape"
   ]
  },
  {
   "cell_type": "code",
   "execution_count": 48,
   "metadata": {
    "colab": {
     "base_uri": "https://localhost:8080/",
     "height": 34
    },
    "colab_type": "code",
    "id": "8zfPZmGjPBF4",
    "outputId": "4b41f156-baef-42f8-841c-fed09cb62fea"
   },
   "outputs": [
    {
     "data": {
      "text/plain": [
       "': once or twice she had peeped into the book her sister was reading , but it had no pictures '"
      ]
     },
     "execution_count": 48,
     "metadata": {},
     "output_type": "execute_result"
    }
   ],
   "source": [
    "index_to_text(train_x[46])"
   ]
  },
  {
   "cell_type": "code",
   "execution_count": 49,
   "metadata": {
    "colab": {
     "base_uri": "https://localhost:8080/",
     "height": 34
    },
    "colab_type": "code",
    "id": "NrZyyLDPPIgx",
    "outputId": "6b6eb5fc-cbe9-4426-e12c-84c3e831816a"
   },
   "outputs": [
    {
     "data": {
      "text/plain": [
       "'pictures '"
      ]
     },
     "execution_count": 49,
     "metadata": {},
     "output_type": "execute_result"
    }
   ],
   "source": [
    "index_to_text(np.array([train_y[45]]))"
   ]
  },
  {
   "cell_type": "markdown",
   "metadata": {
    "colab_type": "text",
    "id": "4g-hlgOINTAI"
   },
   "source": [
    "## Building RNN: embedding layer followed by 2 LSTM layers placed on top of each other, followed by Dense layer with softmax predicting next word in the sequence"
   ]
  },
  {
   "cell_type": "code",
   "execution_count": 50,
   "metadata": {
    "colab": {},
    "colab_type": "code",
    "id": "LbHsr9pNqCbt"
   },
   "outputs": [],
   "source": [
    "from keras.layers import LSTM, Dense, Embedding#, CuDNNLSTM\n",
    "from tensorflow.contrib.rnn import *"
   ]
  },
  {
   "cell_type": "code",
   "execution_count": 51,
   "metadata": {
    "colab": {},
    "colab_type": "code",
    "id": "__LnKRStqCbv"
   },
   "outputs": [
    {
     "name": "stdout",
     "output_type": "stream",
     "text": [
      "WARNING:tensorflow:From /Users/elizabethlorelei/anaconda3/lib/python3.6/site-packages/tensorflow/python/framework/op_def_library.py:263: colocate_with (from tensorflow.python.framework.ops) is deprecated and will be removed in a future version.\n",
      "Instructions for updating:\n",
      "Colocations handled automatically by placer.\n"
     ]
    }
   ],
   "source": [
    "model = keras.Sequential()\n",
    "model.add(Embedding(len(vocab), 30))\n",
    "model.add(LSTM(64, return_sequences = True))\n",
    "model.add(LSTM(128, return_sequences = False))\n",
    "model.add(Dense(len(vocab), activation = \"softmax\"))"
   ]
  },
  {
   "cell_type": "code",
   "execution_count": 52,
   "metadata": {
    "colab": {
     "base_uri": "https://localhost:8080/",
     "height": 272
    },
    "colab_type": "code",
    "id": "ZSKhDLdHqCbx",
    "outputId": "4f14441c-239f-4701-e763-c610e28ebfa3"
   },
   "outputs": [
    {
     "name": "stdout",
     "output_type": "stream",
     "text": [
      "_________________________________________________________________\n",
      "Layer (type)                 Output Shape              Param #   \n",
      "=================================================================\n",
      "embedding_1 (Embedding)      (None, None, 30)          80610     \n",
      "_________________________________________________________________\n",
      "lstm_1 (LSTM)                (None, None, 64)          24320     \n",
      "_________________________________________________________________\n",
      "lstm_2 (LSTM)                (None, 128)               98816     \n",
      "_________________________________________________________________\n",
      "dense_1 (Dense)              (None, 2687)              346623    \n",
      "=================================================================\n",
      "Total params: 550,369\n",
      "Trainable params: 550,369\n",
      "Non-trainable params: 0\n",
      "_________________________________________________________________\n"
     ]
    }
   ],
   "source": [
    "model.summary()"
   ]
  },
  {
   "cell_type": "code",
   "execution_count": 53,
   "metadata": {
    "colab": {},
    "colab_type": "code",
    "id": "lV0s0ueqs0zs"
   },
   "outputs": [],
   "source": [
    "model.compile(optimizer=keras.optimizers.Adam(), \n",
    "              loss = keras.losses.sparse_categorical_crossentropy, \n",
    "              metrics=['accuracy'])"
   ]
  },
  {
   "cell_type": "code",
   "execution_count": 54,
   "metadata": {
    "colab": {
     "base_uri": "https://localhost:8080/",
     "height": 714
    },
    "colab_type": "code",
    "id": "GswNMP2gqCbz",
    "outputId": "40cfcd9d-573b-4cd3-e7f9-45961dec97d9"
   },
   "outputs": [
    {
     "name": "stdout",
     "output_type": "stream",
     "text": [
      "WARNING:tensorflow:From /Users/elizabethlorelei/anaconda3/lib/python3.6/site-packages/tensorflow/python/ops/math_ops.py:3066: to_int32 (from tensorflow.python.ops.math_ops) is deprecated and will be removed in a future version.\n",
      "Instructions for updating:\n",
      "Use tf.cast instead.\n",
      "Epoch 1/20\n",
      "34703/34703 [==============================] - 59s 2ms/step - loss: 5.9686 - acc: 0.0657\n",
      "Epoch 2/20\n",
      "34703/34703 [==============================] - 63s 2ms/step - loss: 5.7863 - acc: 0.0668\n",
      "Epoch 3/20\n",
      "34703/34703 [==============================] - 57s 2ms/step - loss: 5.7815 - acc: 0.0668\n",
      "Epoch 4/20\n",
      "34703/34703 [==============================] - 58s 2ms/step - loss: 5.7831 - acc: 0.0658\n",
      "Epoch 5/20\n",
      "34703/34703 [==============================] - 62s 2ms/step - loss: 5.7802 - acc: 0.0659\n",
      "Epoch 6/20\n",
      "34703/34703 [==============================] - 59s 2ms/step - loss: 5.7802 - acc: 0.0666\n",
      "Epoch 7/20\n",
      "34703/34703 [==============================] - 59s 2ms/step - loss: 5.7812 - acc: 0.0660\n",
      "Epoch 8/20\n",
      "34703/34703 [==============================] - 59s 2ms/step - loss: 5.7803 - acc: 0.0668\n",
      "Epoch 9/20\n",
      "34703/34703 [==============================] - 59s 2ms/step - loss: 5.7821 - acc: 0.0649\n",
      "Epoch 10/20\n",
      "34703/34703 [==============================] - 60s 2ms/step - loss: 5.7820 - acc: 0.0653\n",
      "Epoch 11/20\n",
      "34703/34703 [==============================] - 62s 2ms/step - loss: 5.7821 - acc: 0.0663\n",
      "Epoch 12/20\n",
      "34703/34703 [==============================] - 60s 2ms/step - loss: 5.7806 - acc: 0.0662\n",
      "Epoch 13/20\n",
      "34703/34703 [==============================] - 60s 2ms/step - loss: 5.7791 - acc: 0.0650\n",
      "Epoch 14/20\n",
      "34703/34703 [==============================] - 61s 2ms/step - loss: 5.7812 - acc: 0.0667\n",
      "Epoch 15/20\n",
      "34703/34703 [==============================] - 61s 2ms/step - loss: 5.7807 - acc: 0.0657\n",
      "Epoch 16/20\n",
      "34703/34703 [==============================] - 62s 2ms/step - loss: 5.7807 - acc: 0.0653\n",
      "Epoch 17/20\n",
      "34703/34703 [==============================] - 61s 2ms/step - loss: 5.7821 - acc: 0.0664\n",
      "Epoch 18/20\n",
      "34703/34703 [==============================] - 61s 2ms/step - loss: 5.7808 - acc: 0.0653\n",
      "Epoch 19/20\n",
      "34703/34703 [==============================] - 69s 2ms/step - loss: 5.7812 - acc: 0.0661\n",
      "Epoch 20/20\n",
      "34703/34703 [==============================] - 58s 2ms/step - loss: 5.7800 - acc: 0.0673\n",
      "--- 1212.251769065857 seconds ---\n"
     ]
    }
   ],
   "source": [
    "import time\n",
    "start_time = time.time()\n",
    "\n",
    "model.fit(train_x, train_y, batch_size = 32, epochs = 20)\n",
    "\n",
    "print(\"--- %s seconds ---\" % (time.time() - start_time))"
   ]
  },
  {
   "cell_type": "markdown",
   "metadata": {
    "colab_type": "text",
    "id": "JRhUyuuFNdL3"
   },
   "source": [
    "## model_new has the same structure and weights as model, except it is stateful - so its hidden state is not reseted after each call of predict function. This allows to make text predictions of arbitrary length updating hidden state word by word"
   ]
  },
  {
   "cell_type": "code",
   "execution_count": null,
   "metadata": {
    "colab": {},
    "colab_type": "code",
    "id": "_pBsutK5u0gD"
   },
   "outputs": [],
   "source": [
    "model_new = keras.Sequential()\n",
    "model_new.add(Embedding(len(vocab), 30, batch_input_shape = (1, 1)))\n",
    "model_new.add(LSTM(64, return_sequences = True, stateful = True))\n",
    "model_new.add(LSTM(128, return_sequences = False, stateful = True))\n",
    "model_new.add(Dense(len(vocab), activation = \"softmax\"))"
   ]
  },
  {
   "cell_type": "code",
   "execution_count": null,
   "metadata": {
    "colab": {},
    "colab_type": "code",
    "id": "4tBFqrfdvUdh"
   },
   "outputs": [],
   "source": [
    "model_new.set_weights(model.get_weights())"
   ]
  },
  {
   "cell_type": "markdown",
   "metadata": {
    "colab_type": "text",
    "id": "vS3863yANisa"
   },
   "source": [
    "## Function predict takes input string and number of words to be predicted as parameters and produces next words using trained model. It chooses most probable word at each step."
   ]
  },
  {
   "cell_type": "code",
   "execution_count": null,
   "metadata": {
    "colab": {},
    "colab_type": "code",
    "id": "97fgSC8Ds1qo"
   },
   "outputs": [],
   "source": [
    "def predict(s, numWords):\n",
    "  s_return = s\n",
    "  s_ind = text_to_index(s)\n",
    "  model_new.reset_states()\n",
    "  \n",
    "  for i in range(s_ind.shape[0]):\n",
    "    pred = model_new.predict_on_batch(np.array(s_ind[i]).reshape(1,1))\n",
    "    \n",
    "  for i in range(numWords):\n",
    "    next_word_ind = np.argmax(pred)\n",
    "    s_return += \" \" + index_to_word[next_word_ind]\n",
    "    pred = model_new.predict_on_batch(np.array(next_word_ind).reshape(1,1))\n",
    "  return s_return"
   ]
  },
  {
   "cell_type": "markdown",
   "metadata": {
    "colab_type": "text",
    "id": "I6fifa_ANmnm"
   },
   "source": [
    "## Function predictRandom chooses predicted words randomly according to computed probabilities. Parameter conf allows to control certainty in making predictions: big conf converts process to argmax, low conf is equivalent to choosing words with uniform probability."
   ]
  },
  {
   "cell_type": "code",
   "execution_count": null,
   "metadata": {
    "colab": {},
    "colab_type": "code",
    "id": "eLi6HzyG8wq-"
   },
   "outputs": [],
   "source": [
    "def predictRandom(s, numWords, conf = 1):\n",
    "  s_return = s\n",
    "  s_ind = text_to_index(s)\n",
    "  model_new.reset_states()\n",
    "  \n",
    "  for i in range(s_ind.shape[0]):\n",
    "    pred = model_new.predict_on_batch(np.array(s_ind[i]).reshape(1,1))\n",
    "    \n",
    "  for i in range(numWords):\n",
    "    pred_new = np.power(pred[0], conf)\n",
    "    pred_new = pred_new / np.sum(pred_new)\n",
    "    \n",
    "    next_word_ind = np.random.choice(np.arange(len(vocab)), p = pred_new)\n",
    "    \n",
    "    s_return += \" \" + index_to_word[next_word_ind]\n",
    "    pred = model_new.predict_on_batch(np.array(next_word_ind).reshape(1,1))\n",
    "  return s_return"
   ]
  },
  {
   "cell_type": "code",
   "execution_count": null,
   "metadata": {
    "colab": {
     "base_uri": "https://localhost:8080/",
     "height": 34
    },
    "colab_type": "code",
    "id": "gVlqGrO0xzbU",
    "outputId": "0153e855-1bb4-4e8d-b907-16cbb5db0936"
   },
   "outputs": [],
   "source": [
    "predictRandom(\"Sense of life be\", 15, 2)"
   ]
  },
  {
   "cell_type": "markdown",
   "metadata": {
    "colab_type": "text",
    "id": "CBJGqQSINs9x"
   },
   "source": [
    "## Here we visualize learned 30-dimentional embeddings with TSNE procedure, that fits 2-dimensional manifold and gives us 2-dimensional representation of embeddings that can be plotted."
   ]
  },
  {
   "cell_type": "code",
   "execution_count": null,
   "metadata": {
    "colab": {},
    "colab_type": "code",
    "id": "pl7u9X6px3OM"
   },
   "outputs": [],
   "source": [
    "from sklearn.manifold import TSNE"
   ]
  },
  {
   "cell_type": "code",
   "execution_count": null,
   "metadata": {
    "colab": {},
    "colab_type": "code",
    "id": "JIxk5pz4Awc7"
   },
   "outputs": [],
   "source": [
    "embeddings = model.get_weights()[0]"
   ]
  },
  {
   "cell_type": "code",
   "execution_count": null,
   "metadata": {
    "colab": {
     "base_uri": "https://localhost:8080/",
     "height": 34
    },
    "colab_type": "code",
    "id": "QR5EXApmBKSW",
    "outputId": "2cc04c8d-80c4-476c-aa9d-66d007d3ec0e"
   },
   "outputs": [],
   "source": [
    "embeddings.shape"
   ]
  },
  {
   "cell_type": "code",
   "execution_count": null,
   "metadata": {
    "colab": {},
    "colab_type": "code",
    "id": "Bd8hzcVRBPqC"
   },
   "outputs": [],
   "source": [
    "tsne = TSNE()"
   ]
  },
  {
   "cell_type": "code",
   "execution_count": null,
   "metadata": {
    "colab": {},
    "colab_type": "code",
    "id": "qm2JoAW3BTdd"
   },
   "outputs": [],
   "source": [
    "plane_embs = tsne.fit_transform(embeddings)"
   ]
  },
  {
   "cell_type": "code",
   "execution_count": null,
   "metadata": {
    "colab": {
     "base_uri": "https://localhost:8080/",
     "height": 34
    },
    "colab_type": "code",
    "id": "hUWSKBNlB5yn",
    "outputId": "e4b4ab82-2790-44ec-d22e-5a082683b39b"
   },
   "outputs": [],
   "source": [
    "plane_embs.shape"
   ]
  },
  {
   "cell_type": "markdown",
   "metadata": {
    "colab_type": "text",
    "id": "BXWqAU8POA5s"
   },
   "source": [
    "## Normalizing embeddings to be inside [0,1] interval"
   ]
  },
  {
   "cell_type": "code",
   "execution_count": null,
   "metadata": {
    "colab": {},
    "colab_type": "code",
    "id": "ODo5Ra7_E2eC"
   },
   "outputs": [],
   "source": [
    "plane_embs[:,0] = (plane_embs[:, 0] + 60)/120\n",
    "plane_embs[:,1] = (plane_embs[:, 1] + 60)/120"
   ]
  },
  {
   "cell_type": "code",
   "execution_count": null,
   "metadata": {
    "colab": {},
    "colab_type": "code",
    "id": "x8vlSUWnOGRz"
   },
   "outputs": [],
   "source": [
    "import matplotlib.pyplot as plt"
   ]
  },
  {
   "cell_type": "code",
   "execution_count": null,
   "metadata": {
    "colab": {
     "base_uri": "https://localhost:8080/",
     "height": 364
    },
    "colab_type": "code",
    "id": "4duN33PnOIcE",
    "outputId": "2db6c4af-eb7c-403b-c1c7-2669748b8674"
   },
   "outputs": [],
   "source": [
    "plt.scatter(plane_embs[:,0], plane_embs[:,1])"
   ]
  },
  {
   "cell_type": "markdown",
   "metadata": {
    "colab_type": "text",
    "id": "aR8u0lKwONPJ"
   },
   "source": [
    "## Plotting 2-dimensinal representations of words on plane"
   ]
  },
  {
   "cell_type": "code",
   "execution_count": null,
   "metadata": {
    "colab": {},
    "colab_type": "code",
    "id": "y-m_giHVOKXV"
   },
   "outputs": [],
   "source": [
    "import pylab "
   ]
  },
  {
   "cell_type": "code",
   "execution_count": null,
   "metadata": {
    "colab": {
     "base_uri": "https://localhost:8080/",
     "height": 266
    },
    "colab_type": "code",
    "id": "IvsWjn1xOQoV",
    "outputId": "66ae8dc6-668f-4b6b-851c-30f6c8676293"
   },
   "outputs": [],
   "source": [
    "pylab.figure(figsize = (100,100))\n",
    "for i in range(plane_embs.shape[0]):\n",
    "  #print(i)\n",
    "  #print(plane_embs[i])\n",
    "  pylab.annotate(ind_to_word[i], (plane_embs[i][0], plane_embs[i][1]))\n",
    "pylab.savefig(\"emb.jpg\")"
   ]
  }
 ],
 "metadata": {
  "accelerator": "GPU",
  "colab": {
   "name": "Text Generator.ipynb",
   "provenance": [],
   "version": "0.3.2"
  },
  "kernelspec": {
   "display_name": "Python 3",
   "language": "python",
   "name": "python3"
  },
  "language_info": {
   "codemirror_mode": {
    "name": "ipython",
    "version": 3
   },
   "file_extension": ".py",
   "mimetype": "text/x-python",
   "name": "python",
   "nbconvert_exporter": "python",
   "pygments_lexer": "ipython3",
   "version": "3.6.7"
  }
 },
 "nbformat": 4,
 "nbformat_minor": 1
}
