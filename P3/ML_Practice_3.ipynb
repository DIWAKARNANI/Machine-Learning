{
 "cells": [
  {
   "cell_type": "code",
   "execution_count": 99,
   "metadata": {},
   "outputs": [
    {
     "data": {
      "text/plain": [
       "'/Users/elizabethlorelei/anaconda3/bin/python'"
      ]
     },
     "execution_count": 99,
     "metadata": {},
     "output_type": "execute_result"
    }
   ],
   "source": [
    "import sys\n",
    "import numpy as np\n",
    "import matplotlib.pyplot as plt\n",
    "sys.executable"
   ]
  },
  {
   "cell_type": "code",
   "execution_count": 100,
   "metadata": {},
   "outputs": [],
   "source": [
    "def sigma(x):\n",
    "    return 1/(1+np.exp(-x))"
   ]
  },
  {
   "cell_type": "code",
   "execution_count": 101,
   "metadata": {},
   "outputs": [
    {
     "name": "stdout",
     "output_type": "stream",
     "text": [
      "0.0\n"
     ]
    }
   ],
   "source": [
    "print(sigma(-1000))"
   ]
  },
  {
   "cell_type": "code",
   "execution_count": 102,
   "metadata": {},
   "outputs": [],
   "source": [
    "def sigma_(x):\n",
    "    if (x>0):\n",
    "        return 1/(1+np.exp(-x))\n",
    "    return np.exp(x)/(1+np.exp(-x))"
   ]
  },
  {
   "cell_type": "code",
   "execution_count": 103,
   "metadata": {},
   "outputs": [],
   "source": [
    "x = np.array([1,2])"
   ]
  },
  {
   "cell_type": "code",
   "execution_count": 104,
   "metadata": {},
   "outputs": [],
   "source": [
    "sigma_vect = np.vectorize(sigma)"
   ]
  },
  {
   "cell_type": "code",
   "execution_count": 105,
   "metadata": {},
   "outputs": [
    {
     "data": {
      "text/plain": [
       "array([0.73105858, 0.88079708])"
      ]
     },
     "execution_count": 105,
     "metadata": {},
     "output_type": "execute_result"
    }
   ],
   "source": [
    "sigma_vect(x)"
   ]
  },
  {
   "cell_type": "code",
   "execution_count": 106,
   "metadata": {},
   "outputs": [],
   "source": [
    "def softmax(x):\n",
    "    max_elem = np.max(x, axis = 0) #max value in по каждому столбику\n",
    "    y = x - max_elem #отнимает максимальное значение от каждого элем\n",
    "    y = np.exp(y)\n",
    "    sums = np.sum(y, axis = 0)\n",
    "    return y / sums"
   ]
  },
  {
   "cell_type": "code",
   "execution_count": 107,
   "metadata": {},
   "outputs": [
    {
     "name": "stdout",
     "output_type": "stream",
     "text": [
      "[[0.80450969 0.52866579 0.54649131 0.12596913]\n",
      " [0.55826757 0.97660444 0.33608209 0.51557671]\n",
      " [0.92846342 0.93624936 0.7416978  0.07690965]]\n",
      "[[0.34320665 0.24580511 0.33048952 0.29167055]\n",
      " [0.26829594 0.38470531 0.26777999 0.43062278]\n",
      " [0.3884974  0.36948958 0.40173049 0.27770667]]\n"
     ]
    }
   ],
   "source": [
    "x = np.random.rand(3, 4)\n",
    "print(x)\n",
    "print(softmax(x))"
   ]
  },
  {
   "cell_type": "markdown",
   "metadata": {},
   "source": [
    "Logistic regression"
   ]
  },
  {
   "cell_type": "code",
   "execution_count": 108,
   "metadata": {},
   "outputs": [],
   "source": [
    "C = 4 #class\n",
    "N_class = 20 #точки\n",
    "\n",
    "centers= np.array([[-1,0], [0,-1], [1,0], [0,1]]).T #[x][y]\n",
    "X = np.random.randn(2, C, N_class) * 0.2 + centers.reshape(2, C, 1) # 3 \n",
    "X = X.reshape(2,-1) #2\n",
    "y_label = np.zeros((C, N_class))\n",
    "y_label[:,:] = np.arange(C).reshape(-1,1)\n",
    "y_label = y_label.reshape(-1)"
   ]
  },
  {
   "cell_type": "code",
   "execution_count": 109,
   "metadata": {},
   "outputs": [
    {
     "name": "stdout",
     "output_type": "stream",
     "text": [
      "[0. 0. 0. 0. 0. 0. 0. 0. 0. 0. 0. 0. 0. 0. 0. 0. 0. 0. 0. 0. 1. 1. 1. 1.\n",
      " 1. 1. 1. 1. 1. 1. 1. 1. 1. 1. 1. 1. 1. 1. 1. 1. 2. 2. 2. 2. 2. 2. 2. 2.\n",
      " 2. 2. 2. 2. 2. 2. 2. 2. 2. 2. 2. 2. 3. 3. 3. 3. 3. 3. 3. 3. 3. 3. 3. 3.\n",
      " 3. 3. 3. 3. 3. 3. 3. 3.]\n"
     ]
    }
   ],
   "source": [
    "print(y_label)"
   ]
  },
  {
   "cell_type": "code",
   "execution_count": 110,
   "metadata": {},
   "outputs": [
    {
     "name": "stdout",
     "output_type": "stream",
     "text": [
      "(2, 80)\n"
     ]
    }
   ],
   "source": [
    "print(X.shape)"
   ]
  },
  {
   "cell_type": "code",
   "execution_count": 111,
   "metadata": {},
   "outputs": [],
   "source": [
    "def plotPoints(X, y_label):\n",
    "    colors = {0: [1,0,0], 1: [0,1,0],\n",
    "             2:[0,0,1], 3: [1,1,0]}\n",
    "    points_colors = [colors[y_label[i]]\n",
    "    for i in range(y_label.size)]\n",
    "    plt.scatter(X[0],X[1], c = points_colors)\n",
    "    plt.show()\n",
    "    "
   ]
  },
  {
   "cell_type": "code",
   "execution_count": 112,
   "metadata": {},
   "outputs": [
    {
     "data": {
      "image/png": "[encoded data removed]",
      "text/plain": [
       "<Figure size 432x288 with 1 Axes>"
      ]
     },
     "metadata": {},
     "output_type": "display_data"
    }
   ],
   "source": [
    "plotPoints(X, y_label)"
   ]
  },
  {
   "cell_type": "code",
   "execution_count": 113,
   "metadata": {},
   "outputs": [],
   "source": [
    "def getLinearFeatures(X): #добавляем строку единиц 1\n",
    "    return np.vstack((np.ones(X.shape[1]),X))"
   ]
  },
  {
   "cell_type": "code",
   "execution_count": 114,
   "metadata": {},
   "outputs": [],
   "source": [
    "X_train = getLinearFeatures(X)"
   ]
  },
  {
   "cell_type": "code",
   "execution_count": 115,
   "metadata": {},
   "outputs": [],
   "source": [
    "def one_hot_encoding(y_label): #\n",
    "    C = int(y_label.max() + 1)\n",
    "    enc = np.zeros((C, y_label.size)) #array 0 \n",
    "    enc[y_label.astype(int), np.arange(y_label.size)] = 1\n",
    "    return enc"
   ]
  },
  {
   "cell_type": "code",
   "execution_count": 122,
   "metadata": {},
   "outputs": [
    {
     "name": "stdout",
     "output_type": "stream",
     "text": [
      "[0. 0. 0. 0. 0. 0. 0. 0. 0. 0. 0. 0. 0. 0. 0. 0. 0. 0. 0. 0. 1. 1. 1. 1.\n",
      " 1. 1. 1. 1. 1. 1. 1. 1. 1. 1. 1. 1. 1. 1. 1. 1. 2. 2. 2. 2. 2. 2. 2. 2.\n",
      " 2. 2. 2. 2. 2. 2. 2. 2. 2. 2. 2. 2. 3. 3. 3. 3. 3. 3. 3. 3. 3. 3. 3. 3.\n",
      " 3. 3. 3. 3. 3. 3. 3. 3.]\n"
     ]
    }
   ],
   "source": [
    "print(y_label)"
   ]
  },
  {
   "cell_type": "code",
   "execution_count": 116,
   "metadata": {},
   "outputs": [
    {
     "name": "stdout",
     "output_type": "stream",
     "text": [
      "[[0. 0. 0. 1. 0. 0.]\n",
      " [1. 0. 0. 0. 0. 0.]\n",
      " [0. 1. 0. 0. 1. 0.]\n",
      " [0. 0. 1. 0. 0. 1.]]\n"
     ]
    }
   ],
   "source": [
    "y_1 = np.array([1,2,3,0,2,3])\n",
    "print(one_hot_encoding(y_1))"
   ]
  },
  {
   "cell_type": "code",
   "execution_count": 117,
   "metadata": {},
   "outputs": [],
   "source": [
    "def train(X_train, y_label ,iters = 10, alpha = 0.1):\n",
    "    y = one_hot_encoding(y_label)\n",
    "    C = y.shape[0]\n",
    "    Nfeatures = X_train.shape[0]\n",
    "    Nsamples = X_train.shape[1]\n",
    "    W = np.random.rand(C, Nfeatures)\n",
    "    for i in range(iters):\n",
    "        z = softmax(W @ X_train)\n",
    "        delta = z - y\n",
    "        gradW = delta @ X_train.T\n",
    "        W = W - alpha * gradW\n",
    "    return W"
   ]
  },
  {
   "cell_type": "code",
   "execution_count": 118,
   "metadata": {},
   "outputs": [],
   "source": [
    "W_opt = train(X_train, y_label)"
   ]
  },
  {
   "cell_type": "code",
   "execution_count": 119,
   "metadata": {},
   "outputs": [
    {
     "name": "stdout",
     "output_type": "stream",
     "text": [
      "[[ 0.31345542 -3.39058707  0.7607353 ]\n",
      " [ 0.06827754  0.40312084 -3.47228415]\n",
      " [ 0.19916064  4.24507138  0.39259983]\n",
      " [ 0.31605033  0.60563035  4.47838572]]\n"
     ]
    }
   ],
   "source": [
    "print(W_opt)"
   ]
  },
  {
   "cell_type": "code",
   "execution_count": 120,
   "metadata": {},
   "outputs": [],
   "source": [
    "def predict(xx, yy, W_opt):\n",
    "    x_1 = xx.reshape(-1)\n",
    "    y_1 = yy.reshape(-1)\n",
    "    X = getLinearFeatures(np.vstack((x_1, y_1)))\n",
    "    y = np.argmax(W_opt @ X, axis = 0)\n",
    "    return y.reshape(xx.shape)"
   ]
  },
  {
   "cell_type": "code",
   "execution_count": 121,
   "metadata": {},
   "outputs": [
    {
     "data": {
      "image/png": "[encoded data removed]",
      "text/plain": [
       "<Figure size 432x288 with 1 Axes>"
      ]
     },
     "metadata": {},
     "output_type": "display_data"
    }
   ],
   "source": [
    "x = np.arange(-2,2,0.01)\n",
    "y = np.arange(-2,2,0.01)\n",
    "xx, yy = np.meshgrid(x,y)\n",
    "colors = {0:[0.5, 0, 0],\n",
    "          1:[0, 0.5, 0],\n",
    "          2:[0, 0, 0.5],\n",
    "          3:[0.5, 0.5, 0]}\n",
    "labels = predict(xx, yy, W_opt)\n",
    "plt.contourf(x, y, labels, levels = [-0.5, 0.5, 1.5, 2.5, 3.5], \n",
    "             colors = [[0.5, 0, 0], [0, 0.5, 0],[0, 0, 0.5], [0.5, 0.5, 0]])\n",
    "plotPoints(X,y_label)"
   ]
  },
  {
   "cell_type": "code",
   "execution_count": null,
   "metadata": {},
   "outputs": [],
   "source": []
  },
  {
   "cell_type": "code",
   "execution_count": null,
   "metadata": {},
   "outputs": [],
   "source": []
  },
  {
   "cell_type": "code",
   "execution_count": null,
   "metadata": {},
   "outputs": [],
   "source": []
  },
  {
   "cell_type": "code",
   "execution_count": null,
   "metadata": {},
   "outputs": [],
   "source": []
  },
  {
   "cell_type": "code",
   "execution_count": null,
   "metadata": {},
   "outputs": [],
   "source": []
  },
  {
   "cell_type": "code",
   "execution_count": null,
   "metadata": {},
   "outputs": [],
   "source": []
  }
 ],
 "metadata": {
  "kernelspec": {
   "display_name": "Python 3",
   "language": "python",
   "name": "python3"
  },
  "language_info": {
   "codemirror_mode": {
    "name": "ipython",
    "version": 3
   },
   "file_extension": ".py",
   "mimetype": "text/x-python",
   "name": "python",
   "nbconvert_exporter": "python",
   "pygments_lexer": "ipython3",
   "version": "3.6.5"
  }
 },
 "nbformat": 4,
 "nbformat_minor": 2
}
