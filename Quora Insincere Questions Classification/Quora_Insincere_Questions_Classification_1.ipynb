{
  "nbformat": 4,
  "nbformat_minor": 0,
  "metadata": {
    "colab": {
      "name": "Quora Insincere Questions Classification 1.ipynb",
      "version": "0.3.2",
      "provenance": [],
      "include_colab_link": true
    },
    "kernelspec": {
      "name": "python3",
      "display_name": "Python 3"
    },
    "accelerator": "TPU"
  },
  "cells": [
    {
      "cell_type": "markdown",
      "metadata": {
        "id": "view-in-github",
        "colab_type": "text"
      },
      "source": [
        "<a href=\"https://colab.research.google.com/github/ElizaLo/ML-using-Jupiter-Notebook-and-Google-Colab/blob/master/Quora%20Insincere%20Questions%20Classification/Quora_Insincere_Questions_Classification_1.ipynb\" target=\"_parent\"><img src=\"https://colab.research.google.com/assets/colab-badge.svg\" alt=\"Open In Colab\"/></a>"
      ]
    },
    {
      "metadata": {
        "id": "BSBypLgnFscu",
        "colab_type": "code",
        "colab": {}
      },
      "cell_type": "code",
      "source": [
        "from google.colab import files\n",
        "import numpy as np\n",
        "import pandas as pd\n",
        "import tensorflow as tf\n",
        "import matplotlib.pyplot as plt \n",
        "from sklearn.feature_extraction.text import CountVectorizer\n",
        "# from collections import Counter\n",
        "import nltk\n",
        "import os\n",
        "import sys\n",
        "import re\n",
        "\n",
        "tf.logging.set_verbosity(tf.logging.ERROR) # Устанавливает порог для того, какие сообщения будут регистрироваться."
      ],
      "execution_count": 0,
      "outputs": []
    },
    {
      "metadata": {
        "id": "cp6mChYpF5mP",
        "colab_type": "code",
        "outputId": "23894c1f-995f-4e59-9b05-592d24941b3b",
        "colab": {
          "base_uri": "https://localhost:8080/",
          "height": 34
        }
      },
      "cell_type": "code",
      "source": [
        "from google.colab import drive\n",
        "drive.mount('/content/gdrive')"
      ],
      "execution_count": 0,
      "outputs": [
        {
          "output_type": "stream",
          "text": [
            "Drive already mounted at /content/gdrive; to attempt to forcibly remount, call drive.mount(\"/content/gdrive\", force_remount=True).\n"
          ],
          "name": "stdout"
        }
      ]
    },
    {
      "metadata": {
        "id": "s9Hy0oLNGCqf",
        "colab_type": "code",
        "colab": {}
      },
      "cell_type": "code",
      "source": [
        "os.chdir(\"/content/gdrive/My Drive/Quora Insincere Questions Classification\")"
      ],
      "execution_count": 0,
      "outputs": []
    },
    {
      "metadata": {
        "id": "4keiGhgFGLyZ",
        "colab_type": "code",
        "colab": {}
      },
      "cell_type": "code",
      "source": [
        "train = pd.read_csv(\"train.csv\", encoding = 'latin-1')\n",
        "test = pd.read_csv(\"test.csv\", encoding = 'latin-1')"
      ],
      "execution_count": 0,
      "outputs": []
    },
    {
      "metadata": {
        "id": "u3v-6St3GNhI",
        "colab_type": "code",
        "outputId": "ab1a2391-cbba-4954-9f37-0860050202a1",
        "colab": {
          "base_uri": "https://localhost:8080/",
          "height": 514
        }
      },
      "cell_type": "code",
      "source": [
        "train.head(15)"
      ],
      "execution_count": 0,
      "outputs": [
        {
          "output_type": "execute_result",
          "data": {
            "text/html": [
              "<div>\n",
              "<style scoped>\n",
              "    .dataframe tbody tr th:only-of-type {\n",
              "        vertical-align: middle;\n",
              "    }\n",
              "\n",
              "    .dataframe tbody tr th {\n",
              "        vertical-align: top;\n",
              "    }\n",
              "\n",
              "    .dataframe thead th {\n",
              "        text-align: right;\n",
              "    }\n",
              "</style>\n",
              "<table border=\"1\" class=\"dataframe\">\n",
              "  <thead>\n",
              "    <tr style=\"text-align: right;\">\n",
              "      <th></th>\n",
              "      <th>qid</th>\n",
              "      <th>question_text</th>\n",
              "      <th>target</th>\n",
              "    </tr>\n",
              "  </thead>\n",
              "  <tbody>\n",
              "    <tr>\n",
              "      <th>0</th>\n",
              "      <td>00002165364db923c7e6</td>\n",
              "      <td>How did Quebec nationalists see their province...</td>\n",
              "      <td>0</td>\n",
              "    </tr>\n",
              "    <tr>\n",
              "      <th>1</th>\n",
              "      <td>000032939017120e6e44</td>\n",
              "      <td>Do you have an adopted dog, how would you enco...</td>\n",
              "      <td>0</td>\n",
              "    </tr>\n",
              "    <tr>\n",
              "      <th>2</th>\n",
              "      <td>0000412ca6e4628ce2cf</td>\n",
              "      <td>Why does velocity affect time? Does velocity a...</td>\n",
              "      <td>0</td>\n",
              "    </tr>\n",
              "    <tr>\n",
              "      <th>3</th>\n",
              "      <td>000042bf85aa498cd78e</td>\n",
              "      <td>How did Otto von Guericke used the Magdeburg h...</td>\n",
              "      <td>0</td>\n",
              "    </tr>\n",
              "    <tr>\n",
              "      <th>4</th>\n",
              "      <td>0000455dfa3e01eae3af</td>\n",
              "      <td>Can I convert montra helicon D to a mountain b...</td>\n",
              "      <td>0</td>\n",
              "    </tr>\n",
              "    <tr>\n",
              "      <th>5</th>\n",
              "      <td>00004f9a462a357c33be</td>\n",
              "      <td>Is Gaza slowly becoming Auschwitz, Dachau or T...</td>\n",
              "      <td>0</td>\n",
              "    </tr>\n",
              "    <tr>\n",
              "      <th>6</th>\n",
              "      <td>00005059a06ee19e11ad</td>\n",
              "      <td>Why does Quora automatically ban conservative ...</td>\n",
              "      <td>0</td>\n",
              "    </tr>\n",
              "    <tr>\n",
              "      <th>7</th>\n",
              "      <td>0000559f875832745e2e</td>\n",
              "      <td>Is it crazy if I wash or wipe my groceries off...</td>\n",
              "      <td>0</td>\n",
              "    </tr>\n",
              "    <tr>\n",
              "      <th>8</th>\n",
              "      <td>00005bd3426b2d0c8305</td>\n",
              "      <td>Is there such a thing as dressing moderately, ...</td>\n",
              "      <td>0</td>\n",
              "    </tr>\n",
              "    <tr>\n",
              "      <th>9</th>\n",
              "      <td>00006e6928c5df60eacb</td>\n",
              "      <td>Is it just me or have you ever been in this ph...</td>\n",
              "      <td>0</td>\n",
              "    </tr>\n",
              "    <tr>\n",
              "      <th>10</th>\n",
              "      <td>000075f67dd595c3deb5</td>\n",
              "      <td>What can you say about feminism?</td>\n",
              "      <td>0</td>\n",
              "    </tr>\n",
              "    <tr>\n",
              "      <th>11</th>\n",
              "      <td>000076f3b42776c692de</td>\n",
              "      <td>How were the Calgary Flames founded?</td>\n",
              "      <td>0</td>\n",
              "    </tr>\n",
              "    <tr>\n",
              "      <th>12</th>\n",
              "      <td>000089792b3fc8026741</td>\n",
              "      <td>What is the dumbest, yet possibly true explana...</td>\n",
              "      <td>0</td>\n",
              "    </tr>\n",
              "    <tr>\n",
              "      <th>13</th>\n",
              "      <td>000092a90bcfbfe8cd88</td>\n",
              "      <td>Can we use our external hard disk as a OS as w...</td>\n",
              "      <td>0</td>\n",
              "    </tr>\n",
              "    <tr>\n",
              "      <th>14</th>\n",
              "      <td>000095680e41a9a6f6e3</td>\n",
              "      <td>I am 30, living at home and have no boyfriend....</td>\n",
              "      <td>0</td>\n",
              "    </tr>\n",
              "  </tbody>\n",
              "</table>\n",
              "</div>"
            ],
            "text/plain": [
              "                     qid                                      question_text  \\\n",
              "0   00002165364db923c7e6  How did Quebec nationalists see their province...   \n",
              "1   000032939017120e6e44  Do you have an adopted dog, how would you enco...   \n",
              "2   0000412ca6e4628ce2cf  Why does velocity affect time? Does velocity a...   \n",
              "3   000042bf85aa498cd78e  How did Otto von Guericke used the Magdeburg h...   \n",
              "4   0000455dfa3e01eae3af  Can I convert montra helicon D to a mountain b...   \n",
              "5   00004f9a462a357c33be  Is Gaza slowly becoming Auschwitz, Dachau or T...   \n",
              "6   00005059a06ee19e11ad  Why does Quora automatically ban conservative ...   \n",
              "7   0000559f875832745e2e  Is it crazy if I wash or wipe my groceries off...   \n",
              "8   00005bd3426b2d0c8305  Is there such a thing as dressing moderately, ...   \n",
              "9   00006e6928c5df60eacb  Is it just me or have you ever been in this ph...   \n",
              "10  000075f67dd595c3deb5                   What can you say about feminism?   \n",
              "11  000076f3b42776c692de               How were the Calgary Flames founded?   \n",
              "12  000089792b3fc8026741  What is the dumbest, yet possibly true explana...   \n",
              "13  000092a90bcfbfe8cd88  Can we use our external hard disk as a OS as w...   \n",
              "14  000095680e41a9a6f6e3  I am 30, living at home and have no boyfriend....   \n",
              "\n",
              "    target  \n",
              "0        0  \n",
              "1        0  \n",
              "2        0  \n",
              "3        0  \n",
              "4        0  \n",
              "5        0  \n",
              "6        0  \n",
              "7        0  \n",
              "8        0  \n",
              "9        0  \n",
              "10       0  \n",
              "11       0  \n",
              "12       0  \n",
              "13       0  \n",
              "14       0  "
            ]
          },
          "metadata": {
            "tags": []
          },
          "execution_count": 5
        }
      ]
    },
    {
      "metadata": {
        "id": "ykbvtCk9GPb5",
        "colab_type": "code",
        "outputId": "c814345b-05e4-4c8a-db60-8708a163b1b6",
        "colab": {
          "base_uri": "https://localhost:8080/",
          "height": 204
        }
      },
      "cell_type": "code",
      "source": [
        "train.columns = ['qid', 'question_text', 'target']\n",
        "train.head()"
      ],
      "execution_count": 0,
      "outputs": [
        {
          "output_type": "execute_result",
          "data": {
            "text/html": [
              "<div>\n",
              "<style scoped>\n",
              "    .dataframe tbody tr th:only-of-type {\n",
              "        vertical-align: middle;\n",
              "    }\n",
              "\n",
              "    .dataframe tbody tr th {\n",
              "        vertical-align: top;\n",
              "    }\n",
              "\n",
              "    .dataframe thead th {\n",
              "        text-align: right;\n",
              "    }\n",
              "</style>\n",
              "<table border=\"1\" class=\"dataframe\">\n",
              "  <thead>\n",
              "    <tr style=\"text-align: right;\">\n",
              "      <th></th>\n",
              "      <th>qid</th>\n",
              "      <th>question_text</th>\n",
              "      <th>target</th>\n",
              "    </tr>\n",
              "  </thead>\n",
              "  <tbody>\n",
              "    <tr>\n",
              "      <th>0</th>\n",
              "      <td>00002165364db923c7e6</td>\n",
              "      <td>How did Quebec nationalists see their province...</td>\n",
              "      <td>0</td>\n",
              "    </tr>\n",
              "    <tr>\n",
              "      <th>1</th>\n",
              "      <td>000032939017120e6e44</td>\n",
              "      <td>Do you have an adopted dog, how would you enco...</td>\n",
              "      <td>0</td>\n",
              "    </tr>\n",
              "    <tr>\n",
              "      <th>2</th>\n",
              "      <td>0000412ca6e4628ce2cf</td>\n",
              "      <td>Why does velocity affect time? Does velocity a...</td>\n",
              "      <td>0</td>\n",
              "    </tr>\n",
              "    <tr>\n",
              "      <th>3</th>\n",
              "      <td>000042bf85aa498cd78e</td>\n",
              "      <td>How did Otto von Guericke used the Magdeburg h...</td>\n",
              "      <td>0</td>\n",
              "    </tr>\n",
              "    <tr>\n",
              "      <th>4</th>\n",
              "      <td>0000455dfa3e01eae3af</td>\n",
              "      <td>Can I convert montra helicon D to a mountain b...</td>\n",
              "      <td>0</td>\n",
              "    </tr>\n",
              "  </tbody>\n",
              "</table>\n",
              "</div>"
            ],
            "text/plain": [
              "                    qid                                      question_text  \\\n",
              "0  00002165364db923c7e6  How did Quebec nationalists see their province...   \n",
              "1  000032939017120e6e44  Do you have an adopted dog, how would you enco...   \n",
              "2  0000412ca6e4628ce2cf  Why does velocity affect time? Does velocity a...   \n",
              "3  000042bf85aa498cd78e  How did Otto von Guericke used the Magdeburg h...   \n",
              "4  0000455dfa3e01eae3af  Can I convert montra helicon D to a mountain b...   \n",
              "\n",
              "   target  \n",
              "0       0  \n",
              "1       0  \n",
              "2       0  \n",
              "3       0  \n",
              "4       0  "
            ]
          },
          "metadata": {
            "tags": []
          },
          "execution_count": 6
        }
      ]
    },
    {
      "metadata": {
        "id": "ldla_xLGGaQP",
        "colab_type": "code",
        "outputId": "9d52a9c4-7c84-4aa9-8b6e-6d369eab8d8e",
        "colab": {
          "base_uri": "https://localhost:8080/",
          "height": 119
        }
      },
      "cell_type": "code",
      "source": [
        "train_labels = train['target']\n",
        "train_labels.head()"
      ],
      "execution_count": 0,
      "outputs": [
        {
          "output_type": "execute_result",
          "data": {
            "text/plain": [
              "0    0\n",
              "1    0\n",
              "2    0\n",
              "3    0\n",
              "4    0\n",
              "Name: target, dtype: int64"
            ]
          },
          "metadata": {
            "tags": []
          },
          "execution_count": 7
        }
      ]
    },
    {
      "metadata": {
        "id": "D-hpi6FAGcBP",
        "colab_type": "code",
        "outputId": "f5aefa43-67f5-4388-b39b-9b6e42133ea5",
        "colab": {
          "base_uri": "https://localhost:8080/",
          "height": 514
        }
      },
      "cell_type": "code",
      "source": [
        "test.head(15)"
      ],
      "execution_count": 0,
      "outputs": [
        {
          "output_type": "execute_result",
          "data": {
            "text/html": [
              "<div>\n",
              "<style scoped>\n",
              "    .dataframe tbody tr th:only-of-type {\n",
              "        vertical-align: middle;\n",
              "    }\n",
              "\n",
              "    .dataframe tbody tr th {\n",
              "        vertical-align: top;\n",
              "    }\n",
              "\n",
              "    .dataframe thead th {\n",
              "        text-align: right;\n",
              "    }\n",
              "</style>\n",
              "<table border=\"1\" class=\"dataframe\">\n",
              "  <thead>\n",
              "    <tr style=\"text-align: right;\">\n",
              "      <th></th>\n",
              "      <th>qid</th>\n",
              "      <th>question_text</th>\n",
              "    </tr>\n",
              "  </thead>\n",
              "  <tbody>\n",
              "    <tr>\n",
              "      <th>0</th>\n",
              "      <td>00014894849d00ba98a9</td>\n",
              "      <td>My voice range is A2-C5. My chest voice goes u...</td>\n",
              "    </tr>\n",
              "    <tr>\n",
              "      <th>1</th>\n",
              "      <td>000156468431f09b3cae</td>\n",
              "      <td>How much does a tutor earn in Bangalore?</td>\n",
              "    </tr>\n",
              "    <tr>\n",
              "      <th>2</th>\n",
              "      <td>000227734433360e1aae</td>\n",
              "      <td>What are the best made pocket knives under $20...</td>\n",
              "    </tr>\n",
              "    <tr>\n",
              "      <th>3</th>\n",
              "      <td>0005e06fbe3045bd2a92</td>\n",
              "      <td>Why would they add a hypothetical scenario tha...</td>\n",
              "    </tr>\n",
              "    <tr>\n",
              "      <th>4</th>\n",
              "      <td>00068a0f7f41f50fc399</td>\n",
              "      <td>What is the dresscode for Techmahindra freshers?</td>\n",
              "    </tr>\n",
              "    <tr>\n",
              "      <th>5</th>\n",
              "      <td>000a2d30e3ffd70c070d</td>\n",
              "      <td>How well are you adapting to the Trump era?</td>\n",
              "    </tr>\n",
              "    <tr>\n",
              "      <th>6</th>\n",
              "      <td>000b67672ec9622ff761</td>\n",
              "      <td>What should be the last thing people do in life?</td>\n",
              "    </tr>\n",
              "    <tr>\n",
              "      <th>7</th>\n",
              "      <td>000b7fb1146d712c1105</td>\n",
              "      <td>Received conditional offer for Masters in Inte...</td>\n",
              "    </tr>\n",
              "    <tr>\n",
              "      <th>8</th>\n",
              "      <td>000d665a8ddc426a1907</td>\n",
              "      <td>What does appareils photo mean in French?</td>\n",
              "    </tr>\n",
              "    <tr>\n",
              "      <th>9</th>\n",
              "      <td>000df6fd2229447b2969</td>\n",
              "      <td>Is there a system of Public Interest Litigatio...</td>\n",
              "    </tr>\n",
              "    <tr>\n",
              "      <th>10</th>\n",
              "      <td>000e8d4169c8dc7ab5ee</td>\n",
              "      <td>What's the best weekend plans in Chennai for o...</td>\n",
              "    </tr>\n",
              "    <tr>\n",
              "      <th>11</th>\n",
              "      <td>000ef78071824e781d67</td>\n",
              "      <td>How did GPS get his name?</td>\n",
              "    </tr>\n",
              "    <tr>\n",
              "      <th>12</th>\n",
              "      <td>001014ae8ebec25a597a</td>\n",
              "      <td>Where can I get opt in email marketing services?</td>\n",
              "    </tr>\n",
              "    <tr>\n",
              "      <th>13</th>\n",
              "      <td>0010236e0aa3ab39a282</td>\n",
              "      <td>How do perimenopause and menopause differ?</td>\n",
              "    </tr>\n",
              "    <tr>\n",
              "      <th>14</th>\n",
              "      <td>00105665c8ffd3c5852a</td>\n",
              "      <td>Can a student of B.E. 1st year apply for inter...</td>\n",
              "    </tr>\n",
              "  </tbody>\n",
              "</table>\n",
              "</div>"
            ],
            "text/plain": [
              "                     qid                                      question_text\n",
              "0   00014894849d00ba98a9  My voice range is A2-C5. My chest voice goes u...\n",
              "1   000156468431f09b3cae           How much does a tutor earn in Bangalore?\n",
              "2   000227734433360e1aae  What are the best made pocket knives under $20...\n",
              "3   0005e06fbe3045bd2a92  Why would they add a hypothetical scenario tha...\n",
              "4   00068a0f7f41f50fc399   What is the dresscode for Techmahindra freshers?\n",
              "5   000a2d30e3ffd70c070d        How well are you adapting to the Trump era?\n",
              "6   000b67672ec9622ff761   What should be the last thing people do in life?\n",
              "7   000b7fb1146d712c1105  Received conditional offer for Masters in Inte...\n",
              "8   000d665a8ddc426a1907          What does appareils photo mean in French?\n",
              "9   000df6fd2229447b2969  Is there a system of Public Interest Litigatio...\n",
              "10  000e8d4169c8dc7ab5ee  What's the best weekend plans in Chennai for o...\n",
              "11  000ef78071824e781d67                          How did GPS get his name?\n",
              "12  001014ae8ebec25a597a   Where can I get opt in email marketing services?\n",
              "13  0010236e0aa3ab39a282         How do perimenopause and menopause differ?\n",
              "14  00105665c8ffd3c5852a  Can a student of B.E. 1st year apply for inter..."
            ]
          },
          "metadata": {
            "tags": []
          },
          "execution_count": 8
        }
      ]
    },
    {
      "metadata": {
        "id": "oJFV5ORrGdr3",
        "colab_type": "code",
        "outputId": "a4197051-7a88-4c66-e849-07dd30643b68",
        "colab": {
          "base_uri": "https://localhost:8080/",
          "height": 51
        }
      },
      "cell_type": "code",
      "source": [
        "print(\"Train shape: \",train.shape)\n",
        "print(\"Test shape: \",test.shape)"
      ],
      "execution_count": 0,
      "outputs": [
        {
          "output_type": "stream",
          "text": [
            "Train shape:  (1306122, 3)\n",
            "Test shape:  (56370, 2)\n"
          ],
          "name": "stdout"
        }
      ]
    },
    {
      "metadata": {
        "id": "0wOOBmaTGqZG",
        "colab_type": "text"
      },
      "cell_type": "markdown",
      "source": [
        "### The list of the most common words from train data"
      ]
    },
    {
      "metadata": {
        "id": "TJ69oe4xGfig",
        "colab_type": "code",
        "colab": {}
      },
      "cell_type": "code",
      "source": [
        "def get_top_n_words(corpus, n=None):\n",
        "    \"\"\"\n",
        "    List the top n words in a vocabulary according to occurrence in a text corpus.\n",
        "    \n",
        "    get_top_n_words([\"I love Python\", \"Python is a language programming\", \"Hello world\", \"I love the world\"]) -> \n",
        "    [('python', 2),\n",
        "     ('world', 2),\n",
        "     ('love', 2),\n",
        "     ('hello', 1),\n",
        "     ('is', 1),\n",
        "     ('programming', 1),\n",
        "     ('the', 1),\n",
        "     ('language', 1)]\n",
        "    \"\"\"\n",
        "    vec = CountVectorizer().fit(corpus)\n",
        "    bag_of_words = vec.transform(corpus)\n",
        "    sum_words = bag_of_words.sum(axis=0) \n",
        "    words_freq = [(word, sum_words[0, idx]) for word, idx in     vec.vocabulary_.items()]\n",
        "    words_freq =sorted(words_freq, key = lambda x: x[1], reverse=True)\n",
        "    return words_freq[:n]"
      ],
      "execution_count": 0,
      "outputs": []
    },
    {
      "metadata": {
        "id": "Lx2iavmBGtwg",
        "colab_type": "code",
        "outputId": "3f4356d6-bd53-4909-a66b-f5c84341d10c",
        "colab": {
          "base_uri": "https://localhost:8080/",
          "height": 867
        }
      },
      "cell_type": "code",
      "source": [
        "# cars_for_sell = [line.replace(\"\\n\", \"\") for line in open(\"cars_for_sell.txt\")]\n",
        "train_data = train.question_text\n",
        "common_words = get_top_n_words(train_data, 50)\n",
        "for word, freq in common_words:\n",
        "    print(word, freq)"
      ],
      "execution_count": 0,
      "outputs": [
        {
          "output_type": "stream",
          "text": [
            "the 665913\n",
            "what 469414\n",
            "is 443164\n",
            "to 407982\n",
            "in 378141\n",
            "of 333500\n",
            "how 290354\n",
            "and 257906\n",
            "do 253226\n",
            "are 243026\n",
            "for 204466\n",
            "you 201336\n",
            "can 184546\n",
            "why 163943\n",
            "it 146516\n",
            "my 112671\n",
            "that 107583\n",
            "if 98972\n",
            "with 95924\n",
            "on 94861\n",
            "or 94614\n",
            "have 92786\n",
            "be 92093\n",
            "does 86463\n",
            "from 69849\n",
            "your 67697\n",
            "an 67470\n",
            "which 65881\n",
            "should 64592\n",
            "when 62906\n",
            "get 62764\n",
            "best 62472\n",
            "would 61495\n",
            "as 60532\n",
            "people 56336\n",
            "some 54464\n",
            "there 54271\n",
            "who 52176\n",
            "will 50745\n",
            "like 49488\n",
            "at 47943\n",
            "not 47902\n",
            "about 45168\n",
            "they 44150\n",
            "by 42714\n",
            "did 41733\n",
            "was 41665\n",
            "we 40655\n",
            "any 40161\n",
            "so 39068\n"
          ],
          "name": "stdout"
        }
      ]
    },
    {
      "metadata": {
        "id": "dAyHcN52Gvva",
        "colab_type": "code",
        "colab": {}
      },
      "cell_type": "code",
      "source": [
        "matrix = vectorizer.fit_transform(train_data)\n",
        "freqs = zip(vectorizer.get_feature_names(), matrix.sum(axis=0).tolist()[0])    \n",
        "# sort from largest to smallest\n",
        "vocab = sorted(freqs, key=lambda x: -x[1])\n",
        "print(vocab[:50])\n",
        "\n"
      ],
      "execution_count": 0,
      "outputs": []
    },
    {
      "metadata": {
        "id": "mnTjMOZUGmKr",
        "colab_type": "code",
        "colab": {}
      },
      "cell_type": "code",
      "source": [
        "freq_dist = nltk.FreqDist(vocabulary)\n",
        "vocab = list(freq_dist.keys())\n",
        "rare_words = vocab[-10:]"
      ],
      "execution_count": 0,
      "outputs": []
    },
    {
      "metadata": {
        "id": "aanoSC9ol4ki",
        "colab_type": "text"
      },
      "cell_type": "markdown",
      "source": [
        "### The list of the most common words from train data"
      ]
    },
    {
      "metadata": {
        "id": "1J3cF35Bl7yB",
        "colab_type": "code",
        "colab": {}
      },
      "cell_type": "code",
      "source": [
        "def get_top_n_words(corpus, n=None):\n",
        "    vec = CountVectorizer().fit(corpus)\n",
        "    bag_of_words = vec.transform(corpus)\n",
        "    sum_words = bag_of_words.sum(axis=0) \n",
        "    words_freq = [(word, sum_words[0, idx]) for word, idx in vec.vocabulary_.items()]\n",
        "    words_freq =sorted(words_freq, key = lambda x: x[1], reverse=True)\n",
        "    return words_freq[:n]"
      ],
      "execution_count": 0,
      "outputs": []
    },
    {
      "metadata": {
        "id": "X4pvsI90mC-p",
        "colab_type": "code",
        "colab": {}
      },
      "cell_type": "code",
      "source": [
        "common_words = get_top_n_words(train_data, 50)\n",
        "for word, freq in common_words:\n",
        "    print(word, freq)"
      ],
      "execution_count": 0,
      "outputs": []
    },
    {
      "metadata": {
        "id": "C4TnrEBbIC3b",
        "colab_type": "text"
      },
      "cell_type": "markdown",
      "source": [
        "### **This function extract the words from a document using regular expressions. As we do so, we will be converting all words to lower case.**"
      ]
    },
    {
      "metadata": {
        "id": "r9znF7-MIDI1",
        "colab_type": "code",
        "colab": {}
      },
      "cell_type": "code",
      "source": [
        "\"\"\"train_data = train.question_text\n",
        "def extract_words(train_data):\n",
        "   # ignore_words = ['a']\n",
        "    words = nltk.word_tokenize(train_data)\n",
        "    words_cleaned = [w.lower() for w in words] #if w not in ignore_words\n",
        "    print(words_cleaned)\n",
        "    return words_cleaned \"\"\""
      ],
      "execution_count": 0,
      "outputs": []
    },
    {
      "metadata": {
        "id": "lAq06aBjIOop",
        "colab_type": "text"
      },
      "cell_type": "markdown",
      "source": [
        "### **This function builds our vocabulary by looping through all our documents (questions), extracting the words from each, removing duplicates using the set function and returning a sorted list of words.**"
      ]
    },
    {
      "metadata": {
        "id": "Cw_NxhJXIPCn",
        "colab_type": "code",
        "outputId": "35eb86b4-fdfd-4688-8389-b9d915b3c0dd",
        "colab": {
          "base_uri": "https://localhost:8080/",
          "height": 74
        }
      },
      "cell_type": "code",
      "source": [
        "\"\"\"def tokenize_sentences(train_data):\n",
        "    words = []\n",
        "    for question in train_data:\n",
        "        w = extract_words(question)\n",
        "        words.extend(w)\n",
        "        \n",
        "    words = sorted(list(set(words)))\n",
        "    return words \"\"\""
      ],
      "execution_count": 0,
      "outputs": [
        {
          "output_type": "execute_result",
          "data": {
            "text/plain": [
              "'def tokenize_sentences(train_data):\\n    words = []\\n    for question in train_data:\\n        w = extract_words(question)\\n        words.extend(w)\\n        \\n    words = sorted(list(set(words)))\\n    return words '"
            ]
          },
          "metadata": {
            "tags": []
          },
          "execution_count": 13
        }
      ]
    },
    {
      "metadata": {
        "id": "SsvLRz9PIQ-1",
        "colab_type": "code",
        "colab": {}
      },
      "cell_type": "code",
      "source": [
        "\"\"\"\n",
        "def bagofwords(question, words):\n",
        "    qustion_words = extract_words(question)\n",
        "    # frequency word count\n",
        "    bag = np.zeros(len(words))\n",
        "    for qw in qustion_words:\n",
        "        for i,word in enumerate(words):\n",
        "            if word == sw: \n",
        "                bag[i] += 1\n",
        "                \n",
        "    return np.array(bag) \n",
        "\"\"\""
      ],
      "execution_count": 0,
      "outputs": []
    }
  ]
}